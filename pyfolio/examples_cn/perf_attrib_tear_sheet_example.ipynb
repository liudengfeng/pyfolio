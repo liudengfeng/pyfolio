{
 "cells": [
  {
   "cell_type": "markdown",
   "metadata": {},
   "source": [
    "缺风险因子相关数据，待完成。"
   ]
  },
  {
   "cell_type": "code",
   "execution_count": 1,
   "metadata": {
    "ExecuteTime": {
     "end_time": "2020-07-19T14:48:03.996421Z",
     "start_time": "2020-07-19T14:48:01.297419Z"
    }
   },
   "outputs": [
    {
     "data": {
      "text/html": [
       "        <script type=\"text/javascript\">\n",
       "        window.PlotlyConfig = {MathJaxConfig: 'local'};\n",
       "        if (window.MathJax) {MathJax.Hub.Config({SVG: {font: \"STIX-Web\"}});}\n",
       "        if (typeof require !== 'undefined') {\n",
       "        require.undef(\"plotly\");\n",
       "        requirejs.config({\n",
       "            paths: {\n",
       "                'plotly': ['https://cdn.plot.ly/plotly-latest.min']\n",
       "            }\n",
       "        });\n",
       "        require(['plotly'], function(Plotly) {\n",
       "            window._Plotly = Plotly;\n",
       "        });\n",
       "        }\n",
       "        </script>\n",
       "        "
      ]
     },
     "metadata": {},
     "output_type": "display_data"
    }
   ],
   "source": [
    "import pyfolio as pf\n",
    "# %matplotlib inline\n",
    "import gzip\n",
    "import os\n",
    "import pandas as pd\n",
    "import numpy as np"
   ]
  },
  {
   "cell_type": "markdown",
   "metadata": {},
   "source": [
    "# 数据"
   ]
  },
  {
   "cell_type": "code",
   "execution_count": 2,
   "metadata": {
    "ExecuteTime": {
     "end_time": "2020-07-19T14:48:04.059451Z",
     "start_time": "2020-07-19T14:48:03.997420Z"
    }
   },
   "outputs": [],
   "source": [
    "transactions = pd.read_csv(gzip.open('../tests/test_data/test_txn.csv.gz'),\n",
    "                    index_col=0, parse_dates=True)\n",
    "positions = pd.read_csv(gzip.open('../tests/test_data/test_pos.csv.gz'),\n",
    "                    index_col=0, parse_dates=True)\n",
    "returns = pd.read_csv(gzip.open('../tests/test_data/test_returns.csv.gz'),\n",
    "                      index_col=0, parse_dates=True, header=None)[1]"
   ]
  },
  {
   "cell_type": "code",
   "execution_count": 3,
   "metadata": {
    "ExecuteTime": {
     "end_time": "2020-07-19T14:48:04.074455Z",
     "start_time": "2020-07-19T14:48:04.060421Z"
    }
   },
   "outputs": [],
   "source": [
    "transactions.index = transactions.index + pd.Timedelta(days=10*365)\n",
    "positions.index = positions.index + pd.Timedelta(days=10*365)\n",
    "returns.index = returns.index + pd.Timedelta(days=10*365)"
   ]
  },
  {
   "cell_type": "code",
   "execution_count": 4,
   "metadata": {
    "ExecuteTime": {
     "end_time": "2020-07-19T14:48:04.090449Z",
     "start_time": "2020-07-19T14:48:04.075420Z"
    }
   },
   "outputs": [
    {
     "data": {
      "text/html": [
       "<div>\n",
       "<style scoped>\n",
       "    .dataframe tbody tr th:only-of-type {\n",
       "        vertical-align: middle;\n",
       "    }\n",
       "\n",
       "    .dataframe tbody tr th {\n",
       "        vertical-align: top;\n",
       "    }\n",
       "\n",
       "    .dataframe thead th {\n",
       "        text-align: right;\n",
       "    }\n",
       "</style>\n",
       "<table border=\"1\" class=\"dataframe\">\n",
       "  <thead>\n",
       "    <tr style=\"text-align: right;\">\n",
       "      <th></th>\n",
       "      <th>AMD</th>\n",
       "      <th>CERN</th>\n",
       "      <th>COST</th>\n",
       "      <th>DELL</th>\n",
       "      <th>GPS</th>\n",
       "      <th>INTC</th>\n",
       "      <th>MMM</th>\n",
       "      <th>cash</th>\n",
       "    </tr>\n",
       "    <tr>\n",
       "      <th>index</th>\n",
       "      <th></th>\n",
       "      <th></th>\n",
       "      <th></th>\n",
       "      <th></th>\n",
       "      <th></th>\n",
       "      <th></th>\n",
       "      <th></th>\n",
       "      <th></th>\n",
       "    </tr>\n",
       "  </thead>\n",
       "  <tbody>\n",
       "    <tr>\n",
       "      <th>2014-01-06 00:00:00+00:00</th>\n",
       "      <td>6961.92</td>\n",
       "      <td>21017.078750</td>\n",
       "      <td>7282.266152</td>\n",
       "      <td>21264.55188</td>\n",
       "      <td>7091.080020</td>\n",
       "      <td>21259.333890</td>\n",
       "      <td>21316.129606</td>\n",
       "      <td>-6192.360298</td>\n",
       "    </tr>\n",
       "    <tr>\n",
       "      <th>2014-01-09 00:00:00+00:00</th>\n",
       "      <td>18198.58</td>\n",
       "      <td>18071.250000</td>\n",
       "      <td>17675.836401</td>\n",
       "      <td>10804.31924</td>\n",
       "      <td>10685.411865</td>\n",
       "      <td>17872.477480</td>\n",
       "      <td>10882.026400</td>\n",
       "      <td>-3329.289887</td>\n",
       "    </tr>\n",
       "    <tr>\n",
       "      <th>2014-01-10 00:00:00+00:00</th>\n",
       "      <td>12060.86</td>\n",
       "      <td>11942.246250</td>\n",
       "      <td>12838.477446</td>\n",
       "      <td>16078.90380</td>\n",
       "      <td>16272.139000</td>\n",
       "      <td>12465.392511</td>\n",
       "      <td>12579.135758</td>\n",
       "      <td>4708.039735</td>\n",
       "    </tr>\n",
       "    <tr>\n",
       "      <th>2014-01-11 00:00:00+00:00</th>\n",
       "      <td>13102.40</td>\n",
       "      <td>15534.281250</td>\n",
       "      <td>14447.422640</td>\n",
       "      <td>15414.45080</td>\n",
       "      <td>15666.440185</td>\n",
       "      <td>14884.069620</td>\n",
       "      <td>13454.542620</td>\n",
       "      <td>-2749.470030</td>\n",
       "    </tr>\n",
       "    <tr>\n",
       "      <th>2014-01-12 00:00:00+00:00</th>\n",
       "      <td>15518.40</td>\n",
       "      <td>14547.050000</td>\n",
       "      <td>14164.039680</td>\n",
       "      <td>14407.48813</td>\n",
       "      <td>14926.122619</td>\n",
       "      <td>14422.385864</td>\n",
       "      <td>13929.159049</td>\n",
       "      <td>-2462.919316</td>\n",
       "    </tr>\n",
       "    <tr>\n",
       "      <th>...</th>\n",
       "      <td>...</td>\n",
       "      <td>...</td>\n",
       "      <td>...</td>\n",
       "      <td>...</td>\n",
       "      <td>...</td>\n",
       "      <td>...</td>\n",
       "      <td>...</td>\n",
       "      <td>...</td>\n",
       "    </tr>\n",
       "    <tr>\n",
       "      <th>2019-12-22 00:00:00+00:00</th>\n",
       "      <td>-1199.11</td>\n",
       "      <td>1316.857500</td>\n",
       "      <td>22778.660580</td>\n",
       "      <td>-3562.47039</td>\n",
       "      <td>76601.638113</td>\n",
       "      <td>36280.269375</td>\n",
       "      <td>17740.890304</td>\n",
       "      <td>16350.679211</td>\n",
       "    </tr>\n",
       "    <tr>\n",
       "      <th>2019-12-26 00:00:00+00:00</th>\n",
       "      <td>589.80</td>\n",
       "      <td>673.840032</td>\n",
       "      <td>24170.422856</td>\n",
       "      <td>-1765.41500</td>\n",
       "      <td>83143.517604</td>\n",
       "      <td>37499.607147</td>\n",
       "      <td>15692.520137</td>\n",
       "      <td>7641.201795</td>\n",
       "    </tr>\n",
       "    <tr>\n",
       "      <th>2019-12-27 00:00:00+00:00</th>\n",
       "      <td>292.50</td>\n",
       "      <td>334.920016</td>\n",
       "      <td>20993.396552</td>\n",
       "      <td>858.85252</td>\n",
       "      <td>94500.729990</td>\n",
       "      <td>50509.461877</td>\n",
       "      <td>7946.648597</td>\n",
       "      <td>-6583.290764</td>\n",
       "    </tr>\n",
       "    <tr>\n",
       "      <th>2019-12-28 00:00:00+00:00</th>\n",
       "      <td>1681.56</td>\n",
       "      <td>-167.179992</td>\n",
       "      <td>34934.764512</td>\n",
       "      <td>91207.82625</td>\n",
       "      <td>29751.588246</td>\n",
       "      <td>38052.304640</td>\n",
       "      <td>-3926.109096</td>\n",
       "      <td>-22234.787956</td>\n",
       "    </tr>\n",
       "    <tr>\n",
       "      <th>2019-12-29 00:00:00+00:00</th>\n",
       "      <td>22254.32</td>\n",
       "      <td>9975.240484</td>\n",
       "      <td>47781.667800</td>\n",
       "      <td>53022.51955</td>\n",
       "      <td>27393.148240</td>\n",
       "      <td>18850.582240</td>\n",
       "      <td>-1934.275491</td>\n",
       "      <td>-11938.952799</td>\n",
       "    </tr>\n",
       "  </tbody>\n",
       "</table>\n",
       "<p>1506 rows × 8 columns</p>\n",
       "</div>"
      ],
      "text/plain": [
       "                                AMD          CERN          COST         DELL  \\\n",
       "index                                                                          \n",
       "2014-01-06 00:00:00+00:00   6961.92  21017.078750   7282.266152  21264.55188   \n",
       "2014-01-09 00:00:00+00:00  18198.58  18071.250000  17675.836401  10804.31924   \n",
       "2014-01-10 00:00:00+00:00  12060.86  11942.246250  12838.477446  16078.90380   \n",
       "2014-01-11 00:00:00+00:00  13102.40  15534.281250  14447.422640  15414.45080   \n",
       "2014-01-12 00:00:00+00:00  15518.40  14547.050000  14164.039680  14407.48813   \n",
       "...                             ...           ...           ...          ...   \n",
       "2019-12-22 00:00:00+00:00  -1199.11   1316.857500  22778.660580  -3562.47039   \n",
       "2019-12-26 00:00:00+00:00    589.80    673.840032  24170.422856  -1765.41500   \n",
       "2019-12-27 00:00:00+00:00    292.50    334.920016  20993.396552    858.85252   \n",
       "2019-12-28 00:00:00+00:00   1681.56   -167.179992  34934.764512  91207.82625   \n",
       "2019-12-29 00:00:00+00:00  22254.32   9975.240484  47781.667800  53022.51955   \n",
       "\n",
       "                                    GPS          INTC           MMM  \\\n",
       "index                                                                 \n",
       "2014-01-06 00:00:00+00:00   7091.080020  21259.333890  21316.129606   \n",
       "2014-01-09 00:00:00+00:00  10685.411865  17872.477480  10882.026400   \n",
       "2014-01-10 00:00:00+00:00  16272.139000  12465.392511  12579.135758   \n",
       "2014-01-11 00:00:00+00:00  15666.440185  14884.069620  13454.542620   \n",
       "2014-01-12 00:00:00+00:00  14926.122619  14422.385864  13929.159049   \n",
       "...                                 ...           ...           ...   \n",
       "2019-12-22 00:00:00+00:00  76601.638113  36280.269375  17740.890304   \n",
       "2019-12-26 00:00:00+00:00  83143.517604  37499.607147  15692.520137   \n",
       "2019-12-27 00:00:00+00:00  94500.729990  50509.461877   7946.648597   \n",
       "2019-12-28 00:00:00+00:00  29751.588246  38052.304640  -3926.109096   \n",
       "2019-12-29 00:00:00+00:00  27393.148240  18850.582240  -1934.275491   \n",
       "\n",
       "                                   cash  \n",
       "index                                    \n",
       "2014-01-06 00:00:00+00:00  -6192.360298  \n",
       "2014-01-09 00:00:00+00:00  -3329.289887  \n",
       "2014-01-10 00:00:00+00:00   4708.039735  \n",
       "2014-01-11 00:00:00+00:00  -2749.470030  \n",
       "2014-01-12 00:00:00+00:00  -2462.919316  \n",
       "...                                 ...  \n",
       "2019-12-22 00:00:00+00:00  16350.679211  \n",
       "2019-12-26 00:00:00+00:00   7641.201795  \n",
       "2019-12-27 00:00:00+00:00  -6583.290764  \n",
       "2019-12-28 00:00:00+00:00 -22234.787956  \n",
       "2019-12-29 00:00:00+00:00 -11938.952799  \n",
       "\n",
       "[1506 rows x 8 columns]"
      ]
     },
     "execution_count": 4,
     "metadata": {},
     "output_type": "execute_result"
    }
   ],
   "source": [
    "positions"
   ]
  },
  {
   "cell_type": "code",
   "execution_count": 5,
   "metadata": {
    "ExecuteTime": {
     "end_time": "2020-07-19T14:48:04.106449Z",
     "start_time": "2020-07-19T14:48:04.091422Z"
    }
   },
   "outputs": [],
   "source": [
    "factor_loadings = pd.read_csv(\n",
    "    '../tests/test_data/factor_loadings.csv',\n",
    "    index_col=[0, 1], parse_dates=True\n",
    ")\n",
    "\n",
    "factor_returns = pd.read_csv(\n",
    "    '../tests/test_data/factor_returns.csv',\n",
    "    index_col=0, parse_dates=True\n",
    ")\n"
   ]
  },
  {
   "cell_type": "code",
   "execution_count": 6,
   "metadata": {
    "ExecuteTime": {
     "end_time": "2020-07-19T14:48:04.122449Z",
     "start_time": "2020-07-19T14:48:04.107420Z"
    }
   },
   "outputs": [],
   "source": [
    "factor_returns.index = factor_returns.index.tz_localize('UTC')\n",
    "# factor_loadings.index = factor_loadings.index.tz_localize('UTC')"
   ]
  },
  {
   "cell_type": "code",
   "execution_count": 7,
   "metadata": {
    "ExecuteTime": {
     "end_time": "2020-07-19T14:48:04.138465Z",
     "start_time": "2020-07-19T14:48:04.124448Z"
    }
   },
   "outputs": [
    {
     "data": {
      "text/html": [
       "<div>\n",
       "<style scoped>\n",
       "    .dataframe tbody tr th:only-of-type {\n",
       "        vertical-align: middle;\n",
       "    }\n",
       "\n",
       "    .dataframe tbody tr th {\n",
       "        vertical-align: top;\n",
       "    }\n",
       "\n",
       "    .dataframe thead th {\n",
       "        text-align: right;\n",
       "    }\n",
       "</style>\n",
       "<table border=\"1\" class=\"dataframe\">\n",
       "  <thead>\n",
       "    <tr style=\"text-align: right;\">\n",
       "      <th></th>\n",
       "      <th>materials</th>\n",
       "      <th>financials</th>\n",
       "    </tr>\n",
       "  </thead>\n",
       "  <tbody>\n",
       "    <tr>\n",
       "      <th>2016-01-04 00:00:00+00:00</th>\n",
       "      <td>1.764052</td>\n",
       "      <td>0.400157</td>\n",
       "    </tr>\n",
       "    <tr>\n",
       "      <th>2016-01-05 00:00:00+00:00</th>\n",
       "      <td>0.978738</td>\n",
       "      <td>2.240893</td>\n",
       "    </tr>\n",
       "    <tr>\n",
       "      <th>2016-01-06 00:00:00+00:00</th>\n",
       "      <td>1.867558</td>\n",
       "      <td>-0.977278</td>\n",
       "    </tr>\n",
       "    <tr>\n",
       "      <th>2016-01-07 00:00:00+00:00</th>\n",
       "      <td>0.950088</td>\n",
       "      <td>-0.151357</td>\n",
       "    </tr>\n",
       "    <tr>\n",
       "      <th>2016-01-08 00:00:00+00:00</th>\n",
       "      <td>-0.103219</td>\n",
       "      <td>0.410599</td>\n",
       "    </tr>\n",
       "    <tr>\n",
       "      <th>...</th>\n",
       "      <td>...</td>\n",
       "      <td>...</td>\n",
       "    </tr>\n",
       "    <tr>\n",
       "      <th>2017-12-01 00:00:00+00:00</th>\n",
       "      <td>-1.147611</td>\n",
       "      <td>-0.358114</td>\n",
       "    </tr>\n",
       "    <tr>\n",
       "      <th>2017-12-04 00:00:00+00:00</th>\n",
       "      <td>0.555963</td>\n",
       "      <td>0.892474</td>\n",
       "    </tr>\n",
       "    <tr>\n",
       "      <th>2017-12-05 00:00:00+00:00</th>\n",
       "      <td>-0.422315</td>\n",
       "      <td>0.104714</td>\n",
       "    </tr>\n",
       "    <tr>\n",
       "      <th>2017-12-06 00:00:00+00:00</th>\n",
       "      <td>0.228053</td>\n",
       "      <td>0.201480</td>\n",
       "    </tr>\n",
       "    <tr>\n",
       "      <th>2017-12-07 00:00:00+00:00</th>\n",
       "      <td>0.540774</td>\n",
       "      <td>-1.818078</td>\n",
       "    </tr>\n",
       "  </tbody>\n",
       "</table>\n",
       "<p>504 rows × 2 columns</p>\n",
       "</div>"
      ],
      "text/plain": [
       "                           materials  financials\n",
       "2016-01-04 00:00:00+00:00   1.764052    0.400157\n",
       "2016-01-05 00:00:00+00:00   0.978738    2.240893\n",
       "2016-01-06 00:00:00+00:00   1.867558   -0.977278\n",
       "2016-01-07 00:00:00+00:00   0.950088   -0.151357\n",
       "2016-01-08 00:00:00+00:00  -0.103219    0.410599\n",
       "...                              ...         ...\n",
       "2017-12-01 00:00:00+00:00  -1.147611   -0.358114\n",
       "2017-12-04 00:00:00+00:00   0.555963    0.892474\n",
       "2017-12-05 00:00:00+00:00  -0.422315    0.104714\n",
       "2017-12-06 00:00:00+00:00   0.228053    0.201480\n",
       "2017-12-07 00:00:00+00:00   0.540774   -1.818078\n",
       "\n",
       "[504 rows x 2 columns]"
      ]
     },
     "execution_count": 7,
     "metadata": {},
     "output_type": "execute_result"
    }
   ],
   "source": [
    "factor_returns"
   ]
  },
  {
   "cell_type": "code",
   "execution_count": 8,
   "metadata": {
    "ExecuteTime": {
     "end_time": "2020-07-19T14:48:04.154444Z",
     "start_time": "2020-07-19T14:48:04.139420Z"
    }
   },
   "outputs": [],
   "source": [
    "MAPS = {19001:'DELL',19002:'GPS'}"
   ]
  },
  {
   "cell_type": "code",
   "execution_count": 9,
   "metadata": {
    "ExecuteTime": {
     "end_time": "2020-07-19T14:48:04.170449Z",
     "start_time": "2020-07-19T14:48:04.155445Z"
    }
   },
   "outputs": [],
   "source": [
    "columns = factor_loadings.columns"
   ]
  },
  {
   "cell_type": "code",
   "execution_count": 10,
   "metadata": {
    "ExecuteTime": {
     "end_time": "2020-07-19T14:48:04.186472Z",
     "start_time": "2020-07-19T14:48:04.171449Z"
    }
   },
   "outputs": [],
   "source": [
    "tickers = [MAPS[x] for x in factor_loadings.index.get_level_values(1)]"
   ]
  },
  {
   "cell_type": "code",
   "execution_count": 11,
   "metadata": {
    "ExecuteTime": {
     "end_time": "2020-07-19T14:48:04.202490Z",
     "start_time": "2020-07-19T14:48:04.187421Z"
    }
   },
   "outputs": [],
   "source": [
    "arrays = [factor_loadings.index.get_level_values(0).tz_localize('UTC'), tickers]\n",
    "tuples = list(zip(*arrays))\n",
    "index = pd.MultiIndex.from_tuples(tuples, names=['dt', 'ticker'])"
   ]
  },
  {
   "cell_type": "code",
   "execution_count": 12,
   "metadata": {
    "ExecuteTime": {
     "end_time": "2020-07-19T14:48:04.218481Z",
     "start_time": "2020-07-19T14:48:04.203454Z"
    }
   },
   "outputs": [],
   "source": [
    "factor_loadings = pd.DataFrame(data=factor_loadings.values, index=index,columns=columns)"
   ]
  },
  {
   "cell_type": "code",
   "execution_count": 13,
   "metadata": {
    "ExecuteTime": {
     "end_time": "2020-07-19T14:48:04.250420Z",
     "start_time": "2020-07-19T14:48:04.224431Z"
    }
   },
   "outputs": [
    {
     "data": {
      "text/html": [
       "<div>\n",
       "<style scoped>\n",
       "    .dataframe tbody tr th:only-of-type {\n",
       "        vertical-align: middle;\n",
       "    }\n",
       "\n",
       "    .dataframe tbody tr th {\n",
       "        vertical-align: top;\n",
       "    }\n",
       "\n",
       "    .dataframe thead th {\n",
       "        text-align: right;\n",
       "    }\n",
       "</style>\n",
       "<table border=\"1\" class=\"dataframe\">\n",
       "  <thead>\n",
       "    <tr style=\"text-align: right;\">\n",
       "      <th></th>\n",
       "      <th></th>\n",
       "      <th>materials</th>\n",
       "      <th>financials</th>\n",
       "    </tr>\n",
       "    <tr>\n",
       "      <th>dt</th>\n",
       "      <th>ticker</th>\n",
       "      <th></th>\n",
       "      <th></th>\n",
       "    </tr>\n",
       "  </thead>\n",
       "  <tbody>\n",
       "    <tr>\n",
       "      <th rowspan=\"2\" valign=\"top\">2016-01-04 00:00:00+00:00</th>\n",
       "      <th>DELL</th>\n",
       "      <td>1.0</td>\n",
       "      <td>1.0</td>\n",
       "    </tr>\n",
       "    <tr>\n",
       "      <th>GPS</th>\n",
       "      <td>1.0</td>\n",
       "      <td>1.0</td>\n",
       "    </tr>\n",
       "    <tr>\n",
       "      <th rowspan=\"2\" valign=\"top\">2016-01-05 00:00:00+00:00</th>\n",
       "      <th>DELL</th>\n",
       "      <td>1.0</td>\n",
       "      <td>1.0</td>\n",
       "    </tr>\n",
       "    <tr>\n",
       "      <th>GPS</th>\n",
       "      <td>1.0</td>\n",
       "      <td>1.0</td>\n",
       "    </tr>\n",
       "    <tr>\n",
       "      <th>2016-01-06 00:00:00+00:00</th>\n",
       "      <th>DELL</th>\n",
       "      <td>1.0</td>\n",
       "      <td>1.0</td>\n",
       "    </tr>\n",
       "    <tr>\n",
       "      <th>...</th>\n",
       "      <th>...</th>\n",
       "      <td>...</td>\n",
       "      <td>...</td>\n",
       "    </tr>\n",
       "    <tr>\n",
       "      <th>2017-12-05 00:00:00+00:00</th>\n",
       "      <th>GPS</th>\n",
       "      <td>1.0</td>\n",
       "      <td>1.0</td>\n",
       "    </tr>\n",
       "    <tr>\n",
       "      <th rowspan=\"2\" valign=\"top\">2017-12-06 00:00:00+00:00</th>\n",
       "      <th>DELL</th>\n",
       "      <td>1.0</td>\n",
       "      <td>1.0</td>\n",
       "    </tr>\n",
       "    <tr>\n",
       "      <th>GPS</th>\n",
       "      <td>1.0</td>\n",
       "      <td>1.0</td>\n",
       "    </tr>\n",
       "    <tr>\n",
       "      <th rowspan=\"2\" valign=\"top\">2017-12-07 00:00:00+00:00</th>\n",
       "      <th>DELL</th>\n",
       "      <td>1.0</td>\n",
       "      <td>1.0</td>\n",
       "    </tr>\n",
       "    <tr>\n",
       "      <th>GPS</th>\n",
       "      <td>1.0</td>\n",
       "      <td>1.0</td>\n",
       "    </tr>\n",
       "  </tbody>\n",
       "</table>\n",
       "<p>1008 rows × 2 columns</p>\n",
       "</div>"
      ],
      "text/plain": [
       "                                  materials  financials\n",
       "dt                        ticker                       \n",
       "2016-01-04 00:00:00+00:00 DELL          1.0         1.0\n",
       "                          GPS           1.0         1.0\n",
       "2016-01-05 00:00:00+00:00 DELL          1.0         1.0\n",
       "                          GPS           1.0         1.0\n",
       "2016-01-06 00:00:00+00:00 DELL          1.0         1.0\n",
       "...                                     ...         ...\n",
       "2017-12-05 00:00:00+00:00 GPS           1.0         1.0\n",
       "2017-12-06 00:00:00+00:00 DELL          1.0         1.0\n",
       "                          GPS           1.0         1.0\n",
       "2017-12-07 00:00:00+00:00 DELL          1.0         1.0\n",
       "                          GPS           1.0         1.0\n",
       "\n",
       "[1008 rows x 2 columns]"
      ]
     },
     "execution_count": 13,
     "metadata": {},
     "output_type": "execute_result"
    }
   ],
   "source": [
    "factor_loadings"
   ]
  },
  {
   "cell_type": "code",
   "execution_count": 14,
   "metadata": {
    "ExecuteTime": {
     "end_time": "2020-07-19T14:48:04.266444Z",
     "start_time": "2020-07-19T14:48:04.251421Z"
    }
   },
   "outputs": [],
   "source": [
    "start_date = factor_loadings.index.get_level_values(0).min()\n",
    "end_date = factor_loadings.index.get_level_values(0).max()"
   ]
  },
  {
   "cell_type": "code",
   "execution_count": 15,
   "metadata": {
    "ExecuteTime": {
     "end_time": "2020-07-19T14:48:04.282446Z",
     "start_time": "2020-07-19T14:48:04.267445Z"
    }
   },
   "outputs": [],
   "source": [
    "returns = returns.loc[start_date:end_date]\n",
    "positions = positions.loc[start_date:end_date,:]"
   ]
  },
  {
   "cell_type": "code",
   "execution_count": 16,
   "metadata": {
    "ExecuteTime": {
     "end_time": "2020-07-19T14:48:04.298448Z",
     "start_time": "2020-07-19T14:48:04.283422Z"
    }
   },
   "outputs": [
    {
     "data": {
      "text/html": [
       "<div>\n",
       "<style scoped>\n",
       "    .dataframe tbody tr th:only-of-type {\n",
       "        vertical-align: middle;\n",
       "    }\n",
       "\n",
       "    .dataframe tbody tr th {\n",
       "        vertical-align: top;\n",
       "    }\n",
       "\n",
       "    .dataframe thead th {\n",
       "        text-align: right;\n",
       "    }\n",
       "</style>\n",
       "<table border=\"1\" class=\"dataframe\">\n",
       "  <thead>\n",
       "    <tr style=\"text-align: right;\">\n",
       "      <th></th>\n",
       "      <th>AMD</th>\n",
       "      <th>CERN</th>\n",
       "      <th>COST</th>\n",
       "      <th>DELL</th>\n",
       "      <th>GPS</th>\n",
       "      <th>INTC</th>\n",
       "      <th>MMM</th>\n",
       "      <th>cash</th>\n",
       "    </tr>\n",
       "    <tr>\n",
       "      <th>index</th>\n",
       "      <th></th>\n",
       "      <th></th>\n",
       "      <th></th>\n",
       "      <th></th>\n",
       "      <th></th>\n",
       "      <th></th>\n",
       "      <th></th>\n",
       "      <th></th>\n",
       "    </tr>\n",
       "  </thead>\n",
       "  <tbody>\n",
       "    <tr>\n",
       "      <th>2016-01-04 00:00:00+00:00</th>\n",
       "      <td>0.000000</td>\n",
       "      <td>1804.82625</td>\n",
       "      <td>50409.651241</td>\n",
       "      <td>26527.45990</td>\n",
       "      <td>40681.915404</td>\n",
       "      <td>981.828950</td>\n",
       "      <td>19753.831479</td>\n",
       "      <td>-2440.744923</td>\n",
       "    </tr>\n",
       "    <tr>\n",
       "      <th>2016-01-07 00:00:00+00:00</th>\n",
       "      <td>0.000000</td>\n",
       "      <td>941.03625</td>\n",
       "      <td>50652.418750</td>\n",
       "      <td>27176.78574</td>\n",
       "      <td>39459.543362</td>\n",
       "      <td>-493.899900</td>\n",
       "      <td>21203.944950</td>\n",
       "      <td>-238.008728</td>\n",
       "    </tr>\n",
       "    <tr>\n",
       "      <th>2016-01-08 00:00:00+00:00</th>\n",
       "      <td>593.810000</td>\n",
       "      <td>469.95000</td>\n",
       "      <td>53799.852366</td>\n",
       "      <td>23806.25540</td>\n",
       "      <td>40861.286310</td>\n",
       "      <td>-253.432049</td>\n",
       "      <td>21500.017792</td>\n",
       "      <td>-2552.159542</td>\n",
       "    </tr>\n",
       "    <tr>\n",
       "      <th>2016-01-09 00:00:00+00:00</th>\n",
       "      <td>326.430000</td>\n",
       "      <td>-223.39250</td>\n",
       "      <td>54049.807749</td>\n",
       "      <td>17013.87689</td>\n",
       "      <td>46638.534930</td>\n",
       "      <td>214.606689</td>\n",
       "      <td>21578.124162</td>\n",
       "      <td>820.068017</td>\n",
       "    </tr>\n",
       "    <tr>\n",
       "      <th>2016-01-10 00:00:00+00:00</th>\n",
       "      <td>-141.399992</td>\n",
       "      <td>5282.92000</td>\n",
       "      <td>45836.891028</td>\n",
       "      <td>19173.70860</td>\n",
       "      <td>37501.845400</td>\n",
       "      <td>9652.643862</td>\n",
       "      <td>23629.706121</td>\n",
       "      <td>-1688.950646</td>\n",
       "    </tr>\n",
       "    <tr>\n",
       "      <th>...</th>\n",
       "      <td>...</td>\n",
       "      <td>...</td>\n",
       "      <td>...</td>\n",
       "      <td>...</td>\n",
       "      <td>...</td>\n",
       "      <td>...</td>\n",
       "      <td>...</td>\n",
       "      <td>...</td>\n",
       "    </tr>\n",
       "    <tr>\n",
       "      <th>2017-12-01 00:00:00+00:00</th>\n",
       "      <td>61669.750000</td>\n",
       "      <td>32361.85000</td>\n",
       "      <td>5823.295362</td>\n",
       "      <td>-1963.33442</td>\n",
       "      <td>-35.631112</td>\n",
       "      <td>613.006350</td>\n",
       "      <td>59357.121955</td>\n",
       "      <td>2984.435554</td>\n",
       "    </tr>\n",
       "    <tr>\n",
       "      <th>2017-12-02 00:00:00+00:00</th>\n",
       "      <td>61621.560000</td>\n",
       "      <td>31669.45500</td>\n",
       "      <td>5921.193239</td>\n",
       "      <td>1011.20047</td>\n",
       "      <td>-17.361383</td>\n",
       "      <td>-317.104395</td>\n",
       "      <td>59745.295750</td>\n",
       "      <td>131.512689</td>\n",
       "    </tr>\n",
       "    <tr>\n",
       "      <th>2017-12-03 00:00:00+00:00</th>\n",
       "      <td>64877.710000</td>\n",
       "      <td>30519.25500</td>\n",
       "      <td>5846.125500</td>\n",
       "      <td>530.97880</td>\n",
       "      <td>0.000000</td>\n",
       "      <td>152.113808</td>\n",
       "      <td>59325.926946</td>\n",
       "      <td>731.182157</td>\n",
       "    </tr>\n",
       "    <tr>\n",
       "      <th>2017-12-04 00:00:00+00:00</th>\n",
       "      <td>65666.800000</td>\n",
       "      <td>31648.38750</td>\n",
       "      <td>5928.662900</td>\n",
       "      <td>-266.76628</td>\n",
       "      <td>0.000000</td>\n",
       "      <td>-64.609146</td>\n",
       "      <td>59722.062500</td>\n",
       "      <td>397.509817</td>\n",
       "    </tr>\n",
       "    <tr>\n",
       "      <th>2017-12-07 00:00:00+00:00</th>\n",
       "      <td>75000.600000</td>\n",
       "      <td>32189.50000</td>\n",
       "      <td>2940.395550</td>\n",
       "      <td>121.93450</td>\n",
       "      <td>0.000000</td>\n",
       "      <td>-43.150430</td>\n",
       "      <td>54375.683169</td>\n",
       "      <td>-198.027567</td>\n",
       "    </tr>\n",
       "  </tbody>\n",
       "</table>\n",
       "<p>485 rows × 8 columns</p>\n",
       "</div>"
      ],
      "text/plain": [
       "                                    AMD         CERN          COST  \\\n",
       "index                                                                \n",
       "2016-01-04 00:00:00+00:00      0.000000   1804.82625  50409.651241   \n",
       "2016-01-07 00:00:00+00:00      0.000000    941.03625  50652.418750   \n",
       "2016-01-08 00:00:00+00:00    593.810000    469.95000  53799.852366   \n",
       "2016-01-09 00:00:00+00:00    326.430000   -223.39250  54049.807749   \n",
       "2016-01-10 00:00:00+00:00   -141.399992   5282.92000  45836.891028   \n",
       "...                                 ...          ...           ...   \n",
       "2017-12-01 00:00:00+00:00  61669.750000  32361.85000   5823.295362   \n",
       "2017-12-02 00:00:00+00:00  61621.560000  31669.45500   5921.193239   \n",
       "2017-12-03 00:00:00+00:00  64877.710000  30519.25500   5846.125500   \n",
       "2017-12-04 00:00:00+00:00  65666.800000  31648.38750   5928.662900   \n",
       "2017-12-07 00:00:00+00:00  75000.600000  32189.50000   2940.395550   \n",
       "\n",
       "                                  DELL           GPS         INTC  \\\n",
       "index                                                               \n",
       "2016-01-04 00:00:00+00:00  26527.45990  40681.915404   981.828950   \n",
       "2016-01-07 00:00:00+00:00  27176.78574  39459.543362  -493.899900   \n",
       "2016-01-08 00:00:00+00:00  23806.25540  40861.286310  -253.432049   \n",
       "2016-01-09 00:00:00+00:00  17013.87689  46638.534930   214.606689   \n",
       "2016-01-10 00:00:00+00:00  19173.70860  37501.845400  9652.643862   \n",
       "...                                ...           ...          ...   \n",
       "2017-12-01 00:00:00+00:00  -1963.33442    -35.631112   613.006350   \n",
       "2017-12-02 00:00:00+00:00   1011.20047    -17.361383  -317.104395   \n",
       "2017-12-03 00:00:00+00:00    530.97880      0.000000   152.113808   \n",
       "2017-12-04 00:00:00+00:00   -266.76628      0.000000   -64.609146   \n",
       "2017-12-07 00:00:00+00:00    121.93450      0.000000   -43.150430   \n",
       "\n",
       "                                    MMM         cash  \n",
       "index                                                 \n",
       "2016-01-04 00:00:00+00:00  19753.831479 -2440.744923  \n",
       "2016-01-07 00:00:00+00:00  21203.944950  -238.008728  \n",
       "2016-01-08 00:00:00+00:00  21500.017792 -2552.159542  \n",
       "2016-01-09 00:00:00+00:00  21578.124162   820.068017  \n",
       "2016-01-10 00:00:00+00:00  23629.706121 -1688.950646  \n",
       "...                                 ...          ...  \n",
       "2017-12-01 00:00:00+00:00  59357.121955  2984.435554  \n",
       "2017-12-02 00:00:00+00:00  59745.295750   131.512689  \n",
       "2017-12-03 00:00:00+00:00  59325.926946   731.182157  \n",
       "2017-12-04 00:00:00+00:00  59722.062500   397.509817  \n",
       "2017-12-07 00:00:00+00:00  54375.683169  -198.027567  \n",
       "\n",
       "[485 rows x 8 columns]"
      ]
     },
     "execution_count": 16,
     "metadata": {},
     "output_type": "execute_result"
    }
   ],
   "source": [
    "positions"
   ]
  },
  {
   "cell_type": "markdown",
   "metadata": {},
   "source": [
    "# `perf_attrib`"
   ]
  },
  {
   "cell_type": "code",
   "execution_count": 17,
   "metadata": {
    "ExecuteTime": {
     "end_time": "2020-07-19T14:48:04.330481Z",
     "start_time": "2020-07-19T14:48:04.299422Z"
    }
   },
   "outputs": [],
   "source": [
    "risk_exposures_portfolio, perf_attribution = pf.perf_attrib.perf_attrib(returns, positions, factor_returns, factor_loadings)"
   ]
  },
  {
   "cell_type": "code",
   "execution_count": 18,
   "metadata": {
    "ExecuteTime": {
     "end_time": "2020-07-19T14:48:04.346420Z",
     "start_time": "2020-07-19T14:48:04.331422Z"
    }
   },
   "outputs": [
    {
     "data": {
      "text/html": [
       "<div>\n",
       "<style scoped>\n",
       "    .dataframe tbody tr th:only-of-type {\n",
       "        vertical-align: middle;\n",
       "    }\n",
       "\n",
       "    .dataframe tbody tr th {\n",
       "        vertical-align: top;\n",
       "    }\n",
       "\n",
       "    .dataframe thead th {\n",
       "        text-align: right;\n",
       "    }\n",
       "</style>\n",
       "<table border=\"1\" class=\"dataframe\">\n",
       "  <thead>\n",
       "    <tr style=\"text-align: right;\">\n",
       "      <th></th>\n",
       "      <th>materials</th>\n",
       "      <th>financials</th>\n",
       "    </tr>\n",
       "    <tr>\n",
       "      <th>dt</th>\n",
       "      <th></th>\n",
       "      <th></th>\n",
       "    </tr>\n",
       "  </thead>\n",
       "  <tbody>\n",
       "    <tr>\n",
       "      <th>2016-01-04 00:00:00+00:00</th>\n",
       "      <td>1.037684</td>\n",
       "      <td>1.037684</td>\n",
       "    </tr>\n",
       "    <tr>\n",
       "      <th>2016-01-05 00:00:00+00:00</th>\n",
       "      <td>0.000000</td>\n",
       "      <td>0.000000</td>\n",
       "    </tr>\n",
       "    <tr>\n",
       "      <th>2016-01-06 00:00:00+00:00</th>\n",
       "      <td>0.000000</td>\n",
       "      <td>0.000000</td>\n",
       "    </tr>\n",
       "    <tr>\n",
       "      <th>2016-01-07 00:00:00+00:00</th>\n",
       "      <td>1.003585</td>\n",
       "      <td>1.003585</td>\n",
       "    </tr>\n",
       "    <tr>\n",
       "      <th>2016-01-08 00:00:00+00:00</th>\n",
       "      <td>1.041087</td>\n",
       "      <td>1.041087</td>\n",
       "    </tr>\n",
       "    <tr>\n",
       "      <th>...</th>\n",
       "      <td>...</td>\n",
       "      <td>...</td>\n",
       "    </tr>\n",
       "    <tr>\n",
       "      <th>2017-12-01 00:00:00+00:00</th>\n",
       "      <td>-2.028439</td>\n",
       "      <td>-2.028439</td>\n",
       "    </tr>\n",
       "    <tr>\n",
       "      <th>2017-12-04 00:00:00+00:00</th>\n",
       "      <td>-2.040378</td>\n",
       "      <td>-2.040378</td>\n",
       "    </tr>\n",
       "    <tr>\n",
       "      <th>2017-12-05 00:00:00+00:00</th>\n",
       "      <td>0.000000</td>\n",
       "      <td>0.000000</td>\n",
       "    </tr>\n",
       "    <tr>\n",
       "      <th>2017-12-06 00:00:00+00:00</th>\n",
       "      <td>0.000000</td>\n",
       "      <td>0.000000</td>\n",
       "    </tr>\n",
       "    <tr>\n",
       "      <th>2017-12-07 00:00:00+00:00</th>\n",
       "      <td>-1.602439</td>\n",
       "      <td>-1.602439</td>\n",
       "    </tr>\n",
       "  </tbody>\n",
       "</table>\n",
       "<p>504 rows × 2 columns</p>\n",
       "</div>"
      ],
      "text/plain": [
       "                           materials  financials\n",
       "dt                                              \n",
       "2016-01-04 00:00:00+00:00   1.037684    1.037684\n",
       "2016-01-05 00:00:00+00:00   0.000000    0.000000\n",
       "2016-01-06 00:00:00+00:00   0.000000    0.000000\n",
       "2016-01-07 00:00:00+00:00   1.003585    1.003585\n",
       "2016-01-08 00:00:00+00:00   1.041087    1.041087\n",
       "...                              ...         ...\n",
       "2017-12-01 00:00:00+00:00  -2.028439   -2.028439\n",
       "2017-12-04 00:00:00+00:00  -2.040378   -2.040378\n",
       "2017-12-05 00:00:00+00:00   0.000000    0.000000\n",
       "2017-12-06 00:00:00+00:00   0.000000    0.000000\n",
       "2017-12-07 00:00:00+00:00  -1.602439   -1.602439\n",
       "\n",
       "[504 rows x 2 columns]"
      ]
     },
     "execution_count": 18,
     "metadata": {},
     "output_type": "execute_result"
    }
   ],
   "source": [
    "risk_exposures_portfolio"
   ]
  },
  {
   "cell_type": "code",
   "execution_count": 19,
   "metadata": {
    "ExecuteTime": {
     "end_time": "2020-07-19T14:48:04.362448Z",
     "start_time": "2020-07-19T14:48:04.347422Z"
    }
   },
   "outputs": [
    {
     "data": {
      "text/html": [
       "<div>\n",
       "<style scoped>\n",
       "    .dataframe tbody tr th:only-of-type {\n",
       "        vertical-align: middle;\n",
       "    }\n",
       "\n",
       "    .dataframe tbody tr th {\n",
       "        vertical-align: top;\n",
       "    }\n",
       "\n",
       "    .dataframe thead th {\n",
       "        text-align: right;\n",
       "    }\n",
       "</style>\n",
       "<table border=\"1\" class=\"dataframe\">\n",
       "  <thead>\n",
       "    <tr style=\"text-align: right;\">\n",
       "      <th></th>\n",
       "      <th>materials</th>\n",
       "      <th>financials</th>\n",
       "      <th>total_returns</th>\n",
       "      <th>common_returns</th>\n",
       "      <th>specific_returns</th>\n",
       "      <th>tilt_returns</th>\n",
       "      <th>timing_returns</th>\n",
       "    </tr>\n",
       "  </thead>\n",
       "  <tbody>\n",
       "    <tr>\n",
       "      <th>2016-01-04 00:00:00+00:00</th>\n",
       "      <td>1.830529</td>\n",
       "      <td>0.415237</td>\n",
       "      <td>0.003820</td>\n",
       "      <td>2.245766</td>\n",
       "      <td>-2.241945</td>\n",
       "      <td>1.178717</td>\n",
       "      <td>1.067049</td>\n",
       "    </tr>\n",
       "    <tr>\n",
       "      <th>2016-01-05 00:00:00+00:00</th>\n",
       "      <td>0.000000</td>\n",
       "      <td>0.000000</td>\n",
       "      <td>NaN</td>\n",
       "      <td>0.000000</td>\n",
       "      <td>NaN</td>\n",
       "      <td>1.753543</td>\n",
       "      <td>-1.753543</td>\n",
       "    </tr>\n",
       "    <tr>\n",
       "      <th>2016-01-06 00:00:00+00:00</th>\n",
       "      <td>0.000000</td>\n",
       "      <td>-0.000000</td>\n",
       "      <td>NaN</td>\n",
       "      <td>0.000000</td>\n",
       "      <td>NaN</td>\n",
       "      <td>0.484883</td>\n",
       "      <td>-0.484883</td>\n",
       "    </tr>\n",
       "    <tr>\n",
       "      <th>2016-01-07 00:00:00+00:00</th>\n",
       "      <td>0.953494</td>\n",
       "      <td>-0.151900</td>\n",
       "      <td>0.007138</td>\n",
       "      <td>0.801594</td>\n",
       "      <td>-0.794456</td>\n",
       "      <td>0.435022</td>\n",
       "      <td>0.366573</td>\n",
       "    </tr>\n",
       "    <tr>\n",
       "      <th>2016-01-08 00:00:00+00:00</th>\n",
       "      <td>-0.107460</td>\n",
       "      <td>0.427469</td>\n",
       "      <td>-0.003434</td>\n",
       "      <td>0.320009</td>\n",
       "      <td>-0.323443</td>\n",
       "      <td>0.167412</td>\n",
       "      <td>0.152598</td>\n",
       "    </tr>\n",
       "    <tr>\n",
       "      <th>...</th>\n",
       "      <td>...</td>\n",
       "      <td>...</td>\n",
       "      <td>...</td>\n",
       "      <td>...</td>\n",
       "      <td>...</td>\n",
       "      <td>...</td>\n",
       "      <td>...</td>\n",
       "    </tr>\n",
       "    <tr>\n",
       "      <th>2017-12-01 00:00:00+00:00</th>\n",
       "      <td>2.327858</td>\n",
       "      <td>0.726412</td>\n",
       "      <td>-0.019236</td>\n",
       "      <td>3.054271</td>\n",
       "      <td>-3.073507</td>\n",
       "      <td>-0.820079</td>\n",
       "      <td>3.874350</td>\n",
       "    </tr>\n",
       "    <tr>\n",
       "      <th>2017-12-04 00:00:00+00:00</th>\n",
       "      <td>-1.134374</td>\n",
       "      <td>-1.820984</td>\n",
       "      <td>0.006474</td>\n",
       "      <td>-2.955359</td>\n",
       "      <td>2.961833</td>\n",
       "      <td>0.788878</td>\n",
       "      <td>-3.744236</td>\n",
       "    </tr>\n",
       "    <tr>\n",
       "      <th>2017-12-05 00:00:00+00:00</th>\n",
       "      <td>-0.000000</td>\n",
       "      <td>0.000000</td>\n",
       "      <td>NaN</td>\n",
       "      <td>0.000000</td>\n",
       "      <td>NaN</td>\n",
       "      <td>-0.172978</td>\n",
       "      <td>0.172978</td>\n",
       "    </tr>\n",
       "    <tr>\n",
       "      <th>2017-12-06 00:00:00+00:00</th>\n",
       "      <td>0.000000</td>\n",
       "      <td>0.000000</td>\n",
       "      <td>NaN</td>\n",
       "      <td>0.000000</td>\n",
       "      <td>NaN</td>\n",
       "      <td>0.233941</td>\n",
       "      <td>-0.233941</td>\n",
       "    </tr>\n",
       "    <tr>\n",
       "      <th>2017-12-07 00:00:00+00:00</th>\n",
       "      <td>-0.866557</td>\n",
       "      <td>2.913359</td>\n",
       "      <td>0.008311</td>\n",
       "      <td>2.046802</td>\n",
       "      <td>-2.038491</td>\n",
       "      <td>-0.695672</td>\n",
       "      <td>2.742474</td>\n",
       "    </tr>\n",
       "  </tbody>\n",
       "</table>\n",
       "<p>504 rows × 7 columns</p>\n",
       "</div>"
      ],
      "text/plain": [
       "                           materials  financials  total_returns  \\\n",
       "2016-01-04 00:00:00+00:00   1.830529    0.415237       0.003820   \n",
       "2016-01-05 00:00:00+00:00   0.000000    0.000000            NaN   \n",
       "2016-01-06 00:00:00+00:00   0.000000   -0.000000            NaN   \n",
       "2016-01-07 00:00:00+00:00   0.953494   -0.151900       0.007138   \n",
       "2016-01-08 00:00:00+00:00  -0.107460    0.427469      -0.003434   \n",
       "...                              ...         ...            ...   \n",
       "2017-12-01 00:00:00+00:00   2.327858    0.726412      -0.019236   \n",
       "2017-12-04 00:00:00+00:00  -1.134374   -1.820984       0.006474   \n",
       "2017-12-05 00:00:00+00:00  -0.000000    0.000000            NaN   \n",
       "2017-12-06 00:00:00+00:00   0.000000    0.000000            NaN   \n",
       "2017-12-07 00:00:00+00:00  -0.866557    2.913359       0.008311   \n",
       "\n",
       "                           common_returns  specific_returns  tilt_returns  \\\n",
       "2016-01-04 00:00:00+00:00        2.245766         -2.241945      1.178717   \n",
       "2016-01-05 00:00:00+00:00        0.000000               NaN      1.753543   \n",
       "2016-01-06 00:00:00+00:00        0.000000               NaN      0.484883   \n",
       "2016-01-07 00:00:00+00:00        0.801594         -0.794456      0.435022   \n",
       "2016-01-08 00:00:00+00:00        0.320009         -0.323443      0.167412   \n",
       "...                                   ...               ...           ...   \n",
       "2017-12-01 00:00:00+00:00        3.054271         -3.073507     -0.820079   \n",
       "2017-12-04 00:00:00+00:00       -2.955359          2.961833      0.788878   \n",
       "2017-12-05 00:00:00+00:00        0.000000               NaN     -0.172978   \n",
       "2017-12-06 00:00:00+00:00        0.000000               NaN      0.233941   \n",
       "2017-12-07 00:00:00+00:00        2.046802         -2.038491     -0.695672   \n",
       "\n",
       "                           timing_returns  \n",
       "2016-01-04 00:00:00+00:00        1.067049  \n",
       "2016-01-05 00:00:00+00:00       -1.753543  \n",
       "2016-01-06 00:00:00+00:00       -0.484883  \n",
       "2016-01-07 00:00:00+00:00        0.366573  \n",
       "2016-01-08 00:00:00+00:00        0.152598  \n",
       "...                                   ...  \n",
       "2017-12-01 00:00:00+00:00        3.874350  \n",
       "2017-12-04 00:00:00+00:00       -3.744236  \n",
       "2017-12-05 00:00:00+00:00        0.172978  \n",
       "2017-12-06 00:00:00+00:00       -0.233941  \n",
       "2017-12-07 00:00:00+00:00        2.742474  \n",
       "\n",
       "[504 rows x 7 columns]"
      ]
     },
     "execution_count": 19,
     "metadata": {},
     "output_type": "execute_result"
    }
   ],
   "source": [
    "perf_attribution"
   ]
  },
  {
   "cell_type": "code",
   "execution_count": 20,
   "metadata": {
    "ExecuteTime": {
     "end_time": "2020-07-19T14:48:04.506421Z",
     "start_time": "2020-07-19T14:48:04.363422Z"
    }
   },
   "outputs": [
    {
     "data": {
      "text/plain": [
       "<matplotlib.axes._subplots.AxesSubplot at 0x20b0551e608>"
      ]
     },
     "execution_count": 20,
     "metadata": {},
     "output_type": "execute_result"
    },
    {
     "data": {
      "image/png": "[encoded data removed]",
      "text/plain": [
       "<Figure size 432x288 with 1 Axes>"
      ]
     },
     "metadata": {
      "needs_background": "light"
     },
     "output_type": "display_data"
    }
   ],
   "source": [
    "perf_attribution['total_returns'].plot()"
   ]
  },
  {
   "cell_type": "code",
   "execution_count": 21,
   "metadata": {
    "ExecuteTime": {
     "end_time": "2020-07-19T14:48:04.554423Z",
     "start_time": "2020-07-19T14:48:04.507421Z"
    }
   },
   "outputs": [
    {
     "data": {
      "text/html": [
       "<table border=\"1\" class=\"dataframe\">\n",
       "  <thead>\n",
       "    <tr style=\"text-align: right;\">\n",
       "      <th>统计摘要</th>\n",
       "      <th></th>\n",
       "    </tr>\n",
       "  </thead>\n",
       "  <tbody>\n",
       "    <tr>\n",
       "      <th>年化特定收益率</th>\n",
       "      <td>948.73%</td>\n",
       "    </tr>\n",
       "    <tr>\n",
       "      <th>年化共同收益率</th>\n",
       "      <td>246283.40%</td>\n",
       "    </tr>\n",
       "    <tr>\n",
       "      <th>年化总收益率</th>\n",
       "      <td>1.95%</td>\n",
       "    </tr>\n",
       "    <tr>\n",
       "      <th>特定夏普比率</th>\n",
       "      <td>-0.29</td>\n",
       "    </tr>\n",
       "  </tbody>\n",
       "</table>"
      ],
      "text/plain": [
       "<IPython.core.display.HTML object>"
      ]
     },
     "metadata": {},
     "output_type": "display_data"
    },
    {
     "data": {
      "text/html": [
       "<br>"
      ],
      "text/plain": [
       "<IPython.core.display.HTML object>"
      ]
     },
     "metadata": {},
     "output_type": "display_data"
    },
    {
     "data": {
      "text/html": [
       "<table border=\"1\" class=\"dataframe\">\n",
       "  <thead>\n",
       "    <tr style=\"text-align: right;\">\n",
       "      <th>风险敞口摘要</th>\n",
       "      <th>平均风险敞口</th>\n",
       "      <th>年化收益率</th>\n",
       "      <th>累积收益率</th>\n",
       "    </tr>\n",
       "  </thead>\n",
       "  <tbody>\n",
       "    <tr>\n",
       "      <th>materials</th>\n",
       "      <td>0.54</td>\n",
       "      <td>-100.00%</td>\n",
       "      <td>-100.00%</td>\n",
       "    </tr>\n",
       "    <tr>\n",
       "      <th>financials</th>\n",
       "      <td>0.54</td>\n",
       "      <td>-100.00%</td>\n",
       "      <td>-100.00%</td>\n",
       "    </tr>\n",
       "  </tbody>\n",
       "</table>"
      ],
      "text/plain": [
       "<IPython.core.display.HTML object>"
      ]
     },
     "metadata": {},
     "output_type": "display_data"
    },
    {
     "data": {
      "text/html": [
       "<br>"
      ],
      "text/plain": [
       "<IPython.core.display.HTML object>"
      ]
     },
     "metadata": {},
     "output_type": "display_data"
    }
   ],
   "source": [
    "pf.perf_attrib.show_perf_attrib_stats(returns,positions,factor_returns,factor_loadings)"
   ]
  },
  {
   "cell_type": "markdown",
   "metadata": {},
   "source": [
    "# `create_perf_attrib_tear_sheet`"
   ]
  },
  {
   "cell_type": "code",
   "execution_count": 22,
   "metadata": {
    "ExecuteTime": {
     "end_time": "2020-07-19T14:48:04.759449Z",
     "start_time": "2020-07-19T14:48:04.555451Z"
    },
    "scrolled": false,
    "tags": []
   },
   "outputs": [
    {
     "data": {
      "text/markdown": [
       "## 相对于共同风险因子的绩效"
      ],
      "text/plain": [
       "<IPython.core.display.Markdown object>"
      ]
     },
     "metadata": {},
     "output_type": "display_data"
    },
    {
     "data": {
      "text/html": [
       "<table border=\"1\" class=\"dataframe\">\n",
       "  <thead>\n",
       "    <tr style=\"text-align: right;\">\n",
       "      <th>统计摘要</th>\n",
       "      <th></th>\n",
       "    </tr>\n",
       "  </thead>\n",
       "  <tbody>\n",
       "    <tr>\n",
       "      <th>年化特定收益率</th>\n",
       "      <td>948.73%</td>\n",
       "    </tr>\n",
       "    <tr>\n",
       "      <th>年化共同收益率</th>\n",
       "      <td>246283.40%</td>\n",
       "    </tr>\n",
       "    <tr>\n",
       "      <th>年化总收益率</th>\n",
       "      <td>1.95%</td>\n",
       "    </tr>\n",
       "    <tr>\n",
       "      <th>特定夏普比率</th>\n",
       "      <td>-0.29</td>\n",
       "    </tr>\n",
       "  </tbody>\n",
       "</table>"
      ],
      "text/plain": [
       "<IPython.core.display.HTML object>"
      ]
     },
     "metadata": {},
     "output_type": "display_data"
    },
    {
     "data": {
      "text/html": [
       "<br>"
      ],
      "text/plain": [
       "<IPython.core.display.HTML object>"
      ]
     },
     "metadata": {},
     "output_type": "display_data"
    },
    {
     "data": {
      "text/html": [
       "<table border=\"1\" class=\"dataframe\">\n",
       "  <thead>\n",
       "    <tr style=\"text-align: right;\">\n",
       "      <th>风险敞口摘要</th>\n",
       "      <th>平均风险敞口</th>\n",
       "      <th>年化收益率</th>\n",
       "      <th>累积收益率</th>\n",
       "    </tr>\n",
       "  </thead>\n",
       "  <tbody>\n",
       "    <tr>\n",
       "      <th>materials</th>\n",
       "      <td>0.54</td>\n",
       "      <td>-100.00%</td>\n",
       "      <td>-100.00%</td>\n",
       "    </tr>\n",
       "    <tr>\n",
       "      <th>financials</th>\n",
       "      <td>0.54</td>\n",
       "      <td>-100.00%</td>\n",
       "      <td>-100.00%</td>\n",
       "    </tr>\n",
       "  </tbody>\n",
       "</table>"
      ],
      "text/plain": [
       "<IPython.core.display.HTML object>"
      ]
     },
     "metadata": {},
     "output_type": "display_data"
    },
    {
     "data": {
      "text/html": [
       "<br>"
      ],
      "text/plain": [
       "<IPython.core.display.HTML object>"
      ]
     },
     "metadata": {},
     "output_type": "display_data"
    },
    {
     "data": {
      "application/vnd.plotly.v1+json": {
       "config": {
        "plotlyServerURL": "https://plot.ly"
       },
       "data": [
        {
         "line": {
          "color": "blue"
         },
         "mode": "lines",
         "name": "总收益率",
         "type": "scatter",
         "x": [
          "2016-01-04T00:00:00+00:00",
          "2016-01-05T00:00:00+00:00",
          "2016-01-06T00:00:00+00:00",
          "2016-01-07T00:00:00+00:00",
          "2016-01-08T00:00:00+00:00",
          "2016-01-11T00:00:00+00:00",
          "2016-01-12T00:00:00+00:00",
          "2016-01-13T00:00:00+00:00",
          "2016-01-14T00:00:00+00:00",
          "2016-01-15T00:00:00+00:00",
          "2016-01-18T00:00:00+00:00",
          "2016-01-19T00:00:00+00:00",
          "2016-01-20T00:00:00+00:00",
          "2016-01-21T00:00:00+00:00",
          "2016-01-22T00:00:00+00:00",
          "2016-01-25T00:00:00+00:00",
          "2016-01-26T00:00:00+00:00",
          "2016-01-27T00:00:00+00:00",
          "2016-01-28T00:00:00+00:00",
          "2016-01-29T00:00:00+00:00",
          "2016-02-01T00:00:00+00:00",
          "2016-02-02T00:00:00+00:00",
          "2016-02-03T00:00:00+00:00",
          "2016-02-04T00:00:00+00:00",
          "2016-02-05T00:00:00+00:00",
          "2016-02-08T00:00:00+00:00",
          "2016-02-09T00:00:00+00:00",
          "2016-02-10T00:00:00+00:00",
          "2016-02-11T00:00:00+00:00",
          "2016-02-12T00:00:00+00:00",
          "2016-02-15T00:00:00+00:00",
          "2016-02-16T00:00:00+00:00",
          "2016-02-17T00:00:00+00:00",
          "2016-02-18T00:00:00+00:00",
          "2016-02-19T00:00:00+00:00",
          "2016-02-22T00:00:00+00:00",
          "2016-02-23T00:00:00+00:00",
          "2016-02-24T00:00:00+00:00",
          "2016-02-25T00:00:00+00:00",
          "2016-02-26T00:00:00+00:00",
          "2016-02-29T00:00:00+00:00",
          "2016-03-01T00:00:00+00:00",
          "2016-03-02T00:00:00+00:00",
          "2016-03-03T00:00:00+00:00",
          "2016-03-04T00:00:00+00:00",
          "2016-03-07T00:00:00+00:00",
          "2016-03-08T00:00:00+00:00",
          "2016-03-09T00:00:00+00:00",
          "2016-03-10T00:00:00+00:00",
          "2016-03-11T00:00:00+00:00",
          "2016-03-14T00:00:00+00:00",
          "2016-03-15T00:00:00+00:00",
          "2016-03-16T00:00:00+00:00",
          "2016-03-17T00:00:00+00:00",
          "2016-03-18T00:00:00+00:00",
          "2016-03-21T00:00:00+00:00",
          "2016-03-22T00:00:00+00:00",
          "2016-03-23T00:00:00+00:00",
          "2016-03-24T00:00:00+00:00",
          "2016-03-25T00:00:00+00:00",
          "2016-03-28T00:00:00+00:00",
          "2016-03-29T00:00:00+00:00",
          "2016-03-30T00:00:00+00:00",
          "2016-03-31T00:00:00+00:00",
          "2016-04-01T00:00:00+00:00",
          "2016-04-04T00:00:00+00:00",
          "2016-04-05T00:00:00+00:00",
          "2016-04-06T00:00:00+00:00",
          "2016-04-07T00:00:00+00:00",
          "2016-04-08T00:00:00+00:00",
          "2016-04-11T00:00:00+00:00",
          "2016-04-12T00:00:00+00:00",
          "2016-04-13T00:00:00+00:00",
          "2016-04-14T00:00:00+00:00",
          "2016-04-15T00:00:00+00:00",
          "2016-04-18T00:00:00+00:00",
          "2016-04-19T00:00:00+00:00",
          "2016-04-20T00:00:00+00:00",
          "2016-04-21T00:00:00+00:00",
          "2016-04-22T00:00:00+00:00",
          "2016-04-25T00:00:00+00:00",
          "2016-04-26T00:00:00+00:00",
          "2016-04-27T00:00:00+00:00",
          "2016-04-28T00:00:00+00:00",
          "2016-04-29T00:00:00+00:00",
          "2016-05-02T00:00:00+00:00",
          "2016-05-03T00:00:00+00:00",
          "2016-05-04T00:00:00+00:00",
          "2016-05-05T00:00:00+00:00",
          "2016-05-06T00:00:00+00:00",
          "2016-05-09T00:00:00+00:00",
          "2016-05-10T00:00:00+00:00",
          "2016-05-11T00:00:00+00:00",
          "2016-05-12T00:00:00+00:00",
          "2016-05-13T00:00:00+00:00",
          "2016-05-16T00:00:00+00:00",
          "2016-05-17T00:00:00+00:00",
          "2016-05-18T00:00:00+00:00",
          "2016-05-19T00:00:00+00:00",
          "2016-05-20T00:00:00+00:00",
          "2016-05-23T00:00:00+00:00",
          "2016-05-24T00:00:00+00:00",
          "2016-05-25T00:00:00+00:00",
          "2016-05-26T00:00:00+00:00",
          "2016-05-27T00:00:00+00:00",
          "2016-05-30T00:00:00+00:00",
          "2016-05-31T00:00:00+00:00",
          "2016-06-01T00:00:00+00:00",
          "2016-06-02T00:00:00+00:00",
          "2016-06-03T00:00:00+00:00",
          "2016-06-06T00:00:00+00:00",
          "2016-06-07T00:00:00+00:00",
          "2016-06-08T00:00:00+00:00",
          "2016-06-09T00:00:00+00:00",
          "2016-06-10T00:00:00+00:00",
          "2016-06-13T00:00:00+00:00",
          "2016-06-14T00:00:00+00:00",
          "2016-06-15T00:00:00+00:00",
          "2016-06-16T00:00:00+00:00",
          "2016-06-17T00:00:00+00:00",
          "2016-06-20T00:00:00+00:00",
          "2016-06-21T00:00:00+00:00",
          "2016-06-22T00:00:00+00:00",
          "2016-06-23T00:00:00+00:00",
          "2016-06-24T00:00:00+00:00",
          "2016-06-27T00:00:00+00:00",
          "2016-06-28T00:00:00+00:00",
          "2016-06-29T00:00:00+00:00",
          "2016-06-30T00:00:00+00:00",
          "2016-07-01T00:00:00+00:00",
          "2016-07-04T00:00:00+00:00",
          "2016-07-05T00:00:00+00:00",
          "2016-07-06T00:00:00+00:00",
          "2016-07-07T00:00:00+00:00",
          "2016-07-08T00:00:00+00:00",
          "2016-07-11T00:00:00+00:00",
          "2016-07-12T00:00:00+00:00",
          "2016-07-13T00:00:00+00:00",
          "2016-07-14T00:00:00+00:00",
          "2016-07-15T00:00:00+00:00",
          "2016-07-18T00:00:00+00:00",
          "2016-07-19T00:00:00+00:00",
          "2016-07-20T00:00:00+00:00",
          "2016-07-21T00:00:00+00:00",
          "2016-07-22T00:00:00+00:00",
          "2016-07-25T00:00:00+00:00",
          "2016-07-26T00:00:00+00:00",
          "2016-07-27T00:00:00+00:00",
          "2016-07-28T00:00:00+00:00",
          "2016-07-29T00:00:00+00:00",
          "2016-08-01T00:00:00+00:00",
          "2016-08-02T00:00:00+00:00",
          "2016-08-03T00:00:00+00:00",
          "2016-08-04T00:00:00+00:00",
          "2016-08-05T00:00:00+00:00",
          "2016-08-08T00:00:00+00:00",
          "2016-08-09T00:00:00+00:00",
          "2016-08-10T00:00:00+00:00",
          "2016-08-11T00:00:00+00:00",
          "2016-08-12T00:00:00+00:00",
          "2016-08-15T00:00:00+00:00",
          "2016-08-16T00:00:00+00:00",
          "2016-08-17T00:00:00+00:00",
          "2016-08-18T00:00:00+00:00",
          "2016-08-19T00:00:00+00:00",
          "2016-08-22T00:00:00+00:00",
          "2016-08-23T00:00:00+00:00",
          "2016-08-24T00:00:00+00:00",
          "2016-08-25T00:00:00+00:00",
          "2016-08-26T00:00:00+00:00",
          "2016-08-29T00:00:00+00:00",
          "2016-08-30T00:00:00+00:00",
          "2016-08-31T00:00:00+00:00",
          "2016-09-01T00:00:00+00:00",
          "2016-09-02T00:00:00+00:00",
          "2016-09-05T00:00:00+00:00",
          "2016-09-06T00:00:00+00:00",
          "2016-09-07T00:00:00+00:00",
          "2016-09-08T00:00:00+00:00",
          "2016-09-09T00:00:00+00:00",
          "2016-09-12T00:00:00+00:00",
          "2016-09-13T00:00:00+00:00",
          "2016-09-14T00:00:00+00:00",
          "2016-09-15T00:00:00+00:00",
          "2016-09-16T00:00:00+00:00",
          "2016-09-19T00:00:00+00:00",
          "2016-09-20T00:00:00+00:00",
          "2016-09-21T00:00:00+00:00",
          "2016-09-22T00:00:00+00:00",
          "2016-09-23T00:00:00+00:00",
          "2016-09-26T00:00:00+00:00",
          "2016-09-27T00:00:00+00:00",
          "2016-09-28T00:00:00+00:00",
          "2016-09-29T00:00:00+00:00",
          "2016-09-30T00:00:00+00:00",
          "2016-10-03T00:00:00+00:00",
          "2016-10-04T00:00:00+00:00",
          "2016-10-05T00:00:00+00:00",
          "2016-10-06T00:00:00+00:00",
          "2016-10-07T00:00:00+00:00",
          "2016-10-10T00:00:00+00:00",
          "2016-10-11T00:00:00+00:00",
          "2016-10-12T00:00:00+00:00",
          "2016-10-13T00:00:00+00:00",
          "2016-10-14T00:00:00+00:00",
          "2016-10-17T00:00:00+00:00",
          "2016-10-18T00:00:00+00:00",
          "2016-10-19T00:00:00+00:00",
          "2016-10-20T00:00:00+00:00",
          "2016-10-21T00:00:00+00:00",
          "2016-10-24T00:00:00+00:00",
          "2016-10-25T00:00:00+00:00",
          "2016-10-26T00:00:00+00:00",
          "2016-10-27T00:00:00+00:00",
          "2016-10-28T00:00:00+00:00",
          "2016-10-31T00:00:00+00:00",
          "2016-11-01T00:00:00+00:00",
          "2016-11-02T00:00:00+00:00",
          "2016-11-03T00:00:00+00:00",
          "2016-11-04T00:00:00+00:00",
          "2016-11-07T00:00:00+00:00",
          "2016-11-08T00:00:00+00:00",
          "2016-11-09T00:00:00+00:00",
          "2016-11-10T00:00:00+00:00",
          "2016-11-11T00:00:00+00:00",
          "2016-11-14T00:00:00+00:00",
          "2016-11-15T00:00:00+00:00",
          "2016-11-16T00:00:00+00:00",
          "2016-11-17T00:00:00+00:00",
          "2016-11-18T00:00:00+00:00",
          "2016-11-21T00:00:00+00:00",
          "2016-11-22T00:00:00+00:00",
          "2016-11-23T00:00:00+00:00",
          "2016-11-24T00:00:00+00:00",
          "2016-11-25T00:00:00+00:00",
          "2016-11-28T00:00:00+00:00",
          "2016-11-29T00:00:00+00:00",
          "2016-11-30T00:00:00+00:00",
          "2016-12-01T00:00:00+00:00",
          "2016-12-02T00:00:00+00:00",
          "2016-12-05T00:00:00+00:00",
          "2016-12-06T00:00:00+00:00",
          "2016-12-07T00:00:00+00:00",
          "2016-12-08T00:00:00+00:00",
          "2016-12-09T00:00:00+00:00",
          "2016-12-12T00:00:00+00:00",
          "2016-12-13T00:00:00+00:00",
          "2016-12-14T00:00:00+00:00",
          "2016-12-15T00:00:00+00:00",
          "2016-12-16T00:00:00+00:00",
          "2016-12-19T00:00:00+00:00",
          "2016-12-20T00:00:00+00:00",
          "2016-12-21T00:00:00+00:00",
          "2016-12-22T00:00:00+00:00",
          "2016-12-23T00:00:00+00:00",
          "2016-12-26T00:00:00+00:00",
          "2016-12-27T00:00:00+00:00",
          "2016-12-28T00:00:00+00:00",
          "2016-12-29T00:00:00+00:00",
          "2016-12-30T00:00:00+00:00",
          "2017-01-02T00:00:00+00:00",
          "2017-01-03T00:00:00+00:00",
          "2017-01-04T00:00:00+00:00",
          "2017-01-05T00:00:00+00:00",
          "2017-01-06T00:00:00+00:00",
          "2017-01-09T00:00:00+00:00",
          "2017-01-10T00:00:00+00:00",
          "2017-01-11T00:00:00+00:00",
          "2017-01-12T00:00:00+00:00",
          "2017-01-13T00:00:00+00:00",
          "2017-01-16T00:00:00+00:00",
          "2017-01-17T00:00:00+00:00",
          "2017-01-18T00:00:00+00:00",
          "2017-01-19T00:00:00+00:00",
          "2017-01-20T00:00:00+00:00",
          "2017-01-23T00:00:00+00:00",
          "2017-01-24T00:00:00+00:00",
          "2017-01-25T00:00:00+00:00",
          "2017-01-26T00:00:00+00:00",
          "2017-01-27T00:00:00+00:00",
          "2017-01-30T00:00:00+00:00",
          "2017-01-31T00:00:00+00:00",
          "2017-02-01T00:00:00+00:00",
          "2017-02-02T00:00:00+00:00",
          "2017-02-03T00:00:00+00:00",
          "2017-02-06T00:00:00+00:00",
          "2017-02-07T00:00:00+00:00",
          "2017-02-08T00:00:00+00:00",
          "2017-02-09T00:00:00+00:00",
          "2017-02-10T00:00:00+00:00",
          "2017-02-13T00:00:00+00:00",
          "2017-02-14T00:00:00+00:00",
          "2017-02-15T00:00:00+00:00",
          "2017-02-16T00:00:00+00:00",
          "2017-02-17T00:00:00+00:00",
          "2017-02-20T00:00:00+00:00",
          "2017-02-21T00:00:00+00:00",
          "2017-02-22T00:00:00+00:00",
          "2017-02-23T00:00:00+00:00",
          "2017-02-24T00:00:00+00:00",
          "2017-02-27T00:00:00+00:00",
          "2017-02-28T00:00:00+00:00",
          "2017-03-01T00:00:00+00:00",
          "2017-03-02T00:00:00+00:00",
          "2017-03-03T00:00:00+00:00",
          "2017-03-06T00:00:00+00:00",
          "2017-03-07T00:00:00+00:00",
          "2017-03-08T00:00:00+00:00",
          "2017-03-09T00:00:00+00:00",
          "2017-03-10T00:00:00+00:00",
          "2017-03-13T00:00:00+00:00",
          "2017-03-14T00:00:00+00:00",
          "2017-03-15T00:00:00+00:00",
          "2017-03-16T00:00:00+00:00",
          "2017-03-17T00:00:00+00:00",
          "2017-03-20T00:00:00+00:00",
          "2017-03-21T00:00:00+00:00",
          "2017-03-22T00:00:00+00:00",
          "2017-03-23T00:00:00+00:00",
          "2017-03-24T00:00:00+00:00",
          "2017-03-27T00:00:00+00:00",
          "2017-03-28T00:00:00+00:00",
          "2017-03-29T00:00:00+00:00",
          "2017-03-30T00:00:00+00:00",
          "2017-03-31T00:00:00+00:00",
          "2017-04-03T00:00:00+00:00",
          "2017-04-04T00:00:00+00:00",
          "2017-04-05T00:00:00+00:00",
          "2017-04-06T00:00:00+00:00",
          "2017-04-07T00:00:00+00:00",
          "2017-04-10T00:00:00+00:00",
          "2017-04-11T00:00:00+00:00",
          "2017-04-12T00:00:00+00:00",
          "2017-04-13T00:00:00+00:00",
          "2017-04-14T00:00:00+00:00",
          "2017-04-17T00:00:00+00:00",
          "2017-04-18T00:00:00+00:00",
          "2017-04-19T00:00:00+00:00",
          "2017-04-20T00:00:00+00:00",
          "2017-04-21T00:00:00+00:00",
          "2017-04-24T00:00:00+00:00",
          "2017-04-25T00:00:00+00:00",
          "2017-04-26T00:00:00+00:00",
          "2017-04-27T00:00:00+00:00",
          "2017-04-28T00:00:00+00:00",
          "2017-05-01T00:00:00+00:00",
          "2017-05-02T00:00:00+00:00",
          "2017-05-03T00:00:00+00:00",
          "2017-05-04T00:00:00+00:00",
          "2017-05-05T00:00:00+00:00",
          "2017-05-08T00:00:00+00:00",
          "2017-05-09T00:00:00+00:00",
          "2017-05-10T00:00:00+00:00",
          "2017-05-11T00:00:00+00:00",
          "2017-05-12T00:00:00+00:00",
          "2017-05-15T00:00:00+00:00",
          "2017-05-16T00:00:00+00:00",
          "2017-05-17T00:00:00+00:00",
          "2017-05-18T00:00:00+00:00",
          "2017-05-19T00:00:00+00:00",
          "2017-05-22T00:00:00+00:00",
          "2017-05-23T00:00:00+00:00",
          "2017-05-24T00:00:00+00:00",
          "2017-05-25T00:00:00+00:00",
          "2017-05-26T00:00:00+00:00",
          "2017-05-29T00:00:00+00:00",
          "2017-05-30T00:00:00+00:00",
          "2017-05-31T00:00:00+00:00",
          "2017-06-01T00:00:00+00:00",
          "2017-06-02T00:00:00+00:00",
          "2017-06-05T00:00:00+00:00",
          "2017-06-06T00:00:00+00:00",
          "2017-06-07T00:00:00+00:00",
          "2017-06-08T00:00:00+00:00",
          "2017-06-09T00:00:00+00:00",
          "2017-06-12T00:00:00+00:00",
          "2017-06-13T00:00:00+00:00",
          "2017-06-14T00:00:00+00:00",
          "2017-06-15T00:00:00+00:00",
          "2017-06-16T00:00:00+00:00",
          "2017-06-19T00:00:00+00:00",
          "2017-06-20T00:00:00+00:00",
          "2017-06-21T00:00:00+00:00",
          "2017-06-22T00:00:00+00:00",
          "2017-06-23T00:00:00+00:00",
          "2017-06-26T00:00:00+00:00",
          "2017-06-27T00:00:00+00:00",
          "2017-06-28T00:00:00+00:00",
          "2017-06-29T00:00:00+00:00",
          "2017-06-30T00:00:00+00:00",
          "2017-07-03T00:00:00+00:00",
          "2017-07-04T00:00:00+00:00",
          "2017-07-05T00:00:00+00:00",
          "2017-07-06T00:00:00+00:00",
          "2017-07-07T00:00:00+00:00",
          "2017-07-10T00:00:00+00:00",
          "2017-07-11T00:00:00+00:00",
          "2017-07-12T00:00:00+00:00",
          "2017-07-13T00:00:00+00:00",
          "2017-07-14T00:00:00+00:00",
          "2017-07-17T00:00:00+00:00",
          "2017-07-18T00:00:00+00:00",
          "2017-07-19T00:00:00+00:00",
          "2017-07-20T00:00:00+00:00",
          "2017-07-21T00:00:00+00:00",
          "2017-07-24T00:00:00+00:00",
          "2017-07-25T00:00:00+00:00",
          "2017-07-26T00:00:00+00:00",
          "2017-07-27T00:00:00+00:00",
          "2017-07-28T00:00:00+00:00",
          "2017-07-31T00:00:00+00:00",
          "2017-08-01T00:00:00+00:00",
          "2017-08-02T00:00:00+00:00",
          "2017-08-03T00:00:00+00:00",
          "2017-08-04T00:00:00+00:00",
          "2017-08-07T00:00:00+00:00",
          "2017-08-08T00:00:00+00:00",
          "2017-08-09T00:00:00+00:00",
          "2017-08-10T00:00:00+00:00",
          "2017-08-11T00:00:00+00:00",
          "2017-08-14T00:00:00+00:00",
          "2017-08-15T00:00:00+00:00",
          "2017-08-16T00:00:00+00:00",
          "2017-08-17T00:00:00+00:00",
          "2017-08-18T00:00:00+00:00",
          "2017-08-21T00:00:00+00:00",
          "2017-08-22T00:00:00+00:00",
          "2017-08-23T00:00:00+00:00",
          "2017-08-24T00:00:00+00:00",
          "2017-08-25T00:00:00+00:00",
          "2017-08-28T00:00:00+00:00",
          "2017-08-29T00:00:00+00:00",
          "2017-08-30T00:00:00+00:00",
          "2017-08-31T00:00:00+00:00",
          "2017-09-01T00:00:00+00:00",
          "2017-09-04T00:00:00+00:00",
          "2017-09-05T00:00:00+00:00",
          "2017-09-06T00:00:00+00:00",
          "2017-09-07T00:00:00+00:00",
          "2017-09-08T00:00:00+00:00",
          "2017-09-11T00:00:00+00:00",
          "2017-09-12T00:00:00+00:00",
          "2017-09-13T00:00:00+00:00",
          "2017-09-14T00:00:00+00:00",
          "2017-09-15T00:00:00+00:00",
          "2017-09-18T00:00:00+00:00",
          "2017-09-19T00:00:00+00:00",
          "2017-09-20T00:00:00+00:00",
          "2017-09-21T00:00:00+00:00",
          "2017-09-22T00:00:00+00:00",
          "2017-09-25T00:00:00+00:00",
          "2017-09-26T00:00:00+00:00",
          "2017-09-27T00:00:00+00:00",
          "2017-09-28T00:00:00+00:00",
          "2017-09-29T00:00:00+00:00",
          "2017-10-02T00:00:00+00:00",
          "2017-10-03T00:00:00+00:00",
          "2017-10-04T00:00:00+00:00",
          "2017-10-05T00:00:00+00:00",
          "2017-10-06T00:00:00+00:00",
          "2017-10-09T00:00:00+00:00",
          "2017-10-10T00:00:00+00:00",
          "2017-10-11T00:00:00+00:00",
          "2017-10-12T00:00:00+00:00",
          "2017-10-13T00:00:00+00:00",
          "2017-10-16T00:00:00+00:00",
          "2017-10-17T00:00:00+00:00",
          "2017-10-18T00:00:00+00:00",
          "2017-10-19T00:00:00+00:00",
          "2017-10-20T00:00:00+00:00",
          "2017-10-23T00:00:00+00:00",
          "2017-10-24T00:00:00+00:00",
          "2017-10-25T00:00:00+00:00",
          "2017-10-26T00:00:00+00:00",
          "2017-10-27T00:00:00+00:00",
          "2017-10-30T00:00:00+00:00",
          "2017-10-31T00:00:00+00:00",
          "2017-11-01T00:00:00+00:00",
          "2017-11-02T00:00:00+00:00",
          "2017-11-03T00:00:00+00:00",
          "2017-11-06T00:00:00+00:00",
          "2017-11-07T00:00:00+00:00",
          "2017-11-08T00:00:00+00:00",
          "2017-11-09T00:00:00+00:00",
          "2017-11-10T00:00:00+00:00",
          "2017-11-13T00:00:00+00:00",
          "2017-11-14T00:00:00+00:00",
          "2017-11-15T00:00:00+00:00",
          "2017-11-16T00:00:00+00:00",
          "2017-11-17T00:00:00+00:00",
          "2017-11-20T00:00:00+00:00",
          "2017-11-21T00:00:00+00:00",
          "2017-11-22T00:00:00+00:00",
          "2017-11-23T00:00:00+00:00",
          "2017-11-24T00:00:00+00:00",
          "2017-11-27T00:00:00+00:00",
          "2017-11-28T00:00:00+00:00",
          "2017-11-29T00:00:00+00:00",
          "2017-11-30T00:00:00+00:00",
          "2017-12-01T00:00:00+00:00",
          "2017-12-04T00:00:00+00:00",
          "2017-12-05T00:00:00+00:00",
          "2017-12-06T00:00:00+00:00",
          "2017-12-07T00:00:00+00:00"
         ],
         "y": [
          0.0038204321190300483,
          0.0038204321190300483,
          0.0038204321190300483,
          0.010985815741580307,
          0.007514541665789132,
          0.001053669932684631,
          0.001053669932684631,
          0.001053669932684631,
          0.001053669932684631,
          -0.007286512418037572,
          -0.024421648780108995,
          -0.024421648780108995,
          -0.024421648780108995,
          -0.028248708510096976,
          -0.028272787496462892,
          -0.023874596807887172,
          -0.023874596807887172,
          -0.023874596807887172,
          -0.018276331577325666,
          -0.016599808867003296,
          -0.0310212899957113,
          -0.0310212899957113,
          -0.0310212899957113,
          -0.032651536716819196,
          -0.03712675047498348,
          -0.02717189681634602,
          -0.02717189681634602,
          -0.02717189681634602,
          -0.026174897804747355,
          -0.014191388759369428,
          -0.013740299797119437,
          -0.013740299797119437,
          -0.013740299797119437,
          -0.013740299797119437,
          -0.019573121007170124,
          -0.020118757538020393,
          -0.020118757538020393,
          -0.020118757538020393,
          -0.004980884059358037,
          -0.020477076331783417,
          -0.03528348841877105,
          -0.03528348841877105,
          -0.03528348841877105,
          -0.044747757647748077,
          -0.05658894181993568,
          -0.046299687201506234,
          -0.046299687201506234,
          -0.046299687201506234,
          -0.05342908845003125,
          -0.036336935445649865,
          -0.03974647659042119,
          -0.03974647659042119,
          -0.03974647659042119,
          -0.033497517188278314,
          -0.0310740900294445,
          -0.01740537652451335,
          -0.01740537652451335,
          -0.01740537652451335,
          -0.02210957213663134,
          -0.02977650191612169,
          -0.02641363816925346,
          -0.02641363816925346,
          -0.02641363816925346,
          -0.027575335411834656,
          -0.024392344139016364,
          -0.037492681726765786,
          -0.037492681726765786,
          -0.037492681726765786,
          -0.045421576086731474,
          -0.054287925056096364,
          -0.054287925056096364,
          -0.054287925056096364,
          -0.054287925056096364,
          -0.05714623347955361,
          -0.04293372303330656,
          -0.0712011297551165,
          -0.0712011297551165,
          -0.0712011297551165,
          -0.07007509040597326,
          -0.06976375764911791,
          -0.067796941141965,
          -0.067796941141965,
          -0.067796941141965,
          -0.07485445232506904,
          -0.07601055325479766,
          -0.06336308437956595,
          -0.06336308437956595,
          -0.06336308437956595,
          -0.04536122903380568,
          -0.06953602320995034,
          -0.07167544622045541,
          -0.07167544622045541,
          -0.07167544622045541,
          -0.0783216379215681,
          -0.08015989957360958,
          -0.021015688999215243,
          -0.021015688999215243,
          -0.021015688999215243,
          -0.04097082212845482,
          -0.037865772785645735,
          -0.02655229961764194,
          -0.02655229961764194,
          -0.02655229961764194,
          -0.02655229961764194,
          -0.032636715383919435,
          -0.04127598538878785,
          -0.04127598538878785,
          -0.04127598538878785,
          -0.06272361755137723,
          -0.06554320015990955,
          -0.06328271934505614,
          -0.06328271934505614,
          -0.06328271934505614,
          -0.08156199547146492,
          -0.08572069755027978,
          -0.08709508234577434,
          -0.08709508234577434,
          -0.08709508234577434,
          -0.09694450134835608,
          -0.0917524986376862,
          -0.08940829603165579,
          -0.08940829603165579,
          -0.08940829603165579,
          -0.0923840544414164,
          -0.1070207391297795,
          -0.10925281246303653,
          -0.10925281246303653,
          -0.10925281246303653,
          -0.11149315879384403,
          -0.11149315879384403,
          -0.14956983945955893,
          -0.14956983945955893,
          -0.14956983945955893,
          -0.14920929180562248,
          -0.14864619931740697,
          -0.15986614384256426,
          -0.15986614384256426,
          -0.15986614384256426,
          -0.16344583466996887,
          -0.1622871555997083,
          -0.20928027879188404,
          -0.20928027879188404,
          -0.20928027879188404,
          -0.211676603325059,
          -0.21205391600157475,
          -0.18785831456269253,
          -0.18785831456269253,
          -0.18785831456269253,
          -0.17891133906093815,
          -0.1870528914537941,
          -0.17831092614800093,
          -0.17831092614800093,
          -0.17831092614800093,
          -0.1822312459846973,
          -0.18253755279081618,
          -0.18667758052820993,
          -0.18667758052820993,
          -0.18667758052820993,
          -0.17710928266395742,
          -0.16978094214613404,
          -0.1613186674692516,
          -0.1613186674692516,
          -0.1613186674692516,
          -0.17260128465268942,
          -0.17098829739172217,
          -0.18222794479792048,
          -0.18222794479792048,
          -0.18222794479792048,
          -0.17174070648227857,
          -0.16809712007565558,
          -0.16154866130410495,
          -0.16154866130410495,
          -0.16154866130410495,
          -0.16154866130410495,
          -0.15172845001257595,
          -0.13527402057127202,
          -0.13527402057127202,
          -0.13527402057127202,
          -0.13130441474463117,
          -0.1111144972281729,
          -0.12217310171090023,
          -0.12217310171090023,
          -0.12217310171090023,
          -0.1189949602323036,
          -0.11881189432783978,
          -0.11444472049356391,
          -0.11444472049356391,
          -0.11444472049356391,
          -0.09134926458130732,
          -0.06789392233522484,
          -0.07852844846249318,
          -0.07852844846249318,
          -0.07852844846249318,
          -0.08452277768354832,
          -0.09162721870482038,
          -0.0936339105669366,
          -0.0936339105669366,
          -0.0936339105669366,
          -0.0924778082365374,
          -0.08231437181841661,
          -0.07540133831556517,
          -0.07540133831556517,
          -0.07540133831556517,
          -0.07208221657258507,
          -0.08742307345805189,
          -0.06780820395015097,
          -0.06780820395015097,
          -0.06780820395015097,
          -0.061728919152918116,
          -0.05856236541250326,
          -0.07024483972720019,
          -0.07024483972720019,
          -0.07024483972720019,
          -0.061478817191126356,
          -0.040342166782313615,
          -0.039255880947987265,
          -0.039255880947987265,
          -0.039255880947987265,
          -0.0279929534345722,
          -0.024245965671711778,
          -0.017104098253369338,
          -0.017104098253369338,
          -0.017104098253369338,
          -0.011910966153200975,
          0.007587958115186977,
          0.010739802911999163,
          0.010739802911999163,
          0.010739802911999163,
          0.00574514715058716,
          0.004291054723144283,
          -0.00021854983459446142,
          -0.00021854983459446142,
          -0.00021854983459446142,
          -0.010960796455467103,
          -0.01351131315380305,
          -0.022712337638021718,
          -0.022712337638021718,
          -0.022712337638021718,
          -0.007185210464267122,
          -0.007574994189586848,
          -0.0104113716174693,
          -0.0104113716174693,
          -0.0104113716174693,
          -0.008257340549776115,
          -0.014152798166333302,
          -0.019442853604854204,
          -0.019442853604854204,
          -0.019442853604854204,
          -0.02382434402057687,
          -0.02853940756012774,
          -0.03437596800166176,
          -0.03437596800166176,
          -0.03437596800166176,
          -0.03437596800166176,
          -0.03443795026927776,
          -0.04389712095096987,
          -0.04389712095096987,
          -0.04389712095096987,
          -0.04389712095096987,
          -0.04389712095096987,
          -0.054962469887493315,
          -0.054962469887493315,
          -0.054962469887493315,
          -0.04556133111644911,
          -0.04104596439173758,
          -0.038841666751041504,
          -0.038841666751041504,
          -0.038841666751041504,
          -0.038841666751041504,
          -0.045598551234207196,
          -0.04745528374753194,
          -0.04745528374753194,
          -0.04745528374753194,
          -0.059076219942061026,
          -0.05527174841883653,
          -0.05183208315654719,
          -0.05183208315654719,
          -0.05183208315654719,
          -0.0642379669099169,
          -0.08454404950016015,
          -0.05166027617391622,
          -0.05166027617391622,
          -0.05166027617391622,
          -0.05621156466519983,
          -0.058799705372007405,
          -0.06478746165797633,
          -0.06478746165797633,
          -0.06478746165797633,
          -0.06911262482575364,
          -0.05794302453868627,
          -0.05403418366159629,
          -0.05403418366159629,
          -0.05403418366159629,
          -0.05403418366159629,
          -0.055784903940301556,
          -0.05373707757666435,
          -0.05373707757666435,
          -0.05373707757666435,
          -0.018461557107940618,
          -0.05486514144219223,
          -0.07544831189585588,
          -0.07544831189585588,
          -0.07544831189585588,
          -0.09010510588212683,
          -0.08155024092070595,
          -0.08325987278291369,
          -0.08325987278291369,
          -0.08325987278291369,
          -0.07608035209043373,
          -0.09481463820435765,
          -0.09502889685068538,
          -0.09502889685068538,
          -0.09502889685068538,
          -0.097835737251451,
          -0.0997422451994221,
          -0.09610930454423583,
          -0.09610930454423583,
          -0.09610930454423583,
          -0.09160091174975238,
          -0.09558521092932093,
          -0.09601212873904974,
          -0.09601212873904974,
          -0.09601212873904974,
          -0.10547064028441322,
          -0.09776101940382531,
          -0.09776101940382531,
          -0.09776101940382531,
          -0.09776101940382531,
          -0.06789990919509148,
          -0.0696004789493212,
          -0.07264025809514296,
          -0.07264025809514296,
          -0.07264025809514296,
          -0.0710346816640901,
          -0.06940237935242732,
          -0.06629924399295684,
          -0.06629924399295684,
          -0.06629924399295684,
          -0.0732713983426222,
          -0.07535705930019754,
          -0.07433890121950704,
          -0.07433890121950704,
          -0.07433890121950704,
          -0.08829251490931378,
          -0.09155195813540928,
          -0.08800933737973016,
          -0.08800933737973016,
          -0.08800933737973016,
          -0.08801637693911524,
          -0.08842616899637468,
          -0.0718931907902719,
          -0.0718931907902719,
          -0.0718931907902719,
          -0.06636332397734879,
          -0.07568060977254798,
          -0.06339564351313431,
          -0.06339564351313431,
          -0.06339564351313431,
          -0.056408922579629706,
          -0.033000711436406815,
          -0.03864842348671982,
          -0.03864842348671982,
          -0.03864842348671982,
          -0.03864842348671982,
          -0.040911013444850375,
          -0.03906037638338078,
          -0.03906037638338078,
          -0.03906037638338078,
          -0.043770091084840534,
          -0.054556304637286,
          -0.032521318304678415,
          -0.032521318304678415,
          -0.032521318304678415,
          -0.034195313839777364,
          -0.04127101958221435,
          -0.04047665968284042,
          -0.04047665968284042,
          -0.04047665968284042,
          -0.04054647952768442,
          -0.03797064867483946,
          -0.048438981851309126,
          -0.048438981851309126,
          -0.048438981851309126,
          -0.0434746477660366,
          -0.04523965284088083,
          -0.05061392249996388,
          -0.05061392249996388,
          -0.05061392249996388,
          -0.03607061894681085,
          -0.030892728365779165,
          -0.017932678448330353,
          -0.017932678448330353,
          -0.017932678448330353,
          -0.01669275043940277,
          -0.03225897364007113,
          -0.0295215569498668,
          -0.0295215569498668,
          -0.0295215569498668,
          -0.013155675932950861,
          -0.01595074026052956,
          -0.01962291358634738,
          -0.01962291358634738,
          -0.01962291358634738,
          -0.022288738462918123,
          -0.043791973777851045,
          -0.022116250597275067,
          -0.022116250597275067,
          -0.022116250597275067,
          -0.024091208508608575,
          -0.039153363705048294,
          -0.06760936424687336,
          -0.06760936424687336,
          -0.06760936424687336,
          -0.06928225907795682,
          -0.057134956516641355,
          -0.0318720449931853,
          -0.0318720449931853,
          -0.0318720449931853,
          -0.021192149585542608,
          -0.034475141973486334,
          -0.006790324635557177,
          -0.006790324635557177,
          -0.006790324635557177,
          -0.0013164516507391255,
          0.011735485527206935,
          0.02311020932838259,
          0.02311020932838259,
          0.02311020932838259,
          0.01039695488775827,
          -0.01385800547999283,
          -0.003965126006335584,
          -0.003965126006335584,
          -0.003965126006335584,
          -0.003965126006335584,
          -0.0014747709359194117,
          -0.036573966017020676,
          -0.036573966017020676,
          -0.036573966017020676,
          -0.03865113788368946,
          -0.019772472361528792,
          -0.03125285908456743,
          -0.03125285908456743,
          -0.03125285908456743,
          -0.030580414867846573,
          -0.007147622839144607,
          0.0007977707864335049,
          0.0007977707864335049,
          0.0007977707864335049,
          -0.009305585942472994,
          -0.02802551716558377,
          -0.022774378630700642,
          -0.022774378630700642,
          -0.022774378630700642,
          -0.017041653329077144,
          -0.010969637319700465,
          0.007619716047388536,
          0.007619716047388536,
          0.007619716047388536,
          0.008583262377918288,
          0.016221699840445858,
          0.024391905845518425,
          0.024391905845518425,
          0.024391905845518425,
          0.024868170625979236,
          0.014516908397012696,
          -0.010343698987753558,
          -0.010343698987753558,
          -0.010343698987753558,
          -0.0006892774986656525,
          -0.0021956906316635827,
          0.0108823653138157,
          0.0108823653138157,
          0.0108823653138157,
          0.020629751474898983,
          0.025560784119877056,
          0.04092145775181999,
          0.04092145775181999,
          0.04092145775181999,
          0.04815306927926821,
          0.0583015463684855,
          0.027687305065447143,
          0.027687305065447143,
          0.027687305065447143,
          0.023734705308773973,
          0.049121984152144416,
          0.06223200494967407,
          0.06223200494967407,
          0.06223200494967407,
          0.05734395915792834,
          0.07149900691749034,
          0.08481320371427237,
          0.08481320371427237,
          0.08481320371427237,
          0.06711816011378913,
          0.08469726675436218,
          0.05574034514605808,
          0.05574034514605808,
          0.05574034514605808,
          0.04430141295779677,
          0.024212744855937274,
          0.03084397394446947,
          0.03084397394446947,
          0.03084397394446947,
          0.03941086666430582
         ]
        },
        {
         "line": {
          "color": "green"
         },
         "mode": "lines",
         "name": "累积特定收益率",
         "type": "scatter",
         "x": [
          "2016-01-04T00:00:00+00:00",
          "2016-01-05T00:00:00+00:00",
          "2016-01-06T00:00:00+00:00",
          "2016-01-07T00:00:00+00:00",
          "2016-01-08T00:00:00+00:00",
          "2016-01-11T00:00:00+00:00",
          "2016-01-12T00:00:00+00:00",
          "2016-01-13T00:00:00+00:00",
          "2016-01-14T00:00:00+00:00",
          "2016-01-15T00:00:00+00:00",
          "2016-01-18T00:00:00+00:00",
          "2016-01-19T00:00:00+00:00",
          "2016-01-20T00:00:00+00:00",
          "2016-01-21T00:00:00+00:00",
          "2016-01-22T00:00:00+00:00",
          "2016-01-25T00:00:00+00:00",
          "2016-01-26T00:00:00+00:00",
          "2016-01-27T00:00:00+00:00",
          "2016-01-28T00:00:00+00:00",
          "2016-01-29T00:00:00+00:00",
          "2016-02-01T00:00:00+00:00",
          "2016-02-02T00:00:00+00:00",
          "2016-02-03T00:00:00+00:00",
          "2016-02-04T00:00:00+00:00",
          "2016-02-05T00:00:00+00:00",
          "2016-02-08T00:00:00+00:00",
          "2016-02-09T00:00:00+00:00",
          "2016-02-10T00:00:00+00:00",
          "2016-02-11T00:00:00+00:00",
          "2016-02-12T00:00:00+00:00",
          "2016-02-15T00:00:00+00:00",
          "2016-02-16T00:00:00+00:00",
          "2016-02-17T00:00:00+00:00",
          "2016-02-18T00:00:00+00:00",
          "2016-02-19T00:00:00+00:00",
          "2016-02-22T00:00:00+00:00",
          "2016-02-23T00:00:00+00:00",
          "2016-02-24T00:00:00+00:00",
          "2016-02-25T00:00:00+00:00",
          "2016-02-26T00:00:00+00:00",
          "2016-02-29T00:00:00+00:00",
          "2016-03-01T00:00:00+00:00",
          "2016-03-02T00:00:00+00:00",
          "2016-03-03T00:00:00+00:00",
          "2016-03-04T00:00:00+00:00",
          "2016-03-07T00:00:00+00:00",
          "2016-03-08T00:00:00+00:00",
          "2016-03-09T00:00:00+00:00",
          "2016-03-10T00:00:00+00:00",
          "2016-03-11T00:00:00+00:00",
          "2016-03-14T00:00:00+00:00",
          "2016-03-15T00:00:00+00:00",
          "2016-03-16T00:00:00+00:00",
          "2016-03-17T00:00:00+00:00",
          "2016-03-18T00:00:00+00:00",
          "2016-03-21T00:00:00+00:00",
          "2016-03-22T00:00:00+00:00",
          "2016-03-23T00:00:00+00:00",
          "2016-03-24T00:00:00+00:00",
          "2016-03-25T00:00:00+00:00",
          "2016-03-28T00:00:00+00:00",
          "2016-03-29T00:00:00+00:00",
          "2016-03-30T00:00:00+00:00",
          "2016-03-31T00:00:00+00:00",
          "2016-04-01T00:00:00+00:00",
          "2016-04-04T00:00:00+00:00",
          "2016-04-05T00:00:00+00:00",
          "2016-04-06T00:00:00+00:00",
          "2016-04-07T00:00:00+00:00",
          "2016-04-08T00:00:00+00:00",
          "2016-04-11T00:00:00+00:00",
          "2016-04-12T00:00:00+00:00",
          "2016-04-13T00:00:00+00:00",
          "2016-04-14T00:00:00+00:00",
          "2016-04-15T00:00:00+00:00",
          "2016-04-18T00:00:00+00:00",
          "2016-04-19T00:00:00+00:00",
          "2016-04-20T00:00:00+00:00",
          "2016-04-21T00:00:00+00:00",
          "2016-04-22T00:00:00+00:00",
          "2016-04-25T00:00:00+00:00",
          "2016-04-26T00:00:00+00:00",
          "2016-04-27T00:00:00+00:00",
          "2016-04-28T00:00:00+00:00",
          "2016-04-29T00:00:00+00:00",
          "2016-05-02T00:00:00+00:00",
          "2016-05-03T00:00:00+00:00",
          "2016-05-04T00:00:00+00:00",
          "2016-05-05T00:00:00+00:00",
          "2016-05-06T00:00:00+00:00",
          "2016-05-09T00:00:00+00:00",
          "2016-05-10T00:00:00+00:00",
          "2016-05-11T00:00:00+00:00",
          "2016-05-12T00:00:00+00:00",
          "2016-05-13T00:00:00+00:00",
          "2016-05-16T00:00:00+00:00",
          "2016-05-17T00:00:00+00:00",
          "2016-05-18T00:00:00+00:00",
          "2016-05-19T00:00:00+00:00",
          "2016-05-20T00:00:00+00:00",
          "2016-05-23T00:00:00+00:00",
          "2016-05-24T00:00:00+00:00",
          "2016-05-25T00:00:00+00:00",
          "2016-05-26T00:00:00+00:00",
          "2016-05-27T00:00:00+00:00",
          "2016-05-30T00:00:00+00:00",
          "2016-05-31T00:00:00+00:00",
          "2016-06-01T00:00:00+00:00",
          "2016-06-02T00:00:00+00:00",
          "2016-06-03T00:00:00+00:00",
          "2016-06-06T00:00:00+00:00",
          "2016-06-07T00:00:00+00:00",
          "2016-06-08T00:00:00+00:00",
          "2016-06-09T00:00:00+00:00",
          "2016-06-10T00:00:00+00:00",
          "2016-06-13T00:00:00+00:00",
          "2016-06-14T00:00:00+00:00",
          "2016-06-15T00:00:00+00:00",
          "2016-06-16T00:00:00+00:00",
          "2016-06-17T00:00:00+00:00",
          "2016-06-20T00:00:00+00:00",
          "2016-06-21T00:00:00+00:00",
          "2016-06-22T00:00:00+00:00",
          "2016-06-23T00:00:00+00:00",
          "2016-06-24T00:00:00+00:00",
          "2016-06-27T00:00:00+00:00",
          "2016-06-28T00:00:00+00:00",
          "2016-06-29T00:00:00+00:00",
          "2016-06-30T00:00:00+00:00",
          "2016-07-01T00:00:00+00:00",
          "2016-07-04T00:00:00+00:00",
          "2016-07-05T00:00:00+00:00",
          "2016-07-06T00:00:00+00:00",
          "2016-07-07T00:00:00+00:00",
          "2016-07-08T00:00:00+00:00",
          "2016-07-11T00:00:00+00:00",
          "2016-07-12T00:00:00+00:00",
          "2016-07-13T00:00:00+00:00",
          "2016-07-14T00:00:00+00:00",
          "2016-07-15T00:00:00+00:00",
          "2016-07-18T00:00:00+00:00",
          "2016-07-19T00:00:00+00:00",
          "2016-07-20T00:00:00+00:00",
          "2016-07-21T00:00:00+00:00",
          "2016-07-22T00:00:00+00:00",
          "2016-07-25T00:00:00+00:00",
          "2016-07-26T00:00:00+00:00",
          "2016-07-27T00:00:00+00:00",
          "2016-07-28T00:00:00+00:00",
          "2016-07-29T00:00:00+00:00",
          "2016-08-01T00:00:00+00:00",
          "2016-08-02T00:00:00+00:00",
          "2016-08-03T00:00:00+00:00",
          "2016-08-04T00:00:00+00:00",
          "2016-08-05T00:00:00+00:00",
          "2016-08-08T00:00:00+00:00",
          "2016-08-09T00:00:00+00:00",
          "2016-08-10T00:00:00+00:00",
          "2016-08-11T00:00:00+00:00",
          "2016-08-12T00:00:00+00:00",
          "2016-08-15T00:00:00+00:00",
          "2016-08-16T00:00:00+00:00",
          "2016-08-17T00:00:00+00:00",
          "2016-08-18T00:00:00+00:00",
          "2016-08-19T00:00:00+00:00",
          "2016-08-22T00:00:00+00:00",
          "2016-08-23T00:00:00+00:00",
          "2016-08-24T00:00:00+00:00",
          "2016-08-25T00:00:00+00:00",
          "2016-08-26T00:00:00+00:00",
          "2016-08-29T00:00:00+00:00",
          "2016-08-30T00:00:00+00:00",
          "2016-08-31T00:00:00+00:00",
          "2016-09-01T00:00:00+00:00",
          "2016-09-02T00:00:00+00:00",
          "2016-09-05T00:00:00+00:00",
          "2016-09-06T00:00:00+00:00",
          "2016-09-07T00:00:00+00:00",
          "2016-09-08T00:00:00+00:00",
          "2016-09-09T00:00:00+00:00",
          "2016-09-12T00:00:00+00:00",
          "2016-09-13T00:00:00+00:00",
          "2016-09-14T00:00:00+00:00",
          "2016-09-15T00:00:00+00:00",
          "2016-09-16T00:00:00+00:00",
          "2016-09-19T00:00:00+00:00",
          "2016-09-20T00:00:00+00:00",
          "2016-09-21T00:00:00+00:00",
          "2016-09-22T00:00:00+00:00",
          "2016-09-23T00:00:00+00:00",
          "2016-09-26T00:00:00+00:00",
          "2016-09-27T00:00:00+00:00",
          "2016-09-28T00:00:00+00:00",
          "2016-09-29T00:00:00+00:00",
          "2016-09-30T00:00:00+00:00",
          "2016-10-03T00:00:00+00:00",
          "2016-10-04T00:00:00+00:00",
          "2016-10-05T00:00:00+00:00",
          "2016-10-06T00:00:00+00:00",
          "2016-10-07T00:00:00+00:00",
          "2016-10-10T00:00:00+00:00",
          "2016-10-11T00:00:00+00:00",
          "2016-10-12T00:00:00+00:00",
          "2016-10-13T00:00:00+00:00",
          "2016-10-14T00:00:00+00:00",
          "2016-10-17T00:00:00+00:00",
          "2016-10-18T00:00:00+00:00",
          "2016-10-19T00:00:00+00:00",
          "2016-10-20T00:00:00+00:00",
          "2016-10-21T00:00:00+00:00",
          "2016-10-24T00:00:00+00:00",
          "2016-10-25T00:00:00+00:00",
          "2016-10-26T00:00:00+00:00",
          "2016-10-27T00:00:00+00:00",
          "2016-10-28T00:00:00+00:00",
          "2016-10-31T00:00:00+00:00",
          "2016-11-01T00:00:00+00:00",
          "2016-11-02T00:00:00+00:00",
          "2016-11-03T00:00:00+00:00",
          "2016-11-04T00:00:00+00:00",
          "2016-11-07T00:00:00+00:00",
          "2016-11-08T00:00:00+00:00",
          "2016-11-09T00:00:00+00:00",
          "2016-11-10T00:00:00+00:00",
          "2016-11-11T00:00:00+00:00",
          "2016-11-14T00:00:00+00:00",
          "2016-11-15T00:00:00+00:00",
          "2016-11-16T00:00:00+00:00",
          "2016-11-17T00:00:00+00:00",
          "2016-11-18T00:00:00+00:00",
          "2016-11-21T00:00:00+00:00",
          "2016-11-22T00:00:00+00:00",
          "2016-11-23T00:00:00+00:00",
          "2016-11-24T00:00:00+00:00",
          "2016-11-25T00:00:00+00:00",
          "2016-11-28T00:00:00+00:00",
          "2016-11-29T00:00:00+00:00",
          "2016-11-30T00:00:00+00:00",
          "2016-12-01T00:00:00+00:00",
          "2016-12-02T00:00:00+00:00",
          "2016-12-05T00:00:00+00:00",
          "2016-12-06T00:00:00+00:00",
          "2016-12-07T00:00:00+00:00",
          "2016-12-08T00:00:00+00:00",
          "2016-12-09T00:00:00+00:00",
          "2016-12-12T00:00:00+00:00",
          "2016-12-13T00:00:00+00:00",
          "2016-12-14T00:00:00+00:00",
          "2016-12-15T00:00:00+00:00",
          "2016-12-16T00:00:00+00:00",
          "2016-12-19T00:00:00+00:00",
          "2016-12-20T00:00:00+00:00",
          "2016-12-21T00:00:00+00:00",
          "2016-12-22T00:00:00+00:00",
          "2016-12-23T00:00:00+00:00",
          "2016-12-26T00:00:00+00:00",
          "2016-12-27T00:00:00+00:00",
          "2016-12-28T00:00:00+00:00",
          "2016-12-29T00:00:00+00:00",
          "2016-12-30T00:00:00+00:00",
          "2017-01-02T00:00:00+00:00",
          "2017-01-03T00:00:00+00:00",
          "2017-01-04T00:00:00+00:00",
          "2017-01-05T00:00:00+00:00",
          "2017-01-06T00:00:00+00:00",
          "2017-01-09T00:00:00+00:00",
          "2017-01-10T00:00:00+00:00",
          "2017-01-11T00:00:00+00:00",
          "2017-01-12T00:00:00+00:00",
          "2017-01-13T00:00:00+00:00",
          "2017-01-16T00:00:00+00:00",
          "2017-01-17T00:00:00+00:00",
          "2017-01-18T00:00:00+00:00",
          "2017-01-19T00:00:00+00:00",
          "2017-01-20T00:00:00+00:00",
          "2017-01-23T00:00:00+00:00",
          "2017-01-24T00:00:00+00:00",
          "2017-01-25T00:00:00+00:00",
          "2017-01-26T00:00:00+00:00",
          "2017-01-27T00:00:00+00:00",
          "2017-01-30T00:00:00+00:00",
          "2017-01-31T00:00:00+00:00",
          "2017-02-01T00:00:00+00:00",
          "2017-02-02T00:00:00+00:00",
          "2017-02-03T00:00:00+00:00",
          "2017-02-06T00:00:00+00:00",
          "2017-02-07T00:00:00+00:00",
          "2017-02-08T00:00:00+00:00",
          "2017-02-09T00:00:00+00:00",
          "2017-02-10T00:00:00+00:00",
          "2017-02-13T00:00:00+00:00",
          "2017-02-14T00:00:00+00:00",
          "2017-02-15T00:00:00+00:00",
          "2017-02-16T00:00:00+00:00",
          "2017-02-17T00:00:00+00:00",
          "2017-02-20T00:00:00+00:00",
          "2017-02-21T00:00:00+00:00",
          "2017-02-22T00:00:00+00:00",
          "2017-02-23T00:00:00+00:00",
          "2017-02-24T00:00:00+00:00",
          "2017-02-27T00:00:00+00:00",
          "2017-02-28T00:00:00+00:00",
          "2017-03-01T00:00:00+00:00",
          "2017-03-02T00:00:00+00:00",
          "2017-03-03T00:00:00+00:00",
          "2017-03-06T00:00:00+00:00",
          "2017-03-07T00:00:00+00:00",
          "2017-03-08T00:00:00+00:00",
          "2017-03-09T00:00:00+00:00",
          "2017-03-10T00:00:00+00:00",
          "2017-03-13T00:00:00+00:00",
          "2017-03-14T00:00:00+00:00",
          "2017-03-15T00:00:00+00:00",
          "2017-03-16T00:00:00+00:00",
          "2017-03-17T00:00:00+00:00",
          "2017-03-20T00:00:00+00:00",
          "2017-03-21T00:00:00+00:00",
          "2017-03-22T00:00:00+00:00",
          "2017-03-23T00:00:00+00:00",
          "2017-03-24T00:00:00+00:00",
          "2017-03-27T00:00:00+00:00",
          "2017-03-28T00:00:00+00:00",
          "2017-03-29T00:00:00+00:00",
          "2017-03-30T00:00:00+00:00",
          "2017-03-31T00:00:00+00:00",
          "2017-04-03T00:00:00+00:00",
          "2017-04-04T00:00:00+00:00",
          "2017-04-05T00:00:00+00:00",
          "2017-04-06T00:00:00+00:00",
          "2017-04-07T00:00:00+00:00",
          "2017-04-10T00:00:00+00:00",
          "2017-04-11T00:00:00+00:00",
          "2017-04-12T00:00:00+00:00",
          "2017-04-13T00:00:00+00:00",
          "2017-04-14T00:00:00+00:00",
          "2017-04-17T00:00:00+00:00",
          "2017-04-18T00:00:00+00:00",
          "2017-04-19T00:00:00+00:00",
          "2017-04-20T00:00:00+00:00",
          "2017-04-21T00:00:00+00:00",
          "2017-04-24T00:00:00+00:00",
          "2017-04-25T00:00:00+00:00",
          "2017-04-26T00:00:00+00:00",
          "2017-04-27T00:00:00+00:00",
          "2017-04-28T00:00:00+00:00",
          "2017-05-01T00:00:00+00:00",
          "2017-05-02T00:00:00+00:00",
          "2017-05-03T00:00:00+00:00",
          "2017-05-04T00:00:00+00:00",
          "2017-05-05T00:00:00+00:00",
          "2017-05-08T00:00:00+00:00",
          "2017-05-09T00:00:00+00:00",
          "2017-05-10T00:00:00+00:00",
          "2017-05-11T00:00:00+00:00",
          "2017-05-12T00:00:00+00:00",
          "2017-05-15T00:00:00+00:00",
          "2017-05-16T00:00:00+00:00",
          "2017-05-17T00:00:00+00:00",
          "2017-05-18T00:00:00+00:00",
          "2017-05-19T00:00:00+00:00",
          "2017-05-22T00:00:00+00:00",
          "2017-05-23T00:00:00+00:00",
          "2017-05-24T00:00:00+00:00",
          "2017-05-25T00:00:00+00:00",
          "2017-05-26T00:00:00+00:00",
          "2017-05-29T00:00:00+00:00",
          "2017-05-30T00:00:00+00:00",
          "2017-05-31T00:00:00+00:00",
          "2017-06-01T00:00:00+00:00",
          "2017-06-02T00:00:00+00:00",
          "2017-06-05T00:00:00+00:00",
          "2017-06-06T00:00:00+00:00",
          "2017-06-07T00:00:00+00:00",
          "2017-06-08T00:00:00+00:00",
          "2017-06-09T00:00:00+00:00",
          "2017-06-12T00:00:00+00:00",
          "2017-06-13T00:00:00+00:00",
          "2017-06-14T00:00:00+00:00",
          "2017-06-15T00:00:00+00:00",
          "2017-06-16T00:00:00+00:00",
          "2017-06-19T00:00:00+00:00",
          "2017-06-20T00:00:00+00:00",
          "2017-06-21T00:00:00+00:00",
          "2017-06-22T00:00:00+00:00",
          "2017-06-23T00:00:00+00:00",
          "2017-06-26T00:00:00+00:00",
          "2017-06-27T00:00:00+00:00",
          "2017-06-28T00:00:00+00:00",
          "2017-06-29T00:00:00+00:00",
          "2017-06-30T00:00:00+00:00",
          "2017-07-03T00:00:00+00:00",
          "2017-07-04T00:00:00+00:00",
          "2017-07-05T00:00:00+00:00",
          "2017-07-06T00:00:00+00:00",
          "2017-07-07T00:00:00+00:00",
          "2017-07-10T00:00:00+00:00",
          "2017-07-11T00:00:00+00:00",
          "2017-07-12T00:00:00+00:00",
          "2017-07-13T00:00:00+00:00",
          "2017-07-14T00:00:00+00:00",
          "2017-07-17T00:00:00+00:00",
          "2017-07-18T00:00:00+00:00",
          "2017-07-19T00:00:00+00:00",
          "2017-07-20T00:00:00+00:00",
          "2017-07-21T00:00:00+00:00",
          "2017-07-24T00:00:00+00:00",
          "2017-07-25T00:00:00+00:00",
          "2017-07-26T00:00:00+00:00",
          "2017-07-27T00:00:00+00:00",
          "2017-07-28T00:00:00+00:00",
          "2017-07-31T00:00:00+00:00",
          "2017-08-01T00:00:00+00:00",
          "2017-08-02T00:00:00+00:00",
          "2017-08-03T00:00:00+00:00",
          "2017-08-04T00:00:00+00:00",
          "2017-08-07T00:00:00+00:00",
          "2017-08-08T00:00:00+00:00",
          "2017-08-09T00:00:00+00:00",
          "2017-08-10T00:00:00+00:00",
          "2017-08-11T00:00:00+00:00",
          "2017-08-14T00:00:00+00:00",
          "2017-08-15T00:00:00+00:00",
          "2017-08-16T00:00:00+00:00",
          "2017-08-17T00:00:00+00:00",
          "2017-08-18T00:00:00+00:00",
          "2017-08-21T00:00:00+00:00",
          "2017-08-22T00:00:00+00:00",
          "2017-08-23T00:00:00+00:00",
          "2017-08-24T00:00:00+00:00",
          "2017-08-25T00:00:00+00:00",
          "2017-08-28T00:00:00+00:00",
          "2017-08-29T00:00:00+00:00",
          "2017-08-30T00:00:00+00:00",
          "2017-08-31T00:00:00+00:00",
          "2017-09-01T00:00:00+00:00",
          "2017-09-04T00:00:00+00:00",
          "2017-09-05T00:00:00+00:00",
          "2017-09-06T00:00:00+00:00",
          "2017-09-07T00:00:00+00:00",
          "2017-09-08T00:00:00+00:00",
          "2017-09-11T00:00:00+00:00",
          "2017-09-12T00:00:00+00:00",
          "2017-09-13T00:00:00+00:00",
          "2017-09-14T00:00:00+00:00",
          "2017-09-15T00:00:00+00:00",
          "2017-09-18T00:00:00+00:00",
          "2017-09-19T00:00:00+00:00",
          "2017-09-20T00:00:00+00:00",
          "2017-09-21T00:00:00+00:00",
          "2017-09-22T00:00:00+00:00",
          "2017-09-25T00:00:00+00:00",
          "2017-09-26T00:00:00+00:00",
          "2017-09-27T00:00:00+00:00",
          "2017-09-28T00:00:00+00:00",
          "2017-09-29T00:00:00+00:00",
          "2017-10-02T00:00:00+00:00",
          "2017-10-03T00:00:00+00:00",
          "2017-10-04T00:00:00+00:00",
          "2017-10-05T00:00:00+00:00",
          "2017-10-06T00:00:00+00:00",
          "2017-10-09T00:00:00+00:00",
          "2017-10-10T00:00:00+00:00",
          "2017-10-11T00:00:00+00:00",
          "2017-10-12T00:00:00+00:00",
          "2017-10-13T00:00:00+00:00",
          "2017-10-16T00:00:00+00:00",
          "2017-10-17T00:00:00+00:00",
          "2017-10-18T00:00:00+00:00",
          "2017-10-19T00:00:00+00:00",
          "2017-10-20T00:00:00+00:00",
          "2017-10-23T00:00:00+00:00",
          "2017-10-24T00:00:00+00:00",
          "2017-10-25T00:00:00+00:00",
          "2017-10-26T00:00:00+00:00",
          "2017-10-27T00:00:00+00:00",
          "2017-10-30T00:00:00+00:00",
          "2017-10-31T00:00:00+00:00",
          "2017-11-01T00:00:00+00:00",
          "2017-11-02T00:00:00+00:00",
          "2017-11-03T00:00:00+00:00",
          "2017-11-06T00:00:00+00:00",
          "2017-11-07T00:00:00+00:00",
          "2017-11-08T00:00:00+00:00",
          "2017-11-09T00:00:00+00:00",
          "2017-11-10T00:00:00+00:00",
          "2017-11-13T00:00:00+00:00",
          "2017-11-14T00:00:00+00:00",
          "2017-11-15T00:00:00+00:00",
          "2017-11-16T00:00:00+00:00",
          "2017-11-17T00:00:00+00:00",
          "2017-11-20T00:00:00+00:00",
          "2017-11-21T00:00:00+00:00",
          "2017-11-22T00:00:00+00:00",
          "2017-11-23T00:00:00+00:00",
          "2017-11-24T00:00:00+00:00",
          "2017-11-27T00:00:00+00:00",
          "2017-11-28T00:00:00+00:00",
          "2017-11-29T00:00:00+00:00",
          "2017-11-30T00:00:00+00:00",
          "2017-12-01T00:00:00+00:00",
          "2017-12-04T00:00:00+00:00",
          "2017-12-05T00:00:00+00:00",
          "2017-12-06T00:00:00+00:00",
          "2017-12-07T00:00:00+00:00"
         ],
         "y": [
          -2.2419453238856217,
          -2.2419453238856217,
          -2.2419453238856217,
          -1.2552741664857874,
          -1.1727076175805815,
          -0.8823291445867707,
          -0.8823291445867707,
          -0.8823291445867707,
          -0.8823291445867707,
          -0.8231446962170538,
          -0.48800583616778415,
          -0.48800583616778415,
          -0.48800583616778415,
          -0.41737371097862763,
          -2.154969628487323,
          -1.5470307309946671,
          -1.5470307309946671,
          -1.5470307309946671,
          -0.25844375985458157,
          0.17861675649324926,
          2.904012737864457,
          2.904012737864457,
          2.904012737864457,
          4.701010133096805,
          14.64745600098149,
          23.136061610505706,
          23.136061610505706,
          23.136061610505706,
          11.087701969663028,
          26.996237745249495,
          46.11641556244892,
          46.11641556244892,
          46.11641556244892,
          46.11641556244892,
          57.19158191769261,
          5.5863518066787545,
          5.5863518066787545,
          5.5863518066787545,
          16.11602464389388,
          18.97418021825473,
          23.155565795569732,
          23.155565795569732,
          23.155565795569732,
          -5.344451491115013,
          -5.36381910255603,
          -1.8306081241537717,
          -1.8306081241537717,
          -1.8306081241537717,
          -0.39047914973483866,
          -0.7387782897547652,
          -0.8718186923777865,
          -0.8718186923777865,
          -0.8718186923777865,
          -0.7151731857542956,
          -1.6816174956441228,
          1.3313527413542574,
          1.3313527413542574,
          1.3313527413542574,
          -0.058175861320173716,
          -1.3714991348191954,
          -1.6389464655308619,
          -1.6389464655308619,
          -1.6389464655308619,
          -0.7259864897639117,
          -0.9992714602602509,
          -0.9990505488274797,
          -0.9990505488274797,
          -0.9990505488274797,
          -0.9994633535688066,
          -0.999078313629671,
          -0.999078313629671,
          -0.999078313629671,
          -0.999078313629671,
          -0.9992708724926243,
          -0.997974144412263,
          -1.0009231683313988,
          -1.0009231683313988,
          -1.0009231683313988,
          -1.000878131275346,
          -1.0023090346191434,
          -0.9990468108556159,
          -0.9990468108556159,
          -0.9990468108556159,
          -0.9966278897633181,
          -1.001716163684453,
          -0.998267529166313,
          -0.998267529166313,
          -0.998267529166313,
          -0.9958151702156028,
          -0.994904753618604,
          -0.9870702577642074,
          -0.9870702577642074,
          -0.9870702577642074,
          -0.9749760935580026,
          -0.9957154520346461,
          -0.9924834105417648,
          -0.9924834105417648,
          -0.9924834105417648,
          -1.001214810958065,
          -0.9831927031909653,
          -0.9714354368626339,
          -0.9714354368626339,
          -0.9714354368626339,
          -0.9714354368626339,
          -0.9758690362543063,
          -1.0055186974018315,
          -1.0055186974018315,
          -1.0055186974018315,
          -1.0035962152349194,
          -0.9954112791801653,
          -0.989309653659047,
          -0.989309653659047,
          -0.989309653659047,
          -0.9937143682856373,
          -0.9885236650404305,
          -0.9638802415193695,
          -0.9638802415193695,
          -0.9638802415193695,
          -0.9452220963724371,
          -1.005496252356543,
          -1.0110957957912345,
          -1.0110957957912345,
          -1.0110957957912345,
          -0.9860216341947128,
          -0.9538271151178326,
          -0.9522105340967587,
          -0.9522105340967587,
          -0.9522105340967587,
          -0.8682588725077267,
          -0.8682588725077267,
          -0.5314095328840658,
          -0.5314095328840658,
          -0.5314095328840658,
          -0.9513561523300907,
          -0.9396251592564806,
          -0.7963485801633147,
          -0.7963485801633147,
          -0.7963485801633147,
          -0.8729887012645174,
          -0.8771809336615125,
          -0.5220459502583302,
          -0.5220459502583302,
          -0.5220459502583302,
          -0.586096841521324,
          -1.4791966325207502,
          -2.00820194556139,
          -2.00820194556139,
          -2.00820194556139,
          -1.5461660154119854,
          -1.5867380649216765,
          -1.3177837735812712,
          -1.3177837735812712,
          -1.3177837735812712,
          -2.1487170183109745,
          -1.5452999942638845,
          -1.013652550159445,
          -1.013652550159445,
          -1.013652550159445,
          -1.0184394193574111,
          -1.023767315712523,
          -1.0106449778812363,
          -1.0106449778812363,
          -1.0106449778812363,
          -0.9860646895541266,
          -0.9881451294810676,
          -0.9829090253498107,
          -0.9829090253498107,
          -0.9829090253498107,
          -0.9610752843673874,
          -0.9994442188916298,
          -0.99976537722476,
          -0.99976537722476,
          -0.99976537722476,
          -0.99976537722476,
          -0.9999996903800756,
          -0.9999991900923856,
          -0.9999991900923856,
          -0.9999991900923856,
          -0.9999940174296006,
          -0.9999945675993196,
          -0.9999968229755717,
          -0.9999968229755717,
          -0.9999968229755717,
          -0.9999943331275273,
          -0.9999859059081085,
          -0.9999759256274782,
          -0.9999759256274782,
          -0.9999759256274782,
          -0.9999527083434739,
          -0.9999873476675419,
          -0.9999768790625734,
          -0.9999768790625734,
          -0.9999768790625734,
          -1.0000645652088198,
          -1.0001426291617974,
          -1.0001335237322624,
          -1.0001335237322624,
          -1.0001335237322624,
          -0.9991277578478127,
          -1.0007836891992699,
          -1.0059348420523178,
          -1.0059348420523178,
          -1.0059348420523178,
          -1.002016806793388,
          -1.0036167719969276,
          -1.0061900752862554,
          -1.0061900752862554,
          -1.0061900752862554,
          -1.0009953102578244,
          -0.9965928062639491,
          -1.000979709172804,
          -1.000979709172804,
          -1.000979709172804,
          -1.0029979401711313,
          -1.0041325116934352,
          -0.9782884620879324,
          -0.9782884620879324,
          -0.9782884620879324,
          -0.97937866271689,
          -1.0341310444484002,
          -1.082702772123032,
          -1.082702772123032,
          -1.082702772123032,
          -1.1028261138715758,
          -1.184202802591933,
          -1.237357273003029,
          -1.237357273003029,
          -1.237357273003029,
          -1.910883290803744,
          -1.7601489449090244,
          -2.911393282145009,
          -2.911393282145009,
          -2.911393282145009,
          -6.278896108953258,
          -17.263297958620054,
          -58.966372549427774,
          -58.966372549427774,
          -58.966372549427774,
          -34.89904792082349,
          11.051413960669787,
          -8.742159219865957,
          -8.742159219865957,
          -8.742159219865957,
          7.107318604490354,
          5.630007897421699,
          13.122024687451681,
          13.122024687451681,
          13.122024687451681,
          31.546730361620064,
          68.12821679530504,
          43.39562223048405,
          43.39562223048405,
          43.39562223048405,
          43.39562223048405,
          38.01452287752003,
          -50.92267532639444,
          -50.92267532639444,
          -50.92267532639444,
          -50.92267532639444,
          -50.92267532639444,
          -84.82567855008209,
          -84.82567855008209,
          -84.82567855008209,
          153.75231624997897,
          503.1192930279642,
          292.9611510830219,
          292.9611510830219,
          292.9611510830219,
          292.9611510830219,
          305.8122441707149,
          401.4550986980462,
          401.4550986980462,
          401.4550986980462,
          534.2392850443204,
          445.5302353618224,
          447.15600926724477,
          447.15600926724477,
          447.15600926724477,
          441.29231017388946,
          431.6945450778184,
          447.23721464271927,
          447.23721464271927,
          447.23721464271927,
          342.51163534686975,
          276.19886873323946,
          812.784276374006,
          812.784276374006,
          812.784276374006,
          2520.9286476217044,
          29.792992817865265,
          -3.642342472288925,
          -3.642342472288925,
          -3.642342472288925,
          -3.642342472288925,
          -10.349313338565183,
          -0.7467627908282506,
          -0.7467627908282506,
          -0.7467627908282506,
          -0.5687831984787423,
          1.1587446595818292,
          3.7162480917851033,
          3.7162480917851033,
          3.7162480917851033,
          11.616786802592165,
          14.988759259583665,
          63.46802115333149,
          63.46802115333149,
          63.46802115333149,
          28.462733211693052,
          36.91158712385658,
          25.55099221217837,
          25.55099221217837,
          25.55099221217837,
          -24.291722800317135,
          -25.56658922778949,
          -40.152410224225406,
          -40.152410224225406,
          -40.152410224225406,
          -56.96037971272878,
          1207.7829330638906,
          -881.7407352030078,
          -881.7407352030078,
          -881.7407352030078,
          22.563127681605632,
          0.30848127000745285,
          0.30848127000745285,
          0.30848127000745285,
          0.30848127000745285,
          1.939581363366207,
          2.2313986047849843,
          2.105026732076984,
          2.105026732076984,
          2.105026732076984,
          2.165448134278652,
          2.039364052795872,
          9.598346887323551,
          9.598346887323551,
          9.598346887323551,
          8.57029463581332,
          -12.135457415108052,
          -7.077708699521714,
          -7.077708699521714,
          -7.077708699521714,
          -3.733503829278597,
          1.6085017931261634,
          -0.2301426756329782,
          -0.2301426756329782,
          -0.2301426756329782,
          0.36760000626044187,
          -0.8860640915005088,
          -0.5286934474253703,
          -0.5286934474253703,
          -0.5286934474253703,
          -1.0737330629152473,
          -0.9578225298544821,
          -0.9562863301688324,
          -0.9562863301688324,
          -0.9562863301688324,
          -0.8678070536569489,
          -0.9143200189169818,
          -0.8374226766461534,
          -0.8374226766461534,
          -0.8374226766461534,
          -0.8374226766461534,
          -1.0664913275730123,
          -1.1532502410072853,
          -1.1532502410072853,
          -1.1532502410072853,
          -1.2627394415726259,
          -1.5497173730239213,
          -2.8403911001685875,
          -2.8403911001685875,
          -2.8403911001685875,
          -5.66349785638152,
          -18.521586935075728,
          -44.356972274357524,
          -44.356972274357524,
          -44.356972274357524,
          -46.7623210749884,
          -209.31286049261354,
          -222.6774769411182,
          -222.6774769411182,
          -222.6774769411182,
          -239.6822827610419,
          67.59395513471956,
          99.66029597720903,
          99.66029597720903,
          99.66029597720903,
          133.1413173612112,
          585.7331078394587,
          -929.702766379527,
          -929.702766379527,
          -929.702766379527,
          1405.564901683405,
          4350.866780183071,
          8993.17255955876,
          8993.17255955876,
          8993.17255955876,
          17164.81222593244,
          43400.50238872199,
          -50719.756950407485,
          -50719.756950407485,
          -50719.756950407485,
          -26799.631992840958,
          -74877.55299513337,
          -68165.28050888226,
          -68165.28050888226,
          -68165.28050888226,
          -293.35230066747073,
          -533.2915352924422,
          -517.3413167927342,
          -517.3413167927342,
          -517.3413167927342,
          822.7264614750108,
          129.83913983222146,
          -39.17908757295093,
          -39.17908757295093,
          -39.17908757295093,
          -77.70464728345735,
          -11.814005130817637,
          -13.5783157770182,
          -13.5783157770182,
          -13.5783157770182,
          -6.24214912997068,
          -10.195368201466753,
          -39.92559055693267,
          -39.92559055693267,
          -39.92559055693267,
          -199.76143841070308,
          -264.3332220796915,
          -943.0848096172072,
          -943.0848096172072,
          -943.0848096172072,
          -943.0848096172072,
          -1129.3753111099415,
          -681.1083981216949,
          -681.1083981216949,
          -681.1083981216949,
          -1900.8415930797396,
          -4305.223690589587,
          -3211.904034250165,
          -3211.904034250165,
          -3211.904034250165,
          -2243.131064964844,
          -3446.5681665747647,
          -3587.109913651648,
          -3587.109913651648,
          -3587.109913651648,
          -9255.995881574821,
          7906.5808148775295,
          26194.151369017905,
          26194.151369017905,
          26194.151369017905,
          73655.77430008935,
          -60164.65039829401,
          -189176.8451302101,
          -189176.8451302101,
          -189176.8451302101,
          -243041.74110449385,
          -215197.98564645046,
          -221725.66224382908,
          -221725.66224382908,
          -221725.66224382908,
          -324200.1605191253,
          227410.68097521827,
          23777.039859782708,
          23777.039859782708,
          23777.039859782708,
          10684.293031128915,
          23449.33197826329,
          -15869.913890181764,
          -15869.913890181764,
          -15869.913890181764,
          24598.030302608237,
          3442.4337681602246,
          16019.677087066157,
          16019.677087066157,
          16019.677087066157,
          14995.878050368685,
          -152.86766991764347,
          -92.866385647828,
          -92.866385647828,
          -92.866385647828,
          69.67852882119288,
          -38.574660803845994,
          -29.84379990434172,
          -29.84379990434172,
          -29.84379990434172,
          -72.36904987434067,
          -97.55461484959835,
          -83.58922627205366,
          -83.58922627205366,
          -83.58922627205366,
          -60.10722281213002,
          6.176279146468776,
          12.847203638912998,
          12.847203638912998,
          12.847203638912998,
          11.892103218017564,
          -27.731871031141768,
          -106.90720993020139,
          -106.90720993020139,
          -106.90720993020139,
          108.98371575604588
         ]
        },
        {
         "line": {
          "color": "red"
         },
         "mode": "lines",
         "name": "累积共同收益率",
         "type": "scatter",
         "x": [
          "2016-01-04T00:00:00+00:00",
          "2016-01-05T00:00:00+00:00",
          "2016-01-06T00:00:00+00:00",
          "2016-01-07T00:00:00+00:00",
          "2016-01-08T00:00:00+00:00",
          "2016-01-11T00:00:00+00:00",
          "2016-01-12T00:00:00+00:00",
          "2016-01-13T00:00:00+00:00",
          "2016-01-14T00:00:00+00:00",
          "2016-01-15T00:00:00+00:00",
          "2016-01-18T00:00:00+00:00",
          "2016-01-19T00:00:00+00:00",
          "2016-01-20T00:00:00+00:00",
          "2016-01-21T00:00:00+00:00",
          "2016-01-22T00:00:00+00:00",
          "2016-01-25T00:00:00+00:00",
          "2016-01-26T00:00:00+00:00",
          "2016-01-27T00:00:00+00:00",
          "2016-01-28T00:00:00+00:00",
          "2016-01-29T00:00:00+00:00",
          "2016-02-01T00:00:00+00:00",
          "2016-02-02T00:00:00+00:00",
          "2016-02-03T00:00:00+00:00",
          "2016-02-04T00:00:00+00:00",
          "2016-02-05T00:00:00+00:00",
          "2016-02-08T00:00:00+00:00",
          "2016-02-09T00:00:00+00:00",
          "2016-02-10T00:00:00+00:00",
          "2016-02-11T00:00:00+00:00",
          "2016-02-12T00:00:00+00:00",
          "2016-02-15T00:00:00+00:00",
          "2016-02-16T00:00:00+00:00",
          "2016-02-17T00:00:00+00:00",
          "2016-02-18T00:00:00+00:00",
          "2016-02-19T00:00:00+00:00",
          "2016-02-22T00:00:00+00:00",
          "2016-02-23T00:00:00+00:00",
          "2016-02-24T00:00:00+00:00",
          "2016-02-25T00:00:00+00:00",
          "2016-02-26T00:00:00+00:00",
          "2016-02-29T00:00:00+00:00",
          "2016-03-01T00:00:00+00:00",
          "2016-03-02T00:00:00+00:00",
          "2016-03-03T00:00:00+00:00",
          "2016-03-04T00:00:00+00:00",
          "2016-03-07T00:00:00+00:00",
          "2016-03-08T00:00:00+00:00",
          "2016-03-09T00:00:00+00:00",
          "2016-03-10T00:00:00+00:00",
          "2016-03-11T00:00:00+00:00",
          "2016-03-14T00:00:00+00:00",
          "2016-03-15T00:00:00+00:00",
          "2016-03-16T00:00:00+00:00",
          "2016-03-17T00:00:00+00:00",
          "2016-03-18T00:00:00+00:00",
          "2016-03-21T00:00:00+00:00",
          "2016-03-22T00:00:00+00:00",
          "2016-03-23T00:00:00+00:00",
          "2016-03-24T00:00:00+00:00",
          "2016-03-25T00:00:00+00:00",
          "2016-03-28T00:00:00+00:00",
          "2016-03-29T00:00:00+00:00",
          "2016-03-30T00:00:00+00:00",
          "2016-03-31T00:00:00+00:00",
          "2016-04-01T00:00:00+00:00",
          "2016-04-04T00:00:00+00:00",
          "2016-04-05T00:00:00+00:00",
          "2016-04-06T00:00:00+00:00",
          "2016-04-07T00:00:00+00:00",
          "2016-04-08T00:00:00+00:00",
          "2016-04-11T00:00:00+00:00",
          "2016-04-12T00:00:00+00:00",
          "2016-04-13T00:00:00+00:00",
          "2016-04-14T00:00:00+00:00",
          "2016-04-15T00:00:00+00:00",
          "2016-04-18T00:00:00+00:00",
          "2016-04-19T00:00:00+00:00",
          "2016-04-20T00:00:00+00:00",
          "2016-04-21T00:00:00+00:00",
          "2016-04-22T00:00:00+00:00",
          "2016-04-25T00:00:00+00:00",
          "2016-04-26T00:00:00+00:00",
          "2016-04-27T00:00:00+00:00",
          "2016-04-28T00:00:00+00:00",
          "2016-04-29T00:00:00+00:00",
          "2016-05-02T00:00:00+00:00",
          "2016-05-03T00:00:00+00:00",
          "2016-05-04T00:00:00+00:00",
          "2016-05-05T00:00:00+00:00",
          "2016-05-06T00:00:00+00:00",
          "2016-05-09T00:00:00+00:00",
          "2016-05-10T00:00:00+00:00",
          "2016-05-11T00:00:00+00:00",
          "2016-05-12T00:00:00+00:00",
          "2016-05-13T00:00:00+00:00",
          "2016-05-16T00:00:00+00:00",
          "2016-05-17T00:00:00+00:00",
          "2016-05-18T00:00:00+00:00",
          "2016-05-19T00:00:00+00:00",
          "2016-05-20T00:00:00+00:00",
          "2016-05-23T00:00:00+00:00",
          "2016-05-24T00:00:00+00:00",
          "2016-05-25T00:00:00+00:00",
          "2016-05-26T00:00:00+00:00",
          "2016-05-27T00:00:00+00:00",
          "2016-05-30T00:00:00+00:00",
          "2016-05-31T00:00:00+00:00",
          "2016-06-01T00:00:00+00:00",
          "2016-06-02T00:00:00+00:00",
          "2016-06-03T00:00:00+00:00",
          "2016-06-06T00:00:00+00:00",
          "2016-06-07T00:00:00+00:00",
          "2016-06-08T00:00:00+00:00",
          "2016-06-09T00:00:00+00:00",
          "2016-06-10T00:00:00+00:00",
          "2016-06-13T00:00:00+00:00",
          "2016-06-14T00:00:00+00:00",
          "2016-06-15T00:00:00+00:00",
          "2016-06-16T00:00:00+00:00",
          "2016-06-17T00:00:00+00:00",
          "2016-06-20T00:00:00+00:00",
          "2016-06-21T00:00:00+00:00",
          "2016-06-22T00:00:00+00:00",
          "2016-06-23T00:00:00+00:00",
          "2016-06-24T00:00:00+00:00",
          "2016-06-27T00:00:00+00:00",
          "2016-06-28T00:00:00+00:00",
          "2016-06-29T00:00:00+00:00",
          "2016-06-30T00:00:00+00:00",
          "2016-07-01T00:00:00+00:00",
          "2016-07-04T00:00:00+00:00",
          "2016-07-05T00:00:00+00:00",
          "2016-07-06T00:00:00+00:00",
          "2016-07-07T00:00:00+00:00",
          "2016-07-08T00:00:00+00:00",
          "2016-07-11T00:00:00+00:00",
          "2016-07-12T00:00:00+00:00",
          "2016-07-13T00:00:00+00:00",
          "2016-07-14T00:00:00+00:00",
          "2016-07-15T00:00:00+00:00",
          "2016-07-18T00:00:00+00:00",
          "2016-07-19T00:00:00+00:00",
          "2016-07-20T00:00:00+00:00",
          "2016-07-21T00:00:00+00:00",
          "2016-07-22T00:00:00+00:00",
          "2016-07-25T00:00:00+00:00",
          "2016-07-26T00:00:00+00:00",
          "2016-07-27T00:00:00+00:00",
          "2016-07-28T00:00:00+00:00",
          "2016-07-29T00:00:00+00:00",
          "2016-08-01T00:00:00+00:00",
          "2016-08-02T00:00:00+00:00",
          "2016-08-03T00:00:00+00:00",
          "2016-08-04T00:00:00+00:00",
          "2016-08-05T00:00:00+00:00",
          "2016-08-08T00:00:00+00:00",
          "2016-08-09T00:00:00+00:00",
          "2016-08-10T00:00:00+00:00",
          "2016-08-11T00:00:00+00:00",
          "2016-08-12T00:00:00+00:00",
          "2016-08-15T00:00:00+00:00",
          "2016-08-16T00:00:00+00:00",
          "2016-08-17T00:00:00+00:00",
          "2016-08-18T00:00:00+00:00",
          "2016-08-19T00:00:00+00:00",
          "2016-08-22T00:00:00+00:00",
          "2016-08-23T00:00:00+00:00",
          "2016-08-24T00:00:00+00:00",
          "2016-08-25T00:00:00+00:00",
          "2016-08-26T00:00:00+00:00",
          "2016-08-29T00:00:00+00:00",
          "2016-08-30T00:00:00+00:00",
          "2016-08-31T00:00:00+00:00",
          "2016-09-01T00:00:00+00:00",
          "2016-09-02T00:00:00+00:00",
          "2016-09-05T00:00:00+00:00",
          "2016-09-06T00:00:00+00:00",
          "2016-09-07T00:00:00+00:00",
          "2016-09-08T00:00:00+00:00",
          "2016-09-09T00:00:00+00:00",
          "2016-09-12T00:00:00+00:00",
          "2016-09-13T00:00:00+00:00",
          "2016-09-14T00:00:00+00:00",
          "2016-09-15T00:00:00+00:00",
          "2016-09-16T00:00:00+00:00",
          "2016-09-19T00:00:00+00:00",
          "2016-09-20T00:00:00+00:00",
          "2016-09-21T00:00:00+00:00",
          "2016-09-22T00:00:00+00:00",
          "2016-09-23T00:00:00+00:00",
          "2016-09-26T00:00:00+00:00",
          "2016-09-27T00:00:00+00:00",
          "2016-09-28T00:00:00+00:00",
          "2016-09-29T00:00:00+00:00",
          "2016-09-30T00:00:00+00:00",
          "2016-10-03T00:00:00+00:00",
          "2016-10-04T00:00:00+00:00",
          "2016-10-05T00:00:00+00:00",
          "2016-10-06T00:00:00+00:00",
          "2016-10-07T00:00:00+00:00",
          "2016-10-10T00:00:00+00:00",
          "2016-10-11T00:00:00+00:00",
          "2016-10-12T00:00:00+00:00",
          "2016-10-13T00:00:00+00:00",
          "2016-10-14T00:00:00+00:00",
          "2016-10-17T00:00:00+00:00",
          "2016-10-18T00:00:00+00:00",
          "2016-10-19T00:00:00+00:00",
          "2016-10-20T00:00:00+00:00",
          "2016-10-21T00:00:00+00:00",
          "2016-10-24T00:00:00+00:00",
          "2016-10-25T00:00:00+00:00",
          "2016-10-26T00:00:00+00:00",
          "2016-10-27T00:00:00+00:00",
          "2016-10-28T00:00:00+00:00",
          "2016-10-31T00:00:00+00:00",
          "2016-11-01T00:00:00+00:00",
          "2016-11-02T00:00:00+00:00",
          "2016-11-03T00:00:00+00:00",
          "2016-11-04T00:00:00+00:00",
          "2016-11-07T00:00:00+00:00",
          "2016-11-08T00:00:00+00:00",
          "2016-11-09T00:00:00+00:00",
          "2016-11-10T00:00:00+00:00",
          "2016-11-11T00:00:00+00:00",
          "2016-11-14T00:00:00+00:00",
          "2016-11-15T00:00:00+00:00",
          "2016-11-16T00:00:00+00:00",
          "2016-11-17T00:00:00+00:00",
          "2016-11-18T00:00:00+00:00",
          "2016-11-21T00:00:00+00:00",
          "2016-11-22T00:00:00+00:00",
          "2016-11-23T00:00:00+00:00",
          "2016-11-24T00:00:00+00:00",
          "2016-11-25T00:00:00+00:00",
          "2016-11-28T00:00:00+00:00",
          "2016-11-29T00:00:00+00:00",
          "2016-11-30T00:00:00+00:00",
          "2016-12-01T00:00:00+00:00",
          "2016-12-02T00:00:00+00:00",
          "2016-12-05T00:00:00+00:00",
          "2016-12-06T00:00:00+00:00",
          "2016-12-07T00:00:00+00:00",
          "2016-12-08T00:00:00+00:00",
          "2016-12-09T00:00:00+00:00",
          "2016-12-12T00:00:00+00:00",
          "2016-12-13T00:00:00+00:00",
          "2016-12-14T00:00:00+00:00",
          "2016-12-15T00:00:00+00:00",
          "2016-12-16T00:00:00+00:00",
          "2016-12-19T00:00:00+00:00",
          "2016-12-20T00:00:00+00:00",
          "2016-12-21T00:00:00+00:00",
          "2016-12-22T00:00:00+00:00",
          "2016-12-23T00:00:00+00:00",
          "2016-12-26T00:00:00+00:00",
          "2016-12-27T00:00:00+00:00",
          "2016-12-28T00:00:00+00:00",
          "2016-12-29T00:00:00+00:00",
          "2016-12-30T00:00:00+00:00",
          "2017-01-02T00:00:00+00:00",
          "2017-01-03T00:00:00+00:00",
          "2017-01-04T00:00:00+00:00",
          "2017-01-05T00:00:00+00:00",
          "2017-01-06T00:00:00+00:00",
          "2017-01-09T00:00:00+00:00",
          "2017-01-10T00:00:00+00:00",
          "2017-01-11T00:00:00+00:00",
          "2017-01-12T00:00:00+00:00",
          "2017-01-13T00:00:00+00:00",
          "2017-01-16T00:00:00+00:00",
          "2017-01-17T00:00:00+00:00",
          "2017-01-18T00:00:00+00:00",
          "2017-01-19T00:00:00+00:00",
          "2017-01-20T00:00:00+00:00",
          "2017-01-23T00:00:00+00:00",
          "2017-01-24T00:00:00+00:00",
          "2017-01-25T00:00:00+00:00",
          "2017-01-26T00:00:00+00:00",
          "2017-01-27T00:00:00+00:00",
          "2017-01-30T00:00:00+00:00",
          "2017-01-31T00:00:00+00:00",
          "2017-02-01T00:00:00+00:00",
          "2017-02-02T00:00:00+00:00",
          "2017-02-03T00:00:00+00:00",
          "2017-02-06T00:00:00+00:00",
          "2017-02-07T00:00:00+00:00",
          "2017-02-08T00:00:00+00:00",
          "2017-02-09T00:00:00+00:00",
          "2017-02-10T00:00:00+00:00",
          "2017-02-13T00:00:00+00:00",
          "2017-02-14T00:00:00+00:00",
          "2017-02-15T00:00:00+00:00",
          "2017-02-16T00:00:00+00:00",
          "2017-02-17T00:00:00+00:00",
          "2017-02-20T00:00:00+00:00",
          "2017-02-21T00:00:00+00:00",
          "2017-02-22T00:00:00+00:00",
          "2017-02-23T00:00:00+00:00",
          "2017-02-24T00:00:00+00:00",
          "2017-02-27T00:00:00+00:00",
          "2017-02-28T00:00:00+00:00",
          "2017-03-01T00:00:00+00:00",
          "2017-03-02T00:00:00+00:00",
          "2017-03-03T00:00:00+00:00",
          "2017-03-06T00:00:00+00:00",
          "2017-03-07T00:00:00+00:00",
          "2017-03-08T00:00:00+00:00",
          "2017-03-09T00:00:00+00:00",
          "2017-03-10T00:00:00+00:00",
          "2017-03-13T00:00:00+00:00",
          "2017-03-14T00:00:00+00:00",
          "2017-03-15T00:00:00+00:00",
          "2017-03-16T00:00:00+00:00",
          "2017-03-17T00:00:00+00:00",
          "2017-03-20T00:00:00+00:00",
          "2017-03-21T00:00:00+00:00",
          "2017-03-22T00:00:00+00:00",
          "2017-03-23T00:00:00+00:00",
          "2017-03-24T00:00:00+00:00",
          "2017-03-27T00:00:00+00:00",
          "2017-03-28T00:00:00+00:00",
          "2017-03-29T00:00:00+00:00",
          "2017-03-30T00:00:00+00:00",
          "2017-03-31T00:00:00+00:00",
          "2017-04-03T00:00:00+00:00",
          "2017-04-04T00:00:00+00:00",
          "2017-04-05T00:00:00+00:00",
          "2017-04-06T00:00:00+00:00",
          "2017-04-07T00:00:00+00:00",
          "2017-04-10T00:00:00+00:00",
          "2017-04-11T00:00:00+00:00",
          "2017-04-12T00:00:00+00:00",
          "2017-04-13T00:00:00+00:00",
          "2017-04-14T00:00:00+00:00",
          "2017-04-17T00:00:00+00:00",
          "2017-04-18T00:00:00+00:00",
          "2017-04-19T00:00:00+00:00",
          "2017-04-20T00:00:00+00:00",
          "2017-04-21T00:00:00+00:00",
          "2017-04-24T00:00:00+00:00",
          "2017-04-25T00:00:00+00:00",
          "2017-04-26T00:00:00+00:00",
          "2017-04-27T00:00:00+00:00",
          "2017-04-28T00:00:00+00:00",
          "2017-05-01T00:00:00+00:00",
          "2017-05-02T00:00:00+00:00",
          "2017-05-03T00:00:00+00:00",
          "2017-05-04T00:00:00+00:00",
          "2017-05-05T00:00:00+00:00",
          "2017-05-08T00:00:00+00:00",
          "2017-05-09T00:00:00+00:00",
          "2017-05-10T00:00:00+00:00",
          "2017-05-11T00:00:00+00:00",
          "2017-05-12T00:00:00+00:00",
          "2017-05-15T00:00:00+00:00",
          "2017-05-16T00:00:00+00:00",
          "2017-05-17T00:00:00+00:00",
          "2017-05-18T00:00:00+00:00",
          "2017-05-19T00:00:00+00:00",
          "2017-05-22T00:00:00+00:00",
          "2017-05-23T00:00:00+00:00",
          "2017-05-24T00:00:00+00:00",
          "2017-05-25T00:00:00+00:00",
          "2017-05-26T00:00:00+00:00",
          "2017-05-29T00:00:00+00:00",
          "2017-05-30T00:00:00+00:00",
          "2017-05-31T00:00:00+00:00",
          "2017-06-01T00:00:00+00:00",
          "2017-06-02T00:00:00+00:00",
          "2017-06-05T00:00:00+00:00",
          "2017-06-06T00:00:00+00:00",
          "2017-06-07T00:00:00+00:00",
          "2017-06-08T00:00:00+00:00",
          "2017-06-09T00:00:00+00:00",
          "2017-06-12T00:00:00+00:00",
          "2017-06-13T00:00:00+00:00",
          "2017-06-14T00:00:00+00:00",
          "2017-06-15T00:00:00+00:00",
          "2017-06-16T00:00:00+00:00",
          "2017-06-19T00:00:00+00:00",
          "2017-06-20T00:00:00+00:00",
          "2017-06-21T00:00:00+00:00",
          "2017-06-22T00:00:00+00:00",
          "2017-06-23T00:00:00+00:00",
          "2017-06-26T00:00:00+00:00",
          "2017-06-27T00:00:00+00:00",
          "2017-06-28T00:00:00+00:00",
          "2017-06-29T00:00:00+00:00",
          "2017-06-30T00:00:00+00:00",
          "2017-07-03T00:00:00+00:00",
          "2017-07-04T00:00:00+00:00",
          "2017-07-05T00:00:00+00:00",
          "2017-07-06T00:00:00+00:00",
          "2017-07-07T00:00:00+00:00",
          "2017-07-10T00:00:00+00:00",
          "2017-07-11T00:00:00+00:00",
          "2017-07-12T00:00:00+00:00",
          "2017-07-13T00:00:00+00:00",
          "2017-07-14T00:00:00+00:00",
          "2017-07-17T00:00:00+00:00",
          "2017-07-18T00:00:00+00:00",
          "2017-07-19T00:00:00+00:00",
          "2017-07-20T00:00:00+00:00",
          "2017-07-21T00:00:00+00:00",
          "2017-07-24T00:00:00+00:00",
          "2017-07-25T00:00:00+00:00",
          "2017-07-26T00:00:00+00:00",
          "2017-07-27T00:00:00+00:00",
          "2017-07-28T00:00:00+00:00",
          "2017-07-31T00:00:00+00:00",
          "2017-08-01T00:00:00+00:00",
          "2017-08-02T00:00:00+00:00",
          "2017-08-03T00:00:00+00:00",
          "2017-08-04T00:00:00+00:00",
          "2017-08-07T00:00:00+00:00",
          "2017-08-08T00:00:00+00:00",
          "2017-08-09T00:00:00+00:00",
          "2017-08-10T00:00:00+00:00",
          "2017-08-11T00:00:00+00:00",
          "2017-08-14T00:00:00+00:00",
          "2017-08-15T00:00:00+00:00",
          "2017-08-16T00:00:00+00:00",
          "2017-08-17T00:00:00+00:00",
          "2017-08-18T00:00:00+00:00",
          "2017-08-21T00:00:00+00:00",
          "2017-08-22T00:00:00+00:00",
          "2017-08-23T00:00:00+00:00",
          "2017-08-24T00:00:00+00:00",
          "2017-08-25T00:00:00+00:00",
          "2017-08-28T00:00:00+00:00",
          "2017-08-29T00:00:00+00:00",
          "2017-08-30T00:00:00+00:00",
          "2017-08-31T00:00:00+00:00",
          "2017-09-01T00:00:00+00:00",
          "2017-09-04T00:00:00+00:00",
          "2017-09-05T00:00:00+00:00",
          "2017-09-06T00:00:00+00:00",
          "2017-09-07T00:00:00+00:00",
          "2017-09-08T00:00:00+00:00",
          "2017-09-11T00:00:00+00:00",
          "2017-09-12T00:00:00+00:00",
          "2017-09-13T00:00:00+00:00",
          "2017-09-14T00:00:00+00:00",
          "2017-09-15T00:00:00+00:00",
          "2017-09-18T00:00:00+00:00",
          "2017-09-19T00:00:00+00:00",
          "2017-09-20T00:00:00+00:00",
          "2017-09-21T00:00:00+00:00",
          "2017-09-22T00:00:00+00:00",
          "2017-09-25T00:00:00+00:00",
          "2017-09-26T00:00:00+00:00",
          "2017-09-27T00:00:00+00:00",
          "2017-09-28T00:00:00+00:00",
          "2017-09-29T00:00:00+00:00",
          "2017-10-02T00:00:00+00:00",
          "2017-10-03T00:00:00+00:00",
          "2017-10-04T00:00:00+00:00",
          "2017-10-05T00:00:00+00:00",
          "2017-10-06T00:00:00+00:00",
          "2017-10-09T00:00:00+00:00",
          "2017-10-10T00:00:00+00:00",
          "2017-10-11T00:00:00+00:00",
          "2017-10-12T00:00:00+00:00",
          "2017-10-13T00:00:00+00:00",
          "2017-10-16T00:00:00+00:00",
          "2017-10-17T00:00:00+00:00",
          "2017-10-18T00:00:00+00:00",
          "2017-10-19T00:00:00+00:00",
          "2017-10-20T00:00:00+00:00",
          "2017-10-23T00:00:00+00:00",
          "2017-10-24T00:00:00+00:00",
          "2017-10-25T00:00:00+00:00",
          "2017-10-26T00:00:00+00:00",
          "2017-10-27T00:00:00+00:00",
          "2017-10-30T00:00:00+00:00",
          "2017-10-31T00:00:00+00:00",
          "2017-11-01T00:00:00+00:00",
          "2017-11-02T00:00:00+00:00",
          "2017-11-03T00:00:00+00:00",
          "2017-11-06T00:00:00+00:00",
          "2017-11-07T00:00:00+00:00",
          "2017-11-08T00:00:00+00:00",
          "2017-11-09T00:00:00+00:00",
          "2017-11-10T00:00:00+00:00",
          "2017-11-13T00:00:00+00:00",
          "2017-11-14T00:00:00+00:00",
          "2017-11-15T00:00:00+00:00",
          "2017-11-16T00:00:00+00:00",
          "2017-11-17T00:00:00+00:00",
          "2017-11-20T00:00:00+00:00",
          "2017-11-21T00:00:00+00:00",
          "2017-11-22T00:00:00+00:00",
          "2017-11-23T00:00:00+00:00",
          "2017-11-24T00:00:00+00:00",
          "2017-11-27T00:00:00+00:00",
          "2017-11-28T00:00:00+00:00",
          "2017-11-29T00:00:00+00:00",
          "2017-11-30T00:00:00+00:00",
          "2017-12-01T00:00:00+00:00",
          "2017-12-04T00:00:00+00:00",
          "2017-12-05T00:00:00+00:00",
          "2017-12-06T00:00:00+00:00",
          "2017-12-07T00:00:00+00:00"
         ],
         "y": [
          2.245765756004652,
          2.245765756004652,
          2.245765756004652,
          4.847553113527009,
          6.718823209867136,
          19.647212720779493,
          19.647212720779493,
          19.647212720779493,
          19.647212720779493,
          9.090344898227919,
          -10.204916480180954,
          -10.204916480180954,
          -10.204916480180954,
          -8.898943139125437,
          -32.456165965765365,
          -49.15605645691104,
          -49.15605645691104,
          -49.15605645691104,
          -162.86876879903616,
          -67.74252432420522,
          87.56954419071799,
          87.56954419071799,
          87.56954419071799,
          46.65241642620988,
          -36.706317102611095,
          -17.705114632470544,
          -17.705114632470544,
          -17.705114632470544,
          -26.06117726077945,
          6.6132610529271805,
          1.4172280706232296,
          1.4172280706232296,
          1.4172280706232296,
          1.4172280706232296,
          0.8347396923455712,
          2.4607952529528605,
          2.4607952529528605,
          2.4607952529528605,
          -3.018551332930363,
          -2.6500428286715985,
          -2.2796816796256394,
          -2.2796816796256394,
          -2.2796816796256394,
          -3.7769637675143195,
          -3.7301611468040115,
          -5.970440508528778,
          -5.970440508528778,
          -5.970440508528778,
          -14.551156983159007,
          -22.53940098489545,
          -33.433224546842254,
          -33.433224546842254,
          -33.433224546842254,
          5.991124170276635,
          29.730199141817366,
          166.0011520565864,
          166.0011520565864,
          166.0011520565864,
          264.73735160752653,
          633.2103892878838,
          178.8318358073826,
          178.8318358073826,
          178.8318358073826,
          435.5703475597639,
          872.408958535148,
          595.8415365642581,
          595.8415365642581,
          595.8415365642581,
          850.4211525261491,
          231.62442392961293,
          231.62442392961293,
          231.62442392961293,
          231.62442392961293,
          279.5212743748859,
          -215.14756234538652,
          -520.5557327250467,
          -520.5557327250467,
          -520.5557327250467,
          -546.5323108053221,
          342.22276162668834,
          827.8564831647014,
          827.8564831647014,
          827.8564831647014,
          -1281.819015205959,
          -3212.883023314027,
          -9711.132597271015,
          -9711.132597271015,
          -9711.132597271015,
          3847.195061844782,
          2912.5641373030344,
          -1574.0570031478198,
          -1574.0570031478198,
          -1574.0570031478198,
          -91.39595950922069,
          -166.13419424972886,
          -52.18335280300558,
          -52.18335280300558,
          -52.18335280300558,
          -110.59552512315672,
          -1736.8349098816004,
          -542.9715339227679,
          -542.9715339227679,
          -542.9715339227679,
          -542.9715339227679,
          -623.7051838534381,
          -1383.2604314864184,
          -1383.2604314864184,
          -1383.2604314864184,
          -1833.8592821681204,
          -5999.907877125271,
          1962.3328838211826,
          1962.3328838211826,
          1962.3328838211826,
          2732.966802118819,
          462.86514216014126,
          -533.9014799109133,
          -533.9014799109133,
          -533.9014799109133,
          -252.87455572702785,
          -531.4695779306393,
          7.599964301047171,
          7.599964301047171,
          7.599964301047171,
          27.00596821692922,
          -37.94810883735193,
          -36.562146111872245,
          -36.562146111872245,
          -36.562146111872245,
          25.999250110942626,
          25.999250110942626,
          -44.19226922752651,
          -44.19226922752651,
          -44.19226922752651,
          -82.91910947942368,
          -63.21764285176704,
          85.25208467088011,
          85.25208467088011,
          85.25208467088011,
          117.34381632674743,
          121.41387662612199,
          -239.4165319829949,
          -239.4165319829949,
          -239.4165319829949,
          -270.64432974796347,
          -852.3404866513939,
          61.34781104656831,
          61.34781104656831,
          61.34781104656831,
          90.60724512242531,
          82.89384599322457,
          122.25201065720307,
          122.25201065720307,
          122.25201065720307,
          -200.6123761421308,
          -305.3932901619825,
          -600.6239599529762,
          -600.6239599529762,
          -600.6239599529762,
          -397.43752859120787,
          -286.42115921434083,
          -446.9162656828825,
          -446.9162656828825,
          -446.9162656828825,
          -1470.5814289797618,
          -1692.8440896988577,
          -922.6461495799499,
          -922.6461495799499,
          -922.6461495799499,
          242.938595621138,
          484.4672557307243,
          768.8161357550296,
          768.8161357550296,
          768.8161357550296,
          768.8161357550296,
          1546.6327174722494,
          -924.0309470259696,
          -924.0309470259696,
          -924.0309470259696,
          4966.882972962482,
          5539.201698717973,
          7770.40830346539,
          7770.40830346539,
          7770.40830346539,
          1708.05748157967,
          -833.1308011772426,
          -248.00802037972082,
          -248.00802037972082,
          -248.00802037972082,
          -16.23592248258998,
          -27.788941758841798,
          -5.317994814102081,
          -5.317994814102081,
          -5.317994814102081,
          -21.66589918531942,
          3.4810252566505815,
          3.757194341234996,
          3.757194341234996,
          3.757194341234996,
          39.596770656316416,
          117.12343896009953,
          -658.4066231661832,
          -658.4066231661832,
          -658.4066231661832,
          -1094.770097583509,
          -208.9819013659655,
          -65.47485246484933,
          -65.47485246484933,
          -65.47485246484933,
          -120.00318200144794,
          -646.7853768622383,
          -1470.247098558137,
          -1470.247098558137,
          -1470.247098558137,
          1542.5945469508117,
          993.1842887008338,
          7211.774961254716,
          7211.774961254716,
          7211.774961254716,
          7658.506049914383,
          28025.035707498057,
          -11653.551096479303,
          -11653.551096479303,
          -11653.551096479303,
          -8879.804090854652,
          -2028.3238061544669,
          -1449.6509261214173,
          -1449.6509261214173,
          -1449.6509261214173,
          2668.2057971274317,
          3106.0509123546562,
          -1613.5243301335329,
          -1613.5243301335329,
          -1613.5243301335329,
          1244.7555117619052,
          -1350.6427473242877,
          2122.7596098565323,
          2122.7596098565323,
          2122.7596098565323,
          3038.2753738834913,
          7156.847023868339,
          18892.634186606236,
          18892.634186606236,
          18892.634186606236,
          57612.14755167524,
          67767.8966799389,
          -9175.706979683142,
          -9175.706979683142,
          -9175.706979683142,
          2835.3343258219375,
          -366.3148427652801,
          -494.82184382656357,
          -494.82184382656357,
          -494.82184382656357,
          -494.82184382656357,
          -554.6452458976505,
          -1811.3067658308362,
          -1811.3067658308362,
          -1811.3067658308362,
          -1811.3067658308362,
          -1811.3067658308362,
          -560.9574061581616,
          -560.9574061581616,
          -560.9574061581616,
          -2160.234143705548,
          2704.2118632261186,
          3838.183695883331,
          3838.183695883331,
          3838.183695883331,
          3838.183695883331,
          3643.3569605334214,
          2500.208430229894,
          2500.208430229894,
          2500.208430229894,
          1644.4567558243716,
          1923.8232536695668,
          1923.8232536695668,
          1923.8232536695668,
          1923.8232536695668,
          1923.8232536695668,
          1923.8232536695668,
          1923.8232536695668,
          1923.8232536695668,
          1923.8232536695668,
          2364.2988935028134,
          2814.4186758594583,
          -2653.4158551362716,
          -2653.4158551362716,
          -2653.4158551362716,
          2926.3083193765938,
          5852.998324487928,
          12233.617209599652,
          12233.617209599652,
          12233.617209599652,
          12233.617209599652,
          -18843.751562648882,
          -38237.74774891936,
          -38237.74774891936,
          -38237.74774891936,
          -12789.703755262206,
          38918.330060664775,
          -8037.682920330353,
          -8037.682920330353,
          -8037.682920330353,
          5552.568122217812,
          4120.531946964502,
          -8383.97127343672,
          -8383.97127343672,
          -8383.97127343672,
          -13001.466349291175,
          -9009.789434510132,
          -11707.23295405433,
          -11707.23295405433,
          -11707.23295405433,
          -33646.39137446997,
          -31733.718102718907,
          -13021.236225713414,
          -13021.236225713414,
          -13021.236225713414,
          -7496.643951622518,
          -176870.5087436062,
          -482526.7969438248,
          -482526.7969438248,
          -482526.7969438248,
          -972913.260478842,
          -1900184.0191188618,
          -1900184.0191188618,
          -1900184.0191188618,
          -1900184.0191188618,
          405617.92294351675,
          364611.4112763114,
          377679.23272624135,
          377679.23272624135,
          377679.23272624135,
          370983.7629822224,
          386412.4522250551,
          -573320.0186682945,
          -573320.0186682945,
          -573320.0186682945,
          -624651.5427114776,
          -1974704.5641579905,
          -2873793.5896695703,
          -2873793.5896695703,
          -2873793.5896695703,
          -4411752.102047201,
          -13017734.253147047,
          -22244257.51678921,
          -22244257.51678921,
          -22244257.51678921,
          -4972909.551992163,
          -9529286.369646657,
          20187379.1784411,
          20187379.1784411,
          20187379.1784411,
          43653233.93223213,
          111841756.7734046,
          109254693.91068242,
          109254693.91068242,
          109254693.91068242,
          -111068829.14780696,
          -152904482.10418788,
          -14780465.734117543,
          -14780465.734117543,
          -14780465.734117543,
          -14780465.734117543,
          -35571099.62041499,
          10773983.252034508,
          10773983.252034508,
          10773983.252034508,
          3023735.7491698177,
          -313057.21160707105,
          414666.84104529506,
          414666.84104529506,
          414666.84104529506,
          -222139.12797925607,
          391962.4463344226,
          -185658.5387419342,
          -185658.5387419342,
          -185658.5387419342,
          -175345.1602659415,
          447017.18570242875,
          413473.8463480963,
          413473.8463480963,
          413473.8463480963,
          383913.4436231533,
          877451.1286455654,
          462320.20466864906,
          462320.20466864906,
          462320.20466864906,
          315627.8421765558,
          -747606.037277909,
          -2688545.7138618533,
          -2688545.7138618533,
          -2688545.7138618533,
          -9452414.875375817,
          10490273.42224615,
          -670437.3627493726,
          -670437.3627493726,
          -670437.3627493726,
          -72619.63812552817,
          38574.095238641414,
          122083.8840273237,
          122083.8840273237,
          122083.8840273237,
          179329.93442848165,
          -146341.73057425834,
          -162777.68764111403,
          -162777.68764111403,
          -162777.68764111403,
          -324527.48855840525,
          -53173.53565823228,
          -53192.12711289943,
          -53192.12711289943,
          -53192.12711289943,
          -191144.36128073843,
          -354421.5914608503,
          -821758.9899644301,
          -821758.9899644301,
          -821758.9899644301,
          -1608.8289481185848,
          -2968.163140261017,
          -2569.1473690460466,
          -2569.1473690460466,
          -2569.1473690460466,
          -4081.1453700124466,
          -1057.54269474057,
          2346.5648455981345,
          2346.5648455981345,
          2346.5648455981345,
          -7322.15211092867,
          -4767.9766885946,
          7471.268668154215,
          7471.268668154215,
          7471.268668154215,
          7471.268668154215,
          6012.3639144158415,
          8189.902393830531,
          8189.902393830531,
          8189.902393830531,
          -6517.644451634845,
          1601.6519939629352,
          1989.9728427331556,
          1989.9728427331556,
          1989.9728427331556,
          2592.05815991387,
          1262.9444796802238,
          1221.5041103665171,
          1221.5041103665171,
          1221.5041103665171,
          -723.3594653691141,
          -2049.2620892326404,
          2676.6122800369126,
          2676.6122800369126,
          2676.6122800369126,
          -2159.1054342722678,
          -6093.305980408117,
          6856.249649308467,
          6856.249649308467,
          6856.249649308467,
          4910.311183584124,
          5510.166850111797,
          5387.302507905212,
          5387.302507905212,
          5387.302507905212,
          2899.495620692341,
          7805.268125714955,
          14604.025559978396,
          14604.025559978396,
          14604.025559978396,
          22788.372230018475,
          -4470.9930133036705,
          -12024.431908724351,
          -12024.431908724351,
          -12024.431908724351,
          -42801.795972291555,
          -79818.01568181255,
          210520.50078686813,
          210520.50078686813,
          210520.50078686813,
          225436.40628287283,
          455339.4719722864,
          622067.6413381585,
          622067.6413381585,
          622067.6413381585,
          1720339.8646964193,
          4397923.71413787,
          5474784.26307593,
          5474784.26307593,
          5474784.26307593,
          -2622043.4653657544,
          -1731847.956000555,
          -2003856.9669011927,
          -2003856.9669011927,
          -2003856.9669011927,
          -2540912.883225849,
          -5432177.498657635,
          -237519.08450032907,
          -237519.08450032907,
          -237519.08450032907,
          -251328.2099361433,
          -1018949.5946320693,
          1992408.874687137,
          1992408.874687137,
          1992408.874687137,
          6070477.109147596
         ]
        }
       ],
       "layout": {
        "legend": {
         "bgcolor": "LightSteelBlue",
         "bordercolor": "blue",
         "borderwidth": 1,
         "font": {
          "color": "black",
          "family": "SimHei",
          "size": 12
         },
         "title": {
          "font": {
           "family": "SimHei"
          }
         },
         "traceorder": "reversed",
         "x": 0,
         "y": 1
        },
        "template": {
         "data": {
          "bar": [
           {
            "error_x": {
             "color": "#2a3f5f"
            },
            "error_y": {
             "color": "#2a3f5f"
            },
            "marker": {
             "line": {
              "color": "#E5ECF6",
              "width": 0.5
             }
            },
            "type": "bar"
           }
          ],
          "barpolar": [
           {
            "marker": {
             "line": {
              "color": "#E5ECF6",
              "width": 0.5
             }
            },
            "type": "barpolar"
           }
          ],
          "carpet": [
           {
            "aaxis": {
             "endlinecolor": "#2a3f5f",
             "gridcolor": "white",
             "linecolor": "white",
             "minorgridcolor": "white",
             "startlinecolor": "#2a3f5f"
            },
            "baxis": {
             "endlinecolor": "#2a3f5f",
             "gridcolor": "white",
             "linecolor": "white",
             "minorgridcolor": "white",
             "startlinecolor": "#2a3f5f"
            },
            "type": "carpet"
           }
          ],
          "choropleth": [
           {
            "colorbar": {
             "outlinewidth": 0,
             "ticks": ""
            },
            "type": "choropleth"
           }
          ],
          "contour": [
           {
            "colorbar": {
             "outlinewidth": 0,
             "ticks": ""
            },
            "colorscale": [
             [
              0,
              "#0d0887"
             ],
             [
              0.1111111111111111,
              "#46039f"
             ],
             [
              0.2222222222222222,
              "#7201a8"
             ],
             [
              0.3333333333333333,
              "#9c179e"
             ],
             [
              0.4444444444444444,
              "#bd3786"
             ],
             [
              0.5555555555555556,
              "#d8576b"
             ],
             [
              0.6666666666666666,
              "#ed7953"
             ],
             [
              0.7777777777777778,
              "#fb9f3a"
             ],
             [
              0.8888888888888888,
              "#fdca26"
             ],
             [
              1,
              "#f0f921"
             ]
            ],
            "type": "contour"
           }
          ],
          "contourcarpet": [
           {
            "colorbar": {
             "outlinewidth": 0,
             "ticks": ""
            },
            "type": "contourcarpet"
           }
          ],
          "heatmap": [
           {
            "colorbar": {
             "outlinewidth": 0,
             "ticks": ""
            },
            "colorscale": [
             [
              0,
              "#0d0887"
             ],
             [
              0.1111111111111111,
              "#46039f"
             ],
             [
              0.2222222222222222,
              "#7201a8"
             ],
             [
              0.3333333333333333,
              "#9c179e"
             ],
             [
              0.4444444444444444,
              "#bd3786"
             ],
             [
              0.5555555555555556,
              "#d8576b"
             ],
             [
              0.6666666666666666,
              "#ed7953"
             ],
             [
              0.7777777777777778,
              "#fb9f3a"
             ],
             [
              0.8888888888888888,
              "#fdca26"
             ],
             [
              1,
              "#f0f921"
             ]
            ],
            "type": "heatmap"
           }
          ],
          "heatmapgl": [
           {
            "colorbar": {
             "outlinewidth": 0,
             "ticks": ""
            },
            "colorscale": [
             [
              0,
              "#0d0887"
             ],
             [
              0.1111111111111111,
              "#46039f"
             ],
             [
              0.2222222222222222,
              "#7201a8"
             ],
             [
              0.3333333333333333,
              "#9c179e"
             ],
             [
              0.4444444444444444,
              "#bd3786"
             ],
             [
              0.5555555555555556,
              "#d8576b"
             ],
             [
              0.6666666666666666,
              "#ed7953"
             ],
             [
              0.7777777777777778,
              "#fb9f3a"
             ],
             [
              0.8888888888888888,
              "#fdca26"
             ],
             [
              1,
              "#f0f921"
             ]
            ],
            "type": "heatmapgl"
           }
          ],
          "histogram": [
           {
            "marker": {
             "colorbar": {
              "outlinewidth": 0,
              "ticks": ""
             }
            },
            "type": "histogram"
           }
          ],
          "histogram2d": [
           {
            "colorbar": {
             "outlinewidth": 0,
             "ticks": ""
            },
            "colorscale": [
             [
              0,
              "#0d0887"
             ],
             [
              0.1111111111111111,
              "#46039f"
             ],
             [
              0.2222222222222222,
              "#7201a8"
             ],
             [
              0.3333333333333333,
              "#9c179e"
             ],
             [
              0.4444444444444444,
              "#bd3786"
             ],
             [
              0.5555555555555556,
              "#d8576b"
             ],
             [
              0.6666666666666666,
              "#ed7953"
             ],
             [
              0.7777777777777778,
              "#fb9f3a"
             ],
             [
              0.8888888888888888,
              "#fdca26"
             ],
             [
              1,
              "#f0f921"
             ]
            ],
            "type": "histogram2d"
           }
          ],
          "histogram2dcontour": [
           {
            "colorbar": {
             "outlinewidth": 0,
             "ticks": ""
            },
            "colorscale": [
             [
              0,
              "#0d0887"
             ],
             [
              0.1111111111111111,
              "#46039f"
             ],
             [
              0.2222222222222222,
              "#7201a8"
             ],
             [
              0.3333333333333333,
              "#9c179e"
             ],
             [
              0.4444444444444444,
              "#bd3786"
             ],
             [
              0.5555555555555556,
              "#d8576b"
             ],
             [
              0.6666666666666666,
              "#ed7953"
             ],
             [
              0.7777777777777778,
              "#fb9f3a"
             ],
             [
              0.8888888888888888,
              "#fdca26"
             ],
             [
              1,
              "#f0f921"
             ]
            ],
            "type": "histogram2dcontour"
           }
          ],
          "mesh3d": [
           {
            "colorbar": {
             "outlinewidth": 0,
             "ticks": ""
            },
            "type": "mesh3d"
           }
          ],
          "parcoords": [
           {
            "line": {
             "colorbar": {
              "outlinewidth": 0,
              "ticks": ""
             }
            },
            "type": "parcoords"
           }
          ],
          "pie": [
           {
            "automargin": true,
            "type": "pie"
           }
          ],
          "scatter": [
           {
            "marker": {
             "colorbar": {
              "outlinewidth": 0,
              "ticks": ""
             }
            },
            "type": "scatter"
           }
          ],
          "scatter3d": [
           {
            "line": {
             "colorbar": {
              "outlinewidth": 0,
              "ticks": ""
             }
            },
            "marker": {
             "colorbar": {
              "outlinewidth": 0,
              "ticks": ""
             }
            },
            "type": "scatter3d"
           }
          ],
          "scattercarpet": [
           {
            "marker": {
             "colorbar": {
              "outlinewidth": 0,
              "ticks": ""
             }
            },
            "type": "scattercarpet"
           }
          ],
          "scattergeo": [
           {
            "marker": {
             "colorbar": {
              "outlinewidth": 0,
              "ticks": ""
             }
            },
            "type": "scattergeo"
           }
          ],
          "scattergl": [
           {
            "marker": {
             "colorbar": {
              "outlinewidth": 0,
              "ticks": ""
             }
            },
            "type": "scattergl"
           }
          ],
          "scattermapbox": [
           {
            "marker": {
             "colorbar": {
              "outlinewidth": 0,
              "ticks": ""
             }
            },
            "type": "scattermapbox"
           }
          ],
          "scatterpolar": [
           {
            "marker": {
             "colorbar": {
              "outlinewidth": 0,
              "ticks": ""
             }
            },
            "type": "scatterpolar"
           }
          ],
          "scatterpolargl": [
           {
            "marker": {
             "colorbar": {
              "outlinewidth": 0,
              "ticks": ""
             }
            },
            "type": "scatterpolargl"
           }
          ],
          "scatterternary": [
           {
            "marker": {
             "colorbar": {
              "outlinewidth": 0,
              "ticks": ""
             }
            },
            "type": "scatterternary"
           }
          ],
          "surface": [
           {
            "colorbar": {
             "outlinewidth": 0,
             "ticks": ""
            },
            "colorscale": [
             [
              0,
              "#0d0887"
             ],
             [
              0.1111111111111111,
              "#46039f"
             ],
             [
              0.2222222222222222,
              "#7201a8"
             ],
             [
              0.3333333333333333,
              "#9c179e"
             ],
             [
              0.4444444444444444,
              "#bd3786"
             ],
             [
              0.5555555555555556,
              "#d8576b"
             ],
             [
              0.6666666666666666,
              "#ed7953"
             ],
             [
              0.7777777777777778,
              "#fb9f3a"
             ],
             [
              0.8888888888888888,
              "#fdca26"
             ],
             [
              1,
              "#f0f921"
             ]
            ],
            "type": "surface"
           }
          ],
          "table": [
           {
            "cells": {
             "fill": {
              "color": "#EBF0F8"
             },
             "line": {
              "color": "white"
             }
            },
            "header": {
             "fill": {
              "color": "#C8D4E3"
             },
             "line": {
              "color": "white"
             }
            },
            "type": "table"
           }
          ]
         },
         "layout": {
          "annotationdefaults": {
           "arrowcolor": "#2a3f5f",
           "arrowhead": 0,
           "arrowwidth": 1
          },
          "coloraxis": {
           "colorbar": {
            "outlinewidth": 0,
            "ticks": ""
           }
          },
          "colorscale": {
           "diverging": [
            [
             0,
             "#8e0152"
            ],
            [
             0.1,
             "#c51b7d"
            ],
            [
             0.2,
             "#de77ae"
            ],
            [
             0.3,
             "#f1b6da"
            ],
            [
             0.4,
             "#fde0ef"
            ],
            [
             0.5,
             "#f7f7f7"
            ],
            [
             0.6,
             "#e6f5d0"
            ],
            [
             0.7,
             "#b8e186"
            ],
            [
             0.8,
             "#7fbc41"
            ],
            [
             0.9,
             "#4d9221"
            ],
            [
             1,
             "#276419"
            ]
           ],
           "sequential": [
            [
             0,
             "#0d0887"
            ],
            [
             0.1111111111111111,
             "#46039f"
            ],
            [
             0.2222222222222222,
             "#7201a8"
            ],
            [
             0.3333333333333333,
             "#9c179e"
            ],
            [
             0.4444444444444444,
             "#bd3786"
            ],
            [
             0.5555555555555556,
             "#d8576b"
            ],
            [
             0.6666666666666666,
             "#ed7953"
            ],
            [
             0.7777777777777778,
             "#fb9f3a"
            ],
            [
             0.8888888888888888,
             "#fdca26"
            ],
            [
             1,
             "#f0f921"
            ]
           ],
           "sequentialminus": [
            [
             0,
             "#0d0887"
            ],
            [
             0.1111111111111111,
             "#46039f"
            ],
            [
             0.2222222222222222,
             "#7201a8"
            ],
            [
             0.3333333333333333,
             "#9c179e"
            ],
            [
             0.4444444444444444,
             "#bd3786"
            ],
            [
             0.5555555555555556,
             "#d8576b"
            ],
            [
             0.6666666666666666,
             "#ed7953"
            ],
            [
             0.7777777777777778,
             "#fb9f3a"
            ],
            [
             0.8888888888888888,
             "#fdca26"
            ],
            [
             1,
             "#f0f921"
            ]
           ]
          },
          "colorway": [
           "#636efa",
           "#EF553B",
           "#00cc96",
           "#ab63fa",
           "#FFA15A",
           "#19d3f3",
           "#FF6692",
           "#B6E880",
           "#FF97FF",
           "#FECB52"
          ],
          "font": {
           "color": "#2a3f5f"
          },
          "geo": {
           "bgcolor": "white",
           "lakecolor": "white",
           "landcolor": "#E5ECF6",
           "showlakes": true,
           "showland": true,
           "subunitcolor": "white"
          },
          "hoverlabel": {
           "align": "left"
          },
          "hovermode": "closest",
          "mapbox": {
           "style": "light"
          },
          "paper_bgcolor": "white",
          "plot_bgcolor": "#E5ECF6",
          "polar": {
           "angularaxis": {
            "gridcolor": "white",
            "linecolor": "white",
            "ticks": ""
           },
           "bgcolor": "#E5ECF6",
           "radialaxis": {
            "gridcolor": "white",
            "linecolor": "white",
            "ticks": ""
           }
          },
          "scene": {
           "xaxis": {
            "backgroundcolor": "#E5ECF6",
            "gridcolor": "white",
            "gridwidth": 2,
            "linecolor": "white",
            "showbackground": true,
            "ticks": "",
            "zerolinecolor": "white"
           },
           "yaxis": {
            "backgroundcolor": "#E5ECF6",
            "gridcolor": "white",
            "gridwidth": 2,
            "linecolor": "white",
            "showbackground": true,
            "ticks": "",
            "zerolinecolor": "white"
           },
           "zaxis": {
            "backgroundcolor": "#E5ECF6",
            "gridcolor": "white",
            "gridwidth": 2,
            "linecolor": "white",
            "showbackground": true,
            "ticks": "",
            "zerolinecolor": "white"
           }
          },
          "shapedefaults": {
           "line": {
            "color": "#2a3f5f"
           }
          },
          "ternary": {
           "aaxis": {
            "gridcolor": "white",
            "linecolor": "white",
            "ticks": ""
           },
           "baxis": {
            "gridcolor": "white",
            "linecolor": "white",
            "ticks": ""
           },
           "bgcolor": "#E5ECF6",
           "caxis": {
            "gridcolor": "white",
            "linecolor": "white",
            "ticks": ""
           }
          },
          "title": {
           "x": 0.05
          },
          "xaxis": {
           "automargin": true,
           "gridcolor": "white",
           "linecolor": "white",
           "ticks": "",
           "title": {
            "standoff": 15
           },
           "zerolinecolor": "white",
           "zerolinewidth": 2
          },
          "yaxis": {
           "automargin": true,
           "gridcolor": "white",
           "linecolor": "white",
           "ticks": "",
           "title": {
            "standoff": 15
           },
           "zerolinecolor": "white",
           "zerolinewidth": 2
          }
         }
        },
        "title": {
         "text": "累积收益率时间序列"
        },
        "xaxis": {
         "anchor": "y",
         "domain": [
          0,
          1
         ],
         "tickangle": 30,
         "tickformat": "%m月%d日<br>%Y年"
        },
        "yaxis": {
         "anchor": "x",
         "domain": [
          0,
          1
         ],
         "title": {
          "text": "收益率"
         }
        }
       }
      },
      "text/html": [
       "<div>\n",
       "        \n",
       "        \n",
       "            <div id=\"9bb710e1-a601-4637-be8d-73a2d81766f7\" class=\"plotly-graph-div\" style=\"height:525px; width:100%;\"></div>\n",
       "            <script type=\"text/javascript\">\n",
       "                require([\"plotly\"], function(Plotly) {\n",
       "                    window.PLOTLYENV=window.PLOTLYENV || {};\n",
       "                    \n",
       "                if (document.getElementById(\"9bb710e1-a601-4637-be8d-73a2d81766f7\")) {\n",
       "                    Plotly.newPlot(\n",
       "                        '9bb710e1-a601-4637-be8d-73a2d81766f7',\n",
       "                        [{\"line\": {\"color\": \"blue\"}, \"mode\": \"lines\", \"name\": \"\\u603b\\u6536\\u76ca\\u7387\", \"type\": \"scatter\", \"x\": [\"2016-01-04T00:00:00+00:00\", \"2016-01-05T00:00:00+00:00\", \"2016-01-06T00:00:00+00:00\", \"2016-01-07T00:00:00+00:00\", \"2016-01-08T00:00:00+00:00\", \"2016-01-11T00:00:00+00:00\", \"2016-01-12T00:00:00+00:00\", \"2016-01-13T00:00:00+00:00\", \"2016-01-14T00:00:00+00:00\", \"2016-01-15T00:00:00+00:00\", \"2016-01-18T00:00:00+00:00\", \"2016-01-19T00:00:00+00:00\", \"2016-01-20T00:00:00+00:00\", \"2016-01-21T00:00:00+00:00\", \"2016-01-22T00:00:00+00:00\", \"2016-01-25T00:00:00+00:00\", \"2016-01-26T00:00:00+00:00\", \"2016-01-27T00:00:00+00:00\", \"2016-01-28T00:00:00+00:00\", \"2016-01-29T00:00:00+00:00\", \"2016-02-01T00:00:00+00:00\", \"2016-02-02T00:00:00+00:00\", \"2016-02-03T00:00:00+00:00\", \"2016-02-04T00:00:00+00:00\", \"2016-02-05T00:00:00+00:00\", \"2016-02-08T00:00:00+00:00\", \"2016-02-09T00:00:00+00:00\", \"2016-02-10T00:00:00+00:00\", \"2016-02-11T00:00:00+00:00\", \"2016-02-12T00:00:00+00:00\", \"2016-02-15T00:00:00+00:00\", \"2016-02-16T00:00:00+00:00\", \"2016-02-17T00:00:00+00:00\", \"2016-02-18T00:00:00+00:00\", \"2016-02-19T00:00:00+00:00\", \"2016-02-22T00:00:00+00:00\", \"2016-02-23T00:00:00+00:00\", \"2016-02-24T00:00:00+00:00\", \"2016-02-25T00:00:00+00:00\", \"2016-02-26T00:00:00+00:00\", \"2016-02-29T00:00:00+00:00\", \"2016-03-01T00:00:00+00:00\", \"2016-03-02T00:00:00+00:00\", \"2016-03-03T00:00:00+00:00\", \"2016-03-04T00:00:00+00:00\", \"2016-03-07T00:00:00+00:00\", \"2016-03-08T00:00:00+00:00\", \"2016-03-09T00:00:00+00:00\", \"2016-03-10T00:00:00+00:00\", \"2016-03-11T00:00:00+00:00\", \"2016-03-14T00:00:00+00:00\", \"2016-03-15T00:00:00+00:00\", \"2016-03-16T00:00:00+00:00\", \"2016-03-17T00:00:00+00:00\", \"2016-03-18T00:00:00+00:00\", \"2016-03-21T00:00:00+00:00\", \"2016-03-22T00:00:00+00:00\", \"2016-03-23T00:00:00+00:00\", \"2016-03-24T00:00:00+00:00\", \"2016-03-25T00:00:00+00:00\", \"2016-03-28T00:00:00+00:00\", \"2016-03-29T00:00:00+00:00\", \"2016-03-30T00:00:00+00:00\", \"2016-03-31T00:00:00+00:00\", \"2016-04-01T00:00:00+00:00\", \"2016-04-04T00:00:00+00:00\", \"2016-04-05T00:00:00+00:00\", \"2016-04-06T00:00:00+00:00\", \"2016-04-07T00:00:00+00:00\", \"2016-04-08T00:00:00+00:00\", \"2016-04-11T00:00:00+00:00\", \"2016-04-12T00:00:00+00:00\", \"2016-04-13T00:00:00+00:00\", \"2016-04-14T00:00:00+00:00\", \"2016-04-15T00:00:00+00:00\", \"2016-04-18T00:00:00+00:00\", \"2016-04-19T00:00:00+00:00\", \"2016-04-20T00:00:00+00:00\", \"2016-04-21T00:00:00+00:00\", \"2016-04-22T00:00:00+00:00\", \"2016-04-25T00:00:00+00:00\", \"2016-04-26T00:00:00+00:00\", \"2016-04-27T00:00:00+00:00\", \"2016-04-28T00:00:00+00:00\", \"2016-04-29T00:00:00+00:00\", \"2016-05-02T00:00:00+00:00\", \"2016-05-03T00:00:00+00:00\", \"2016-05-04T00:00:00+00:00\", \"2016-05-05T00:00:00+00:00\", \"2016-05-06T00:00:00+00:00\", \"2016-05-09T00:00:00+00:00\", \"2016-05-10T00:00:00+00:00\", \"2016-05-11T00:00:00+00:00\", \"2016-05-12T00:00:00+00:00\", \"2016-05-13T00:00:00+00:00\", \"2016-05-16T00:00:00+00:00\", \"2016-05-17T00:00:00+00:00\", \"2016-05-18T00:00:00+00:00\", \"2016-05-19T00:00:00+00:00\", \"2016-05-20T00:00:00+00:00\", \"2016-05-23T00:00:00+00:00\", \"2016-05-24T00:00:00+00:00\", \"2016-05-25T00:00:00+00:00\", \"2016-05-26T00:00:00+00:00\", \"2016-05-27T00:00:00+00:00\", \"2016-05-30T00:00:00+00:00\", \"2016-05-31T00:00:00+00:00\", \"2016-06-01T00:00:00+00:00\", \"2016-06-02T00:00:00+00:00\", \"2016-06-03T00:00:00+00:00\", \"2016-06-06T00:00:00+00:00\", \"2016-06-07T00:00:00+00:00\", \"2016-06-08T00:00:00+00:00\", \"2016-06-09T00:00:00+00:00\", \"2016-06-10T00:00:00+00:00\", \"2016-06-13T00:00:00+00:00\", \"2016-06-14T00:00:00+00:00\", \"2016-06-15T00:00:00+00:00\", \"2016-06-16T00:00:00+00:00\", \"2016-06-17T00:00:00+00:00\", \"2016-06-20T00:00:00+00:00\", \"2016-06-21T00:00:00+00:00\", \"2016-06-22T00:00:00+00:00\", \"2016-06-23T00:00:00+00:00\", \"2016-06-24T00:00:00+00:00\", \"2016-06-27T00:00:00+00:00\", \"2016-06-28T00:00:00+00:00\", \"2016-06-29T00:00:00+00:00\", \"2016-06-30T00:00:00+00:00\", \"2016-07-01T00:00:00+00:00\", \"2016-07-04T00:00:00+00:00\", \"2016-07-05T00:00:00+00:00\", \"2016-07-06T00:00:00+00:00\", \"2016-07-07T00:00:00+00:00\", \"2016-07-08T00:00:00+00:00\", \"2016-07-11T00:00:00+00:00\", \"2016-07-12T00:00:00+00:00\", \"2016-07-13T00:00:00+00:00\", \"2016-07-14T00:00:00+00:00\", \"2016-07-15T00:00:00+00:00\", \"2016-07-18T00:00:00+00:00\", \"2016-07-19T00:00:00+00:00\", \"2016-07-20T00:00:00+00:00\", \"2016-07-21T00:00:00+00:00\", \"2016-07-22T00:00:00+00:00\", \"2016-07-25T00:00:00+00:00\", \"2016-07-26T00:00:00+00:00\", \"2016-07-27T00:00:00+00:00\", \"2016-07-28T00:00:00+00:00\", \"2016-07-29T00:00:00+00:00\", \"2016-08-01T00:00:00+00:00\", \"2016-08-02T00:00:00+00:00\", \"2016-08-03T00:00:00+00:00\", \"2016-08-04T00:00:00+00:00\", \"2016-08-05T00:00:00+00:00\", \"2016-08-08T00:00:00+00:00\", \"2016-08-09T00:00:00+00:00\", \"2016-08-10T00:00:00+00:00\", \"2016-08-11T00:00:00+00:00\", \"2016-08-12T00:00:00+00:00\", \"2016-08-15T00:00:00+00:00\", \"2016-08-16T00:00:00+00:00\", \"2016-08-17T00:00:00+00:00\", \"2016-08-18T00:00:00+00:00\", \"2016-08-19T00:00:00+00:00\", \"2016-08-22T00:00:00+00:00\", \"2016-08-23T00:00:00+00:00\", \"2016-08-24T00:00:00+00:00\", \"2016-08-25T00:00:00+00:00\", \"2016-08-26T00:00:00+00:00\", \"2016-08-29T00:00:00+00:00\", \"2016-08-30T00:00:00+00:00\", \"2016-08-31T00:00:00+00:00\", \"2016-09-01T00:00:00+00:00\", \"2016-09-02T00:00:00+00:00\", \"2016-09-05T00:00:00+00:00\", \"2016-09-06T00:00:00+00:00\", \"2016-09-07T00:00:00+00:00\", \"2016-09-08T00:00:00+00:00\", \"2016-09-09T00:00:00+00:00\", \"2016-09-12T00:00:00+00:00\", \"2016-09-13T00:00:00+00:00\", \"2016-09-14T00:00:00+00:00\", \"2016-09-15T00:00:00+00:00\", \"2016-09-16T00:00:00+00:00\", \"2016-09-19T00:00:00+00:00\", \"2016-09-20T00:00:00+00:00\", \"2016-09-21T00:00:00+00:00\", \"2016-09-22T00:00:00+00:00\", \"2016-09-23T00:00:00+00:00\", \"2016-09-26T00:00:00+00:00\", \"2016-09-27T00:00:00+00:00\", \"2016-09-28T00:00:00+00:00\", \"2016-09-29T00:00:00+00:00\", \"2016-09-30T00:00:00+00:00\", \"2016-10-03T00:00:00+00:00\", \"2016-10-04T00:00:00+00:00\", \"2016-10-05T00:00:00+00:00\", \"2016-10-06T00:00:00+00:00\", \"2016-10-07T00:00:00+00:00\", \"2016-10-10T00:00:00+00:00\", \"2016-10-11T00:00:00+00:00\", \"2016-10-12T00:00:00+00:00\", \"2016-10-13T00:00:00+00:00\", \"2016-10-14T00:00:00+00:00\", \"2016-10-17T00:00:00+00:00\", \"2016-10-18T00:00:00+00:00\", \"2016-10-19T00:00:00+00:00\", \"2016-10-20T00:00:00+00:00\", \"2016-10-21T00:00:00+00:00\", \"2016-10-24T00:00:00+00:00\", \"2016-10-25T00:00:00+00:00\", \"2016-10-26T00:00:00+00:00\", \"2016-10-27T00:00:00+00:00\", \"2016-10-28T00:00:00+00:00\", \"2016-10-31T00:00:00+00:00\", \"2016-11-01T00:00:00+00:00\", \"2016-11-02T00:00:00+00:00\", \"2016-11-03T00:00:00+00:00\", \"2016-11-04T00:00:00+00:00\", \"2016-11-07T00:00:00+00:00\", \"2016-11-08T00:00:00+00:00\", \"2016-11-09T00:00:00+00:00\", \"2016-11-10T00:00:00+00:00\", \"2016-11-11T00:00:00+00:00\", \"2016-11-14T00:00:00+00:00\", \"2016-11-15T00:00:00+00:00\", \"2016-11-16T00:00:00+00:00\", \"2016-11-17T00:00:00+00:00\", \"2016-11-18T00:00:00+00:00\", \"2016-11-21T00:00:00+00:00\", \"2016-11-22T00:00:00+00:00\", \"2016-11-23T00:00:00+00:00\", \"2016-11-24T00:00:00+00:00\", \"2016-11-25T00:00:00+00:00\", \"2016-11-28T00:00:00+00:00\", \"2016-11-29T00:00:00+00:00\", \"2016-11-30T00:00:00+00:00\", \"2016-12-01T00:00:00+00:00\", \"2016-12-02T00:00:00+00:00\", \"2016-12-05T00:00:00+00:00\", \"2016-12-06T00:00:00+00:00\", \"2016-12-07T00:00:00+00:00\", \"2016-12-08T00:00:00+00:00\", \"2016-12-09T00:00:00+00:00\", \"2016-12-12T00:00:00+00:00\", \"2016-12-13T00:00:00+00:00\", \"2016-12-14T00:00:00+00:00\", \"2016-12-15T00:00:00+00:00\", \"2016-12-16T00:00:00+00:00\", \"2016-12-19T00:00:00+00:00\", \"2016-12-20T00:00:00+00:00\", \"2016-12-21T00:00:00+00:00\", \"2016-12-22T00:00:00+00:00\", \"2016-12-23T00:00:00+00:00\", \"2016-12-26T00:00:00+00:00\", \"2016-12-27T00:00:00+00:00\", \"2016-12-28T00:00:00+00:00\", \"2016-12-29T00:00:00+00:00\", \"2016-12-30T00:00:00+00:00\", \"2017-01-02T00:00:00+00:00\", \"2017-01-03T00:00:00+00:00\", \"2017-01-04T00:00:00+00:00\", \"2017-01-05T00:00:00+00:00\", \"2017-01-06T00:00:00+00:00\", \"2017-01-09T00:00:00+00:00\", \"2017-01-10T00:00:00+00:00\", \"2017-01-11T00:00:00+00:00\", \"2017-01-12T00:00:00+00:00\", \"2017-01-13T00:00:00+00:00\", \"2017-01-16T00:00:00+00:00\", \"2017-01-17T00:00:00+00:00\", \"2017-01-18T00:00:00+00:00\", \"2017-01-19T00:00:00+00:00\", \"2017-01-20T00:00:00+00:00\", \"2017-01-23T00:00:00+00:00\", \"2017-01-24T00:00:00+00:00\", \"2017-01-25T00:00:00+00:00\", \"2017-01-26T00:00:00+00:00\", \"2017-01-27T00:00:00+00:00\", \"2017-01-30T00:00:00+00:00\", \"2017-01-31T00:00:00+00:00\", \"2017-02-01T00:00:00+00:00\", \"2017-02-02T00:00:00+00:00\", \"2017-02-03T00:00:00+00:00\", \"2017-02-06T00:00:00+00:00\", \"2017-02-07T00:00:00+00:00\", \"2017-02-08T00:00:00+00:00\", \"2017-02-09T00:00:00+00:00\", \"2017-02-10T00:00:00+00:00\", \"2017-02-13T00:00:00+00:00\", \"2017-02-14T00:00:00+00:00\", \"2017-02-15T00:00:00+00:00\", \"2017-02-16T00:00:00+00:00\", \"2017-02-17T00:00:00+00:00\", \"2017-02-20T00:00:00+00:00\", \"2017-02-21T00:00:00+00:00\", \"2017-02-22T00:00:00+00:00\", \"2017-02-23T00:00:00+00:00\", \"2017-02-24T00:00:00+00:00\", \"2017-02-27T00:00:00+00:00\", \"2017-02-28T00:00:00+00:00\", \"2017-03-01T00:00:00+00:00\", \"2017-03-02T00:00:00+00:00\", \"2017-03-03T00:00:00+00:00\", \"2017-03-06T00:00:00+00:00\", \"2017-03-07T00:00:00+00:00\", \"2017-03-08T00:00:00+00:00\", \"2017-03-09T00:00:00+00:00\", \"2017-03-10T00:00:00+00:00\", \"2017-03-13T00:00:00+00:00\", \"2017-03-14T00:00:00+00:00\", \"2017-03-15T00:00:00+00:00\", \"2017-03-16T00:00:00+00:00\", \"2017-03-17T00:00:00+00:00\", \"2017-03-20T00:00:00+00:00\", \"2017-03-21T00:00:00+00:00\", \"2017-03-22T00:00:00+00:00\", \"2017-03-23T00:00:00+00:00\", \"2017-03-24T00:00:00+00:00\", \"2017-03-27T00:00:00+00:00\", \"2017-03-28T00:00:00+00:00\", \"2017-03-29T00:00:00+00:00\", \"2017-03-30T00:00:00+00:00\", \"2017-03-31T00:00:00+00:00\", \"2017-04-03T00:00:00+00:00\", \"2017-04-04T00:00:00+00:00\", \"2017-04-05T00:00:00+00:00\", \"2017-04-06T00:00:00+00:00\", \"2017-04-07T00:00:00+00:00\", \"2017-04-10T00:00:00+00:00\", \"2017-04-11T00:00:00+00:00\", \"2017-04-12T00:00:00+00:00\", \"2017-04-13T00:00:00+00:00\", \"2017-04-14T00:00:00+00:00\", \"2017-04-17T00:00:00+00:00\", \"2017-04-18T00:00:00+00:00\", \"2017-04-19T00:00:00+00:00\", \"2017-04-20T00:00:00+00:00\", \"2017-04-21T00:00:00+00:00\", \"2017-04-24T00:00:00+00:00\", \"2017-04-25T00:00:00+00:00\", \"2017-04-26T00:00:00+00:00\", \"2017-04-27T00:00:00+00:00\", \"2017-04-28T00:00:00+00:00\", \"2017-05-01T00:00:00+00:00\", \"2017-05-02T00:00:00+00:00\", \"2017-05-03T00:00:00+00:00\", \"2017-05-04T00:00:00+00:00\", \"2017-05-05T00:00:00+00:00\", \"2017-05-08T00:00:00+00:00\", \"2017-05-09T00:00:00+00:00\", \"2017-05-10T00:00:00+00:00\", \"2017-05-11T00:00:00+00:00\", \"2017-05-12T00:00:00+00:00\", \"2017-05-15T00:00:00+00:00\", \"2017-05-16T00:00:00+00:00\", \"2017-05-17T00:00:00+00:00\", \"2017-05-18T00:00:00+00:00\", \"2017-05-19T00:00:00+00:00\", \"2017-05-22T00:00:00+00:00\", \"2017-05-23T00:00:00+00:00\", \"2017-05-24T00:00:00+00:00\", \"2017-05-25T00:00:00+00:00\", \"2017-05-26T00:00:00+00:00\", \"2017-05-29T00:00:00+00:00\", \"2017-05-30T00:00:00+00:00\", \"2017-05-31T00:00:00+00:00\", \"2017-06-01T00:00:00+00:00\", \"2017-06-02T00:00:00+00:00\", \"2017-06-05T00:00:00+00:00\", \"2017-06-06T00:00:00+00:00\", \"2017-06-07T00:00:00+00:00\", \"2017-06-08T00:00:00+00:00\", \"2017-06-09T00:00:00+00:00\", \"2017-06-12T00:00:00+00:00\", \"2017-06-13T00:00:00+00:00\", \"2017-06-14T00:00:00+00:00\", \"2017-06-15T00:00:00+00:00\", \"2017-06-16T00:00:00+00:00\", \"2017-06-19T00:00:00+00:00\", \"2017-06-20T00:00:00+00:00\", \"2017-06-21T00:00:00+00:00\", \"2017-06-22T00:00:00+00:00\", \"2017-06-23T00:00:00+00:00\", \"2017-06-26T00:00:00+00:00\", \"2017-06-27T00:00:00+00:00\", \"2017-06-28T00:00:00+00:00\", \"2017-06-29T00:00:00+00:00\", \"2017-06-30T00:00:00+00:00\", \"2017-07-03T00:00:00+00:00\", \"2017-07-04T00:00:00+00:00\", \"2017-07-05T00:00:00+00:00\", \"2017-07-06T00:00:00+00:00\", \"2017-07-07T00:00:00+00:00\", \"2017-07-10T00:00:00+00:00\", \"2017-07-11T00:00:00+00:00\", \"2017-07-12T00:00:00+00:00\", \"2017-07-13T00:00:00+00:00\", \"2017-07-14T00:00:00+00:00\", \"2017-07-17T00:00:00+00:00\", \"2017-07-18T00:00:00+00:00\", \"2017-07-19T00:00:00+00:00\", \"2017-07-20T00:00:00+00:00\", \"2017-07-21T00:00:00+00:00\", \"2017-07-24T00:00:00+00:00\", \"2017-07-25T00:00:00+00:00\", \"2017-07-26T00:00:00+00:00\", \"2017-07-27T00:00:00+00:00\", \"2017-07-28T00:00:00+00:00\", \"2017-07-31T00:00:00+00:00\", \"2017-08-01T00:00:00+00:00\", \"2017-08-02T00:00:00+00:00\", \"2017-08-03T00:00:00+00:00\", \"2017-08-04T00:00:00+00:00\", \"2017-08-07T00:00:00+00:00\", \"2017-08-08T00:00:00+00:00\", \"2017-08-09T00:00:00+00:00\", \"2017-08-10T00:00:00+00:00\", \"2017-08-11T00:00:00+00:00\", \"2017-08-14T00:00:00+00:00\", \"2017-08-15T00:00:00+00:00\", \"2017-08-16T00:00:00+00:00\", \"2017-08-17T00:00:00+00:00\", \"2017-08-18T00:00:00+00:00\", \"2017-08-21T00:00:00+00:00\", \"2017-08-22T00:00:00+00:00\", \"2017-08-23T00:00:00+00:00\", \"2017-08-24T00:00:00+00:00\", \"2017-08-25T00:00:00+00:00\", \"2017-08-28T00:00:00+00:00\", \"2017-08-29T00:00:00+00:00\", \"2017-08-30T00:00:00+00:00\", \"2017-08-31T00:00:00+00:00\", \"2017-09-01T00:00:00+00:00\", \"2017-09-04T00:00:00+00:00\", \"2017-09-05T00:00:00+00:00\", \"2017-09-06T00:00:00+00:00\", \"2017-09-07T00:00:00+00:00\", \"2017-09-08T00:00:00+00:00\", \"2017-09-11T00:00:00+00:00\", \"2017-09-12T00:00:00+00:00\", \"2017-09-13T00:00:00+00:00\", \"2017-09-14T00:00:00+00:00\", \"2017-09-15T00:00:00+00:00\", \"2017-09-18T00:00:00+00:00\", \"2017-09-19T00:00:00+00:00\", \"2017-09-20T00:00:00+00:00\", \"2017-09-21T00:00:00+00:00\", \"2017-09-22T00:00:00+00:00\", \"2017-09-25T00:00:00+00:00\", \"2017-09-26T00:00:00+00:00\", \"2017-09-27T00:00:00+00:00\", \"2017-09-28T00:00:00+00:00\", \"2017-09-29T00:00:00+00:00\", \"2017-10-02T00:00:00+00:00\", \"2017-10-03T00:00:00+00:00\", \"2017-10-04T00:00:00+00:00\", \"2017-10-05T00:00:00+00:00\", \"2017-10-06T00:00:00+00:00\", \"2017-10-09T00:00:00+00:00\", \"2017-10-10T00:00:00+00:00\", \"2017-10-11T00:00:00+00:00\", \"2017-10-12T00:00:00+00:00\", \"2017-10-13T00:00:00+00:00\", \"2017-10-16T00:00:00+00:00\", \"2017-10-17T00:00:00+00:00\", \"2017-10-18T00:00:00+00:00\", \"2017-10-19T00:00:00+00:00\", \"2017-10-20T00:00:00+00:00\", \"2017-10-23T00:00:00+00:00\", \"2017-10-24T00:00:00+00:00\", \"2017-10-25T00:00:00+00:00\", \"2017-10-26T00:00:00+00:00\", \"2017-10-27T00:00:00+00:00\", \"2017-10-30T00:00:00+00:00\", \"2017-10-31T00:00:00+00:00\", \"2017-11-01T00:00:00+00:00\", \"2017-11-02T00:00:00+00:00\", \"2017-11-03T00:00:00+00:00\", \"2017-11-06T00:00:00+00:00\", \"2017-11-07T00:00:00+00:00\", \"2017-11-08T00:00:00+00:00\", \"2017-11-09T00:00:00+00:00\", \"2017-11-10T00:00:00+00:00\", \"2017-11-13T00:00:00+00:00\", \"2017-11-14T00:00:00+00:00\", \"2017-11-15T00:00:00+00:00\", \"2017-11-16T00:00:00+00:00\", \"2017-11-17T00:00:00+00:00\", \"2017-11-20T00:00:00+00:00\", \"2017-11-21T00:00:00+00:00\", \"2017-11-22T00:00:00+00:00\", \"2017-11-23T00:00:00+00:00\", \"2017-11-24T00:00:00+00:00\", \"2017-11-27T00:00:00+00:00\", \"2017-11-28T00:00:00+00:00\", \"2017-11-29T00:00:00+00:00\", \"2017-11-30T00:00:00+00:00\", \"2017-12-01T00:00:00+00:00\", \"2017-12-04T00:00:00+00:00\", \"2017-12-05T00:00:00+00:00\", \"2017-12-06T00:00:00+00:00\", \"2017-12-07T00:00:00+00:00\"], \"y\": [0.0038204321190300483, 0.0038204321190300483, 0.0038204321190300483, 0.010985815741580307, 0.007514541665789132, 0.001053669932684631, 0.001053669932684631, 0.001053669932684631, 0.001053669932684631, -0.007286512418037572, -0.024421648780108995, -0.024421648780108995, -0.024421648780108995, -0.028248708510096976, -0.028272787496462892, -0.023874596807887172, -0.023874596807887172, -0.023874596807887172, -0.018276331577325666, -0.016599808867003296, -0.0310212899957113, -0.0310212899957113, -0.0310212899957113, -0.032651536716819196, -0.03712675047498348, -0.02717189681634602, -0.02717189681634602, -0.02717189681634602, -0.026174897804747355, -0.014191388759369428, -0.013740299797119437, -0.013740299797119437, -0.013740299797119437, -0.013740299797119437, -0.019573121007170124, -0.020118757538020393, -0.020118757538020393, -0.020118757538020393, -0.004980884059358037, -0.020477076331783417, -0.03528348841877105, -0.03528348841877105, -0.03528348841877105, -0.044747757647748077, -0.05658894181993568, -0.046299687201506234, -0.046299687201506234, -0.046299687201506234, -0.05342908845003125, -0.036336935445649865, -0.03974647659042119, -0.03974647659042119, -0.03974647659042119, -0.033497517188278314, -0.0310740900294445, -0.01740537652451335, -0.01740537652451335, -0.01740537652451335, -0.02210957213663134, -0.02977650191612169, -0.02641363816925346, -0.02641363816925346, -0.02641363816925346, -0.027575335411834656, -0.024392344139016364, -0.037492681726765786, -0.037492681726765786, -0.037492681726765786, -0.045421576086731474, -0.054287925056096364, -0.054287925056096364, -0.054287925056096364, -0.054287925056096364, -0.05714623347955361, -0.04293372303330656, -0.0712011297551165, -0.0712011297551165, -0.0712011297551165, -0.07007509040597326, -0.06976375764911791, -0.067796941141965, -0.067796941141965, -0.067796941141965, -0.07485445232506904, -0.07601055325479766, -0.06336308437956595, -0.06336308437956595, -0.06336308437956595, -0.04536122903380568, -0.06953602320995034, -0.07167544622045541, -0.07167544622045541, -0.07167544622045541, -0.0783216379215681, -0.08015989957360958, -0.021015688999215243, -0.021015688999215243, -0.021015688999215243, -0.04097082212845482, -0.037865772785645735, -0.02655229961764194, -0.02655229961764194, -0.02655229961764194, -0.02655229961764194, -0.032636715383919435, -0.04127598538878785, -0.04127598538878785, -0.04127598538878785, -0.06272361755137723, -0.06554320015990955, -0.06328271934505614, -0.06328271934505614, -0.06328271934505614, -0.08156199547146492, -0.08572069755027978, -0.08709508234577434, -0.08709508234577434, -0.08709508234577434, -0.09694450134835608, -0.0917524986376862, -0.08940829603165579, -0.08940829603165579, -0.08940829603165579, -0.0923840544414164, -0.1070207391297795, -0.10925281246303653, -0.10925281246303653, -0.10925281246303653, -0.11149315879384403, -0.11149315879384403, -0.14956983945955893, -0.14956983945955893, -0.14956983945955893, -0.14920929180562248, -0.14864619931740697, -0.15986614384256426, -0.15986614384256426, -0.15986614384256426, -0.16344583466996887, -0.1622871555997083, -0.20928027879188404, -0.20928027879188404, -0.20928027879188404, -0.211676603325059, -0.21205391600157475, -0.18785831456269253, -0.18785831456269253, -0.18785831456269253, -0.17891133906093815, -0.1870528914537941, -0.17831092614800093, -0.17831092614800093, -0.17831092614800093, -0.1822312459846973, -0.18253755279081618, -0.18667758052820993, -0.18667758052820993, -0.18667758052820993, -0.17710928266395742, -0.16978094214613404, -0.1613186674692516, -0.1613186674692516, -0.1613186674692516, -0.17260128465268942, -0.17098829739172217, -0.18222794479792048, -0.18222794479792048, -0.18222794479792048, -0.17174070648227857, -0.16809712007565558, -0.16154866130410495, -0.16154866130410495, -0.16154866130410495, -0.16154866130410495, -0.15172845001257595, -0.13527402057127202, -0.13527402057127202, -0.13527402057127202, -0.13130441474463117, -0.1111144972281729, -0.12217310171090023, -0.12217310171090023, -0.12217310171090023, -0.1189949602323036, -0.11881189432783978, -0.11444472049356391, -0.11444472049356391, -0.11444472049356391, -0.09134926458130732, -0.06789392233522484, -0.07852844846249318, -0.07852844846249318, -0.07852844846249318, -0.08452277768354832, -0.09162721870482038, -0.0936339105669366, -0.0936339105669366, -0.0936339105669366, -0.0924778082365374, -0.08231437181841661, -0.07540133831556517, -0.07540133831556517, -0.07540133831556517, -0.07208221657258507, -0.08742307345805189, -0.06780820395015097, -0.06780820395015097, -0.06780820395015097, -0.061728919152918116, -0.05856236541250326, -0.07024483972720019, -0.07024483972720019, -0.07024483972720019, -0.061478817191126356, -0.040342166782313615, -0.039255880947987265, -0.039255880947987265, -0.039255880947987265, -0.0279929534345722, -0.024245965671711778, -0.017104098253369338, -0.017104098253369338, -0.017104098253369338, -0.011910966153200975, 0.007587958115186977, 0.010739802911999163, 0.010739802911999163, 0.010739802911999163, 0.00574514715058716, 0.004291054723144283, -0.00021854983459446142, -0.00021854983459446142, -0.00021854983459446142, -0.010960796455467103, -0.01351131315380305, -0.022712337638021718, -0.022712337638021718, -0.022712337638021718, -0.007185210464267122, -0.007574994189586848, -0.0104113716174693, -0.0104113716174693, -0.0104113716174693, -0.008257340549776115, -0.014152798166333302, -0.019442853604854204, -0.019442853604854204, -0.019442853604854204, -0.02382434402057687, -0.02853940756012774, -0.03437596800166176, -0.03437596800166176, -0.03437596800166176, -0.03437596800166176, -0.03443795026927776, -0.04389712095096987, -0.04389712095096987, -0.04389712095096987, -0.04389712095096987, -0.04389712095096987, -0.054962469887493315, -0.054962469887493315, -0.054962469887493315, -0.04556133111644911, -0.04104596439173758, -0.038841666751041504, -0.038841666751041504, -0.038841666751041504, -0.038841666751041504, -0.045598551234207196, -0.04745528374753194, -0.04745528374753194, -0.04745528374753194, -0.059076219942061026, -0.05527174841883653, -0.05183208315654719, -0.05183208315654719, -0.05183208315654719, -0.0642379669099169, -0.08454404950016015, -0.05166027617391622, -0.05166027617391622, -0.05166027617391622, -0.05621156466519983, -0.058799705372007405, -0.06478746165797633, -0.06478746165797633, -0.06478746165797633, -0.06911262482575364, -0.05794302453868627, -0.05403418366159629, -0.05403418366159629, -0.05403418366159629, -0.05403418366159629, -0.055784903940301556, -0.05373707757666435, -0.05373707757666435, -0.05373707757666435, -0.018461557107940618, -0.05486514144219223, -0.07544831189585588, -0.07544831189585588, -0.07544831189585588, -0.09010510588212683, -0.08155024092070595, -0.08325987278291369, -0.08325987278291369, -0.08325987278291369, -0.07608035209043373, -0.09481463820435765, -0.09502889685068538, -0.09502889685068538, -0.09502889685068538, -0.097835737251451, -0.0997422451994221, -0.09610930454423583, -0.09610930454423583, -0.09610930454423583, -0.09160091174975238, -0.09558521092932093, -0.09601212873904974, -0.09601212873904974, -0.09601212873904974, -0.10547064028441322, -0.09776101940382531, -0.09776101940382531, -0.09776101940382531, -0.09776101940382531, -0.06789990919509148, -0.0696004789493212, -0.07264025809514296, -0.07264025809514296, -0.07264025809514296, -0.0710346816640901, -0.06940237935242732, -0.06629924399295684, -0.06629924399295684, -0.06629924399295684, -0.0732713983426222, -0.07535705930019754, -0.07433890121950704, -0.07433890121950704, -0.07433890121950704, -0.08829251490931378, -0.09155195813540928, -0.08800933737973016, -0.08800933737973016, -0.08800933737973016, -0.08801637693911524, -0.08842616899637468, -0.0718931907902719, -0.0718931907902719, -0.0718931907902719, -0.06636332397734879, -0.07568060977254798, -0.06339564351313431, -0.06339564351313431, -0.06339564351313431, -0.056408922579629706, -0.033000711436406815, -0.03864842348671982, -0.03864842348671982, -0.03864842348671982, -0.03864842348671982, -0.040911013444850375, -0.03906037638338078, -0.03906037638338078, -0.03906037638338078, -0.043770091084840534, -0.054556304637286, -0.032521318304678415, -0.032521318304678415, -0.032521318304678415, -0.034195313839777364, -0.04127101958221435, -0.04047665968284042, -0.04047665968284042, -0.04047665968284042, -0.04054647952768442, -0.03797064867483946, -0.048438981851309126, -0.048438981851309126, -0.048438981851309126, -0.0434746477660366, -0.04523965284088083, -0.05061392249996388, -0.05061392249996388, -0.05061392249996388, -0.03607061894681085, -0.030892728365779165, -0.017932678448330353, -0.017932678448330353, -0.017932678448330353, -0.01669275043940277, -0.03225897364007113, -0.0295215569498668, -0.0295215569498668, -0.0295215569498668, -0.013155675932950861, -0.01595074026052956, -0.01962291358634738, -0.01962291358634738, -0.01962291358634738, -0.022288738462918123, -0.043791973777851045, -0.022116250597275067, -0.022116250597275067, -0.022116250597275067, -0.024091208508608575, -0.039153363705048294, -0.06760936424687336, -0.06760936424687336, -0.06760936424687336, -0.06928225907795682, -0.057134956516641355, -0.0318720449931853, -0.0318720449931853, -0.0318720449931853, -0.021192149585542608, -0.034475141973486334, -0.006790324635557177, -0.006790324635557177, -0.006790324635557177, -0.0013164516507391255, 0.011735485527206935, 0.02311020932838259, 0.02311020932838259, 0.02311020932838259, 0.01039695488775827, -0.01385800547999283, -0.003965126006335584, -0.003965126006335584, -0.003965126006335584, -0.003965126006335584, -0.0014747709359194117, -0.036573966017020676, -0.036573966017020676, -0.036573966017020676, -0.03865113788368946, -0.019772472361528792, -0.03125285908456743, -0.03125285908456743, -0.03125285908456743, -0.030580414867846573, -0.007147622839144607, 0.0007977707864335049, 0.0007977707864335049, 0.0007977707864335049, -0.009305585942472994, -0.02802551716558377, -0.022774378630700642, -0.022774378630700642, -0.022774378630700642, -0.017041653329077144, -0.010969637319700465, 0.007619716047388536, 0.007619716047388536, 0.007619716047388536, 0.008583262377918288, 0.016221699840445858, 0.024391905845518425, 0.024391905845518425, 0.024391905845518425, 0.024868170625979236, 0.014516908397012696, -0.010343698987753558, -0.010343698987753558, -0.010343698987753558, -0.0006892774986656525, -0.0021956906316635827, 0.0108823653138157, 0.0108823653138157, 0.0108823653138157, 0.020629751474898983, 0.025560784119877056, 0.04092145775181999, 0.04092145775181999, 0.04092145775181999, 0.04815306927926821, 0.0583015463684855, 0.027687305065447143, 0.027687305065447143, 0.027687305065447143, 0.023734705308773973, 0.049121984152144416, 0.06223200494967407, 0.06223200494967407, 0.06223200494967407, 0.05734395915792834, 0.07149900691749034, 0.08481320371427237, 0.08481320371427237, 0.08481320371427237, 0.06711816011378913, 0.08469726675436218, 0.05574034514605808, 0.05574034514605808, 0.05574034514605808, 0.04430141295779677, 0.024212744855937274, 0.03084397394446947, 0.03084397394446947, 0.03084397394446947, 0.03941086666430582]}, {\"line\": {\"color\": \"green\"}, \"mode\": \"lines\", \"name\": \"\\u7d2f\\u79ef\\u7279\\u5b9a\\u6536\\u76ca\\u7387\", \"type\": \"scatter\", \"x\": [\"2016-01-04T00:00:00+00:00\", \"2016-01-05T00:00:00+00:00\", \"2016-01-06T00:00:00+00:00\", \"2016-01-07T00:00:00+00:00\", \"2016-01-08T00:00:00+00:00\", \"2016-01-11T00:00:00+00:00\", \"2016-01-12T00:00:00+00:00\", \"2016-01-13T00:00:00+00:00\", \"2016-01-14T00:00:00+00:00\", \"2016-01-15T00:00:00+00:00\", \"2016-01-18T00:00:00+00:00\", \"2016-01-19T00:00:00+00:00\", \"2016-01-20T00:00:00+00:00\", \"2016-01-21T00:00:00+00:00\", \"2016-01-22T00:00:00+00:00\", \"2016-01-25T00:00:00+00:00\", \"2016-01-26T00:00:00+00:00\", \"2016-01-27T00:00:00+00:00\", \"2016-01-28T00:00:00+00:00\", \"2016-01-29T00:00:00+00:00\", \"2016-02-01T00:00:00+00:00\", \"2016-02-02T00:00:00+00:00\", \"2016-02-03T00:00:00+00:00\", \"2016-02-04T00:00:00+00:00\", \"2016-02-05T00:00:00+00:00\", \"2016-02-08T00:00:00+00:00\", \"2016-02-09T00:00:00+00:00\", \"2016-02-10T00:00:00+00:00\", \"2016-02-11T00:00:00+00:00\", \"2016-02-12T00:00:00+00:00\", \"2016-02-15T00:00:00+00:00\", \"2016-02-16T00:00:00+00:00\", \"2016-02-17T00:00:00+00:00\", \"2016-02-18T00:00:00+00:00\", \"2016-02-19T00:00:00+00:00\", \"2016-02-22T00:00:00+00:00\", \"2016-02-23T00:00:00+00:00\", \"2016-02-24T00:00:00+00:00\", \"2016-02-25T00:00:00+00:00\", \"2016-02-26T00:00:00+00:00\", \"2016-02-29T00:00:00+00:00\", \"2016-03-01T00:00:00+00:00\", \"2016-03-02T00:00:00+00:00\", \"2016-03-03T00:00:00+00:00\", \"2016-03-04T00:00:00+00:00\", \"2016-03-07T00:00:00+00:00\", \"2016-03-08T00:00:00+00:00\", \"2016-03-09T00:00:00+00:00\", \"2016-03-10T00:00:00+00:00\", \"2016-03-11T00:00:00+00:00\", \"2016-03-14T00:00:00+00:00\", \"2016-03-15T00:00:00+00:00\", \"2016-03-16T00:00:00+00:00\", \"2016-03-17T00:00:00+00:00\", \"2016-03-18T00:00:00+00:00\", \"2016-03-21T00:00:00+00:00\", \"2016-03-22T00:00:00+00:00\", \"2016-03-23T00:00:00+00:00\", \"2016-03-24T00:00:00+00:00\", \"2016-03-25T00:00:00+00:00\", \"2016-03-28T00:00:00+00:00\", \"2016-03-29T00:00:00+00:00\", \"2016-03-30T00:00:00+00:00\", \"2016-03-31T00:00:00+00:00\", \"2016-04-01T00:00:00+00:00\", \"2016-04-04T00:00:00+00:00\", \"2016-04-05T00:00:00+00:00\", \"2016-04-06T00:00:00+00:00\", \"2016-04-07T00:00:00+00:00\", \"2016-04-08T00:00:00+00:00\", \"2016-04-11T00:00:00+00:00\", \"2016-04-12T00:00:00+00:00\", \"2016-04-13T00:00:00+00:00\", \"2016-04-14T00:00:00+00:00\", \"2016-04-15T00:00:00+00:00\", \"2016-04-18T00:00:00+00:00\", \"2016-04-19T00:00:00+00:00\", \"2016-04-20T00:00:00+00:00\", \"2016-04-21T00:00:00+00:00\", \"2016-04-22T00:00:00+00:00\", \"2016-04-25T00:00:00+00:00\", \"2016-04-26T00:00:00+00:00\", \"2016-04-27T00:00:00+00:00\", \"2016-04-28T00:00:00+00:00\", \"2016-04-29T00:00:00+00:00\", \"2016-05-02T00:00:00+00:00\", \"2016-05-03T00:00:00+00:00\", \"2016-05-04T00:00:00+00:00\", \"2016-05-05T00:00:00+00:00\", \"2016-05-06T00:00:00+00:00\", \"2016-05-09T00:00:00+00:00\", \"2016-05-10T00:00:00+00:00\", \"2016-05-11T00:00:00+00:00\", \"2016-05-12T00:00:00+00:00\", \"2016-05-13T00:00:00+00:00\", \"2016-05-16T00:00:00+00:00\", \"2016-05-17T00:00:00+00:00\", \"2016-05-18T00:00:00+00:00\", \"2016-05-19T00:00:00+00:00\", \"2016-05-20T00:00:00+00:00\", \"2016-05-23T00:00:00+00:00\", \"2016-05-24T00:00:00+00:00\", \"2016-05-25T00:00:00+00:00\", \"2016-05-26T00:00:00+00:00\", \"2016-05-27T00:00:00+00:00\", \"2016-05-30T00:00:00+00:00\", \"2016-05-31T00:00:00+00:00\", \"2016-06-01T00:00:00+00:00\", \"2016-06-02T00:00:00+00:00\", \"2016-06-03T00:00:00+00:00\", \"2016-06-06T00:00:00+00:00\", \"2016-06-07T00:00:00+00:00\", \"2016-06-08T00:00:00+00:00\", \"2016-06-09T00:00:00+00:00\", \"2016-06-10T00:00:00+00:00\", \"2016-06-13T00:00:00+00:00\", \"2016-06-14T00:00:00+00:00\", \"2016-06-15T00:00:00+00:00\", \"2016-06-16T00:00:00+00:00\", \"2016-06-17T00:00:00+00:00\", \"2016-06-20T00:00:00+00:00\", \"2016-06-21T00:00:00+00:00\", \"2016-06-22T00:00:00+00:00\", \"2016-06-23T00:00:00+00:00\", \"2016-06-24T00:00:00+00:00\", \"2016-06-27T00:00:00+00:00\", \"2016-06-28T00:00:00+00:00\", \"2016-06-29T00:00:00+00:00\", \"2016-06-30T00:00:00+00:00\", \"2016-07-01T00:00:00+00:00\", \"2016-07-04T00:00:00+00:00\", \"2016-07-05T00:00:00+00:00\", \"2016-07-06T00:00:00+00:00\", \"2016-07-07T00:00:00+00:00\", \"2016-07-08T00:00:00+00:00\", \"2016-07-11T00:00:00+00:00\", \"2016-07-12T00:00:00+00:00\", \"2016-07-13T00:00:00+00:00\", \"2016-07-14T00:00:00+00:00\", \"2016-07-15T00:00:00+00:00\", \"2016-07-18T00:00:00+00:00\", \"2016-07-19T00:00:00+00:00\", \"2016-07-20T00:00:00+00:00\", \"2016-07-21T00:00:00+00:00\", \"2016-07-22T00:00:00+00:00\", \"2016-07-25T00:00:00+00:00\", \"2016-07-26T00:00:00+00:00\", \"2016-07-27T00:00:00+00:00\", \"2016-07-28T00:00:00+00:00\", \"2016-07-29T00:00:00+00:00\", \"2016-08-01T00:00:00+00:00\", \"2016-08-02T00:00:00+00:00\", \"2016-08-03T00:00:00+00:00\", \"2016-08-04T00:00:00+00:00\", \"2016-08-05T00:00:00+00:00\", \"2016-08-08T00:00:00+00:00\", \"2016-08-09T00:00:00+00:00\", \"2016-08-10T00:00:00+00:00\", \"2016-08-11T00:00:00+00:00\", \"2016-08-12T00:00:00+00:00\", \"2016-08-15T00:00:00+00:00\", \"2016-08-16T00:00:00+00:00\", \"2016-08-17T00:00:00+00:00\", \"2016-08-18T00:00:00+00:00\", \"2016-08-19T00:00:00+00:00\", \"2016-08-22T00:00:00+00:00\", \"2016-08-23T00:00:00+00:00\", \"2016-08-24T00:00:00+00:00\", \"2016-08-25T00:00:00+00:00\", \"2016-08-26T00:00:00+00:00\", \"2016-08-29T00:00:00+00:00\", \"2016-08-30T00:00:00+00:00\", \"2016-08-31T00:00:00+00:00\", \"2016-09-01T00:00:00+00:00\", \"2016-09-02T00:00:00+00:00\", \"2016-09-05T00:00:00+00:00\", \"2016-09-06T00:00:00+00:00\", \"2016-09-07T00:00:00+00:00\", \"2016-09-08T00:00:00+00:00\", \"2016-09-09T00:00:00+00:00\", \"2016-09-12T00:00:00+00:00\", \"2016-09-13T00:00:00+00:00\", \"2016-09-14T00:00:00+00:00\", \"2016-09-15T00:00:00+00:00\", \"2016-09-16T00:00:00+00:00\", \"2016-09-19T00:00:00+00:00\", \"2016-09-20T00:00:00+00:00\", \"2016-09-21T00:00:00+00:00\", \"2016-09-22T00:00:00+00:00\", \"2016-09-23T00:00:00+00:00\", \"2016-09-26T00:00:00+00:00\", \"2016-09-27T00:00:00+00:00\", \"2016-09-28T00:00:00+00:00\", \"2016-09-29T00:00:00+00:00\", \"2016-09-30T00:00:00+00:00\", \"2016-10-03T00:00:00+00:00\", \"2016-10-04T00:00:00+00:00\", \"2016-10-05T00:00:00+00:00\", \"2016-10-06T00:00:00+00:00\", \"2016-10-07T00:00:00+00:00\", \"2016-10-10T00:00:00+00:00\", \"2016-10-11T00:00:00+00:00\", \"2016-10-12T00:00:00+00:00\", \"2016-10-13T00:00:00+00:00\", \"2016-10-14T00:00:00+00:00\", \"2016-10-17T00:00:00+00:00\", \"2016-10-18T00:00:00+00:00\", \"2016-10-19T00:00:00+00:00\", \"2016-10-20T00:00:00+00:00\", \"2016-10-21T00:00:00+00:00\", \"2016-10-24T00:00:00+00:00\", \"2016-10-25T00:00:00+00:00\", \"2016-10-26T00:00:00+00:00\", \"2016-10-27T00:00:00+00:00\", \"2016-10-28T00:00:00+00:00\", \"2016-10-31T00:00:00+00:00\", \"2016-11-01T00:00:00+00:00\", \"2016-11-02T00:00:00+00:00\", \"2016-11-03T00:00:00+00:00\", \"2016-11-04T00:00:00+00:00\", \"2016-11-07T00:00:00+00:00\", \"2016-11-08T00:00:00+00:00\", \"2016-11-09T00:00:00+00:00\", \"2016-11-10T00:00:00+00:00\", \"2016-11-11T00:00:00+00:00\", \"2016-11-14T00:00:00+00:00\", \"2016-11-15T00:00:00+00:00\", \"2016-11-16T00:00:00+00:00\", \"2016-11-17T00:00:00+00:00\", \"2016-11-18T00:00:00+00:00\", \"2016-11-21T00:00:00+00:00\", \"2016-11-22T00:00:00+00:00\", \"2016-11-23T00:00:00+00:00\", \"2016-11-24T00:00:00+00:00\", \"2016-11-25T00:00:00+00:00\", \"2016-11-28T00:00:00+00:00\", \"2016-11-29T00:00:00+00:00\", \"2016-11-30T00:00:00+00:00\", \"2016-12-01T00:00:00+00:00\", \"2016-12-02T00:00:00+00:00\", \"2016-12-05T00:00:00+00:00\", \"2016-12-06T00:00:00+00:00\", \"2016-12-07T00:00:00+00:00\", \"2016-12-08T00:00:00+00:00\", \"2016-12-09T00:00:00+00:00\", \"2016-12-12T00:00:00+00:00\", \"2016-12-13T00:00:00+00:00\", \"2016-12-14T00:00:00+00:00\", \"2016-12-15T00:00:00+00:00\", \"2016-12-16T00:00:00+00:00\", \"2016-12-19T00:00:00+00:00\", \"2016-12-20T00:00:00+00:00\", \"2016-12-21T00:00:00+00:00\", \"2016-12-22T00:00:00+00:00\", \"2016-12-23T00:00:00+00:00\", \"2016-12-26T00:00:00+00:00\", \"2016-12-27T00:00:00+00:00\", \"2016-12-28T00:00:00+00:00\", \"2016-12-29T00:00:00+00:00\", \"2016-12-30T00:00:00+00:00\", \"2017-01-02T00:00:00+00:00\", \"2017-01-03T00:00:00+00:00\", \"2017-01-04T00:00:00+00:00\", \"2017-01-05T00:00:00+00:00\", \"2017-01-06T00:00:00+00:00\", \"2017-01-09T00:00:00+00:00\", \"2017-01-10T00:00:00+00:00\", \"2017-01-11T00:00:00+00:00\", \"2017-01-12T00:00:00+00:00\", \"2017-01-13T00:00:00+00:00\", \"2017-01-16T00:00:00+00:00\", \"2017-01-17T00:00:00+00:00\", \"2017-01-18T00:00:00+00:00\", \"2017-01-19T00:00:00+00:00\", \"2017-01-20T00:00:00+00:00\", \"2017-01-23T00:00:00+00:00\", \"2017-01-24T00:00:00+00:00\", \"2017-01-25T00:00:00+00:00\", \"2017-01-26T00:00:00+00:00\", \"2017-01-27T00:00:00+00:00\", \"2017-01-30T00:00:00+00:00\", \"2017-01-31T00:00:00+00:00\", \"2017-02-01T00:00:00+00:00\", \"2017-02-02T00:00:00+00:00\", \"2017-02-03T00:00:00+00:00\", \"2017-02-06T00:00:00+00:00\", \"2017-02-07T00:00:00+00:00\", \"2017-02-08T00:00:00+00:00\", \"2017-02-09T00:00:00+00:00\", \"2017-02-10T00:00:00+00:00\", \"2017-02-13T00:00:00+00:00\", \"2017-02-14T00:00:00+00:00\", \"2017-02-15T00:00:00+00:00\", \"2017-02-16T00:00:00+00:00\", \"2017-02-17T00:00:00+00:00\", \"2017-02-20T00:00:00+00:00\", \"2017-02-21T00:00:00+00:00\", \"2017-02-22T00:00:00+00:00\", \"2017-02-23T00:00:00+00:00\", \"2017-02-24T00:00:00+00:00\", \"2017-02-27T00:00:00+00:00\", \"2017-02-28T00:00:00+00:00\", \"2017-03-01T00:00:00+00:00\", \"2017-03-02T00:00:00+00:00\", \"2017-03-03T00:00:00+00:00\", \"2017-03-06T00:00:00+00:00\", \"2017-03-07T00:00:00+00:00\", \"2017-03-08T00:00:00+00:00\", \"2017-03-09T00:00:00+00:00\", \"2017-03-10T00:00:00+00:00\", \"2017-03-13T00:00:00+00:00\", \"2017-03-14T00:00:00+00:00\", \"2017-03-15T00:00:00+00:00\", \"2017-03-16T00:00:00+00:00\", \"2017-03-17T00:00:00+00:00\", \"2017-03-20T00:00:00+00:00\", \"2017-03-21T00:00:00+00:00\", \"2017-03-22T00:00:00+00:00\", \"2017-03-23T00:00:00+00:00\", \"2017-03-24T00:00:00+00:00\", \"2017-03-27T00:00:00+00:00\", \"2017-03-28T00:00:00+00:00\", \"2017-03-29T00:00:00+00:00\", \"2017-03-30T00:00:00+00:00\", \"2017-03-31T00:00:00+00:00\", \"2017-04-03T00:00:00+00:00\", \"2017-04-04T00:00:00+00:00\", \"2017-04-05T00:00:00+00:00\", \"2017-04-06T00:00:00+00:00\", \"2017-04-07T00:00:00+00:00\", \"2017-04-10T00:00:00+00:00\", \"2017-04-11T00:00:00+00:00\", \"2017-04-12T00:00:00+00:00\", \"2017-04-13T00:00:00+00:00\", \"2017-04-14T00:00:00+00:00\", \"2017-04-17T00:00:00+00:00\", \"2017-04-18T00:00:00+00:00\", \"2017-04-19T00:00:00+00:00\", \"2017-04-20T00:00:00+00:00\", \"2017-04-21T00:00:00+00:00\", \"2017-04-24T00:00:00+00:00\", \"2017-04-25T00:00:00+00:00\", \"2017-04-26T00:00:00+00:00\", \"2017-04-27T00:00:00+00:00\", \"2017-04-28T00:00:00+00:00\", \"2017-05-01T00:00:00+00:00\", \"2017-05-02T00:00:00+00:00\", \"2017-05-03T00:00:00+00:00\", \"2017-05-04T00:00:00+00:00\", \"2017-05-05T00:00:00+00:00\", \"2017-05-08T00:00:00+00:00\", \"2017-05-09T00:00:00+00:00\", \"2017-05-10T00:00:00+00:00\", \"2017-05-11T00:00:00+00:00\", \"2017-05-12T00:00:00+00:00\", \"2017-05-15T00:00:00+00:00\", \"2017-05-16T00:00:00+00:00\", \"2017-05-17T00:00:00+00:00\", \"2017-05-18T00:00:00+00:00\", \"2017-05-19T00:00:00+00:00\", \"2017-05-22T00:00:00+00:00\", \"2017-05-23T00:00:00+00:00\", \"2017-05-24T00:00:00+00:00\", \"2017-05-25T00:00:00+00:00\", \"2017-05-26T00:00:00+00:00\", \"2017-05-29T00:00:00+00:00\", \"2017-05-30T00:00:00+00:00\", \"2017-05-31T00:00:00+00:00\", \"2017-06-01T00:00:00+00:00\", \"2017-06-02T00:00:00+00:00\", \"2017-06-05T00:00:00+00:00\", \"2017-06-06T00:00:00+00:00\", \"2017-06-07T00:00:00+00:00\", \"2017-06-08T00:00:00+00:00\", \"2017-06-09T00:00:00+00:00\", \"2017-06-12T00:00:00+00:00\", \"2017-06-13T00:00:00+00:00\", \"2017-06-14T00:00:00+00:00\", \"2017-06-15T00:00:00+00:00\", \"2017-06-16T00:00:00+00:00\", \"2017-06-19T00:00:00+00:00\", \"2017-06-20T00:00:00+00:00\", \"2017-06-21T00:00:00+00:00\", \"2017-06-22T00:00:00+00:00\", \"2017-06-23T00:00:00+00:00\", \"2017-06-26T00:00:00+00:00\", \"2017-06-27T00:00:00+00:00\", \"2017-06-28T00:00:00+00:00\", \"2017-06-29T00:00:00+00:00\", \"2017-06-30T00:00:00+00:00\", \"2017-07-03T00:00:00+00:00\", \"2017-07-04T00:00:00+00:00\", \"2017-07-05T00:00:00+00:00\", \"2017-07-06T00:00:00+00:00\", \"2017-07-07T00:00:00+00:00\", \"2017-07-10T00:00:00+00:00\", \"2017-07-11T00:00:00+00:00\", \"2017-07-12T00:00:00+00:00\", \"2017-07-13T00:00:00+00:00\", \"2017-07-14T00:00:00+00:00\", \"2017-07-17T00:00:00+00:00\", \"2017-07-18T00:00:00+00:00\", \"2017-07-19T00:00:00+00:00\", \"2017-07-20T00:00:00+00:00\", \"2017-07-21T00:00:00+00:00\", \"2017-07-24T00:00:00+00:00\", \"2017-07-25T00:00:00+00:00\", \"2017-07-26T00:00:00+00:00\", \"2017-07-27T00:00:00+00:00\", \"2017-07-28T00:00:00+00:00\", \"2017-07-31T00:00:00+00:00\", \"2017-08-01T00:00:00+00:00\", \"2017-08-02T00:00:00+00:00\", \"2017-08-03T00:00:00+00:00\", \"2017-08-04T00:00:00+00:00\", \"2017-08-07T00:00:00+00:00\", \"2017-08-08T00:00:00+00:00\", \"2017-08-09T00:00:00+00:00\", \"2017-08-10T00:00:00+00:00\", \"2017-08-11T00:00:00+00:00\", \"2017-08-14T00:00:00+00:00\", \"2017-08-15T00:00:00+00:00\", \"2017-08-16T00:00:00+00:00\", \"2017-08-17T00:00:00+00:00\", \"2017-08-18T00:00:00+00:00\", \"2017-08-21T00:00:00+00:00\", \"2017-08-22T00:00:00+00:00\", \"2017-08-23T00:00:00+00:00\", \"2017-08-24T00:00:00+00:00\", \"2017-08-25T00:00:00+00:00\", \"2017-08-28T00:00:00+00:00\", \"2017-08-29T00:00:00+00:00\", \"2017-08-30T00:00:00+00:00\", \"2017-08-31T00:00:00+00:00\", \"2017-09-01T00:00:00+00:00\", \"2017-09-04T00:00:00+00:00\", \"2017-09-05T00:00:00+00:00\", \"2017-09-06T00:00:00+00:00\", \"2017-09-07T00:00:00+00:00\", \"2017-09-08T00:00:00+00:00\", \"2017-09-11T00:00:00+00:00\", \"2017-09-12T00:00:00+00:00\", \"2017-09-13T00:00:00+00:00\", \"2017-09-14T00:00:00+00:00\", \"2017-09-15T00:00:00+00:00\", \"2017-09-18T00:00:00+00:00\", \"2017-09-19T00:00:00+00:00\", \"2017-09-20T00:00:00+00:00\", \"2017-09-21T00:00:00+00:00\", \"2017-09-22T00:00:00+00:00\", \"2017-09-25T00:00:00+00:00\", \"2017-09-26T00:00:00+00:00\", \"2017-09-27T00:00:00+00:00\", \"2017-09-28T00:00:00+00:00\", \"2017-09-29T00:00:00+00:00\", \"2017-10-02T00:00:00+00:00\", \"2017-10-03T00:00:00+00:00\", \"2017-10-04T00:00:00+00:00\", \"2017-10-05T00:00:00+00:00\", \"2017-10-06T00:00:00+00:00\", \"2017-10-09T00:00:00+00:00\", \"2017-10-10T00:00:00+00:00\", \"2017-10-11T00:00:00+00:00\", \"2017-10-12T00:00:00+00:00\", \"2017-10-13T00:00:00+00:00\", \"2017-10-16T00:00:00+00:00\", \"2017-10-17T00:00:00+00:00\", \"2017-10-18T00:00:00+00:00\", \"2017-10-19T00:00:00+00:00\", \"2017-10-20T00:00:00+00:00\", \"2017-10-23T00:00:00+00:00\", \"2017-10-24T00:00:00+00:00\", \"2017-10-25T00:00:00+00:00\", \"2017-10-26T00:00:00+00:00\", \"2017-10-27T00:00:00+00:00\", \"2017-10-30T00:00:00+00:00\", \"2017-10-31T00:00:00+00:00\", \"2017-11-01T00:00:00+00:00\", \"2017-11-02T00:00:00+00:00\", \"2017-11-03T00:00:00+00:00\", \"2017-11-06T00:00:00+00:00\", \"2017-11-07T00:00:00+00:00\", \"2017-11-08T00:00:00+00:00\", \"2017-11-09T00:00:00+00:00\", \"2017-11-10T00:00:00+00:00\", \"2017-11-13T00:00:00+00:00\", \"2017-11-14T00:00:00+00:00\", \"2017-11-15T00:00:00+00:00\", \"2017-11-16T00:00:00+00:00\", \"2017-11-17T00:00:00+00:00\", \"2017-11-20T00:00:00+00:00\", \"2017-11-21T00:00:00+00:00\", \"2017-11-22T00:00:00+00:00\", \"2017-11-23T00:00:00+00:00\", \"2017-11-24T00:00:00+00:00\", \"2017-11-27T00:00:00+00:00\", \"2017-11-28T00:00:00+00:00\", \"2017-11-29T00:00:00+00:00\", \"2017-11-30T00:00:00+00:00\", \"2017-12-01T00:00:00+00:00\", \"2017-12-04T00:00:00+00:00\", \"2017-12-05T00:00:00+00:00\", \"2017-12-06T00:00:00+00:00\", \"2017-12-07T00:00:00+00:00\"], \"y\": [-2.2419453238856217, -2.2419453238856217, -2.2419453238856217, -1.2552741664857874, -1.1727076175805815, -0.8823291445867707, -0.8823291445867707, -0.8823291445867707, -0.8823291445867707, -0.8231446962170538, -0.48800583616778415, -0.48800583616778415, -0.48800583616778415, -0.41737371097862763, -2.154969628487323, -1.5470307309946671, -1.5470307309946671, -1.5470307309946671, -0.25844375985458157, 0.17861675649324926, 2.904012737864457, 2.904012737864457, 2.904012737864457, 4.701010133096805, 14.64745600098149, 23.136061610505706, 23.136061610505706, 23.136061610505706, 11.087701969663028, 26.996237745249495, 46.11641556244892, 46.11641556244892, 46.11641556244892, 46.11641556244892, 57.19158191769261, 5.5863518066787545, 5.5863518066787545, 5.5863518066787545, 16.11602464389388, 18.97418021825473, 23.155565795569732, 23.155565795569732, 23.155565795569732, -5.344451491115013, -5.36381910255603, -1.8306081241537717, -1.8306081241537717, -1.8306081241537717, -0.39047914973483866, -0.7387782897547652, -0.8718186923777865, -0.8718186923777865, -0.8718186923777865, -0.7151731857542956, -1.6816174956441228, 1.3313527413542574, 1.3313527413542574, 1.3313527413542574, -0.058175861320173716, -1.3714991348191954, -1.6389464655308619, -1.6389464655308619, -1.6389464655308619, -0.7259864897639117, -0.9992714602602509, -0.9990505488274797, -0.9990505488274797, -0.9990505488274797, -0.9994633535688066, -0.999078313629671, -0.999078313629671, -0.999078313629671, -0.999078313629671, -0.9992708724926243, -0.997974144412263, -1.0009231683313988, -1.0009231683313988, -1.0009231683313988, -1.000878131275346, -1.0023090346191434, -0.9990468108556159, -0.9990468108556159, -0.9990468108556159, -0.9966278897633181, -1.001716163684453, -0.998267529166313, -0.998267529166313, -0.998267529166313, -0.9958151702156028, -0.994904753618604, -0.9870702577642074, -0.9870702577642074, -0.9870702577642074, -0.9749760935580026, -0.9957154520346461, -0.9924834105417648, -0.9924834105417648, -0.9924834105417648, -1.001214810958065, -0.9831927031909653, -0.9714354368626339, -0.9714354368626339, -0.9714354368626339, -0.9714354368626339, -0.9758690362543063, -1.0055186974018315, -1.0055186974018315, -1.0055186974018315, -1.0035962152349194, -0.9954112791801653, -0.989309653659047, -0.989309653659047, -0.989309653659047, -0.9937143682856373, -0.9885236650404305, -0.9638802415193695, -0.9638802415193695, -0.9638802415193695, -0.9452220963724371, -1.005496252356543, -1.0110957957912345, -1.0110957957912345, -1.0110957957912345, -0.9860216341947128, -0.9538271151178326, -0.9522105340967587, -0.9522105340967587, -0.9522105340967587, -0.8682588725077267, -0.8682588725077267, -0.5314095328840658, -0.5314095328840658, -0.5314095328840658, -0.9513561523300907, -0.9396251592564806, -0.7963485801633147, -0.7963485801633147, -0.7963485801633147, -0.8729887012645174, -0.8771809336615125, -0.5220459502583302, -0.5220459502583302, -0.5220459502583302, -0.586096841521324, -1.4791966325207502, -2.00820194556139, -2.00820194556139, -2.00820194556139, -1.5461660154119854, -1.5867380649216765, -1.3177837735812712, -1.3177837735812712, -1.3177837735812712, -2.1487170183109745, -1.5452999942638845, -1.013652550159445, -1.013652550159445, -1.013652550159445, -1.0184394193574111, -1.023767315712523, -1.0106449778812363, -1.0106449778812363, -1.0106449778812363, -0.9860646895541266, -0.9881451294810676, -0.9829090253498107, -0.9829090253498107, -0.9829090253498107, -0.9610752843673874, -0.9994442188916298, -0.99976537722476, -0.99976537722476, -0.99976537722476, -0.99976537722476, -0.9999996903800756, -0.9999991900923856, -0.9999991900923856, -0.9999991900923856, -0.9999940174296006, -0.9999945675993196, -0.9999968229755717, -0.9999968229755717, -0.9999968229755717, -0.9999943331275273, -0.9999859059081085, -0.9999759256274782, -0.9999759256274782, -0.9999759256274782, -0.9999527083434739, -0.9999873476675419, -0.9999768790625734, -0.9999768790625734, -0.9999768790625734, -1.0000645652088198, -1.0001426291617974, -1.0001335237322624, -1.0001335237322624, -1.0001335237322624, -0.9991277578478127, -1.0007836891992699, -1.0059348420523178, -1.0059348420523178, -1.0059348420523178, -1.002016806793388, -1.0036167719969276, -1.0061900752862554, -1.0061900752862554, -1.0061900752862554, -1.0009953102578244, -0.9965928062639491, -1.000979709172804, -1.000979709172804, -1.000979709172804, -1.0029979401711313, -1.0041325116934352, -0.9782884620879324, -0.9782884620879324, -0.9782884620879324, -0.97937866271689, -1.0341310444484002, -1.082702772123032, -1.082702772123032, -1.082702772123032, -1.1028261138715758, -1.184202802591933, -1.237357273003029, -1.237357273003029, -1.237357273003029, -1.910883290803744, -1.7601489449090244, -2.911393282145009, -2.911393282145009, -2.911393282145009, -6.278896108953258, -17.263297958620054, -58.966372549427774, -58.966372549427774, -58.966372549427774, -34.89904792082349, 11.051413960669787, -8.742159219865957, -8.742159219865957, -8.742159219865957, 7.107318604490354, 5.630007897421699, 13.122024687451681, 13.122024687451681, 13.122024687451681, 31.546730361620064, 68.12821679530504, 43.39562223048405, 43.39562223048405, 43.39562223048405, 43.39562223048405, 38.01452287752003, -50.92267532639444, -50.92267532639444, -50.92267532639444, -50.92267532639444, -50.92267532639444, -84.82567855008209, -84.82567855008209, -84.82567855008209, 153.75231624997897, 503.1192930279642, 292.9611510830219, 292.9611510830219, 292.9611510830219, 292.9611510830219, 305.8122441707149, 401.4550986980462, 401.4550986980462, 401.4550986980462, 534.2392850443204, 445.5302353618224, 447.15600926724477, 447.15600926724477, 447.15600926724477, 441.29231017388946, 431.6945450778184, 447.23721464271927, 447.23721464271927, 447.23721464271927, 342.51163534686975, 276.19886873323946, 812.784276374006, 812.784276374006, 812.784276374006, 2520.9286476217044, 29.792992817865265, -3.642342472288925, -3.642342472288925, -3.642342472288925, -3.642342472288925, -10.349313338565183, -0.7467627908282506, -0.7467627908282506, -0.7467627908282506, -0.5687831984787423, 1.1587446595818292, 3.7162480917851033, 3.7162480917851033, 3.7162480917851033, 11.616786802592165, 14.988759259583665, 63.46802115333149, 63.46802115333149, 63.46802115333149, 28.462733211693052, 36.91158712385658, 25.55099221217837, 25.55099221217837, 25.55099221217837, -24.291722800317135, -25.56658922778949, -40.152410224225406, -40.152410224225406, -40.152410224225406, -56.96037971272878, 1207.7829330638906, -881.7407352030078, -881.7407352030078, -881.7407352030078, 22.563127681605632, 0.30848127000745285, 0.30848127000745285, 0.30848127000745285, 0.30848127000745285, 1.939581363366207, 2.2313986047849843, 2.105026732076984, 2.105026732076984, 2.105026732076984, 2.165448134278652, 2.039364052795872, 9.598346887323551, 9.598346887323551, 9.598346887323551, 8.57029463581332, -12.135457415108052, -7.077708699521714, -7.077708699521714, -7.077708699521714, -3.733503829278597, 1.6085017931261634, -0.2301426756329782, -0.2301426756329782, -0.2301426756329782, 0.36760000626044187, -0.8860640915005088, -0.5286934474253703, -0.5286934474253703, -0.5286934474253703, -1.0737330629152473, -0.9578225298544821, -0.9562863301688324, -0.9562863301688324, -0.9562863301688324, -0.8678070536569489, -0.9143200189169818, -0.8374226766461534, -0.8374226766461534, -0.8374226766461534, -0.8374226766461534, -1.0664913275730123, -1.1532502410072853, -1.1532502410072853, -1.1532502410072853, -1.2627394415726259, -1.5497173730239213, -2.8403911001685875, -2.8403911001685875, -2.8403911001685875, -5.66349785638152, -18.521586935075728, -44.356972274357524, -44.356972274357524, -44.356972274357524, -46.7623210749884, -209.31286049261354, -222.6774769411182, -222.6774769411182, -222.6774769411182, -239.6822827610419, 67.59395513471956, 99.66029597720903, 99.66029597720903, 99.66029597720903, 133.1413173612112, 585.7331078394587, -929.702766379527, -929.702766379527, -929.702766379527, 1405.564901683405, 4350.866780183071, 8993.17255955876, 8993.17255955876, 8993.17255955876, 17164.81222593244, 43400.50238872199, -50719.756950407485, -50719.756950407485, -50719.756950407485, -26799.631992840958, -74877.55299513337, -68165.28050888226, -68165.28050888226, -68165.28050888226, -293.35230066747073, -533.2915352924422, -517.3413167927342, -517.3413167927342, -517.3413167927342, 822.7264614750108, 129.83913983222146, -39.17908757295093, -39.17908757295093, -39.17908757295093, -77.70464728345735, -11.814005130817637, -13.5783157770182, -13.5783157770182, -13.5783157770182, -6.24214912997068, -10.195368201466753, -39.92559055693267, -39.92559055693267, -39.92559055693267, -199.76143841070308, -264.3332220796915, -943.0848096172072, -943.0848096172072, -943.0848096172072, -943.0848096172072, -1129.3753111099415, -681.1083981216949, -681.1083981216949, -681.1083981216949, -1900.8415930797396, -4305.223690589587, -3211.904034250165, -3211.904034250165, -3211.904034250165, -2243.131064964844, -3446.5681665747647, -3587.109913651648, -3587.109913651648, -3587.109913651648, -9255.995881574821, 7906.5808148775295, 26194.151369017905, 26194.151369017905, 26194.151369017905, 73655.77430008935, -60164.65039829401, -189176.8451302101, -189176.8451302101, -189176.8451302101, -243041.74110449385, -215197.98564645046, -221725.66224382908, -221725.66224382908, -221725.66224382908, -324200.1605191253, 227410.68097521827, 23777.039859782708, 23777.039859782708, 23777.039859782708, 10684.293031128915, 23449.33197826329, -15869.913890181764, -15869.913890181764, -15869.913890181764, 24598.030302608237, 3442.4337681602246, 16019.677087066157, 16019.677087066157, 16019.677087066157, 14995.878050368685, -152.86766991764347, -92.866385647828, -92.866385647828, -92.866385647828, 69.67852882119288, -38.574660803845994, -29.84379990434172, -29.84379990434172, -29.84379990434172, -72.36904987434067, -97.55461484959835, -83.58922627205366, -83.58922627205366, -83.58922627205366, -60.10722281213002, 6.176279146468776, 12.847203638912998, 12.847203638912998, 12.847203638912998, 11.892103218017564, -27.731871031141768, -106.90720993020139, -106.90720993020139, -106.90720993020139, 108.98371575604588]}, {\"line\": {\"color\": \"red\"}, \"mode\": \"lines\", \"name\": \"\\u7d2f\\u79ef\\u5171\\u540c\\u6536\\u76ca\\u7387\", \"type\": \"scatter\", \"x\": [\"2016-01-04T00:00:00+00:00\", \"2016-01-05T00:00:00+00:00\", \"2016-01-06T00:00:00+00:00\", \"2016-01-07T00:00:00+00:00\", \"2016-01-08T00:00:00+00:00\", \"2016-01-11T00:00:00+00:00\", \"2016-01-12T00:00:00+00:00\", \"2016-01-13T00:00:00+00:00\", \"2016-01-14T00:00:00+00:00\", \"2016-01-15T00:00:00+00:00\", \"2016-01-18T00:00:00+00:00\", \"2016-01-19T00:00:00+00:00\", \"2016-01-20T00:00:00+00:00\", \"2016-01-21T00:00:00+00:00\", \"2016-01-22T00:00:00+00:00\", \"2016-01-25T00:00:00+00:00\", \"2016-01-26T00:00:00+00:00\", \"2016-01-27T00:00:00+00:00\", \"2016-01-28T00:00:00+00:00\", \"2016-01-29T00:00:00+00:00\", \"2016-02-01T00:00:00+00:00\", \"2016-02-02T00:00:00+00:00\", \"2016-02-03T00:00:00+00:00\", \"2016-02-04T00:00:00+00:00\", \"2016-02-05T00:00:00+00:00\", \"2016-02-08T00:00:00+00:00\", \"2016-02-09T00:00:00+00:00\", \"2016-02-10T00:00:00+00:00\", \"2016-02-11T00:00:00+00:00\", \"2016-02-12T00:00:00+00:00\", \"2016-02-15T00:00:00+00:00\", \"2016-02-16T00:00:00+00:00\", \"2016-02-17T00:00:00+00:00\", \"2016-02-18T00:00:00+00:00\", \"2016-02-19T00:00:00+00:00\", \"2016-02-22T00:00:00+00:00\", \"2016-02-23T00:00:00+00:00\", \"2016-02-24T00:00:00+00:00\", \"2016-02-25T00:00:00+00:00\", \"2016-02-26T00:00:00+00:00\", \"2016-02-29T00:00:00+00:00\", \"2016-03-01T00:00:00+00:00\", \"2016-03-02T00:00:00+00:00\", \"2016-03-03T00:00:00+00:00\", \"2016-03-04T00:00:00+00:00\", \"2016-03-07T00:00:00+00:00\", \"2016-03-08T00:00:00+00:00\", \"2016-03-09T00:00:00+00:00\", \"2016-03-10T00:00:00+00:00\", \"2016-03-11T00:00:00+00:00\", \"2016-03-14T00:00:00+00:00\", \"2016-03-15T00:00:00+00:00\", \"2016-03-16T00:00:00+00:00\", \"2016-03-17T00:00:00+00:00\", \"2016-03-18T00:00:00+00:00\", \"2016-03-21T00:00:00+00:00\", \"2016-03-22T00:00:00+00:00\", \"2016-03-23T00:00:00+00:00\", \"2016-03-24T00:00:00+00:00\", \"2016-03-25T00:00:00+00:00\", \"2016-03-28T00:00:00+00:00\", \"2016-03-29T00:00:00+00:00\", \"2016-03-30T00:00:00+00:00\", \"2016-03-31T00:00:00+00:00\", \"2016-04-01T00:00:00+00:00\", \"2016-04-04T00:00:00+00:00\", \"2016-04-05T00:00:00+00:00\", \"2016-04-06T00:00:00+00:00\", \"2016-04-07T00:00:00+00:00\", \"2016-04-08T00:00:00+00:00\", \"2016-04-11T00:00:00+00:00\", \"2016-04-12T00:00:00+00:00\", \"2016-04-13T00:00:00+00:00\", \"2016-04-14T00:00:00+00:00\", \"2016-04-15T00:00:00+00:00\", \"2016-04-18T00:00:00+00:00\", \"2016-04-19T00:00:00+00:00\", \"2016-04-20T00:00:00+00:00\", \"2016-04-21T00:00:00+00:00\", \"2016-04-22T00:00:00+00:00\", \"2016-04-25T00:00:00+00:00\", \"2016-04-26T00:00:00+00:00\", \"2016-04-27T00:00:00+00:00\", \"2016-04-28T00:00:00+00:00\", \"2016-04-29T00:00:00+00:00\", \"2016-05-02T00:00:00+00:00\", \"2016-05-03T00:00:00+00:00\", \"2016-05-04T00:00:00+00:00\", \"2016-05-05T00:00:00+00:00\", \"2016-05-06T00:00:00+00:00\", \"2016-05-09T00:00:00+00:00\", \"2016-05-10T00:00:00+00:00\", \"2016-05-11T00:00:00+00:00\", \"2016-05-12T00:00:00+00:00\", \"2016-05-13T00:00:00+00:00\", \"2016-05-16T00:00:00+00:00\", \"2016-05-17T00:00:00+00:00\", \"2016-05-18T00:00:00+00:00\", \"2016-05-19T00:00:00+00:00\", \"2016-05-20T00:00:00+00:00\", \"2016-05-23T00:00:00+00:00\", \"2016-05-24T00:00:00+00:00\", \"2016-05-25T00:00:00+00:00\", \"2016-05-26T00:00:00+00:00\", \"2016-05-27T00:00:00+00:00\", \"2016-05-30T00:00:00+00:00\", \"2016-05-31T00:00:00+00:00\", \"2016-06-01T00:00:00+00:00\", \"2016-06-02T00:00:00+00:00\", \"2016-06-03T00:00:00+00:00\", \"2016-06-06T00:00:00+00:00\", \"2016-06-07T00:00:00+00:00\", \"2016-06-08T00:00:00+00:00\", \"2016-06-09T00:00:00+00:00\", \"2016-06-10T00:00:00+00:00\", \"2016-06-13T00:00:00+00:00\", \"2016-06-14T00:00:00+00:00\", \"2016-06-15T00:00:00+00:00\", \"2016-06-16T00:00:00+00:00\", \"2016-06-17T00:00:00+00:00\", \"2016-06-20T00:00:00+00:00\", \"2016-06-21T00:00:00+00:00\", \"2016-06-22T00:00:00+00:00\", \"2016-06-23T00:00:00+00:00\", \"2016-06-24T00:00:00+00:00\", \"2016-06-27T00:00:00+00:00\", \"2016-06-28T00:00:00+00:00\", \"2016-06-29T00:00:00+00:00\", \"2016-06-30T00:00:00+00:00\", \"2016-07-01T00:00:00+00:00\", \"2016-07-04T00:00:00+00:00\", \"2016-07-05T00:00:00+00:00\", \"2016-07-06T00:00:00+00:00\", \"2016-07-07T00:00:00+00:00\", \"2016-07-08T00:00:00+00:00\", \"2016-07-11T00:00:00+00:00\", \"2016-07-12T00:00:00+00:00\", \"2016-07-13T00:00:00+00:00\", \"2016-07-14T00:00:00+00:00\", \"2016-07-15T00:00:00+00:00\", \"2016-07-18T00:00:00+00:00\", \"2016-07-19T00:00:00+00:00\", \"2016-07-20T00:00:00+00:00\", \"2016-07-21T00:00:00+00:00\", \"2016-07-22T00:00:00+00:00\", \"2016-07-25T00:00:00+00:00\", \"2016-07-26T00:00:00+00:00\", \"2016-07-27T00:00:00+00:00\", \"2016-07-28T00:00:00+00:00\", \"2016-07-29T00:00:00+00:00\", \"2016-08-01T00:00:00+00:00\", \"2016-08-02T00:00:00+00:00\", \"2016-08-03T00:00:00+00:00\", \"2016-08-04T00:00:00+00:00\", \"2016-08-05T00:00:00+00:00\", \"2016-08-08T00:00:00+00:00\", \"2016-08-09T00:00:00+00:00\", \"2016-08-10T00:00:00+00:00\", \"2016-08-11T00:00:00+00:00\", \"2016-08-12T00:00:00+00:00\", \"2016-08-15T00:00:00+00:00\", \"2016-08-16T00:00:00+00:00\", \"2016-08-17T00:00:00+00:00\", \"2016-08-18T00:00:00+00:00\", \"2016-08-19T00:00:00+00:00\", \"2016-08-22T00:00:00+00:00\", \"2016-08-23T00:00:00+00:00\", \"2016-08-24T00:00:00+00:00\", \"2016-08-25T00:00:00+00:00\", \"2016-08-26T00:00:00+00:00\", \"2016-08-29T00:00:00+00:00\", \"2016-08-30T00:00:00+00:00\", \"2016-08-31T00:00:00+00:00\", \"2016-09-01T00:00:00+00:00\", \"2016-09-02T00:00:00+00:00\", \"2016-09-05T00:00:00+00:00\", \"2016-09-06T00:00:00+00:00\", \"2016-09-07T00:00:00+00:00\", \"2016-09-08T00:00:00+00:00\", \"2016-09-09T00:00:00+00:00\", \"2016-09-12T00:00:00+00:00\", \"2016-09-13T00:00:00+00:00\", \"2016-09-14T00:00:00+00:00\", \"2016-09-15T00:00:00+00:00\", \"2016-09-16T00:00:00+00:00\", \"2016-09-19T00:00:00+00:00\", \"2016-09-20T00:00:00+00:00\", \"2016-09-21T00:00:00+00:00\", \"2016-09-22T00:00:00+00:00\", \"2016-09-23T00:00:00+00:00\", \"2016-09-26T00:00:00+00:00\", \"2016-09-27T00:00:00+00:00\", \"2016-09-28T00:00:00+00:00\", \"2016-09-29T00:00:00+00:00\", \"2016-09-30T00:00:00+00:00\", \"2016-10-03T00:00:00+00:00\", \"2016-10-04T00:00:00+00:00\", \"2016-10-05T00:00:00+00:00\", \"2016-10-06T00:00:00+00:00\", \"2016-10-07T00:00:00+00:00\", \"2016-10-10T00:00:00+00:00\", \"2016-10-11T00:00:00+00:00\", \"2016-10-12T00:00:00+00:00\", \"2016-10-13T00:00:00+00:00\", \"2016-10-14T00:00:00+00:00\", \"2016-10-17T00:00:00+00:00\", \"2016-10-18T00:00:00+00:00\", \"2016-10-19T00:00:00+00:00\", \"2016-10-20T00:00:00+00:00\", \"2016-10-21T00:00:00+00:00\", \"2016-10-24T00:00:00+00:00\", \"2016-10-25T00:00:00+00:00\", \"2016-10-26T00:00:00+00:00\", \"2016-10-27T00:00:00+00:00\", \"2016-10-28T00:00:00+00:00\", \"2016-10-31T00:00:00+00:00\", \"2016-11-01T00:00:00+00:00\", \"2016-11-02T00:00:00+00:00\", \"2016-11-03T00:00:00+00:00\", \"2016-11-04T00:00:00+00:00\", \"2016-11-07T00:00:00+00:00\", \"2016-11-08T00:00:00+00:00\", \"2016-11-09T00:00:00+00:00\", \"2016-11-10T00:00:00+00:00\", \"2016-11-11T00:00:00+00:00\", \"2016-11-14T00:00:00+00:00\", \"2016-11-15T00:00:00+00:00\", \"2016-11-16T00:00:00+00:00\", \"2016-11-17T00:00:00+00:00\", \"2016-11-18T00:00:00+00:00\", \"2016-11-21T00:00:00+00:00\", \"2016-11-22T00:00:00+00:00\", \"2016-11-23T00:00:00+00:00\", \"2016-11-24T00:00:00+00:00\", \"2016-11-25T00:00:00+00:00\", \"2016-11-28T00:00:00+00:00\", \"2016-11-29T00:00:00+00:00\", \"2016-11-30T00:00:00+00:00\", \"2016-12-01T00:00:00+00:00\", \"2016-12-02T00:00:00+00:00\", \"2016-12-05T00:00:00+00:00\", \"2016-12-06T00:00:00+00:00\", \"2016-12-07T00:00:00+00:00\", \"2016-12-08T00:00:00+00:00\", \"2016-12-09T00:00:00+00:00\", \"2016-12-12T00:00:00+00:00\", \"2016-12-13T00:00:00+00:00\", \"2016-12-14T00:00:00+00:00\", \"2016-12-15T00:00:00+00:00\", \"2016-12-16T00:00:00+00:00\", \"2016-12-19T00:00:00+00:00\", \"2016-12-20T00:00:00+00:00\", \"2016-12-21T00:00:00+00:00\", \"2016-12-22T00:00:00+00:00\", \"2016-12-23T00:00:00+00:00\", \"2016-12-26T00:00:00+00:00\", \"2016-12-27T00:00:00+00:00\", \"2016-12-28T00:00:00+00:00\", \"2016-12-29T00:00:00+00:00\", \"2016-12-30T00:00:00+00:00\", \"2017-01-02T00:00:00+00:00\", \"2017-01-03T00:00:00+00:00\", \"2017-01-04T00:00:00+00:00\", \"2017-01-05T00:00:00+00:00\", \"2017-01-06T00:00:00+00:00\", \"2017-01-09T00:00:00+00:00\", \"2017-01-10T00:00:00+00:00\", \"2017-01-11T00:00:00+00:00\", \"2017-01-12T00:00:00+00:00\", \"2017-01-13T00:00:00+00:00\", \"2017-01-16T00:00:00+00:00\", \"2017-01-17T00:00:00+00:00\", \"2017-01-18T00:00:00+00:00\", \"2017-01-19T00:00:00+00:00\", \"2017-01-20T00:00:00+00:00\", \"2017-01-23T00:00:00+00:00\", \"2017-01-24T00:00:00+00:00\", \"2017-01-25T00:00:00+00:00\", \"2017-01-26T00:00:00+00:00\", \"2017-01-27T00:00:00+00:00\", \"2017-01-30T00:00:00+00:00\", \"2017-01-31T00:00:00+00:00\", \"2017-02-01T00:00:00+00:00\", \"2017-02-02T00:00:00+00:00\", \"2017-02-03T00:00:00+00:00\", \"2017-02-06T00:00:00+00:00\", \"2017-02-07T00:00:00+00:00\", \"2017-02-08T00:00:00+00:00\", \"2017-02-09T00:00:00+00:00\", \"2017-02-10T00:00:00+00:00\", \"2017-02-13T00:00:00+00:00\", \"2017-02-14T00:00:00+00:00\", \"2017-02-15T00:00:00+00:00\", \"2017-02-16T00:00:00+00:00\", \"2017-02-17T00:00:00+00:00\", \"2017-02-20T00:00:00+00:00\", \"2017-02-21T00:00:00+00:00\", \"2017-02-22T00:00:00+00:00\", \"2017-02-23T00:00:00+00:00\", \"2017-02-24T00:00:00+00:00\", \"2017-02-27T00:00:00+00:00\", \"2017-02-28T00:00:00+00:00\", \"2017-03-01T00:00:00+00:00\", \"2017-03-02T00:00:00+00:00\", \"2017-03-03T00:00:00+00:00\", \"2017-03-06T00:00:00+00:00\", \"2017-03-07T00:00:00+00:00\", \"2017-03-08T00:00:00+00:00\", \"2017-03-09T00:00:00+00:00\", \"2017-03-10T00:00:00+00:00\", \"2017-03-13T00:00:00+00:00\", \"2017-03-14T00:00:00+00:00\", \"2017-03-15T00:00:00+00:00\", \"2017-03-16T00:00:00+00:00\", \"2017-03-17T00:00:00+00:00\", \"2017-03-20T00:00:00+00:00\", \"2017-03-21T00:00:00+00:00\", \"2017-03-22T00:00:00+00:00\", \"2017-03-23T00:00:00+00:00\", \"2017-03-24T00:00:00+00:00\", \"2017-03-27T00:00:00+00:00\", \"2017-03-28T00:00:00+00:00\", \"2017-03-29T00:00:00+00:00\", \"2017-03-30T00:00:00+00:00\", \"2017-03-31T00:00:00+00:00\", \"2017-04-03T00:00:00+00:00\", \"2017-04-04T00:00:00+00:00\", \"2017-04-05T00:00:00+00:00\", \"2017-04-06T00:00:00+00:00\", \"2017-04-07T00:00:00+00:00\", \"2017-04-10T00:00:00+00:00\", \"2017-04-11T00:00:00+00:00\", \"2017-04-12T00:00:00+00:00\", \"2017-04-13T00:00:00+00:00\", \"2017-04-14T00:00:00+00:00\", \"2017-04-17T00:00:00+00:00\", \"2017-04-18T00:00:00+00:00\", \"2017-04-19T00:00:00+00:00\", \"2017-04-20T00:00:00+00:00\", \"2017-04-21T00:00:00+00:00\", \"2017-04-24T00:00:00+00:00\", \"2017-04-25T00:00:00+00:00\", \"2017-04-26T00:00:00+00:00\", \"2017-04-27T00:00:00+00:00\", \"2017-04-28T00:00:00+00:00\", \"2017-05-01T00:00:00+00:00\", \"2017-05-02T00:00:00+00:00\", \"2017-05-03T00:00:00+00:00\", \"2017-05-04T00:00:00+00:00\", \"2017-05-05T00:00:00+00:00\", \"2017-05-08T00:00:00+00:00\", \"2017-05-09T00:00:00+00:00\", \"2017-05-10T00:00:00+00:00\", \"2017-05-11T00:00:00+00:00\", \"2017-05-12T00:00:00+00:00\", \"2017-05-15T00:00:00+00:00\", \"2017-05-16T00:00:00+00:00\", \"2017-05-17T00:00:00+00:00\", \"2017-05-18T00:00:00+00:00\", \"2017-05-19T00:00:00+00:00\", \"2017-05-22T00:00:00+00:00\", \"2017-05-23T00:00:00+00:00\", \"2017-05-24T00:00:00+00:00\", \"2017-05-25T00:00:00+00:00\", \"2017-05-26T00:00:00+00:00\", \"2017-05-29T00:00:00+00:00\", \"2017-05-30T00:00:00+00:00\", \"2017-05-31T00:00:00+00:00\", \"2017-06-01T00:00:00+00:00\", \"2017-06-02T00:00:00+00:00\", \"2017-06-05T00:00:00+00:00\", \"2017-06-06T00:00:00+00:00\", \"2017-06-07T00:00:00+00:00\", \"2017-06-08T00:00:00+00:00\", \"2017-06-09T00:00:00+00:00\", \"2017-06-12T00:00:00+00:00\", \"2017-06-13T00:00:00+00:00\", \"2017-06-14T00:00:00+00:00\", \"2017-06-15T00:00:00+00:00\", \"2017-06-16T00:00:00+00:00\", \"2017-06-19T00:00:00+00:00\", \"2017-06-20T00:00:00+00:00\", \"2017-06-21T00:00:00+00:00\", \"2017-06-22T00:00:00+00:00\", \"2017-06-23T00:00:00+00:00\", \"2017-06-26T00:00:00+00:00\", \"2017-06-27T00:00:00+00:00\", \"2017-06-28T00:00:00+00:00\", \"2017-06-29T00:00:00+00:00\", \"2017-06-30T00:00:00+00:00\", \"2017-07-03T00:00:00+00:00\", \"2017-07-04T00:00:00+00:00\", \"2017-07-05T00:00:00+00:00\", \"2017-07-06T00:00:00+00:00\", \"2017-07-07T00:00:00+00:00\", \"2017-07-10T00:00:00+00:00\", \"2017-07-11T00:00:00+00:00\", \"2017-07-12T00:00:00+00:00\", \"2017-07-13T00:00:00+00:00\", \"2017-07-14T00:00:00+00:00\", \"2017-07-17T00:00:00+00:00\", \"2017-07-18T00:00:00+00:00\", \"2017-07-19T00:00:00+00:00\", \"2017-07-20T00:00:00+00:00\", \"2017-07-21T00:00:00+00:00\", \"2017-07-24T00:00:00+00:00\", \"2017-07-25T00:00:00+00:00\", \"2017-07-26T00:00:00+00:00\", \"2017-07-27T00:00:00+00:00\", \"2017-07-28T00:00:00+00:00\", \"2017-07-31T00:00:00+00:00\", \"2017-08-01T00:00:00+00:00\", \"2017-08-02T00:00:00+00:00\", \"2017-08-03T00:00:00+00:00\", \"2017-08-04T00:00:00+00:00\", \"2017-08-07T00:00:00+00:00\", \"2017-08-08T00:00:00+00:00\", \"2017-08-09T00:00:00+00:00\", \"2017-08-10T00:00:00+00:00\", \"2017-08-11T00:00:00+00:00\", \"2017-08-14T00:00:00+00:00\", \"2017-08-15T00:00:00+00:00\", \"2017-08-16T00:00:00+00:00\", \"2017-08-17T00:00:00+00:00\", \"2017-08-18T00:00:00+00:00\", \"2017-08-21T00:00:00+00:00\", \"2017-08-22T00:00:00+00:00\", \"2017-08-23T00:00:00+00:00\", \"2017-08-24T00:00:00+00:00\", \"2017-08-25T00:00:00+00:00\", \"2017-08-28T00:00:00+00:00\", \"2017-08-29T00:00:00+00:00\", \"2017-08-30T00:00:00+00:00\", \"2017-08-31T00:00:00+00:00\", \"2017-09-01T00:00:00+00:00\", \"2017-09-04T00:00:00+00:00\", \"2017-09-05T00:00:00+00:00\", \"2017-09-06T00:00:00+00:00\", \"2017-09-07T00:00:00+00:00\", \"2017-09-08T00:00:00+00:00\", \"2017-09-11T00:00:00+00:00\", \"2017-09-12T00:00:00+00:00\", \"2017-09-13T00:00:00+00:00\", \"2017-09-14T00:00:00+00:00\", \"2017-09-15T00:00:00+00:00\", \"2017-09-18T00:00:00+00:00\", \"2017-09-19T00:00:00+00:00\", \"2017-09-20T00:00:00+00:00\", \"2017-09-21T00:00:00+00:00\", \"2017-09-22T00:00:00+00:00\", \"2017-09-25T00:00:00+00:00\", \"2017-09-26T00:00:00+00:00\", \"2017-09-27T00:00:00+00:00\", \"2017-09-28T00:00:00+00:00\", \"2017-09-29T00:00:00+00:00\", \"2017-10-02T00:00:00+00:00\", \"2017-10-03T00:00:00+00:00\", \"2017-10-04T00:00:00+00:00\", \"2017-10-05T00:00:00+00:00\", \"2017-10-06T00:00:00+00:00\", \"2017-10-09T00:00:00+00:00\", \"2017-10-10T00:00:00+00:00\", \"2017-10-11T00:00:00+00:00\", \"2017-10-12T00:00:00+00:00\", \"2017-10-13T00:00:00+00:00\", \"2017-10-16T00:00:00+00:00\", \"2017-10-17T00:00:00+00:00\", \"2017-10-18T00:00:00+00:00\", \"2017-10-19T00:00:00+00:00\", \"2017-10-20T00:00:00+00:00\", \"2017-10-23T00:00:00+00:00\", \"2017-10-24T00:00:00+00:00\", \"2017-10-25T00:00:00+00:00\", \"2017-10-26T00:00:00+00:00\", \"2017-10-27T00:00:00+00:00\", \"2017-10-30T00:00:00+00:00\", \"2017-10-31T00:00:00+00:00\", \"2017-11-01T00:00:00+00:00\", \"2017-11-02T00:00:00+00:00\", \"2017-11-03T00:00:00+00:00\", \"2017-11-06T00:00:00+00:00\", \"2017-11-07T00:00:00+00:00\", \"2017-11-08T00:00:00+00:00\", \"2017-11-09T00:00:00+00:00\", \"2017-11-10T00:00:00+00:00\", \"2017-11-13T00:00:00+00:00\", \"2017-11-14T00:00:00+00:00\", \"2017-11-15T00:00:00+00:00\", \"2017-11-16T00:00:00+00:00\", \"2017-11-17T00:00:00+00:00\", \"2017-11-20T00:00:00+00:00\", \"2017-11-21T00:00:00+00:00\", \"2017-11-22T00:00:00+00:00\", \"2017-11-23T00:00:00+00:00\", \"2017-11-24T00:00:00+00:00\", \"2017-11-27T00:00:00+00:00\", \"2017-11-28T00:00:00+00:00\", \"2017-11-29T00:00:00+00:00\", \"2017-11-30T00:00:00+00:00\", \"2017-12-01T00:00:00+00:00\", \"2017-12-04T00:00:00+00:00\", \"2017-12-05T00:00:00+00:00\", \"2017-12-06T00:00:00+00:00\", \"2017-12-07T00:00:00+00:00\"], \"y\": [2.245765756004652, 2.245765756004652, 2.245765756004652, 4.847553113527009, 6.718823209867136, 19.647212720779493, 19.647212720779493, 19.647212720779493, 19.647212720779493, 9.090344898227919, -10.204916480180954, -10.204916480180954, -10.204916480180954, -8.898943139125437, -32.456165965765365, -49.15605645691104, -49.15605645691104, -49.15605645691104, -162.86876879903616, -67.74252432420522, 87.56954419071799, 87.56954419071799, 87.56954419071799, 46.65241642620988, -36.706317102611095, -17.705114632470544, -17.705114632470544, -17.705114632470544, -26.06117726077945, 6.6132610529271805, 1.4172280706232296, 1.4172280706232296, 1.4172280706232296, 1.4172280706232296, 0.8347396923455712, 2.4607952529528605, 2.4607952529528605, 2.4607952529528605, -3.018551332930363, -2.6500428286715985, -2.2796816796256394, -2.2796816796256394, -2.2796816796256394, -3.7769637675143195, -3.7301611468040115, -5.970440508528778, -5.970440508528778, -5.970440508528778, -14.551156983159007, -22.53940098489545, -33.433224546842254, -33.433224546842254, -33.433224546842254, 5.991124170276635, 29.730199141817366, 166.0011520565864, 166.0011520565864, 166.0011520565864, 264.73735160752653, 633.2103892878838, 178.8318358073826, 178.8318358073826, 178.8318358073826, 435.5703475597639, 872.408958535148, 595.8415365642581, 595.8415365642581, 595.8415365642581, 850.4211525261491, 231.62442392961293, 231.62442392961293, 231.62442392961293, 231.62442392961293, 279.5212743748859, -215.14756234538652, -520.5557327250467, -520.5557327250467, -520.5557327250467, -546.5323108053221, 342.22276162668834, 827.8564831647014, 827.8564831647014, 827.8564831647014, -1281.819015205959, -3212.883023314027, -9711.132597271015, -9711.132597271015, -9711.132597271015, 3847.195061844782, 2912.5641373030344, -1574.0570031478198, -1574.0570031478198, -1574.0570031478198, -91.39595950922069, -166.13419424972886, -52.18335280300558, -52.18335280300558, -52.18335280300558, -110.59552512315672, -1736.8349098816004, -542.9715339227679, -542.9715339227679, -542.9715339227679, -542.9715339227679, -623.7051838534381, -1383.2604314864184, -1383.2604314864184, -1383.2604314864184, -1833.8592821681204, -5999.907877125271, 1962.3328838211826, 1962.3328838211826, 1962.3328838211826, 2732.966802118819, 462.86514216014126, -533.9014799109133, -533.9014799109133, -533.9014799109133, -252.87455572702785, -531.4695779306393, 7.599964301047171, 7.599964301047171, 7.599964301047171, 27.00596821692922, -37.94810883735193, -36.562146111872245, -36.562146111872245, -36.562146111872245, 25.999250110942626, 25.999250110942626, -44.19226922752651, -44.19226922752651, -44.19226922752651, -82.91910947942368, -63.21764285176704, 85.25208467088011, 85.25208467088011, 85.25208467088011, 117.34381632674743, 121.41387662612199, -239.4165319829949, -239.4165319829949, -239.4165319829949, -270.64432974796347, -852.3404866513939, 61.34781104656831, 61.34781104656831, 61.34781104656831, 90.60724512242531, 82.89384599322457, 122.25201065720307, 122.25201065720307, 122.25201065720307, -200.6123761421308, -305.3932901619825, -600.6239599529762, -600.6239599529762, -600.6239599529762, -397.43752859120787, -286.42115921434083, -446.9162656828825, -446.9162656828825, -446.9162656828825, -1470.5814289797618, -1692.8440896988577, -922.6461495799499, -922.6461495799499, -922.6461495799499, 242.938595621138, 484.4672557307243, 768.8161357550296, 768.8161357550296, 768.8161357550296, 768.8161357550296, 1546.6327174722494, -924.0309470259696, -924.0309470259696, -924.0309470259696, 4966.882972962482, 5539.201698717973, 7770.40830346539, 7770.40830346539, 7770.40830346539, 1708.05748157967, -833.1308011772426, -248.00802037972082, -248.00802037972082, -248.00802037972082, -16.23592248258998, -27.788941758841798, -5.317994814102081, -5.317994814102081, -5.317994814102081, -21.66589918531942, 3.4810252566505815, 3.757194341234996, 3.757194341234996, 3.757194341234996, 39.596770656316416, 117.12343896009953, -658.4066231661832, -658.4066231661832, -658.4066231661832, -1094.770097583509, -208.9819013659655, -65.47485246484933, -65.47485246484933, -65.47485246484933, -120.00318200144794, -646.7853768622383, -1470.247098558137, -1470.247098558137, -1470.247098558137, 1542.5945469508117, 993.1842887008338, 7211.774961254716, 7211.774961254716, 7211.774961254716, 7658.506049914383, 28025.035707498057, -11653.551096479303, -11653.551096479303, -11653.551096479303, -8879.804090854652, -2028.3238061544669, -1449.6509261214173, -1449.6509261214173, -1449.6509261214173, 2668.2057971274317, 3106.0509123546562, -1613.5243301335329, -1613.5243301335329, -1613.5243301335329, 1244.7555117619052, -1350.6427473242877, 2122.7596098565323, 2122.7596098565323, 2122.7596098565323, 3038.2753738834913, 7156.847023868339, 18892.634186606236, 18892.634186606236, 18892.634186606236, 57612.14755167524, 67767.8966799389, -9175.706979683142, -9175.706979683142, -9175.706979683142, 2835.3343258219375, -366.3148427652801, -494.82184382656357, -494.82184382656357, -494.82184382656357, -494.82184382656357, -554.6452458976505, -1811.3067658308362, -1811.3067658308362, -1811.3067658308362, -1811.3067658308362, -1811.3067658308362, -560.9574061581616, -560.9574061581616, -560.9574061581616, -2160.234143705548, 2704.2118632261186, 3838.183695883331, 3838.183695883331, 3838.183695883331, 3838.183695883331, 3643.3569605334214, 2500.208430229894, 2500.208430229894, 2500.208430229894, 1644.4567558243716, 1923.8232536695668, 1923.8232536695668, 1923.8232536695668, 1923.8232536695668, 1923.8232536695668, 1923.8232536695668, 1923.8232536695668, 1923.8232536695668, 1923.8232536695668, 2364.2988935028134, 2814.4186758594583, -2653.4158551362716, -2653.4158551362716, -2653.4158551362716, 2926.3083193765938, 5852.998324487928, 12233.617209599652, 12233.617209599652, 12233.617209599652, 12233.617209599652, -18843.751562648882, -38237.74774891936, -38237.74774891936, -38237.74774891936, -12789.703755262206, 38918.330060664775, -8037.682920330353, -8037.682920330353, -8037.682920330353, 5552.568122217812, 4120.531946964502, -8383.97127343672, -8383.97127343672, -8383.97127343672, -13001.466349291175, -9009.789434510132, -11707.23295405433, -11707.23295405433, -11707.23295405433, -33646.39137446997, -31733.718102718907, -13021.236225713414, -13021.236225713414, -13021.236225713414, -7496.643951622518, -176870.5087436062, -482526.7969438248, -482526.7969438248, -482526.7969438248, -972913.260478842, -1900184.0191188618, -1900184.0191188618, -1900184.0191188618, -1900184.0191188618, 405617.92294351675, 364611.4112763114, 377679.23272624135, 377679.23272624135, 377679.23272624135, 370983.7629822224, 386412.4522250551, -573320.0186682945, -573320.0186682945, -573320.0186682945, -624651.5427114776, -1974704.5641579905, -2873793.5896695703, -2873793.5896695703, -2873793.5896695703, -4411752.102047201, -13017734.253147047, -22244257.51678921, -22244257.51678921, -22244257.51678921, -4972909.551992163, -9529286.369646657, 20187379.1784411, 20187379.1784411, 20187379.1784411, 43653233.93223213, 111841756.7734046, 109254693.91068242, 109254693.91068242, 109254693.91068242, -111068829.14780696, -152904482.10418788, -14780465.734117543, -14780465.734117543, -14780465.734117543, -14780465.734117543, -35571099.62041499, 10773983.252034508, 10773983.252034508, 10773983.252034508, 3023735.7491698177, -313057.21160707105, 414666.84104529506, 414666.84104529506, 414666.84104529506, -222139.12797925607, 391962.4463344226, -185658.5387419342, -185658.5387419342, -185658.5387419342, -175345.1602659415, 447017.18570242875, 413473.8463480963, 413473.8463480963, 413473.8463480963, 383913.4436231533, 877451.1286455654, 462320.20466864906, 462320.20466864906, 462320.20466864906, 315627.8421765558, -747606.037277909, -2688545.7138618533, -2688545.7138618533, -2688545.7138618533, -9452414.875375817, 10490273.42224615, -670437.3627493726, -670437.3627493726, -670437.3627493726, -72619.63812552817, 38574.095238641414, 122083.8840273237, 122083.8840273237, 122083.8840273237, 179329.93442848165, -146341.73057425834, -162777.68764111403, -162777.68764111403, -162777.68764111403, -324527.48855840525, -53173.53565823228, -53192.12711289943, -53192.12711289943, -53192.12711289943, -191144.36128073843, -354421.5914608503, -821758.9899644301, -821758.9899644301, -821758.9899644301, -1608.8289481185848, -2968.163140261017, -2569.1473690460466, -2569.1473690460466, -2569.1473690460466, -4081.1453700124466, -1057.54269474057, 2346.5648455981345, 2346.5648455981345, 2346.5648455981345, -7322.15211092867, -4767.9766885946, 7471.268668154215, 7471.268668154215, 7471.268668154215, 7471.268668154215, 6012.3639144158415, 8189.902393830531, 8189.902393830531, 8189.902393830531, -6517.644451634845, 1601.6519939629352, 1989.9728427331556, 1989.9728427331556, 1989.9728427331556, 2592.05815991387, 1262.9444796802238, 1221.5041103665171, 1221.5041103665171, 1221.5041103665171, -723.3594653691141, -2049.2620892326404, 2676.6122800369126, 2676.6122800369126, 2676.6122800369126, -2159.1054342722678, -6093.305980408117, 6856.249649308467, 6856.249649308467, 6856.249649308467, 4910.311183584124, 5510.166850111797, 5387.302507905212, 5387.302507905212, 5387.302507905212, 2899.495620692341, 7805.268125714955, 14604.025559978396, 14604.025559978396, 14604.025559978396, 22788.372230018475, -4470.9930133036705, -12024.431908724351, -12024.431908724351, -12024.431908724351, -42801.795972291555, -79818.01568181255, 210520.50078686813, 210520.50078686813, 210520.50078686813, 225436.40628287283, 455339.4719722864, 622067.6413381585, 622067.6413381585, 622067.6413381585, 1720339.8646964193, 4397923.71413787, 5474784.26307593, 5474784.26307593, 5474784.26307593, -2622043.4653657544, -1731847.956000555, -2003856.9669011927, -2003856.9669011927, -2003856.9669011927, -2540912.883225849, -5432177.498657635, -237519.08450032907, -237519.08450032907, -237519.08450032907, -251328.2099361433, -1018949.5946320693, 1992408.874687137, 1992408.874687137, 1992408.874687137, 6070477.109147596]}],\n",
       "                        {\"legend\": {\"bgcolor\": \"LightSteelBlue\", \"bordercolor\": \"blue\", \"borderwidth\": 1, \"font\": {\"color\": \"black\", \"family\": \"SimHei\", \"size\": 12}, \"title\": {\"font\": {\"family\": \"SimHei\"}}, \"traceorder\": \"reversed\", \"x\": 0, \"y\": 1}, \"template\": {\"data\": {\"bar\": [{\"error_x\": {\"color\": \"#2a3f5f\"}, \"error_y\": {\"color\": \"#2a3f5f\"}, \"marker\": {\"line\": {\"color\": \"#E5ECF6\", \"width\": 0.5}}, \"type\": \"bar\"}], \"barpolar\": [{\"marker\": {\"line\": {\"color\": \"#E5ECF6\", \"width\": 0.5}}, \"type\": \"barpolar\"}], \"carpet\": [{\"aaxis\": {\"endlinecolor\": \"#2a3f5f\", \"gridcolor\": \"white\", \"linecolor\": \"white\", \"minorgridcolor\": \"white\", \"startlinecolor\": \"#2a3f5f\"}, \"baxis\": {\"endlinecolor\": \"#2a3f5f\", \"gridcolor\": \"white\", \"linecolor\": \"white\", \"minorgridcolor\": \"white\", \"startlinecolor\": \"#2a3f5f\"}, \"type\": \"carpet\"}], \"choropleth\": [{\"colorbar\": {\"outlinewidth\": 0, \"ticks\": \"\"}, \"type\": \"choropleth\"}], \"contour\": [{\"colorbar\": {\"outlinewidth\": 0, \"ticks\": \"\"}, \"colorscale\": [[0.0, \"#0d0887\"], [0.1111111111111111, \"#46039f\"], [0.2222222222222222, \"#7201a8\"], [0.3333333333333333, \"#9c179e\"], [0.4444444444444444, \"#bd3786\"], [0.5555555555555556, \"#d8576b\"], [0.6666666666666666, \"#ed7953\"], [0.7777777777777778, \"#fb9f3a\"], [0.8888888888888888, \"#fdca26\"], [1.0, \"#f0f921\"]], \"type\": \"contour\"}], \"contourcarpet\": [{\"colorbar\": {\"outlinewidth\": 0, \"ticks\": \"\"}, \"type\": \"contourcarpet\"}], \"heatmap\": [{\"colorbar\": {\"outlinewidth\": 0, \"ticks\": \"\"}, \"colorscale\": [[0.0, \"#0d0887\"], [0.1111111111111111, \"#46039f\"], [0.2222222222222222, \"#7201a8\"], [0.3333333333333333, \"#9c179e\"], [0.4444444444444444, \"#bd3786\"], [0.5555555555555556, \"#d8576b\"], [0.6666666666666666, \"#ed7953\"], [0.7777777777777778, \"#fb9f3a\"], [0.8888888888888888, \"#fdca26\"], [1.0, \"#f0f921\"]], \"type\": \"heatmap\"}], \"heatmapgl\": [{\"colorbar\": {\"outlinewidth\": 0, \"ticks\": \"\"}, \"colorscale\": [[0.0, \"#0d0887\"], [0.1111111111111111, \"#46039f\"], [0.2222222222222222, \"#7201a8\"], [0.3333333333333333, \"#9c179e\"], [0.4444444444444444, \"#bd3786\"], [0.5555555555555556, \"#d8576b\"], [0.6666666666666666, \"#ed7953\"], [0.7777777777777778, \"#fb9f3a\"], [0.8888888888888888, \"#fdca26\"], [1.0, \"#f0f921\"]], \"type\": \"heatmapgl\"}], \"histogram\": [{\"marker\": {\"colorbar\": {\"outlinewidth\": 0, \"ticks\": \"\"}}, \"type\": \"histogram\"}], \"histogram2d\": [{\"colorbar\": {\"outlinewidth\": 0, \"ticks\": \"\"}, \"colorscale\": [[0.0, \"#0d0887\"], [0.1111111111111111, \"#46039f\"], [0.2222222222222222, \"#7201a8\"], [0.3333333333333333, \"#9c179e\"], [0.4444444444444444, \"#bd3786\"], [0.5555555555555556, \"#d8576b\"], [0.6666666666666666, \"#ed7953\"], [0.7777777777777778, \"#fb9f3a\"], [0.8888888888888888, \"#fdca26\"], [1.0, \"#f0f921\"]], \"type\": \"histogram2d\"}], \"histogram2dcontour\": [{\"colorbar\": {\"outlinewidth\": 0, \"ticks\": \"\"}, \"colorscale\": [[0.0, \"#0d0887\"], [0.1111111111111111, \"#46039f\"], [0.2222222222222222, \"#7201a8\"], [0.3333333333333333, \"#9c179e\"], [0.4444444444444444, \"#bd3786\"], [0.5555555555555556, \"#d8576b\"], [0.6666666666666666, \"#ed7953\"], [0.7777777777777778, \"#fb9f3a\"], [0.8888888888888888, \"#fdca26\"], [1.0, \"#f0f921\"]], \"type\": \"histogram2dcontour\"}], \"mesh3d\": [{\"colorbar\": {\"outlinewidth\": 0, \"ticks\": \"\"}, \"type\": \"mesh3d\"}], \"parcoords\": [{\"line\": {\"colorbar\": {\"outlinewidth\": 0, \"ticks\": \"\"}}, \"type\": \"parcoords\"}], \"pie\": [{\"automargin\": true, \"type\": \"pie\"}], \"scatter\": [{\"marker\": {\"colorbar\": {\"outlinewidth\": 0, \"ticks\": \"\"}}, \"type\": \"scatter\"}], \"scatter3d\": [{\"line\": {\"colorbar\": {\"outlinewidth\": 0, \"ticks\": \"\"}}, \"marker\": {\"colorbar\": {\"outlinewidth\": 0, \"ticks\": \"\"}}, \"type\": \"scatter3d\"}], \"scattercarpet\": [{\"marker\": {\"colorbar\": {\"outlinewidth\": 0, \"ticks\": \"\"}}, \"type\": \"scattercarpet\"}], \"scattergeo\": [{\"marker\": {\"colorbar\": {\"outlinewidth\": 0, \"ticks\": \"\"}}, \"type\": \"scattergeo\"}], \"scattergl\": [{\"marker\": {\"colorbar\": {\"outlinewidth\": 0, \"ticks\": \"\"}}, \"type\": \"scattergl\"}], \"scattermapbox\": [{\"marker\": {\"colorbar\": {\"outlinewidth\": 0, \"ticks\": \"\"}}, \"type\": \"scattermapbox\"}], \"scatterpolar\": [{\"marker\": {\"colorbar\": {\"outlinewidth\": 0, \"ticks\": \"\"}}, \"type\": \"scatterpolar\"}], \"scatterpolargl\": [{\"marker\": {\"colorbar\": {\"outlinewidth\": 0, \"ticks\": \"\"}}, \"type\": \"scatterpolargl\"}], \"scatterternary\": [{\"marker\": {\"colorbar\": {\"outlinewidth\": 0, \"ticks\": \"\"}}, \"type\": \"scatterternary\"}], \"surface\": [{\"colorbar\": {\"outlinewidth\": 0, \"ticks\": \"\"}, \"colorscale\": [[0.0, \"#0d0887\"], [0.1111111111111111, \"#46039f\"], [0.2222222222222222, \"#7201a8\"], [0.3333333333333333, \"#9c179e\"], [0.4444444444444444, \"#bd3786\"], [0.5555555555555556, \"#d8576b\"], [0.6666666666666666, \"#ed7953\"], [0.7777777777777778, \"#fb9f3a\"], [0.8888888888888888, \"#fdca26\"], [1.0, \"#f0f921\"]], \"type\": \"surface\"}], \"table\": [{\"cells\": {\"fill\": {\"color\": \"#EBF0F8\"}, \"line\": {\"color\": \"white\"}}, \"header\": {\"fill\": {\"color\": \"#C8D4E3\"}, \"line\": {\"color\": \"white\"}}, \"type\": \"table\"}]}, \"layout\": {\"annotationdefaults\": {\"arrowcolor\": \"#2a3f5f\", \"arrowhead\": 0, \"arrowwidth\": 1}, \"coloraxis\": {\"colorbar\": {\"outlinewidth\": 0, \"ticks\": \"\"}}, \"colorscale\": {\"diverging\": [[0, \"#8e0152\"], [0.1, \"#c51b7d\"], [0.2, \"#de77ae\"], [0.3, \"#f1b6da\"], [0.4, \"#fde0ef\"], [0.5, \"#f7f7f7\"], [0.6, \"#e6f5d0\"], [0.7, \"#b8e186\"], [0.8, \"#7fbc41\"], [0.9, \"#4d9221\"], [1, \"#276419\"]], \"sequential\": [[0.0, \"#0d0887\"], [0.1111111111111111, \"#46039f\"], [0.2222222222222222, \"#7201a8\"], [0.3333333333333333, \"#9c179e\"], [0.4444444444444444, \"#bd3786\"], [0.5555555555555556, \"#d8576b\"], [0.6666666666666666, \"#ed7953\"], [0.7777777777777778, \"#fb9f3a\"], [0.8888888888888888, \"#fdca26\"], [1.0, \"#f0f921\"]], \"sequentialminus\": [[0.0, \"#0d0887\"], [0.1111111111111111, \"#46039f\"], [0.2222222222222222, \"#7201a8\"], [0.3333333333333333, \"#9c179e\"], [0.4444444444444444, \"#bd3786\"], [0.5555555555555556, \"#d8576b\"], [0.6666666666666666, \"#ed7953\"], [0.7777777777777778, \"#fb9f3a\"], [0.8888888888888888, \"#fdca26\"], [1.0, \"#f0f921\"]]}, \"colorway\": [\"#636efa\", \"#EF553B\", \"#00cc96\", \"#ab63fa\", \"#FFA15A\", \"#19d3f3\", \"#FF6692\", \"#B6E880\", \"#FF97FF\", \"#FECB52\"], \"font\": {\"color\": \"#2a3f5f\"}, \"geo\": {\"bgcolor\": \"white\", \"lakecolor\": \"white\", \"landcolor\": \"#E5ECF6\", \"showlakes\": true, \"showland\": true, \"subunitcolor\": \"white\"}, \"hoverlabel\": {\"align\": \"left\"}, \"hovermode\": \"closest\", \"mapbox\": {\"style\": \"light\"}, \"paper_bgcolor\": \"white\", \"plot_bgcolor\": \"#E5ECF6\", \"polar\": {\"angularaxis\": {\"gridcolor\": \"white\", \"linecolor\": \"white\", \"ticks\": \"\"}, \"bgcolor\": \"#E5ECF6\", \"radialaxis\": {\"gridcolor\": \"white\", \"linecolor\": \"white\", \"ticks\": \"\"}}, \"scene\": {\"xaxis\": {\"backgroundcolor\": \"#E5ECF6\", \"gridcolor\": \"white\", \"gridwidth\": 2, \"linecolor\": \"white\", \"showbackground\": true, \"ticks\": \"\", \"zerolinecolor\": \"white\"}, \"yaxis\": {\"backgroundcolor\": \"#E5ECF6\", \"gridcolor\": \"white\", \"gridwidth\": 2, \"linecolor\": \"white\", \"showbackground\": true, \"ticks\": \"\", \"zerolinecolor\": \"white\"}, \"zaxis\": {\"backgroundcolor\": \"#E5ECF6\", \"gridcolor\": \"white\", \"gridwidth\": 2, \"linecolor\": \"white\", \"showbackground\": true, \"ticks\": \"\", \"zerolinecolor\": \"white\"}}, \"shapedefaults\": {\"line\": {\"color\": \"#2a3f5f\"}}, \"ternary\": {\"aaxis\": {\"gridcolor\": \"white\", \"linecolor\": \"white\", \"ticks\": \"\"}, \"baxis\": {\"gridcolor\": \"white\", \"linecolor\": \"white\", \"ticks\": \"\"}, \"bgcolor\": \"#E5ECF6\", \"caxis\": {\"gridcolor\": \"white\", \"linecolor\": \"white\", \"ticks\": \"\"}}, \"title\": {\"x\": 0.05}, \"xaxis\": {\"automargin\": true, \"gridcolor\": \"white\", \"linecolor\": \"white\", \"ticks\": \"\", \"title\": {\"standoff\": 15}, \"zerolinecolor\": \"white\", \"zerolinewidth\": 2}, \"yaxis\": {\"automargin\": true, \"gridcolor\": \"white\", \"linecolor\": \"white\", \"ticks\": \"\", \"title\": {\"standoff\": 15}, \"zerolinecolor\": \"white\", \"zerolinewidth\": 2}}}, \"title\": {\"text\": \"\\u7d2f\\u79ef\\u6536\\u76ca\\u7387\\u65f6\\u95f4\\u5e8f\\u5217\"}, \"xaxis\": {\"anchor\": \"y\", \"domain\": [0.0, 1.0], \"tickangle\": 30, \"tickformat\": \"%m\\u6708%d\\u65e5<br>%Y\\u5e74\"}, \"yaxis\": {\"anchor\": \"x\", \"domain\": [0.0, 1.0], \"title\": {\"text\": \"\\u6536\\u76ca\\u7387\"}}},\n",
       "                        {\"responsive\": true}\n",
       "                    ).then(function(){\n",
       "                            \n",
       "var gd = document.getElementById('9bb710e1-a601-4637-be8d-73a2d81766f7');\n",
       "var x = new MutationObserver(function (mutations, observer) {{\n",
       "        var display = window.getComputedStyle(gd).display;\n",
       "        if (!display || display === 'none') {{\n",
       "            console.log([gd, 'removed!']);\n",
       "            Plotly.purge(gd);\n",
       "            observer.disconnect();\n",
       "        }}\n",
       "}});\n",
       "\n",
       "// Listen for the removal of the full notebook cells\n",
       "var notebookContainer = gd.closest('#notebook-container');\n",
       "if (notebookContainer) {{\n",
       "    x.observe(notebookContainer, {childList: true});\n",
       "}}\n",
       "\n",
       "// Listen for the clearing of the current output cell\n",
       "var outputEl = gd.closest('.output');\n",
       "if (outputEl) {{\n",
       "    x.observe(outputEl, {childList: true});\n",
       "}}\n",
       "\n",
       "                        })\n",
       "                };\n",
       "                });\n",
       "            </script>\n",
       "        </div>"
      ]
     },
     "metadata": {},
     "output_type": "display_data"
    },
    {
     "data": {
      "application/vnd.plotly.v1+json": {
       "config": {
        "plotlyServerURL": "https://plot.ly"
       },
       "data": [],
       "layout": {
        "legend": {
         "bgcolor": "LightSteelBlue",
         "bordercolor": "blue",
         "borderwidth": 1,
         "font": {
          "color": "black",
          "family": "SimHei",
          "size": 12
         },
         "title": {
          "font": {
           "family": "SimHei"
          }
         },
         "traceorder": "reversed",
         "x": 0,
         "y": 1
        },
        "shapes": [
         {
          "line": {
           "color": "black"
          },
          "type": "line",
          "x0": null,
          "x1": null,
          "y0": 0,
          "y1": 0
         }
        ],
        "template": {
         "data": {
          "bar": [
           {
            "error_x": {
             "color": "#2a3f5f"
            },
            "error_y": {
             "color": "#2a3f5f"
            },
            "marker": {
             "line": {
              "color": "#E5ECF6",
              "width": 0.5
             }
            },
            "type": "bar"
           }
          ],
          "barpolar": [
           {
            "marker": {
             "line": {
              "color": "#E5ECF6",
              "width": 0.5
             }
            },
            "type": "barpolar"
           }
          ],
          "carpet": [
           {
            "aaxis": {
             "endlinecolor": "#2a3f5f",
             "gridcolor": "white",
             "linecolor": "white",
             "minorgridcolor": "white",
             "startlinecolor": "#2a3f5f"
            },
            "baxis": {
             "endlinecolor": "#2a3f5f",
             "gridcolor": "white",
             "linecolor": "white",
             "minorgridcolor": "white",
             "startlinecolor": "#2a3f5f"
            },
            "type": "carpet"
           }
          ],
          "choropleth": [
           {
            "colorbar": {
             "outlinewidth": 0,
             "ticks": ""
            },
            "type": "choropleth"
           }
          ],
          "contour": [
           {
            "colorbar": {
             "outlinewidth": 0,
             "ticks": ""
            },
            "colorscale": [
             [
              0,
              "#0d0887"
             ],
             [
              0.1111111111111111,
              "#46039f"
             ],
             [
              0.2222222222222222,
              "#7201a8"
             ],
             [
              0.3333333333333333,
              "#9c179e"
             ],
             [
              0.4444444444444444,
              "#bd3786"
             ],
             [
              0.5555555555555556,
              "#d8576b"
             ],
             [
              0.6666666666666666,
              "#ed7953"
             ],
             [
              0.7777777777777778,
              "#fb9f3a"
             ],
             [
              0.8888888888888888,
              "#fdca26"
             ],
             [
              1,
              "#f0f921"
             ]
            ],
            "type": "contour"
           }
          ],
          "contourcarpet": [
           {
            "colorbar": {
             "outlinewidth": 0,
             "ticks": ""
            },
            "type": "contourcarpet"
           }
          ],
          "heatmap": [
           {
            "colorbar": {
             "outlinewidth": 0,
             "ticks": ""
            },
            "colorscale": [
             [
              0,
              "#0d0887"
             ],
             [
              0.1111111111111111,
              "#46039f"
             ],
             [
              0.2222222222222222,
              "#7201a8"
             ],
             [
              0.3333333333333333,
              "#9c179e"
             ],
             [
              0.4444444444444444,
              "#bd3786"
             ],
             [
              0.5555555555555556,
              "#d8576b"
             ],
             [
              0.6666666666666666,
              "#ed7953"
             ],
             [
              0.7777777777777778,
              "#fb9f3a"
             ],
             [
              0.8888888888888888,
              "#fdca26"
             ],
             [
              1,
              "#f0f921"
             ]
            ],
            "type": "heatmap"
           }
          ],
          "heatmapgl": [
           {
            "colorbar": {
             "outlinewidth": 0,
             "ticks": ""
            },
            "colorscale": [
             [
              0,
              "#0d0887"
             ],
             [
              0.1111111111111111,
              "#46039f"
             ],
             [
              0.2222222222222222,
              "#7201a8"
             ],
             [
              0.3333333333333333,
              "#9c179e"
             ],
             [
              0.4444444444444444,
              "#bd3786"
             ],
             [
              0.5555555555555556,
              "#d8576b"
             ],
             [
              0.6666666666666666,
              "#ed7953"
             ],
             [
              0.7777777777777778,
              "#fb9f3a"
             ],
             [
              0.8888888888888888,
              "#fdca26"
             ],
             [
              1,
              "#f0f921"
             ]
            ],
            "type": "heatmapgl"
           }
          ],
          "histogram": [
           {
            "marker": {
             "colorbar": {
              "outlinewidth": 0,
              "ticks": ""
             }
            },
            "type": "histogram"
           }
          ],
          "histogram2d": [
           {
            "colorbar": {
             "outlinewidth": 0,
             "ticks": ""
            },
            "colorscale": [
             [
              0,
              "#0d0887"
             ],
             [
              0.1111111111111111,
              "#46039f"
             ],
             [
              0.2222222222222222,
              "#7201a8"
             ],
             [
              0.3333333333333333,
              "#9c179e"
             ],
             [
              0.4444444444444444,
              "#bd3786"
             ],
             [
              0.5555555555555556,
              "#d8576b"
             ],
             [
              0.6666666666666666,
              "#ed7953"
             ],
             [
              0.7777777777777778,
              "#fb9f3a"
             ],
             [
              0.8888888888888888,
              "#fdca26"
             ],
             [
              1,
              "#f0f921"
             ]
            ],
            "type": "histogram2d"
           }
          ],
          "histogram2dcontour": [
           {
            "colorbar": {
             "outlinewidth": 0,
             "ticks": ""
            },
            "colorscale": [
             [
              0,
              "#0d0887"
             ],
             [
              0.1111111111111111,
              "#46039f"
             ],
             [
              0.2222222222222222,
              "#7201a8"
             ],
             [
              0.3333333333333333,
              "#9c179e"
             ],
             [
              0.4444444444444444,
              "#bd3786"
             ],
             [
              0.5555555555555556,
              "#d8576b"
             ],
             [
              0.6666666666666666,
              "#ed7953"
             ],
             [
              0.7777777777777778,
              "#fb9f3a"
             ],
             [
              0.8888888888888888,
              "#fdca26"
             ],
             [
              1,
              "#f0f921"
             ]
            ],
            "type": "histogram2dcontour"
           }
          ],
          "mesh3d": [
           {
            "colorbar": {
             "outlinewidth": 0,
             "ticks": ""
            },
            "type": "mesh3d"
           }
          ],
          "parcoords": [
           {
            "line": {
             "colorbar": {
              "outlinewidth": 0,
              "ticks": ""
             }
            },
            "type": "parcoords"
           }
          ],
          "pie": [
           {
            "automargin": true,
            "type": "pie"
           }
          ],
          "scatter": [
           {
            "marker": {
             "colorbar": {
              "outlinewidth": 0,
              "ticks": ""
             }
            },
            "type": "scatter"
           }
          ],
          "scatter3d": [
           {
            "line": {
             "colorbar": {
              "outlinewidth": 0,
              "ticks": ""
             }
            },
            "marker": {
             "colorbar": {
              "outlinewidth": 0,
              "ticks": ""
             }
            },
            "type": "scatter3d"
           }
          ],
          "scattercarpet": [
           {
            "marker": {
             "colorbar": {
              "outlinewidth": 0,
              "ticks": ""
             }
            },
            "type": "scattercarpet"
           }
          ],
          "scattergeo": [
           {
            "marker": {
             "colorbar": {
              "outlinewidth": 0,
              "ticks": ""
             }
            },
            "type": "scattergeo"
           }
          ],
          "scattergl": [
           {
            "marker": {
             "colorbar": {
              "outlinewidth": 0,
              "ticks": ""
             }
            },
            "type": "scattergl"
           }
          ],
          "scattermapbox": [
           {
            "marker": {
             "colorbar": {
              "outlinewidth": 0,
              "ticks": ""
             }
            },
            "type": "scattermapbox"
           }
          ],
          "scatterpolar": [
           {
            "marker": {
             "colorbar": {
              "outlinewidth": 0,
              "ticks": ""
             }
            },
            "type": "scatterpolar"
           }
          ],
          "scatterpolargl": [
           {
            "marker": {
             "colorbar": {
              "outlinewidth": 0,
              "ticks": ""
             }
            },
            "type": "scatterpolargl"
           }
          ],
          "scatterternary": [
           {
            "marker": {
             "colorbar": {
              "outlinewidth": 0,
              "ticks": ""
             }
            },
            "type": "scatterternary"
           }
          ],
          "surface": [
           {
            "colorbar": {
             "outlinewidth": 0,
             "ticks": ""
            },
            "colorscale": [
             [
              0,
              "#0d0887"
             ],
             [
              0.1111111111111111,
              "#46039f"
             ],
             [
              0.2222222222222222,
              "#7201a8"
             ],
             [
              0.3333333333333333,
              "#9c179e"
             ],
             [
              0.4444444444444444,
              "#bd3786"
             ],
             [
              0.5555555555555556,
              "#d8576b"
             ],
             [
              0.6666666666666666,
              "#ed7953"
             ],
             [
              0.7777777777777778,
              "#fb9f3a"
             ],
             [
              0.8888888888888888,
              "#fdca26"
             ],
             [
              1,
              "#f0f921"
             ]
            ],
            "type": "surface"
           }
          ],
          "table": [
           {
            "cells": {
             "fill": {
              "color": "#EBF0F8"
             },
             "line": {
              "color": "white"
             }
            },
            "header": {
             "fill": {
              "color": "#C8D4E3"
             },
             "line": {
              "color": "white"
             }
            },
            "type": "table"
           }
          ]
         },
         "layout": {
          "annotationdefaults": {
           "arrowcolor": "#2a3f5f",
           "arrowhead": 0,
           "arrowwidth": 1
          },
          "coloraxis": {
           "colorbar": {
            "outlinewidth": 0,
            "ticks": ""
           }
          },
          "colorscale": {
           "diverging": [
            [
             0,
             "#8e0152"
            ],
            [
             0.1,
             "#c51b7d"
            ],
            [
             0.2,
             "#de77ae"
            ],
            [
             0.3,
             "#f1b6da"
            ],
            [
             0.4,
             "#fde0ef"
            ],
            [
             0.5,
             "#f7f7f7"
            ],
            [
             0.6,
             "#e6f5d0"
            ],
            [
             0.7,
             "#b8e186"
            ],
            [
             0.8,
             "#7fbc41"
            ],
            [
             0.9,
             "#4d9221"
            ],
            [
             1,
             "#276419"
            ]
           ],
           "sequential": [
            [
             0,
             "#0d0887"
            ],
            [
             0.1111111111111111,
             "#46039f"
            ],
            [
             0.2222222222222222,
             "#7201a8"
            ],
            [
             0.3333333333333333,
             "#9c179e"
            ],
            [
             0.4444444444444444,
             "#bd3786"
            ],
            [
             0.5555555555555556,
             "#d8576b"
            ],
            [
             0.6666666666666666,
             "#ed7953"
            ],
            [
             0.7777777777777778,
             "#fb9f3a"
            ],
            [
             0.8888888888888888,
             "#fdca26"
            ],
            [
             1,
             "#f0f921"
            ]
           ],
           "sequentialminus": [
            [
             0,
             "#0d0887"
            ],
            [
             0.1111111111111111,
             "#46039f"
            ],
            [
             0.2222222222222222,
             "#7201a8"
            ],
            [
             0.3333333333333333,
             "#9c179e"
            ],
            [
             0.4444444444444444,
             "#bd3786"
            ],
            [
             0.5555555555555556,
             "#d8576b"
            ],
            [
             0.6666666666666666,
             "#ed7953"
            ],
            [
             0.7777777777777778,
             "#fb9f3a"
            ],
            [
             0.8888888888888888,
             "#fdca26"
            ],
            [
             1,
             "#f0f921"
            ]
           ]
          },
          "colorway": [
           "#636efa",
           "#EF553B",
           "#00cc96",
           "#ab63fa",
           "#FFA15A",
           "#19d3f3",
           "#FF6692",
           "#B6E880",
           "#FF97FF",
           "#FECB52"
          ],
          "font": {
           "color": "#2a3f5f"
          },
          "geo": {
           "bgcolor": "white",
           "lakecolor": "white",
           "landcolor": "#E5ECF6",
           "showlakes": true,
           "showland": true,
           "subunitcolor": "white"
          },
          "hoverlabel": {
           "align": "left"
          },
          "hovermode": "closest",
          "mapbox": {
           "style": "light"
          },
          "paper_bgcolor": "white",
          "plot_bgcolor": "#E5ECF6",
          "polar": {
           "angularaxis": {
            "gridcolor": "white",
            "linecolor": "white",
            "ticks": ""
           },
           "bgcolor": "#E5ECF6",
           "radialaxis": {
            "gridcolor": "white",
            "linecolor": "white",
            "ticks": ""
           }
          },
          "scene": {
           "xaxis": {
            "backgroundcolor": "#E5ECF6",
            "gridcolor": "white",
            "gridwidth": 2,
            "linecolor": "white",
            "showbackground": true,
            "ticks": "",
            "zerolinecolor": "white"
           },
           "yaxis": {
            "backgroundcolor": "#E5ECF6",
            "gridcolor": "white",
            "gridwidth": 2,
            "linecolor": "white",
            "showbackground": true,
            "ticks": "",
            "zerolinecolor": "white"
           },
           "zaxis": {
            "backgroundcolor": "#E5ECF6",
            "gridcolor": "white",
            "gridwidth": 2,
            "linecolor": "white",
            "showbackground": true,
            "ticks": "",
            "zerolinecolor": "white"
           }
          },
          "shapedefaults": {
           "line": {
            "color": "#2a3f5f"
           }
          },
          "ternary": {
           "aaxis": {
            "gridcolor": "white",
            "linecolor": "white",
            "ticks": ""
           },
           "baxis": {
            "gridcolor": "white",
            "linecolor": "white",
            "ticks": ""
           },
           "bgcolor": "#E5ECF6",
           "caxis": {
            "gridcolor": "white",
            "linecolor": "white",
            "ticks": ""
           }
          },
          "title": {
           "x": 0.05
          },
          "xaxis": {
           "automargin": true,
           "gridcolor": "white",
           "linecolor": "white",
           "ticks": "",
           "title": {
            "standoff": 15
           },
           "zerolinecolor": "white",
           "zerolinewidth": 2
          },
          "yaxis": {
           "automargin": true,
           "gridcolor": "white",
           "linecolor": "white",
           "ticks": "",
           "title": {
            "standoff": 15
           },
           "zerolinecolor": "white",
           "zerolinewidth": 2
          }
         }
        },
        "title": {
         "text": "累积共同 style 收益率归因"
        },
        "xaxis": {
         "anchor": "y",
         "domain": [
          0,
          1
         ],
         "tickangle": 30,
         "tickformat": "%m月%d日<br>%Y年"
        },
        "yaxis": {
         "anchor": "x",
         "domain": [
          0,
          1
         ],
         "title": {
          "text": "因子分组的累积收益率"
         }
        }
       }
      },
      "text/html": [
       "<div>\n",
       "        \n",
       "        \n",
       "            <div id=\"72f84464-9434-4cf4-9401-e0c74066e36d\" class=\"plotly-graph-div\" style=\"height:525px; width:100%;\"></div>\n",
       "            <script type=\"text/javascript\">\n",
       "                require([\"plotly\"], function(Plotly) {\n",
       "                    window.PLOTLYENV=window.PLOTLYENV || {};\n",
       "                    \n",
       "                if (document.getElementById(\"72f84464-9434-4cf4-9401-e0c74066e36d\")) {\n",
       "                    Plotly.newPlot(\n",
       "                        '72f84464-9434-4cf4-9401-e0c74066e36d',\n",
       "                        [],\n",
       "                        {\"legend\": {\"bgcolor\": \"LightSteelBlue\", \"bordercolor\": \"blue\", \"borderwidth\": 1, \"font\": {\"color\": \"black\", \"family\": \"SimHei\", \"size\": 12}, \"title\": {\"font\": {\"family\": \"SimHei\"}}, \"traceorder\": \"reversed\", \"x\": 0, \"y\": 1}, \"shapes\": [{\"line\": {\"color\": \"black\"}, \"type\": \"line\", \"x0\": null, \"x1\": null, \"y0\": 0, \"y1\": 0}], \"template\": {\"data\": {\"bar\": [{\"error_x\": {\"color\": \"#2a3f5f\"}, \"error_y\": {\"color\": \"#2a3f5f\"}, \"marker\": {\"line\": {\"color\": \"#E5ECF6\", \"width\": 0.5}}, \"type\": \"bar\"}], \"barpolar\": [{\"marker\": {\"line\": {\"color\": \"#E5ECF6\", \"width\": 0.5}}, \"type\": \"barpolar\"}], \"carpet\": [{\"aaxis\": {\"endlinecolor\": \"#2a3f5f\", \"gridcolor\": \"white\", \"linecolor\": \"white\", \"minorgridcolor\": \"white\", \"startlinecolor\": \"#2a3f5f\"}, \"baxis\": {\"endlinecolor\": \"#2a3f5f\", \"gridcolor\": \"white\", \"linecolor\": \"white\", \"minorgridcolor\": \"white\", \"startlinecolor\": \"#2a3f5f\"}, \"type\": \"carpet\"}], \"choropleth\": [{\"colorbar\": {\"outlinewidth\": 0, \"ticks\": \"\"}, \"type\": \"choropleth\"}], \"contour\": [{\"colorbar\": {\"outlinewidth\": 0, \"ticks\": \"\"}, \"colorscale\": [[0.0, \"#0d0887\"], [0.1111111111111111, \"#46039f\"], [0.2222222222222222, \"#7201a8\"], [0.3333333333333333, \"#9c179e\"], [0.4444444444444444, \"#bd3786\"], [0.5555555555555556, \"#d8576b\"], [0.6666666666666666, \"#ed7953\"], [0.7777777777777778, \"#fb9f3a\"], [0.8888888888888888, \"#fdca26\"], [1.0, \"#f0f921\"]], \"type\": \"contour\"}], \"contourcarpet\": [{\"colorbar\": {\"outlinewidth\": 0, \"ticks\": \"\"}, \"type\": \"contourcarpet\"}], \"heatmap\": [{\"colorbar\": {\"outlinewidth\": 0, \"ticks\": \"\"}, \"colorscale\": [[0.0, \"#0d0887\"], [0.1111111111111111, \"#46039f\"], [0.2222222222222222, \"#7201a8\"], [0.3333333333333333, \"#9c179e\"], [0.4444444444444444, \"#bd3786\"], [0.5555555555555556, \"#d8576b\"], [0.6666666666666666, \"#ed7953\"], [0.7777777777777778, \"#fb9f3a\"], [0.8888888888888888, \"#fdca26\"], [1.0, \"#f0f921\"]], \"type\": \"heatmap\"}], \"heatmapgl\": [{\"colorbar\": {\"outlinewidth\": 0, \"ticks\": \"\"}, \"colorscale\": [[0.0, \"#0d0887\"], [0.1111111111111111, \"#46039f\"], [0.2222222222222222, \"#7201a8\"], [0.3333333333333333, \"#9c179e\"], [0.4444444444444444, \"#bd3786\"], [0.5555555555555556, \"#d8576b\"], [0.6666666666666666, \"#ed7953\"], [0.7777777777777778, \"#fb9f3a\"], [0.8888888888888888, \"#fdca26\"], [1.0, \"#f0f921\"]], \"type\": \"heatmapgl\"}], \"histogram\": [{\"marker\": {\"colorbar\": {\"outlinewidth\": 0, \"ticks\": \"\"}}, \"type\": \"histogram\"}], \"histogram2d\": [{\"colorbar\": {\"outlinewidth\": 0, \"ticks\": \"\"}, \"colorscale\": [[0.0, \"#0d0887\"], [0.1111111111111111, \"#46039f\"], [0.2222222222222222, \"#7201a8\"], [0.3333333333333333, \"#9c179e\"], [0.4444444444444444, \"#bd3786\"], [0.5555555555555556, \"#d8576b\"], [0.6666666666666666, \"#ed7953\"], [0.7777777777777778, \"#fb9f3a\"], [0.8888888888888888, \"#fdca26\"], [1.0, \"#f0f921\"]], \"type\": \"histogram2d\"}], \"histogram2dcontour\": [{\"colorbar\": {\"outlinewidth\": 0, \"ticks\": \"\"}, \"colorscale\": [[0.0, \"#0d0887\"], [0.1111111111111111, \"#46039f\"], [0.2222222222222222, \"#7201a8\"], [0.3333333333333333, \"#9c179e\"], [0.4444444444444444, \"#bd3786\"], [0.5555555555555556, \"#d8576b\"], [0.6666666666666666, \"#ed7953\"], [0.7777777777777778, \"#fb9f3a\"], [0.8888888888888888, \"#fdca26\"], [1.0, \"#f0f921\"]], \"type\": \"histogram2dcontour\"}], \"mesh3d\": [{\"colorbar\": {\"outlinewidth\": 0, \"ticks\": \"\"}, \"type\": \"mesh3d\"}], \"parcoords\": [{\"line\": {\"colorbar\": {\"outlinewidth\": 0, \"ticks\": \"\"}}, \"type\": \"parcoords\"}], \"pie\": [{\"automargin\": true, \"type\": \"pie\"}], \"scatter\": [{\"marker\": {\"colorbar\": {\"outlinewidth\": 0, \"ticks\": \"\"}}, \"type\": \"scatter\"}], \"scatter3d\": [{\"line\": {\"colorbar\": {\"outlinewidth\": 0, \"ticks\": \"\"}}, \"marker\": {\"colorbar\": {\"outlinewidth\": 0, \"ticks\": \"\"}}, \"type\": \"scatter3d\"}], \"scattercarpet\": [{\"marker\": {\"colorbar\": {\"outlinewidth\": 0, \"ticks\": \"\"}}, \"type\": \"scattercarpet\"}], \"scattergeo\": [{\"marker\": {\"colorbar\": {\"outlinewidth\": 0, \"ticks\": \"\"}}, \"type\": \"scattergeo\"}], \"scattergl\": [{\"marker\": {\"colorbar\": {\"outlinewidth\": 0, \"ticks\": \"\"}}, \"type\": \"scattergl\"}], \"scattermapbox\": [{\"marker\": {\"colorbar\": {\"outlinewidth\": 0, \"ticks\": \"\"}}, \"type\": \"scattermapbox\"}], \"scatterpolar\": [{\"marker\": {\"colorbar\": {\"outlinewidth\": 0, \"ticks\": \"\"}}, \"type\": \"scatterpolar\"}], \"scatterpolargl\": [{\"marker\": {\"colorbar\": {\"outlinewidth\": 0, \"ticks\": \"\"}}, \"type\": \"scatterpolargl\"}], \"scatterternary\": [{\"marker\": {\"colorbar\": {\"outlinewidth\": 0, \"ticks\": \"\"}}, \"type\": \"scatterternary\"}], \"surface\": [{\"colorbar\": {\"outlinewidth\": 0, \"ticks\": \"\"}, \"colorscale\": [[0.0, \"#0d0887\"], [0.1111111111111111, \"#46039f\"], [0.2222222222222222, \"#7201a8\"], [0.3333333333333333, \"#9c179e\"], [0.4444444444444444, \"#bd3786\"], [0.5555555555555556, \"#d8576b\"], [0.6666666666666666, \"#ed7953\"], [0.7777777777777778, \"#fb9f3a\"], [0.8888888888888888, \"#fdca26\"], [1.0, \"#f0f921\"]], \"type\": \"surface\"}], \"table\": [{\"cells\": {\"fill\": {\"color\": \"#EBF0F8\"}, \"line\": {\"color\": \"white\"}}, \"header\": {\"fill\": {\"color\": \"#C8D4E3\"}, \"line\": {\"color\": \"white\"}}, \"type\": \"table\"}]}, \"layout\": {\"annotationdefaults\": {\"arrowcolor\": \"#2a3f5f\", \"arrowhead\": 0, \"arrowwidth\": 1}, \"coloraxis\": {\"colorbar\": {\"outlinewidth\": 0, \"ticks\": \"\"}}, \"colorscale\": {\"diverging\": [[0, \"#8e0152\"], [0.1, \"#c51b7d\"], [0.2, \"#de77ae\"], [0.3, \"#f1b6da\"], [0.4, \"#fde0ef\"], [0.5, \"#f7f7f7\"], [0.6, \"#e6f5d0\"], [0.7, \"#b8e186\"], [0.8, \"#7fbc41\"], [0.9, \"#4d9221\"], [1, \"#276419\"]], \"sequential\": [[0.0, \"#0d0887\"], [0.1111111111111111, \"#46039f\"], [0.2222222222222222, \"#7201a8\"], [0.3333333333333333, \"#9c179e\"], [0.4444444444444444, \"#bd3786\"], [0.5555555555555556, \"#d8576b\"], [0.6666666666666666, \"#ed7953\"], [0.7777777777777778, \"#fb9f3a\"], [0.8888888888888888, \"#fdca26\"], [1.0, \"#f0f921\"]], \"sequentialminus\": [[0.0, \"#0d0887\"], [0.1111111111111111, \"#46039f\"], [0.2222222222222222, \"#7201a8\"], [0.3333333333333333, \"#9c179e\"], [0.4444444444444444, \"#bd3786\"], [0.5555555555555556, \"#d8576b\"], [0.6666666666666666, \"#ed7953\"], [0.7777777777777778, \"#fb9f3a\"], [0.8888888888888888, \"#fdca26\"], [1.0, \"#f0f921\"]]}, \"colorway\": [\"#636efa\", \"#EF553B\", \"#00cc96\", \"#ab63fa\", \"#FFA15A\", \"#19d3f3\", \"#FF6692\", \"#B6E880\", \"#FF97FF\", \"#FECB52\"], \"font\": {\"color\": \"#2a3f5f\"}, \"geo\": {\"bgcolor\": \"white\", \"lakecolor\": \"white\", \"landcolor\": \"#E5ECF6\", \"showlakes\": true, \"showland\": true, \"subunitcolor\": \"white\"}, \"hoverlabel\": {\"align\": \"left\"}, \"hovermode\": \"closest\", \"mapbox\": {\"style\": \"light\"}, \"paper_bgcolor\": \"white\", \"plot_bgcolor\": \"#E5ECF6\", \"polar\": {\"angularaxis\": {\"gridcolor\": \"white\", \"linecolor\": \"white\", \"ticks\": \"\"}, \"bgcolor\": \"#E5ECF6\", \"radialaxis\": {\"gridcolor\": \"white\", \"linecolor\": \"white\", \"ticks\": \"\"}}, \"scene\": {\"xaxis\": {\"backgroundcolor\": \"#E5ECF6\", \"gridcolor\": \"white\", \"gridwidth\": 2, \"linecolor\": \"white\", \"showbackground\": true, \"ticks\": \"\", \"zerolinecolor\": \"white\"}, \"yaxis\": {\"backgroundcolor\": \"#E5ECF6\", \"gridcolor\": \"white\", \"gridwidth\": 2, \"linecolor\": \"white\", \"showbackground\": true, \"ticks\": \"\", \"zerolinecolor\": \"white\"}, \"zaxis\": {\"backgroundcolor\": \"#E5ECF6\", \"gridcolor\": \"white\", \"gridwidth\": 2, \"linecolor\": \"white\", \"showbackground\": true, \"ticks\": \"\", \"zerolinecolor\": \"white\"}}, \"shapedefaults\": {\"line\": {\"color\": \"#2a3f5f\"}}, \"ternary\": {\"aaxis\": {\"gridcolor\": \"white\", \"linecolor\": \"white\", \"ticks\": \"\"}, \"baxis\": {\"gridcolor\": \"white\", \"linecolor\": \"white\", \"ticks\": \"\"}, \"bgcolor\": \"#E5ECF6\", \"caxis\": {\"gridcolor\": \"white\", \"linecolor\": \"white\", \"ticks\": \"\"}}, \"title\": {\"x\": 0.05}, \"xaxis\": {\"automargin\": true, \"gridcolor\": \"white\", \"linecolor\": \"white\", \"ticks\": \"\", \"title\": {\"standoff\": 15}, \"zerolinecolor\": \"white\", \"zerolinewidth\": 2}, \"yaxis\": {\"automargin\": true, \"gridcolor\": \"white\", \"linecolor\": \"white\", \"ticks\": \"\", \"title\": {\"standoff\": 15}, \"zerolinecolor\": \"white\", \"zerolinewidth\": 2}}}, \"title\": {\"text\": \"\\u7d2f\\u79ef\\u5171\\u540c style \\u6536\\u76ca\\u7387\\u5f52\\u56e0\"}, \"xaxis\": {\"anchor\": \"y\", \"domain\": [0.0, 1.0], \"tickangle\": 30, \"tickformat\": \"%m\\u6708%d\\u65e5<br>%Y\\u5e74\"}, \"yaxis\": {\"anchor\": \"x\", \"domain\": [0.0, 1.0], \"title\": {\"text\": \"\\u56e0\\u5b50\\u5206\\u7ec4\\u7684\\u7d2f\\u79ef\\u6536\\u76ca\\u7387\"}}},\n",
       "                        {\"responsive\": true}\n",
       "                    ).then(function(){\n",
       "                            \n",
       "var gd = document.getElementById('72f84464-9434-4cf4-9401-e0c74066e36d');\n",
       "var x = new MutationObserver(function (mutations, observer) {{\n",
       "        var display = window.getComputedStyle(gd).display;\n",
       "        if (!display || display === 'none') {{\n",
       "            console.log([gd, 'removed!']);\n",
       "            Plotly.purge(gd);\n",
       "            observer.disconnect();\n",
       "        }}\n",
       "}});\n",
       "\n",
       "// Listen for the removal of the full notebook cells\n",
       "var notebookContainer = gd.closest('#notebook-container');\n",
       "if (notebookContainer) {{\n",
       "    x.observe(notebookContainer, {childList: true});\n",
       "}}\n",
       "\n",
       "// Listen for the clearing of the current output cell\n",
       "var outputEl = gd.closest('.output');\n",
       "if (outputEl) {{\n",
       "    x.observe(outputEl, {childList: true});\n",
       "}}\n",
       "\n",
       "                        })\n",
       "                };\n",
       "                });\n",
       "            </script>\n",
       "        </div>"
      ]
     },
     "metadata": {},
     "output_type": "display_data"
    },
    {
     "data": {
      "application/vnd.plotly.v1+json": {
       "config": {
        "plotlyServerURL": "https://plot.ly"
       },
       "data": [],
       "layout": {
        "legend": {
         "bgcolor": "LightSteelBlue",
         "bordercolor": "blue",
         "borderwidth": 1,
         "font": {
          "color": "black",
          "family": "SimHei",
          "size": 12
         },
         "title": {
          "font": {
           "family": "SimHei"
          }
         },
         "traceorder": "reversed",
         "x": 0,
         "y": 1
        },
        "shapes": [
         {
          "line": {
           "color": "black"
          },
          "type": "line",
          "x0": null,
          "x1": null,
          "y0": 0,
          "y1": 0
         }
        ],
        "template": {
         "data": {
          "bar": [
           {
            "error_x": {
             "color": "#2a3f5f"
            },
            "error_y": {
             "color": "#2a3f5f"
            },
            "marker": {
             "line": {
              "color": "#E5ECF6",
              "width": 0.5
             }
            },
            "type": "bar"
           }
          ],
          "barpolar": [
           {
            "marker": {
             "line": {
              "color": "#E5ECF6",
              "width": 0.5
             }
            },
            "type": "barpolar"
           }
          ],
          "carpet": [
           {
            "aaxis": {
             "endlinecolor": "#2a3f5f",
             "gridcolor": "white",
             "linecolor": "white",
             "minorgridcolor": "white",
             "startlinecolor": "#2a3f5f"
            },
            "baxis": {
             "endlinecolor": "#2a3f5f",
             "gridcolor": "white",
             "linecolor": "white",
             "minorgridcolor": "white",
             "startlinecolor": "#2a3f5f"
            },
            "type": "carpet"
           }
          ],
          "choropleth": [
           {
            "colorbar": {
             "outlinewidth": 0,
             "ticks": ""
            },
            "type": "choropleth"
           }
          ],
          "contour": [
           {
            "colorbar": {
             "outlinewidth": 0,
             "ticks": ""
            },
            "colorscale": [
             [
              0,
              "#0d0887"
             ],
             [
              0.1111111111111111,
              "#46039f"
             ],
             [
              0.2222222222222222,
              "#7201a8"
             ],
             [
              0.3333333333333333,
              "#9c179e"
             ],
             [
              0.4444444444444444,
              "#bd3786"
             ],
             [
              0.5555555555555556,
              "#d8576b"
             ],
             [
              0.6666666666666666,
              "#ed7953"
             ],
             [
              0.7777777777777778,
              "#fb9f3a"
             ],
             [
              0.8888888888888888,
              "#fdca26"
             ],
             [
              1,
              "#f0f921"
             ]
            ],
            "type": "contour"
           }
          ],
          "contourcarpet": [
           {
            "colorbar": {
             "outlinewidth": 0,
             "ticks": ""
            },
            "type": "contourcarpet"
           }
          ],
          "heatmap": [
           {
            "colorbar": {
             "outlinewidth": 0,
             "ticks": ""
            },
            "colorscale": [
             [
              0,
              "#0d0887"
             ],
             [
              0.1111111111111111,
              "#46039f"
             ],
             [
              0.2222222222222222,
              "#7201a8"
             ],
             [
              0.3333333333333333,
              "#9c179e"
             ],
             [
              0.4444444444444444,
              "#bd3786"
             ],
             [
              0.5555555555555556,
              "#d8576b"
             ],
             [
              0.6666666666666666,
              "#ed7953"
             ],
             [
              0.7777777777777778,
              "#fb9f3a"
             ],
             [
              0.8888888888888888,
              "#fdca26"
             ],
             [
              1,
              "#f0f921"
             ]
            ],
            "type": "heatmap"
           }
          ],
          "heatmapgl": [
           {
            "colorbar": {
             "outlinewidth": 0,
             "ticks": ""
            },
            "colorscale": [
             [
              0,
              "#0d0887"
             ],
             [
              0.1111111111111111,
              "#46039f"
             ],
             [
              0.2222222222222222,
              "#7201a8"
             ],
             [
              0.3333333333333333,
              "#9c179e"
             ],
             [
              0.4444444444444444,
              "#bd3786"
             ],
             [
              0.5555555555555556,
              "#d8576b"
             ],
             [
              0.6666666666666666,
              "#ed7953"
             ],
             [
              0.7777777777777778,
              "#fb9f3a"
             ],
             [
              0.8888888888888888,
              "#fdca26"
             ],
             [
              1,
              "#f0f921"
             ]
            ],
            "type": "heatmapgl"
           }
          ],
          "histogram": [
           {
            "marker": {
             "colorbar": {
              "outlinewidth": 0,
              "ticks": ""
             }
            },
            "type": "histogram"
           }
          ],
          "histogram2d": [
           {
            "colorbar": {
             "outlinewidth": 0,
             "ticks": ""
            },
            "colorscale": [
             [
              0,
              "#0d0887"
             ],
             [
              0.1111111111111111,
              "#46039f"
             ],
             [
              0.2222222222222222,
              "#7201a8"
             ],
             [
              0.3333333333333333,
              "#9c179e"
             ],
             [
              0.4444444444444444,
              "#bd3786"
             ],
             [
              0.5555555555555556,
              "#d8576b"
             ],
             [
              0.6666666666666666,
              "#ed7953"
             ],
             [
              0.7777777777777778,
              "#fb9f3a"
             ],
             [
              0.8888888888888888,
              "#fdca26"
             ],
             [
              1,
              "#f0f921"
             ]
            ],
            "type": "histogram2d"
           }
          ],
          "histogram2dcontour": [
           {
            "colorbar": {
             "outlinewidth": 0,
             "ticks": ""
            },
            "colorscale": [
             [
              0,
              "#0d0887"
             ],
             [
              0.1111111111111111,
              "#46039f"
             ],
             [
              0.2222222222222222,
              "#7201a8"
             ],
             [
              0.3333333333333333,
              "#9c179e"
             ],
             [
              0.4444444444444444,
              "#bd3786"
             ],
             [
              0.5555555555555556,
              "#d8576b"
             ],
             [
              0.6666666666666666,
              "#ed7953"
             ],
             [
              0.7777777777777778,
              "#fb9f3a"
             ],
             [
              0.8888888888888888,
              "#fdca26"
             ],
             [
              1,
              "#f0f921"
             ]
            ],
            "type": "histogram2dcontour"
           }
          ],
          "mesh3d": [
           {
            "colorbar": {
             "outlinewidth": 0,
             "ticks": ""
            },
            "type": "mesh3d"
           }
          ],
          "parcoords": [
           {
            "line": {
             "colorbar": {
              "outlinewidth": 0,
              "ticks": ""
             }
            },
            "type": "parcoords"
           }
          ],
          "pie": [
           {
            "automargin": true,
            "type": "pie"
           }
          ],
          "scatter": [
           {
            "marker": {
             "colorbar": {
              "outlinewidth": 0,
              "ticks": ""
             }
            },
            "type": "scatter"
           }
          ],
          "scatter3d": [
           {
            "line": {
             "colorbar": {
              "outlinewidth": 0,
              "ticks": ""
             }
            },
            "marker": {
             "colorbar": {
              "outlinewidth": 0,
              "ticks": ""
             }
            },
            "type": "scatter3d"
           }
          ],
          "scattercarpet": [
           {
            "marker": {
             "colorbar": {
              "outlinewidth": 0,
              "ticks": ""
             }
            },
            "type": "scattercarpet"
           }
          ],
          "scattergeo": [
           {
            "marker": {
             "colorbar": {
              "outlinewidth": 0,
              "ticks": ""
             }
            },
            "type": "scattergeo"
           }
          ],
          "scattergl": [
           {
            "marker": {
             "colorbar": {
              "outlinewidth": 0,
              "ticks": ""
             }
            },
            "type": "scattergl"
           }
          ],
          "scattermapbox": [
           {
            "marker": {
             "colorbar": {
              "outlinewidth": 0,
              "ticks": ""
             }
            },
            "type": "scattermapbox"
           }
          ],
          "scatterpolar": [
           {
            "marker": {
             "colorbar": {
              "outlinewidth": 0,
              "ticks": ""
             }
            },
            "type": "scatterpolar"
           }
          ],
          "scatterpolargl": [
           {
            "marker": {
             "colorbar": {
              "outlinewidth": 0,
              "ticks": ""
             }
            },
            "type": "scatterpolargl"
           }
          ],
          "scatterternary": [
           {
            "marker": {
             "colorbar": {
              "outlinewidth": 0,
              "ticks": ""
             }
            },
            "type": "scatterternary"
           }
          ],
          "surface": [
           {
            "colorbar": {
             "outlinewidth": 0,
             "ticks": ""
            },
            "colorscale": [
             [
              0,
              "#0d0887"
             ],
             [
              0.1111111111111111,
              "#46039f"
             ],
             [
              0.2222222222222222,
              "#7201a8"
             ],
             [
              0.3333333333333333,
              "#9c179e"
             ],
             [
              0.4444444444444444,
              "#bd3786"
             ],
             [
              0.5555555555555556,
              "#d8576b"
             ],
             [
              0.6666666666666666,
              "#ed7953"
             ],
             [
              0.7777777777777778,
              "#fb9f3a"
             ],
             [
              0.8888888888888888,
              "#fdca26"
             ],
             [
              1,
              "#f0f921"
             ]
            ],
            "type": "surface"
           }
          ],
          "table": [
           {
            "cells": {
             "fill": {
              "color": "#EBF0F8"
             },
             "line": {
              "color": "white"
             }
            },
            "header": {
             "fill": {
              "color": "#C8D4E3"
             },
             "line": {
              "color": "white"
             }
            },
            "type": "table"
           }
          ]
         },
         "layout": {
          "annotationdefaults": {
           "arrowcolor": "#2a3f5f",
           "arrowhead": 0,
           "arrowwidth": 1
          },
          "coloraxis": {
           "colorbar": {
            "outlinewidth": 0,
            "ticks": ""
           }
          },
          "colorscale": {
           "diverging": [
            [
             0,
             "#8e0152"
            ],
            [
             0.1,
             "#c51b7d"
            ],
            [
             0.2,
             "#de77ae"
            ],
            [
             0.3,
             "#f1b6da"
            ],
            [
             0.4,
             "#fde0ef"
            ],
            [
             0.5,
             "#f7f7f7"
            ],
            [
             0.6,
             "#e6f5d0"
            ],
            [
             0.7,
             "#b8e186"
            ],
            [
             0.8,
             "#7fbc41"
            ],
            [
             0.9,
             "#4d9221"
            ],
            [
             1,
             "#276419"
            ]
           ],
           "sequential": [
            [
             0,
             "#0d0887"
            ],
            [
             0.1111111111111111,
             "#46039f"
            ],
            [
             0.2222222222222222,
             "#7201a8"
            ],
            [
             0.3333333333333333,
             "#9c179e"
            ],
            [
             0.4444444444444444,
             "#bd3786"
            ],
            [
             0.5555555555555556,
             "#d8576b"
            ],
            [
             0.6666666666666666,
             "#ed7953"
            ],
            [
             0.7777777777777778,
             "#fb9f3a"
            ],
            [
             0.8888888888888888,
             "#fdca26"
            ],
            [
             1,
             "#f0f921"
            ]
           ],
           "sequentialminus": [
            [
             0,
             "#0d0887"
            ],
            [
             0.1111111111111111,
             "#46039f"
            ],
            [
             0.2222222222222222,
             "#7201a8"
            ],
            [
             0.3333333333333333,
             "#9c179e"
            ],
            [
             0.4444444444444444,
             "#bd3786"
            ],
            [
             0.5555555555555556,
             "#d8576b"
            ],
            [
             0.6666666666666666,
             "#ed7953"
            ],
            [
             0.7777777777777778,
             "#fb9f3a"
            ],
            [
             0.8888888888888888,
             "#fdca26"
            ],
            [
             1,
             "#f0f921"
            ]
           ]
          },
          "colorway": [
           "#636efa",
           "#EF553B",
           "#00cc96",
           "#ab63fa",
           "#FFA15A",
           "#19d3f3",
           "#FF6692",
           "#B6E880",
           "#FF97FF",
           "#FECB52"
          ],
          "font": {
           "color": "#2a3f5f"
          },
          "geo": {
           "bgcolor": "white",
           "lakecolor": "white",
           "landcolor": "#E5ECF6",
           "showlakes": true,
           "showland": true,
           "subunitcolor": "white"
          },
          "hoverlabel": {
           "align": "left"
          },
          "hovermode": "closest",
          "mapbox": {
           "style": "light"
          },
          "paper_bgcolor": "white",
          "plot_bgcolor": "#E5ECF6",
          "polar": {
           "angularaxis": {
            "gridcolor": "white",
            "linecolor": "white",
            "ticks": ""
           },
           "bgcolor": "#E5ECF6",
           "radialaxis": {
            "gridcolor": "white",
            "linecolor": "white",
            "ticks": ""
           }
          },
          "scene": {
           "xaxis": {
            "backgroundcolor": "#E5ECF6",
            "gridcolor": "white",
            "gridwidth": 2,
            "linecolor": "white",
            "showbackground": true,
            "ticks": "",
            "zerolinecolor": "white"
           },
           "yaxis": {
            "backgroundcolor": "#E5ECF6",
            "gridcolor": "white",
            "gridwidth": 2,
            "linecolor": "white",
            "showbackground": true,
            "ticks": "",
            "zerolinecolor": "white"
           },
           "zaxis": {
            "backgroundcolor": "#E5ECF6",
            "gridcolor": "white",
            "gridwidth": 2,
            "linecolor": "white",
            "showbackground": true,
            "ticks": "",
            "zerolinecolor": "white"
           }
          },
          "shapedefaults": {
           "line": {
            "color": "#2a3f5f"
           }
          },
          "ternary": {
           "aaxis": {
            "gridcolor": "white",
            "linecolor": "white",
            "ticks": ""
           },
           "baxis": {
            "gridcolor": "white",
            "linecolor": "white",
            "ticks": ""
           },
           "bgcolor": "#E5ECF6",
           "caxis": {
            "gridcolor": "white",
            "linecolor": "white",
            "ticks": ""
           }
          },
          "title": {
           "x": 0.05
          },
          "xaxis": {
           "automargin": true,
           "gridcolor": "white",
           "linecolor": "white",
           "ticks": "",
           "title": {
            "standoff": 15
           },
           "zerolinecolor": "white",
           "zerolinewidth": 2
          },
          "yaxis": {
           "automargin": true,
           "gridcolor": "white",
           "linecolor": "white",
           "ticks": "",
           "title": {
            "standoff": 15
           },
           "zerolinecolor": "white",
           "zerolinewidth": 2
          }
         }
        },
        "title": {
         "text": "累积共同 sector 收益率归因"
        },
        "xaxis": {
         "anchor": "y",
         "domain": [
          0,
          1
         ],
         "tickangle": 30,
         "tickformat": "%m月%d日<br>%Y年"
        },
        "yaxis": {
         "anchor": "x",
         "domain": [
          0,
          1
         ],
         "title": {
          "text": "因子分组的累积收益率"
         }
        }
       }
      },
      "text/html": [
       "<div>\n",
       "        \n",
       "        \n",
       "            <div id=\"2702eb3c-394e-476d-8047-eb263e36ad2d\" class=\"plotly-graph-div\" style=\"height:525px; width:100%;\"></div>\n",
       "            <script type=\"text/javascript\">\n",
       "                require([\"plotly\"], function(Plotly) {\n",
       "                    window.PLOTLYENV=window.PLOTLYENV || {};\n",
       "                    \n",
       "                if (document.getElementById(\"2702eb3c-394e-476d-8047-eb263e36ad2d\")) {\n",
       "                    Plotly.newPlot(\n",
       "                        '2702eb3c-394e-476d-8047-eb263e36ad2d',\n",
       "                        [],\n",
       "                        {\"legend\": {\"bgcolor\": \"LightSteelBlue\", \"bordercolor\": \"blue\", \"borderwidth\": 1, \"font\": {\"color\": \"black\", \"family\": \"SimHei\", \"size\": 12}, \"title\": {\"font\": {\"family\": \"SimHei\"}}, \"traceorder\": \"reversed\", \"x\": 0, \"y\": 1}, \"shapes\": [{\"line\": {\"color\": \"black\"}, \"type\": \"line\", \"x0\": null, \"x1\": null, \"y0\": 0, \"y1\": 0}], \"template\": {\"data\": {\"bar\": [{\"error_x\": {\"color\": \"#2a3f5f\"}, \"error_y\": {\"color\": \"#2a3f5f\"}, \"marker\": {\"line\": {\"color\": \"#E5ECF6\", \"width\": 0.5}}, \"type\": \"bar\"}], \"barpolar\": [{\"marker\": {\"line\": {\"color\": \"#E5ECF6\", \"width\": 0.5}}, \"type\": \"barpolar\"}], \"carpet\": [{\"aaxis\": {\"endlinecolor\": \"#2a3f5f\", \"gridcolor\": \"white\", \"linecolor\": \"white\", \"minorgridcolor\": \"white\", \"startlinecolor\": \"#2a3f5f\"}, \"baxis\": {\"endlinecolor\": \"#2a3f5f\", \"gridcolor\": \"white\", \"linecolor\": \"white\", \"minorgridcolor\": \"white\", \"startlinecolor\": \"#2a3f5f\"}, \"type\": \"carpet\"}], \"choropleth\": [{\"colorbar\": {\"outlinewidth\": 0, \"ticks\": \"\"}, \"type\": \"choropleth\"}], \"contour\": [{\"colorbar\": {\"outlinewidth\": 0, \"ticks\": \"\"}, \"colorscale\": [[0.0, \"#0d0887\"], [0.1111111111111111, \"#46039f\"], [0.2222222222222222, \"#7201a8\"], [0.3333333333333333, \"#9c179e\"], [0.4444444444444444, \"#bd3786\"], [0.5555555555555556, \"#d8576b\"], [0.6666666666666666, \"#ed7953\"], [0.7777777777777778, \"#fb9f3a\"], [0.8888888888888888, \"#fdca26\"], [1.0, \"#f0f921\"]], \"type\": \"contour\"}], \"contourcarpet\": [{\"colorbar\": {\"outlinewidth\": 0, \"ticks\": \"\"}, \"type\": \"contourcarpet\"}], \"heatmap\": [{\"colorbar\": {\"outlinewidth\": 0, \"ticks\": \"\"}, \"colorscale\": [[0.0, \"#0d0887\"], [0.1111111111111111, \"#46039f\"], [0.2222222222222222, \"#7201a8\"], [0.3333333333333333, \"#9c179e\"], [0.4444444444444444, \"#bd3786\"], [0.5555555555555556, \"#d8576b\"], [0.6666666666666666, \"#ed7953\"], [0.7777777777777778, \"#fb9f3a\"], [0.8888888888888888, \"#fdca26\"], [1.0, \"#f0f921\"]], \"type\": \"heatmap\"}], \"heatmapgl\": [{\"colorbar\": {\"outlinewidth\": 0, \"ticks\": \"\"}, \"colorscale\": [[0.0, \"#0d0887\"], [0.1111111111111111, \"#46039f\"], [0.2222222222222222, \"#7201a8\"], [0.3333333333333333, \"#9c179e\"], [0.4444444444444444, \"#bd3786\"], [0.5555555555555556, \"#d8576b\"], [0.6666666666666666, \"#ed7953\"], [0.7777777777777778, \"#fb9f3a\"], [0.8888888888888888, \"#fdca26\"], [1.0, \"#f0f921\"]], \"type\": \"heatmapgl\"}], \"histogram\": [{\"marker\": {\"colorbar\": {\"outlinewidth\": 0, \"ticks\": \"\"}}, \"type\": \"histogram\"}], \"histogram2d\": [{\"colorbar\": {\"outlinewidth\": 0, \"ticks\": \"\"}, \"colorscale\": [[0.0, \"#0d0887\"], [0.1111111111111111, \"#46039f\"], [0.2222222222222222, \"#7201a8\"], [0.3333333333333333, \"#9c179e\"], [0.4444444444444444, \"#bd3786\"], [0.5555555555555556, \"#d8576b\"], [0.6666666666666666, \"#ed7953\"], [0.7777777777777778, \"#fb9f3a\"], [0.8888888888888888, \"#fdca26\"], [1.0, \"#f0f921\"]], \"type\": \"histogram2d\"}], \"histogram2dcontour\": [{\"colorbar\": {\"outlinewidth\": 0, \"ticks\": \"\"}, \"colorscale\": [[0.0, \"#0d0887\"], [0.1111111111111111, \"#46039f\"], [0.2222222222222222, \"#7201a8\"], [0.3333333333333333, \"#9c179e\"], [0.4444444444444444, \"#bd3786\"], [0.5555555555555556, \"#d8576b\"], [0.6666666666666666, \"#ed7953\"], [0.7777777777777778, \"#fb9f3a\"], [0.8888888888888888, \"#fdca26\"], [1.0, \"#f0f921\"]], \"type\": \"histogram2dcontour\"}], \"mesh3d\": [{\"colorbar\": {\"outlinewidth\": 0, \"ticks\": \"\"}, \"type\": \"mesh3d\"}], \"parcoords\": [{\"line\": {\"colorbar\": {\"outlinewidth\": 0, \"ticks\": \"\"}}, \"type\": \"parcoords\"}], \"pie\": [{\"automargin\": true, \"type\": \"pie\"}], \"scatter\": [{\"marker\": {\"colorbar\": {\"outlinewidth\": 0, \"ticks\": \"\"}}, \"type\": \"scatter\"}], \"scatter3d\": [{\"line\": {\"colorbar\": {\"outlinewidth\": 0, \"ticks\": \"\"}}, \"marker\": {\"colorbar\": {\"outlinewidth\": 0, \"ticks\": \"\"}}, \"type\": \"scatter3d\"}], \"scattercarpet\": [{\"marker\": {\"colorbar\": {\"outlinewidth\": 0, \"ticks\": \"\"}}, \"type\": \"scattercarpet\"}], \"scattergeo\": [{\"marker\": {\"colorbar\": {\"outlinewidth\": 0, \"ticks\": \"\"}}, \"type\": \"scattergeo\"}], \"scattergl\": [{\"marker\": {\"colorbar\": {\"outlinewidth\": 0, \"ticks\": \"\"}}, \"type\": \"scattergl\"}], \"scattermapbox\": [{\"marker\": {\"colorbar\": {\"outlinewidth\": 0, \"ticks\": \"\"}}, \"type\": \"scattermapbox\"}], \"scatterpolar\": [{\"marker\": {\"colorbar\": {\"outlinewidth\": 0, \"ticks\": \"\"}}, \"type\": \"scatterpolar\"}], \"scatterpolargl\": [{\"marker\": {\"colorbar\": {\"outlinewidth\": 0, \"ticks\": \"\"}}, \"type\": \"scatterpolargl\"}], \"scatterternary\": [{\"marker\": {\"colorbar\": {\"outlinewidth\": 0, \"ticks\": \"\"}}, \"type\": \"scatterternary\"}], \"surface\": [{\"colorbar\": {\"outlinewidth\": 0, \"ticks\": \"\"}, \"colorscale\": [[0.0, \"#0d0887\"], [0.1111111111111111, \"#46039f\"], [0.2222222222222222, \"#7201a8\"], [0.3333333333333333, \"#9c179e\"], [0.4444444444444444, \"#bd3786\"], [0.5555555555555556, \"#d8576b\"], [0.6666666666666666, \"#ed7953\"], [0.7777777777777778, \"#fb9f3a\"], [0.8888888888888888, \"#fdca26\"], [1.0, \"#f0f921\"]], \"type\": \"surface\"}], \"table\": [{\"cells\": {\"fill\": {\"color\": \"#EBF0F8\"}, \"line\": {\"color\": \"white\"}}, \"header\": {\"fill\": {\"color\": \"#C8D4E3\"}, \"line\": {\"color\": \"white\"}}, \"type\": \"table\"}]}, \"layout\": {\"annotationdefaults\": {\"arrowcolor\": \"#2a3f5f\", \"arrowhead\": 0, \"arrowwidth\": 1}, \"coloraxis\": {\"colorbar\": {\"outlinewidth\": 0, \"ticks\": \"\"}}, \"colorscale\": {\"diverging\": [[0, \"#8e0152\"], [0.1, \"#c51b7d\"], [0.2, \"#de77ae\"], [0.3, \"#f1b6da\"], [0.4, \"#fde0ef\"], [0.5, \"#f7f7f7\"], [0.6, \"#e6f5d0\"], [0.7, \"#b8e186\"], [0.8, \"#7fbc41\"], [0.9, \"#4d9221\"], [1, \"#276419\"]], \"sequential\": [[0.0, \"#0d0887\"], [0.1111111111111111, \"#46039f\"], [0.2222222222222222, \"#7201a8\"], [0.3333333333333333, \"#9c179e\"], [0.4444444444444444, \"#bd3786\"], [0.5555555555555556, \"#d8576b\"], [0.6666666666666666, \"#ed7953\"], [0.7777777777777778, \"#fb9f3a\"], [0.8888888888888888, \"#fdca26\"], [1.0, \"#f0f921\"]], \"sequentialminus\": [[0.0, \"#0d0887\"], [0.1111111111111111, \"#46039f\"], [0.2222222222222222, \"#7201a8\"], [0.3333333333333333, \"#9c179e\"], [0.4444444444444444, \"#bd3786\"], [0.5555555555555556, \"#d8576b\"], [0.6666666666666666, \"#ed7953\"], [0.7777777777777778, \"#fb9f3a\"], [0.8888888888888888, \"#fdca26\"], [1.0, \"#f0f921\"]]}, \"colorway\": [\"#636efa\", \"#EF553B\", \"#00cc96\", \"#ab63fa\", \"#FFA15A\", \"#19d3f3\", \"#FF6692\", \"#B6E880\", \"#FF97FF\", \"#FECB52\"], \"font\": {\"color\": \"#2a3f5f\"}, \"geo\": {\"bgcolor\": \"white\", \"lakecolor\": \"white\", \"landcolor\": \"#E5ECF6\", \"showlakes\": true, \"showland\": true, \"subunitcolor\": \"white\"}, \"hoverlabel\": {\"align\": \"left\"}, \"hovermode\": \"closest\", \"mapbox\": {\"style\": \"light\"}, \"paper_bgcolor\": \"white\", \"plot_bgcolor\": \"#E5ECF6\", \"polar\": {\"angularaxis\": {\"gridcolor\": \"white\", \"linecolor\": \"white\", \"ticks\": \"\"}, \"bgcolor\": \"#E5ECF6\", \"radialaxis\": {\"gridcolor\": \"white\", \"linecolor\": \"white\", \"ticks\": \"\"}}, \"scene\": {\"xaxis\": {\"backgroundcolor\": \"#E5ECF6\", \"gridcolor\": \"white\", \"gridwidth\": 2, \"linecolor\": \"white\", \"showbackground\": true, \"ticks\": \"\", \"zerolinecolor\": \"white\"}, \"yaxis\": {\"backgroundcolor\": \"#E5ECF6\", \"gridcolor\": \"white\", \"gridwidth\": 2, \"linecolor\": \"white\", \"showbackground\": true, \"ticks\": \"\", \"zerolinecolor\": \"white\"}, \"zaxis\": {\"backgroundcolor\": \"#E5ECF6\", \"gridcolor\": \"white\", \"gridwidth\": 2, \"linecolor\": \"white\", \"showbackground\": true, \"ticks\": \"\", \"zerolinecolor\": \"white\"}}, \"shapedefaults\": {\"line\": {\"color\": \"#2a3f5f\"}}, \"ternary\": {\"aaxis\": {\"gridcolor\": \"white\", \"linecolor\": \"white\", \"ticks\": \"\"}, \"baxis\": {\"gridcolor\": \"white\", \"linecolor\": \"white\", \"ticks\": \"\"}, \"bgcolor\": \"#E5ECF6\", \"caxis\": {\"gridcolor\": \"white\", \"linecolor\": \"white\", \"ticks\": \"\"}}, \"title\": {\"x\": 0.05}, \"xaxis\": {\"automargin\": true, \"gridcolor\": \"white\", \"linecolor\": \"white\", \"ticks\": \"\", \"title\": {\"standoff\": 15}, \"zerolinecolor\": \"white\", \"zerolinewidth\": 2}, \"yaxis\": {\"automargin\": true, \"gridcolor\": \"white\", \"linecolor\": \"white\", \"ticks\": \"\", \"title\": {\"standoff\": 15}, \"zerolinecolor\": \"white\", \"zerolinewidth\": 2}}}, \"title\": {\"text\": \"\\u7d2f\\u79ef\\u5171\\u540c sector \\u6536\\u76ca\\u7387\\u5f52\\u56e0\"}, \"xaxis\": {\"anchor\": \"y\", \"domain\": [0.0, 1.0], \"tickangle\": 30, \"tickformat\": \"%m\\u6708%d\\u65e5<br>%Y\\u5e74\"}, \"yaxis\": {\"anchor\": \"x\", \"domain\": [0.0, 1.0], \"title\": {\"text\": \"\\u56e0\\u5b50\\u5206\\u7ec4\\u7684\\u7d2f\\u79ef\\u6536\\u76ca\\u7387\"}}},\n",
       "                        {\"responsive\": true}\n",
       "                    ).then(function(){\n",
       "                            \n",
       "var gd = document.getElementById('2702eb3c-394e-476d-8047-eb263e36ad2d');\n",
       "var x = new MutationObserver(function (mutations, observer) {{\n",
       "        var display = window.getComputedStyle(gd).display;\n",
       "        if (!display || display === 'none') {{\n",
       "            console.log([gd, 'removed!']);\n",
       "            Plotly.purge(gd);\n",
       "            observer.disconnect();\n",
       "        }}\n",
       "}});\n",
       "\n",
       "// Listen for the removal of the full notebook cells\n",
       "var notebookContainer = gd.closest('#notebook-container');\n",
       "if (notebookContainer) {{\n",
       "    x.observe(notebookContainer, {childList: true});\n",
       "}}\n",
       "\n",
       "// Listen for the clearing of the current output cell\n",
       "var outputEl = gd.closest('.output');\n",
       "if (outputEl) {{\n",
       "    x.observe(outputEl, {childList: true});\n",
       "}}\n",
       "\n",
       "                        })\n",
       "                };\n",
       "                });\n",
       "            </script>\n",
       "        </div>"
      ]
     },
     "metadata": {},
     "output_type": "display_data"
    },
    {
     "data": {
      "application/vnd.plotly.v1+json": {
       "config": {
        "plotlyServerURL": "https://plot.ly"
       },
       "data": [],
       "layout": {
        "legend": {
         "bgcolor": "LightSteelBlue",
         "bordercolor": "blue",
         "borderwidth": 1,
         "font": {
          "color": "black",
          "family": "SimHei",
          "size": 12
         },
         "title": {
          "font": {
           "family": "SimHei"
          }
         },
         "traceorder": "reversed",
         "x": 0,
         "y": 1
        },
        "template": {
         "data": {
          "bar": [
           {
            "error_x": {
             "color": "#2a3f5f"
            },
            "error_y": {
             "color": "#2a3f5f"
            },
            "marker": {
             "line": {
              "color": "#E5ECF6",
              "width": 0.5
             }
            },
            "type": "bar"
           }
          ],
          "barpolar": [
           {
            "marker": {
             "line": {
              "color": "#E5ECF6",
              "width": 0.5
             }
            },
            "type": "barpolar"
           }
          ],
          "carpet": [
           {
            "aaxis": {
             "endlinecolor": "#2a3f5f",
             "gridcolor": "white",
             "linecolor": "white",
             "minorgridcolor": "white",
             "startlinecolor": "#2a3f5f"
            },
            "baxis": {
             "endlinecolor": "#2a3f5f",
             "gridcolor": "white",
             "linecolor": "white",
             "minorgridcolor": "white",
             "startlinecolor": "#2a3f5f"
            },
            "type": "carpet"
           }
          ],
          "choropleth": [
           {
            "colorbar": {
             "outlinewidth": 0,
             "ticks": ""
            },
            "type": "choropleth"
           }
          ],
          "contour": [
           {
            "colorbar": {
             "outlinewidth": 0,
             "ticks": ""
            },
            "colorscale": [
             [
              0,
              "#0d0887"
             ],
             [
              0.1111111111111111,
              "#46039f"
             ],
             [
              0.2222222222222222,
              "#7201a8"
             ],
             [
              0.3333333333333333,
              "#9c179e"
             ],
             [
              0.4444444444444444,
              "#bd3786"
             ],
             [
              0.5555555555555556,
              "#d8576b"
             ],
             [
              0.6666666666666666,
              "#ed7953"
             ],
             [
              0.7777777777777778,
              "#fb9f3a"
             ],
             [
              0.8888888888888888,
              "#fdca26"
             ],
             [
              1,
              "#f0f921"
             ]
            ],
            "type": "contour"
           }
          ],
          "contourcarpet": [
           {
            "colorbar": {
             "outlinewidth": 0,
             "ticks": ""
            },
            "type": "contourcarpet"
           }
          ],
          "heatmap": [
           {
            "colorbar": {
             "outlinewidth": 0,
             "ticks": ""
            },
            "colorscale": [
             [
              0,
              "#0d0887"
             ],
             [
              0.1111111111111111,
              "#46039f"
             ],
             [
              0.2222222222222222,
              "#7201a8"
             ],
             [
              0.3333333333333333,
              "#9c179e"
             ],
             [
              0.4444444444444444,
              "#bd3786"
             ],
             [
              0.5555555555555556,
              "#d8576b"
             ],
             [
              0.6666666666666666,
              "#ed7953"
             ],
             [
              0.7777777777777778,
              "#fb9f3a"
             ],
             [
              0.8888888888888888,
              "#fdca26"
             ],
             [
              1,
              "#f0f921"
             ]
            ],
            "type": "heatmap"
           }
          ],
          "heatmapgl": [
           {
            "colorbar": {
             "outlinewidth": 0,
             "ticks": ""
            },
            "colorscale": [
             [
              0,
              "#0d0887"
             ],
             [
              0.1111111111111111,
              "#46039f"
             ],
             [
              0.2222222222222222,
              "#7201a8"
             ],
             [
              0.3333333333333333,
              "#9c179e"
             ],
             [
              0.4444444444444444,
              "#bd3786"
             ],
             [
              0.5555555555555556,
              "#d8576b"
             ],
             [
              0.6666666666666666,
              "#ed7953"
             ],
             [
              0.7777777777777778,
              "#fb9f3a"
             ],
             [
              0.8888888888888888,
              "#fdca26"
             ],
             [
              1,
              "#f0f921"
             ]
            ],
            "type": "heatmapgl"
           }
          ],
          "histogram": [
           {
            "marker": {
             "colorbar": {
              "outlinewidth": 0,
              "ticks": ""
             }
            },
            "type": "histogram"
           }
          ],
          "histogram2d": [
           {
            "colorbar": {
             "outlinewidth": 0,
             "ticks": ""
            },
            "colorscale": [
             [
              0,
              "#0d0887"
             ],
             [
              0.1111111111111111,
              "#46039f"
             ],
             [
              0.2222222222222222,
              "#7201a8"
             ],
             [
              0.3333333333333333,
              "#9c179e"
             ],
             [
              0.4444444444444444,
              "#bd3786"
             ],
             [
              0.5555555555555556,
              "#d8576b"
             ],
             [
              0.6666666666666666,
              "#ed7953"
             ],
             [
              0.7777777777777778,
              "#fb9f3a"
             ],
             [
              0.8888888888888888,
              "#fdca26"
             ],
             [
              1,
              "#f0f921"
             ]
            ],
            "type": "histogram2d"
           }
          ],
          "histogram2dcontour": [
           {
            "colorbar": {
             "outlinewidth": 0,
             "ticks": ""
            },
            "colorscale": [
             [
              0,
              "#0d0887"
             ],
             [
              0.1111111111111111,
              "#46039f"
             ],
             [
              0.2222222222222222,
              "#7201a8"
             ],
             [
              0.3333333333333333,
              "#9c179e"
             ],
             [
              0.4444444444444444,
              "#bd3786"
             ],
             [
              0.5555555555555556,
              "#d8576b"
             ],
             [
              0.6666666666666666,
              "#ed7953"
             ],
             [
              0.7777777777777778,
              "#fb9f3a"
             ],
             [
              0.8888888888888888,
              "#fdca26"
             ],
             [
              1,
              "#f0f921"
             ]
            ],
            "type": "histogram2dcontour"
           }
          ],
          "mesh3d": [
           {
            "colorbar": {
             "outlinewidth": 0,
             "ticks": ""
            },
            "type": "mesh3d"
           }
          ],
          "parcoords": [
           {
            "line": {
             "colorbar": {
              "outlinewidth": 0,
              "ticks": ""
             }
            },
            "type": "parcoords"
           }
          ],
          "pie": [
           {
            "automargin": true,
            "type": "pie"
           }
          ],
          "scatter": [
           {
            "marker": {
             "colorbar": {
              "outlinewidth": 0,
              "ticks": ""
             }
            },
            "type": "scatter"
           }
          ],
          "scatter3d": [
           {
            "line": {
             "colorbar": {
              "outlinewidth": 0,
              "ticks": ""
             }
            },
            "marker": {
             "colorbar": {
              "outlinewidth": 0,
              "ticks": ""
             }
            },
            "type": "scatter3d"
           }
          ],
          "scattercarpet": [
           {
            "marker": {
             "colorbar": {
              "outlinewidth": 0,
              "ticks": ""
             }
            },
            "type": "scattercarpet"
           }
          ],
          "scattergeo": [
           {
            "marker": {
             "colorbar": {
              "outlinewidth": 0,
              "ticks": ""
             }
            },
            "type": "scattergeo"
           }
          ],
          "scattergl": [
           {
            "marker": {
             "colorbar": {
              "outlinewidth": 0,
              "ticks": ""
             }
            },
            "type": "scattergl"
           }
          ],
          "scattermapbox": [
           {
            "marker": {
             "colorbar": {
              "outlinewidth": 0,
              "ticks": ""
             }
            },
            "type": "scattermapbox"
           }
          ],
          "scatterpolar": [
           {
            "marker": {
             "colorbar": {
              "outlinewidth": 0,
              "ticks": ""
             }
            },
            "type": "scatterpolar"
           }
          ],
          "scatterpolargl": [
           {
            "marker": {
             "colorbar": {
              "outlinewidth": 0,
              "ticks": ""
             }
            },
            "type": "scatterpolargl"
           }
          ],
          "scatterternary": [
           {
            "marker": {
             "colorbar": {
              "outlinewidth": 0,
              "ticks": ""
             }
            },
            "type": "scatterternary"
           }
          ],
          "surface": [
           {
            "colorbar": {
             "outlinewidth": 0,
             "ticks": ""
            },
            "colorscale": [
             [
              0,
              "#0d0887"
             ],
             [
              0.1111111111111111,
              "#46039f"
             ],
             [
              0.2222222222222222,
              "#7201a8"
             ],
             [
              0.3333333333333333,
              "#9c179e"
             ],
             [
              0.4444444444444444,
              "#bd3786"
             ],
             [
              0.5555555555555556,
              "#d8576b"
             ],
             [
              0.6666666666666666,
              "#ed7953"
             ],
             [
              0.7777777777777778,
              "#fb9f3a"
             ],
             [
              0.8888888888888888,
              "#fdca26"
             ],
             [
              1,
              "#f0f921"
             ]
            ],
            "type": "surface"
           }
          ],
          "table": [
           {
            "cells": {
             "fill": {
              "color": "#EBF0F8"
             },
             "line": {
              "color": "white"
             }
            },
            "header": {
             "fill": {
              "color": "#C8D4E3"
             },
             "line": {
              "color": "white"
             }
            },
            "type": "table"
           }
          ]
         },
         "layout": {
          "annotationdefaults": {
           "arrowcolor": "#2a3f5f",
           "arrowhead": 0,
           "arrowwidth": 1
          },
          "coloraxis": {
           "colorbar": {
            "outlinewidth": 0,
            "ticks": ""
           }
          },
          "colorscale": {
           "diverging": [
            [
             0,
             "#8e0152"
            ],
            [
             0.1,
             "#c51b7d"
            ],
            [
             0.2,
             "#de77ae"
            ],
            [
             0.3,
             "#f1b6da"
            ],
            [
             0.4,
             "#fde0ef"
            ],
            [
             0.5,
             "#f7f7f7"
            ],
            [
             0.6,
             "#e6f5d0"
            ],
            [
             0.7,
             "#b8e186"
            ],
            [
             0.8,
             "#7fbc41"
            ],
            [
             0.9,
             "#4d9221"
            ],
            [
             1,
             "#276419"
            ]
           ],
           "sequential": [
            [
             0,
             "#0d0887"
            ],
            [
             0.1111111111111111,
             "#46039f"
            ],
            [
             0.2222222222222222,
             "#7201a8"
            ],
            [
             0.3333333333333333,
             "#9c179e"
            ],
            [
             0.4444444444444444,
             "#bd3786"
            ],
            [
             0.5555555555555556,
             "#d8576b"
            ],
            [
             0.6666666666666666,
             "#ed7953"
            ],
            [
             0.7777777777777778,
             "#fb9f3a"
            ],
            [
             0.8888888888888888,
             "#fdca26"
            ],
            [
             1,
             "#f0f921"
            ]
           ],
           "sequentialminus": [
            [
             0,
             "#0d0887"
            ],
            [
             0.1111111111111111,
             "#46039f"
            ],
            [
             0.2222222222222222,
             "#7201a8"
            ],
            [
             0.3333333333333333,
             "#9c179e"
            ],
            [
             0.4444444444444444,
             "#bd3786"
            ],
            [
             0.5555555555555556,
             "#d8576b"
            ],
            [
             0.6666666666666666,
             "#ed7953"
            ],
            [
             0.7777777777777778,
             "#fb9f3a"
            ],
            [
             0.8888888888888888,
             "#fdca26"
            ],
            [
             1,
             "#f0f921"
            ]
           ]
          },
          "colorway": [
           "#636efa",
           "#EF553B",
           "#00cc96",
           "#ab63fa",
           "#FFA15A",
           "#19d3f3",
           "#FF6692",
           "#B6E880",
           "#FF97FF",
           "#FECB52"
          ],
          "font": {
           "color": "#2a3f5f"
          },
          "geo": {
           "bgcolor": "white",
           "lakecolor": "white",
           "landcolor": "#E5ECF6",
           "showlakes": true,
           "showland": true,
           "subunitcolor": "white"
          },
          "hoverlabel": {
           "align": "left"
          },
          "hovermode": "closest",
          "mapbox": {
           "style": "light"
          },
          "paper_bgcolor": "white",
          "plot_bgcolor": "#E5ECF6",
          "polar": {
           "angularaxis": {
            "gridcolor": "white",
            "linecolor": "white",
            "ticks": ""
           },
           "bgcolor": "#E5ECF6",
           "radialaxis": {
            "gridcolor": "white",
            "linecolor": "white",
            "ticks": ""
           }
          },
          "scene": {
           "xaxis": {
            "backgroundcolor": "#E5ECF6",
            "gridcolor": "white",
            "gridwidth": 2,
            "linecolor": "white",
            "showbackground": true,
            "ticks": "",
            "zerolinecolor": "white"
           },
           "yaxis": {
            "backgroundcolor": "#E5ECF6",
            "gridcolor": "white",
            "gridwidth": 2,
            "linecolor": "white",
            "showbackground": true,
            "ticks": "",
            "zerolinecolor": "white"
           },
           "zaxis": {
            "backgroundcolor": "#E5ECF6",
            "gridcolor": "white",
            "gridwidth": 2,
            "linecolor": "white",
            "showbackground": true,
            "ticks": "",
            "zerolinecolor": "white"
           }
          },
          "shapedefaults": {
           "line": {
            "color": "#2a3f5f"
           }
          },
          "ternary": {
           "aaxis": {
            "gridcolor": "white",
            "linecolor": "white",
            "ticks": ""
           },
           "baxis": {
            "gridcolor": "white",
            "linecolor": "white",
            "ticks": ""
           },
           "bgcolor": "#E5ECF6",
           "caxis": {
            "gridcolor": "white",
            "linecolor": "white",
            "ticks": ""
           }
          },
          "title": {
           "x": 0.05
          },
          "xaxis": {
           "automargin": true,
           "gridcolor": "white",
           "linecolor": "white",
           "ticks": "",
           "title": {
            "standoff": 15
           },
           "zerolinecolor": "white",
           "zerolinewidth": 2
          },
          "yaxis": {
           "automargin": true,
           "gridcolor": "white",
           "linecolor": "white",
           "ticks": "",
           "title": {
            "standoff": 15
           },
           "zerolinecolor": "white",
           "zerolinewidth": 2
          }
         }
        },
        "title": {
         "text": "每日 style 因子敞口"
        },
        "xaxis": {
         "anchor": "y",
         "domain": [
          0,
          1
         ],
         "tickangle": 30,
         "tickformat": "%m月%d日<br>%Y年"
        },
        "yaxis": {
         "anchor": "x",
         "domain": [
          0,
          1
         ],
         "title": {
          "text": "因子敞口"
         }
        }
       }
      },
      "text/html": [
       "<div>\n",
       "        \n",
       "        \n",
       "            <div id=\"d049d6b2-b20f-4b51-a505-371662351aac\" class=\"plotly-graph-div\" style=\"height:525px; width:100%;\"></div>\n",
       "            <script type=\"text/javascript\">\n",
       "                require([\"plotly\"], function(Plotly) {\n",
       "                    window.PLOTLYENV=window.PLOTLYENV || {};\n",
       "                    \n",
       "                if (document.getElementById(\"d049d6b2-b20f-4b51-a505-371662351aac\")) {\n",
       "                    Plotly.newPlot(\n",
       "                        'd049d6b2-b20f-4b51-a505-371662351aac',\n",
       "                        [],\n",
       "                        {\"legend\": {\"bgcolor\": \"LightSteelBlue\", \"bordercolor\": \"blue\", \"borderwidth\": 1, \"font\": {\"color\": \"black\", \"family\": \"SimHei\", \"size\": 12}, \"title\": {\"font\": {\"family\": \"SimHei\"}}, \"traceorder\": \"reversed\", \"x\": 0, \"y\": 1}, \"template\": {\"data\": {\"bar\": [{\"error_x\": {\"color\": \"#2a3f5f\"}, \"error_y\": {\"color\": \"#2a3f5f\"}, \"marker\": {\"line\": {\"color\": \"#E5ECF6\", \"width\": 0.5}}, \"type\": \"bar\"}], \"barpolar\": [{\"marker\": {\"line\": {\"color\": \"#E5ECF6\", \"width\": 0.5}}, \"type\": \"barpolar\"}], \"carpet\": [{\"aaxis\": {\"endlinecolor\": \"#2a3f5f\", \"gridcolor\": \"white\", \"linecolor\": \"white\", \"minorgridcolor\": \"white\", \"startlinecolor\": \"#2a3f5f\"}, \"baxis\": {\"endlinecolor\": \"#2a3f5f\", \"gridcolor\": \"white\", \"linecolor\": \"white\", \"minorgridcolor\": \"white\", \"startlinecolor\": \"#2a3f5f\"}, \"type\": \"carpet\"}], \"choropleth\": [{\"colorbar\": {\"outlinewidth\": 0, \"ticks\": \"\"}, \"type\": \"choropleth\"}], \"contour\": [{\"colorbar\": {\"outlinewidth\": 0, \"ticks\": \"\"}, \"colorscale\": [[0.0, \"#0d0887\"], [0.1111111111111111, \"#46039f\"], [0.2222222222222222, \"#7201a8\"], [0.3333333333333333, \"#9c179e\"], [0.4444444444444444, \"#bd3786\"], [0.5555555555555556, \"#d8576b\"], [0.6666666666666666, \"#ed7953\"], [0.7777777777777778, \"#fb9f3a\"], [0.8888888888888888, \"#fdca26\"], [1.0, \"#f0f921\"]], \"type\": \"contour\"}], \"contourcarpet\": [{\"colorbar\": {\"outlinewidth\": 0, \"ticks\": \"\"}, \"type\": \"contourcarpet\"}], \"heatmap\": [{\"colorbar\": {\"outlinewidth\": 0, \"ticks\": \"\"}, \"colorscale\": [[0.0, \"#0d0887\"], [0.1111111111111111, \"#46039f\"], [0.2222222222222222, \"#7201a8\"], [0.3333333333333333, \"#9c179e\"], [0.4444444444444444, \"#bd3786\"], [0.5555555555555556, \"#d8576b\"], [0.6666666666666666, \"#ed7953\"], [0.7777777777777778, \"#fb9f3a\"], [0.8888888888888888, \"#fdca26\"], [1.0, \"#f0f921\"]], \"type\": \"heatmap\"}], \"heatmapgl\": [{\"colorbar\": {\"outlinewidth\": 0, \"ticks\": \"\"}, \"colorscale\": [[0.0, \"#0d0887\"], [0.1111111111111111, \"#46039f\"], [0.2222222222222222, \"#7201a8\"], [0.3333333333333333, \"#9c179e\"], [0.4444444444444444, \"#bd3786\"], [0.5555555555555556, \"#d8576b\"], [0.6666666666666666, \"#ed7953\"], [0.7777777777777778, \"#fb9f3a\"], [0.8888888888888888, \"#fdca26\"], [1.0, \"#f0f921\"]], \"type\": \"heatmapgl\"}], \"histogram\": [{\"marker\": {\"colorbar\": {\"outlinewidth\": 0, \"ticks\": \"\"}}, \"type\": \"histogram\"}], \"histogram2d\": [{\"colorbar\": {\"outlinewidth\": 0, \"ticks\": \"\"}, \"colorscale\": [[0.0, \"#0d0887\"], [0.1111111111111111, \"#46039f\"], [0.2222222222222222, \"#7201a8\"], [0.3333333333333333, \"#9c179e\"], [0.4444444444444444, \"#bd3786\"], [0.5555555555555556, \"#d8576b\"], [0.6666666666666666, \"#ed7953\"], [0.7777777777777778, \"#fb9f3a\"], [0.8888888888888888, \"#fdca26\"], [1.0, \"#f0f921\"]], \"type\": \"histogram2d\"}], \"histogram2dcontour\": [{\"colorbar\": {\"outlinewidth\": 0, \"ticks\": \"\"}, \"colorscale\": [[0.0, \"#0d0887\"], [0.1111111111111111, \"#46039f\"], [0.2222222222222222, \"#7201a8\"], [0.3333333333333333, \"#9c179e\"], [0.4444444444444444, \"#bd3786\"], [0.5555555555555556, \"#d8576b\"], [0.6666666666666666, \"#ed7953\"], [0.7777777777777778, \"#fb9f3a\"], [0.8888888888888888, \"#fdca26\"], [1.0, \"#f0f921\"]], \"type\": \"histogram2dcontour\"}], \"mesh3d\": [{\"colorbar\": {\"outlinewidth\": 0, \"ticks\": \"\"}, \"type\": \"mesh3d\"}], \"parcoords\": [{\"line\": {\"colorbar\": {\"outlinewidth\": 0, \"ticks\": \"\"}}, \"type\": \"parcoords\"}], \"pie\": [{\"automargin\": true, \"type\": \"pie\"}], \"scatter\": [{\"marker\": {\"colorbar\": {\"outlinewidth\": 0, \"ticks\": \"\"}}, \"type\": \"scatter\"}], \"scatter3d\": [{\"line\": {\"colorbar\": {\"outlinewidth\": 0, \"ticks\": \"\"}}, \"marker\": {\"colorbar\": {\"outlinewidth\": 0, \"ticks\": \"\"}}, \"type\": \"scatter3d\"}], \"scattercarpet\": [{\"marker\": {\"colorbar\": {\"outlinewidth\": 0, \"ticks\": \"\"}}, \"type\": \"scattercarpet\"}], \"scattergeo\": [{\"marker\": {\"colorbar\": {\"outlinewidth\": 0, \"ticks\": \"\"}}, \"type\": \"scattergeo\"}], \"scattergl\": [{\"marker\": {\"colorbar\": {\"outlinewidth\": 0, \"ticks\": \"\"}}, \"type\": \"scattergl\"}], \"scattermapbox\": [{\"marker\": {\"colorbar\": {\"outlinewidth\": 0, \"ticks\": \"\"}}, \"type\": \"scattermapbox\"}], \"scatterpolar\": [{\"marker\": {\"colorbar\": {\"outlinewidth\": 0, \"ticks\": \"\"}}, \"type\": \"scatterpolar\"}], \"scatterpolargl\": [{\"marker\": {\"colorbar\": {\"outlinewidth\": 0, \"ticks\": \"\"}}, \"type\": \"scatterpolargl\"}], \"scatterternary\": [{\"marker\": {\"colorbar\": {\"outlinewidth\": 0, \"ticks\": \"\"}}, \"type\": \"scatterternary\"}], \"surface\": [{\"colorbar\": {\"outlinewidth\": 0, \"ticks\": \"\"}, \"colorscale\": [[0.0, \"#0d0887\"], [0.1111111111111111, \"#46039f\"], [0.2222222222222222, \"#7201a8\"], [0.3333333333333333, \"#9c179e\"], [0.4444444444444444, \"#bd3786\"], [0.5555555555555556, \"#d8576b\"], [0.6666666666666666, \"#ed7953\"], [0.7777777777777778, \"#fb9f3a\"], [0.8888888888888888, \"#fdca26\"], [1.0, \"#f0f921\"]], \"type\": \"surface\"}], \"table\": [{\"cells\": {\"fill\": {\"color\": \"#EBF0F8\"}, \"line\": {\"color\": \"white\"}}, \"header\": {\"fill\": {\"color\": \"#C8D4E3\"}, \"line\": {\"color\": \"white\"}}, \"type\": \"table\"}]}, \"layout\": {\"annotationdefaults\": {\"arrowcolor\": \"#2a3f5f\", \"arrowhead\": 0, \"arrowwidth\": 1}, \"coloraxis\": {\"colorbar\": {\"outlinewidth\": 0, \"ticks\": \"\"}}, \"colorscale\": {\"diverging\": [[0, \"#8e0152\"], [0.1, \"#c51b7d\"], [0.2, \"#de77ae\"], [0.3, \"#f1b6da\"], [0.4, \"#fde0ef\"], [0.5, \"#f7f7f7\"], [0.6, \"#e6f5d0\"], [0.7, \"#b8e186\"], [0.8, \"#7fbc41\"], [0.9, \"#4d9221\"], [1, \"#276419\"]], \"sequential\": [[0.0, \"#0d0887\"], [0.1111111111111111, \"#46039f\"], [0.2222222222222222, \"#7201a8\"], [0.3333333333333333, \"#9c179e\"], [0.4444444444444444, \"#bd3786\"], [0.5555555555555556, \"#d8576b\"], [0.6666666666666666, \"#ed7953\"], [0.7777777777777778, \"#fb9f3a\"], [0.8888888888888888, \"#fdca26\"], [1.0, \"#f0f921\"]], \"sequentialminus\": [[0.0, \"#0d0887\"], [0.1111111111111111, \"#46039f\"], [0.2222222222222222, \"#7201a8\"], [0.3333333333333333, \"#9c179e\"], [0.4444444444444444, \"#bd3786\"], [0.5555555555555556, \"#d8576b\"], [0.6666666666666666, \"#ed7953\"], [0.7777777777777778, \"#fb9f3a\"], [0.8888888888888888, \"#fdca26\"], [1.0, \"#f0f921\"]]}, \"colorway\": [\"#636efa\", \"#EF553B\", \"#00cc96\", \"#ab63fa\", \"#FFA15A\", \"#19d3f3\", \"#FF6692\", \"#B6E880\", \"#FF97FF\", \"#FECB52\"], \"font\": {\"color\": \"#2a3f5f\"}, \"geo\": {\"bgcolor\": \"white\", \"lakecolor\": \"white\", \"landcolor\": \"#E5ECF6\", \"showlakes\": true, \"showland\": true, \"subunitcolor\": \"white\"}, \"hoverlabel\": {\"align\": \"left\"}, \"hovermode\": \"closest\", \"mapbox\": {\"style\": \"light\"}, \"paper_bgcolor\": \"white\", \"plot_bgcolor\": \"#E5ECF6\", \"polar\": {\"angularaxis\": {\"gridcolor\": \"white\", \"linecolor\": \"white\", \"ticks\": \"\"}, \"bgcolor\": \"#E5ECF6\", \"radialaxis\": {\"gridcolor\": \"white\", \"linecolor\": \"white\", \"ticks\": \"\"}}, \"scene\": {\"xaxis\": {\"backgroundcolor\": \"#E5ECF6\", \"gridcolor\": \"white\", \"gridwidth\": 2, \"linecolor\": \"white\", \"showbackground\": true, \"ticks\": \"\", \"zerolinecolor\": \"white\"}, \"yaxis\": {\"backgroundcolor\": \"#E5ECF6\", \"gridcolor\": \"white\", \"gridwidth\": 2, \"linecolor\": \"white\", \"showbackground\": true, \"ticks\": \"\", \"zerolinecolor\": \"white\"}, \"zaxis\": {\"backgroundcolor\": \"#E5ECF6\", \"gridcolor\": \"white\", \"gridwidth\": 2, \"linecolor\": \"white\", \"showbackground\": true, \"ticks\": \"\", \"zerolinecolor\": \"white\"}}, \"shapedefaults\": {\"line\": {\"color\": \"#2a3f5f\"}}, \"ternary\": {\"aaxis\": {\"gridcolor\": \"white\", \"linecolor\": \"white\", \"ticks\": \"\"}, \"baxis\": {\"gridcolor\": \"white\", \"linecolor\": \"white\", \"ticks\": \"\"}, \"bgcolor\": \"#E5ECF6\", \"caxis\": {\"gridcolor\": \"white\", \"linecolor\": \"white\", \"ticks\": \"\"}}, \"title\": {\"x\": 0.05}, \"xaxis\": {\"automargin\": true, \"gridcolor\": \"white\", \"linecolor\": \"white\", \"ticks\": \"\", \"title\": {\"standoff\": 15}, \"zerolinecolor\": \"white\", \"zerolinewidth\": 2}, \"yaxis\": {\"automargin\": true, \"gridcolor\": \"white\", \"linecolor\": \"white\", \"ticks\": \"\", \"title\": {\"standoff\": 15}, \"zerolinecolor\": \"white\", \"zerolinewidth\": 2}}}, \"title\": {\"text\": \"\\u6bcf\\u65e5 style \\u56e0\\u5b50\\u655e\\u53e3\"}, \"xaxis\": {\"anchor\": \"y\", \"domain\": [0.0, 1.0], \"tickangle\": 30, \"tickformat\": \"%m\\u6708%d\\u65e5<br>%Y\\u5e74\"}, \"yaxis\": {\"anchor\": \"x\", \"domain\": [0.0, 1.0], \"title\": {\"text\": \"\\u56e0\\u5b50\\u655e\\u53e3\"}}},\n",
       "                        {\"responsive\": true}\n",
       "                    ).then(function(){\n",
       "                            \n",
       "var gd = document.getElementById('d049d6b2-b20f-4b51-a505-371662351aac');\n",
       "var x = new MutationObserver(function (mutations, observer) {{\n",
       "        var display = window.getComputedStyle(gd).display;\n",
       "        if (!display || display === 'none') {{\n",
       "            console.log([gd, 'removed!']);\n",
       "            Plotly.purge(gd);\n",
       "            observer.disconnect();\n",
       "        }}\n",
       "}});\n",
       "\n",
       "// Listen for the removal of the full notebook cells\n",
       "var notebookContainer = gd.closest('#notebook-container');\n",
       "if (notebookContainer) {{\n",
       "    x.observe(notebookContainer, {childList: true});\n",
       "}}\n",
       "\n",
       "// Listen for the clearing of the current output cell\n",
       "var outputEl = gd.closest('.output');\n",
       "if (outputEl) {{\n",
       "    x.observe(outputEl, {childList: true});\n",
       "}}\n",
       "\n",
       "                        })\n",
       "                };\n",
       "                });\n",
       "            </script>\n",
       "        </div>"
      ]
     },
     "metadata": {},
     "output_type": "display_data"
    },
    {
     "data": {
      "application/vnd.plotly.v1+json": {
       "config": {
        "plotlyServerURL": "https://plot.ly"
       },
       "data": [],
       "layout": {
        "legend": {
         "bgcolor": "LightSteelBlue",
         "bordercolor": "blue",
         "borderwidth": 1,
         "font": {
          "color": "black",
          "family": "SimHei",
          "size": 12
         },
         "title": {
          "font": {
           "family": "SimHei"
          }
         },
         "traceorder": "reversed",
         "x": 0,
         "y": 1
        },
        "template": {
         "data": {
          "bar": [
           {
            "error_x": {
             "color": "#2a3f5f"
            },
            "error_y": {
             "color": "#2a3f5f"
            },
            "marker": {
             "line": {
              "color": "#E5ECF6",
              "width": 0.5
             }
            },
            "type": "bar"
           }
          ],
          "barpolar": [
           {
            "marker": {
             "line": {
              "color": "#E5ECF6",
              "width": 0.5
             }
            },
            "type": "barpolar"
           }
          ],
          "carpet": [
           {
            "aaxis": {
             "endlinecolor": "#2a3f5f",
             "gridcolor": "white",
             "linecolor": "white",
             "minorgridcolor": "white",
             "startlinecolor": "#2a3f5f"
            },
            "baxis": {
             "endlinecolor": "#2a3f5f",
             "gridcolor": "white",
             "linecolor": "white",
             "minorgridcolor": "white",
             "startlinecolor": "#2a3f5f"
            },
            "type": "carpet"
           }
          ],
          "choropleth": [
           {
            "colorbar": {
             "outlinewidth": 0,
             "ticks": ""
            },
            "type": "choropleth"
           }
          ],
          "contour": [
           {
            "colorbar": {
             "outlinewidth": 0,
             "ticks": ""
            },
            "colorscale": [
             [
              0,
              "#0d0887"
             ],
             [
              0.1111111111111111,
              "#46039f"
             ],
             [
              0.2222222222222222,
              "#7201a8"
             ],
             [
              0.3333333333333333,
              "#9c179e"
             ],
             [
              0.4444444444444444,
              "#bd3786"
             ],
             [
              0.5555555555555556,
              "#d8576b"
             ],
             [
              0.6666666666666666,
              "#ed7953"
             ],
             [
              0.7777777777777778,
              "#fb9f3a"
             ],
             [
              0.8888888888888888,
              "#fdca26"
             ],
             [
              1,
              "#f0f921"
             ]
            ],
            "type": "contour"
           }
          ],
          "contourcarpet": [
           {
            "colorbar": {
             "outlinewidth": 0,
             "ticks": ""
            },
            "type": "contourcarpet"
           }
          ],
          "heatmap": [
           {
            "colorbar": {
             "outlinewidth": 0,
             "ticks": ""
            },
            "colorscale": [
             [
              0,
              "#0d0887"
             ],
             [
              0.1111111111111111,
              "#46039f"
             ],
             [
              0.2222222222222222,
              "#7201a8"
             ],
             [
              0.3333333333333333,
              "#9c179e"
             ],
             [
              0.4444444444444444,
              "#bd3786"
             ],
             [
              0.5555555555555556,
              "#d8576b"
             ],
             [
              0.6666666666666666,
              "#ed7953"
             ],
             [
              0.7777777777777778,
              "#fb9f3a"
             ],
             [
              0.8888888888888888,
              "#fdca26"
             ],
             [
              1,
              "#f0f921"
             ]
            ],
            "type": "heatmap"
           }
          ],
          "heatmapgl": [
           {
            "colorbar": {
             "outlinewidth": 0,
             "ticks": ""
            },
            "colorscale": [
             [
              0,
              "#0d0887"
             ],
             [
              0.1111111111111111,
              "#46039f"
             ],
             [
              0.2222222222222222,
              "#7201a8"
             ],
             [
              0.3333333333333333,
              "#9c179e"
             ],
             [
              0.4444444444444444,
              "#bd3786"
             ],
             [
              0.5555555555555556,
              "#d8576b"
             ],
             [
              0.6666666666666666,
              "#ed7953"
             ],
             [
              0.7777777777777778,
              "#fb9f3a"
             ],
             [
              0.8888888888888888,
              "#fdca26"
             ],
             [
              1,
              "#f0f921"
             ]
            ],
            "type": "heatmapgl"
           }
          ],
          "histogram": [
           {
            "marker": {
             "colorbar": {
              "outlinewidth": 0,
              "ticks": ""
             }
            },
            "type": "histogram"
           }
          ],
          "histogram2d": [
           {
            "colorbar": {
             "outlinewidth": 0,
             "ticks": ""
            },
            "colorscale": [
             [
              0,
              "#0d0887"
             ],
             [
              0.1111111111111111,
              "#46039f"
             ],
             [
              0.2222222222222222,
              "#7201a8"
             ],
             [
              0.3333333333333333,
              "#9c179e"
             ],
             [
              0.4444444444444444,
              "#bd3786"
             ],
             [
              0.5555555555555556,
              "#d8576b"
             ],
             [
              0.6666666666666666,
              "#ed7953"
             ],
             [
              0.7777777777777778,
              "#fb9f3a"
             ],
             [
              0.8888888888888888,
              "#fdca26"
             ],
             [
              1,
              "#f0f921"
             ]
            ],
            "type": "histogram2d"
           }
          ],
          "histogram2dcontour": [
           {
            "colorbar": {
             "outlinewidth": 0,
             "ticks": ""
            },
            "colorscale": [
             [
              0,
              "#0d0887"
             ],
             [
              0.1111111111111111,
              "#46039f"
             ],
             [
              0.2222222222222222,
              "#7201a8"
             ],
             [
              0.3333333333333333,
              "#9c179e"
             ],
             [
              0.4444444444444444,
              "#bd3786"
             ],
             [
              0.5555555555555556,
              "#d8576b"
             ],
             [
              0.6666666666666666,
              "#ed7953"
             ],
             [
              0.7777777777777778,
              "#fb9f3a"
             ],
             [
              0.8888888888888888,
              "#fdca26"
             ],
             [
              1,
              "#f0f921"
             ]
            ],
            "type": "histogram2dcontour"
           }
          ],
          "mesh3d": [
           {
            "colorbar": {
             "outlinewidth": 0,
             "ticks": ""
            },
            "type": "mesh3d"
           }
          ],
          "parcoords": [
           {
            "line": {
             "colorbar": {
              "outlinewidth": 0,
              "ticks": ""
             }
            },
            "type": "parcoords"
           }
          ],
          "pie": [
           {
            "automargin": true,
            "type": "pie"
           }
          ],
          "scatter": [
           {
            "marker": {
             "colorbar": {
              "outlinewidth": 0,
              "ticks": ""
             }
            },
            "type": "scatter"
           }
          ],
          "scatter3d": [
           {
            "line": {
             "colorbar": {
              "outlinewidth": 0,
              "ticks": ""
             }
            },
            "marker": {
             "colorbar": {
              "outlinewidth": 0,
              "ticks": ""
             }
            },
            "type": "scatter3d"
           }
          ],
          "scattercarpet": [
           {
            "marker": {
             "colorbar": {
              "outlinewidth": 0,
              "ticks": ""
             }
            },
            "type": "scattercarpet"
           }
          ],
          "scattergeo": [
           {
            "marker": {
             "colorbar": {
              "outlinewidth": 0,
              "ticks": ""
             }
            },
            "type": "scattergeo"
           }
          ],
          "scattergl": [
           {
            "marker": {
             "colorbar": {
              "outlinewidth": 0,
              "ticks": ""
             }
            },
            "type": "scattergl"
           }
          ],
          "scattermapbox": [
           {
            "marker": {
             "colorbar": {
              "outlinewidth": 0,
              "ticks": ""
             }
            },
            "type": "scattermapbox"
           }
          ],
          "scatterpolar": [
           {
            "marker": {
             "colorbar": {
              "outlinewidth": 0,
              "ticks": ""
             }
            },
            "type": "scatterpolar"
           }
          ],
          "scatterpolargl": [
           {
            "marker": {
             "colorbar": {
              "outlinewidth": 0,
              "ticks": ""
             }
            },
            "type": "scatterpolargl"
           }
          ],
          "scatterternary": [
           {
            "marker": {
             "colorbar": {
              "outlinewidth": 0,
              "ticks": ""
             }
            },
            "type": "scatterternary"
           }
          ],
          "surface": [
           {
            "colorbar": {
             "outlinewidth": 0,
             "ticks": ""
            },
            "colorscale": [
             [
              0,
              "#0d0887"
             ],
             [
              0.1111111111111111,
              "#46039f"
             ],
             [
              0.2222222222222222,
              "#7201a8"
             ],
             [
              0.3333333333333333,
              "#9c179e"
             ],
             [
              0.4444444444444444,
              "#bd3786"
             ],
             [
              0.5555555555555556,
              "#d8576b"
             ],
             [
              0.6666666666666666,
              "#ed7953"
             ],
             [
              0.7777777777777778,
              "#fb9f3a"
             ],
             [
              0.8888888888888888,
              "#fdca26"
             ],
             [
              1,
              "#f0f921"
             ]
            ],
            "type": "surface"
           }
          ],
          "table": [
           {
            "cells": {
             "fill": {
              "color": "#EBF0F8"
             },
             "line": {
              "color": "white"
             }
            },
            "header": {
             "fill": {
              "color": "#C8D4E3"
             },
             "line": {
              "color": "white"
             }
            },
            "type": "table"
           }
          ]
         },
         "layout": {
          "annotationdefaults": {
           "arrowcolor": "#2a3f5f",
           "arrowhead": 0,
           "arrowwidth": 1
          },
          "coloraxis": {
           "colorbar": {
            "outlinewidth": 0,
            "ticks": ""
           }
          },
          "colorscale": {
           "diverging": [
            [
             0,
             "#8e0152"
            ],
            [
             0.1,
             "#c51b7d"
            ],
            [
             0.2,
             "#de77ae"
            ],
            [
             0.3,
             "#f1b6da"
            ],
            [
             0.4,
             "#fde0ef"
            ],
            [
             0.5,
             "#f7f7f7"
            ],
            [
             0.6,
             "#e6f5d0"
            ],
            [
             0.7,
             "#b8e186"
            ],
            [
             0.8,
             "#7fbc41"
            ],
            [
             0.9,
             "#4d9221"
            ],
            [
             1,
             "#276419"
            ]
           ],
           "sequential": [
            [
             0,
             "#0d0887"
            ],
            [
             0.1111111111111111,
             "#46039f"
            ],
            [
             0.2222222222222222,
             "#7201a8"
            ],
            [
             0.3333333333333333,
             "#9c179e"
            ],
            [
             0.4444444444444444,
             "#bd3786"
            ],
            [
             0.5555555555555556,
             "#d8576b"
            ],
            [
             0.6666666666666666,
             "#ed7953"
            ],
            [
             0.7777777777777778,
             "#fb9f3a"
            ],
            [
             0.8888888888888888,
             "#fdca26"
            ],
            [
             1,
             "#f0f921"
            ]
           ],
           "sequentialminus": [
            [
             0,
             "#0d0887"
            ],
            [
             0.1111111111111111,
             "#46039f"
            ],
            [
             0.2222222222222222,
             "#7201a8"
            ],
            [
             0.3333333333333333,
             "#9c179e"
            ],
            [
             0.4444444444444444,
             "#bd3786"
            ],
            [
             0.5555555555555556,
             "#d8576b"
            ],
            [
             0.6666666666666666,
             "#ed7953"
            ],
            [
             0.7777777777777778,
             "#fb9f3a"
            ],
            [
             0.8888888888888888,
             "#fdca26"
            ],
            [
             1,
             "#f0f921"
            ]
           ]
          },
          "colorway": [
           "#636efa",
           "#EF553B",
           "#00cc96",
           "#ab63fa",
           "#FFA15A",
           "#19d3f3",
           "#FF6692",
           "#B6E880",
           "#FF97FF",
           "#FECB52"
          ],
          "font": {
           "color": "#2a3f5f"
          },
          "geo": {
           "bgcolor": "white",
           "lakecolor": "white",
           "landcolor": "#E5ECF6",
           "showlakes": true,
           "showland": true,
           "subunitcolor": "white"
          },
          "hoverlabel": {
           "align": "left"
          },
          "hovermode": "closest",
          "mapbox": {
           "style": "light"
          },
          "paper_bgcolor": "white",
          "plot_bgcolor": "#E5ECF6",
          "polar": {
           "angularaxis": {
            "gridcolor": "white",
            "linecolor": "white",
            "ticks": ""
           },
           "bgcolor": "#E5ECF6",
           "radialaxis": {
            "gridcolor": "white",
            "linecolor": "white",
            "ticks": ""
           }
          },
          "scene": {
           "xaxis": {
            "backgroundcolor": "#E5ECF6",
            "gridcolor": "white",
            "gridwidth": 2,
            "linecolor": "white",
            "showbackground": true,
            "ticks": "",
            "zerolinecolor": "white"
           },
           "yaxis": {
            "backgroundcolor": "#E5ECF6",
            "gridcolor": "white",
            "gridwidth": 2,
            "linecolor": "white",
            "showbackground": true,
            "ticks": "",
            "zerolinecolor": "white"
           },
           "zaxis": {
            "backgroundcolor": "#E5ECF6",
            "gridcolor": "white",
            "gridwidth": 2,
            "linecolor": "white",
            "showbackground": true,
            "ticks": "",
            "zerolinecolor": "white"
           }
          },
          "shapedefaults": {
           "line": {
            "color": "#2a3f5f"
           }
          },
          "ternary": {
           "aaxis": {
            "gridcolor": "white",
            "linecolor": "white",
            "ticks": ""
           },
           "baxis": {
            "gridcolor": "white",
            "linecolor": "white",
            "ticks": ""
           },
           "bgcolor": "#E5ECF6",
           "caxis": {
            "gridcolor": "white",
            "linecolor": "white",
            "ticks": ""
           }
          },
          "title": {
           "x": 0.05
          },
          "xaxis": {
           "automargin": true,
           "gridcolor": "white",
           "linecolor": "white",
           "ticks": "",
           "title": {
            "standoff": 15
           },
           "zerolinecolor": "white",
           "zerolinewidth": 2
          },
          "yaxis": {
           "automargin": true,
           "gridcolor": "white",
           "linecolor": "white",
           "ticks": "",
           "title": {
            "standoff": 15
           },
           "zerolinecolor": "white",
           "zerolinewidth": 2
          }
         }
        },
        "title": {
         "text": "每日 sector 因子敞口"
        },
        "xaxis": {
         "anchor": "y",
         "domain": [
          0,
          1
         ],
         "tickangle": 30,
         "tickformat": "%m月%d日<br>%Y年"
        },
        "yaxis": {
         "anchor": "x",
         "domain": [
          0,
          1
         ],
         "title": {
          "text": "因子敞口"
         }
        }
       }
      },
      "text/html": [
       "<div>\n",
       "        \n",
       "        \n",
       "            <div id=\"0ec3f40e-d16b-48db-a972-c0c3cfcec3e2\" class=\"plotly-graph-div\" style=\"height:525px; width:100%;\"></div>\n",
       "            <script type=\"text/javascript\">\n",
       "                require([\"plotly\"], function(Plotly) {\n",
       "                    window.PLOTLYENV=window.PLOTLYENV || {};\n",
       "                    \n",
       "                if (document.getElementById(\"0ec3f40e-d16b-48db-a972-c0c3cfcec3e2\")) {\n",
       "                    Plotly.newPlot(\n",
       "                        '0ec3f40e-d16b-48db-a972-c0c3cfcec3e2',\n",
       "                        [],\n",
       "                        {\"legend\": {\"bgcolor\": \"LightSteelBlue\", \"bordercolor\": \"blue\", \"borderwidth\": 1, \"font\": {\"color\": \"black\", \"family\": \"SimHei\", \"size\": 12}, \"title\": {\"font\": {\"family\": \"SimHei\"}}, \"traceorder\": \"reversed\", \"x\": 0, \"y\": 1}, \"template\": {\"data\": {\"bar\": [{\"error_x\": {\"color\": \"#2a3f5f\"}, \"error_y\": {\"color\": \"#2a3f5f\"}, \"marker\": {\"line\": {\"color\": \"#E5ECF6\", \"width\": 0.5}}, \"type\": \"bar\"}], \"barpolar\": [{\"marker\": {\"line\": {\"color\": \"#E5ECF6\", \"width\": 0.5}}, \"type\": \"barpolar\"}], \"carpet\": [{\"aaxis\": {\"endlinecolor\": \"#2a3f5f\", \"gridcolor\": \"white\", \"linecolor\": \"white\", \"minorgridcolor\": \"white\", \"startlinecolor\": \"#2a3f5f\"}, \"baxis\": {\"endlinecolor\": \"#2a3f5f\", \"gridcolor\": \"white\", \"linecolor\": \"white\", \"minorgridcolor\": \"white\", \"startlinecolor\": \"#2a3f5f\"}, \"type\": \"carpet\"}], \"choropleth\": [{\"colorbar\": {\"outlinewidth\": 0, \"ticks\": \"\"}, \"type\": \"choropleth\"}], \"contour\": [{\"colorbar\": {\"outlinewidth\": 0, \"ticks\": \"\"}, \"colorscale\": [[0.0, \"#0d0887\"], [0.1111111111111111, \"#46039f\"], [0.2222222222222222, \"#7201a8\"], [0.3333333333333333, \"#9c179e\"], [0.4444444444444444, \"#bd3786\"], [0.5555555555555556, \"#d8576b\"], [0.6666666666666666, \"#ed7953\"], [0.7777777777777778, \"#fb9f3a\"], [0.8888888888888888, \"#fdca26\"], [1.0, \"#f0f921\"]], \"type\": \"contour\"}], \"contourcarpet\": [{\"colorbar\": {\"outlinewidth\": 0, \"ticks\": \"\"}, \"type\": \"contourcarpet\"}], \"heatmap\": [{\"colorbar\": {\"outlinewidth\": 0, \"ticks\": \"\"}, \"colorscale\": [[0.0, \"#0d0887\"], [0.1111111111111111, \"#46039f\"], [0.2222222222222222, \"#7201a8\"], [0.3333333333333333, \"#9c179e\"], [0.4444444444444444, \"#bd3786\"], [0.5555555555555556, \"#d8576b\"], [0.6666666666666666, \"#ed7953\"], [0.7777777777777778, \"#fb9f3a\"], [0.8888888888888888, \"#fdca26\"], [1.0, \"#f0f921\"]], \"type\": \"heatmap\"}], \"heatmapgl\": [{\"colorbar\": {\"outlinewidth\": 0, \"ticks\": \"\"}, \"colorscale\": [[0.0, \"#0d0887\"], [0.1111111111111111, \"#46039f\"], [0.2222222222222222, \"#7201a8\"], [0.3333333333333333, \"#9c179e\"], [0.4444444444444444, \"#bd3786\"], [0.5555555555555556, \"#d8576b\"], [0.6666666666666666, \"#ed7953\"], [0.7777777777777778, \"#fb9f3a\"], [0.8888888888888888, \"#fdca26\"], [1.0, \"#f0f921\"]], \"type\": \"heatmapgl\"}], \"histogram\": [{\"marker\": {\"colorbar\": {\"outlinewidth\": 0, \"ticks\": \"\"}}, \"type\": \"histogram\"}], \"histogram2d\": [{\"colorbar\": {\"outlinewidth\": 0, \"ticks\": \"\"}, \"colorscale\": [[0.0, \"#0d0887\"], [0.1111111111111111, \"#46039f\"], [0.2222222222222222, \"#7201a8\"], [0.3333333333333333, \"#9c179e\"], [0.4444444444444444, \"#bd3786\"], [0.5555555555555556, \"#d8576b\"], [0.6666666666666666, \"#ed7953\"], [0.7777777777777778, \"#fb9f3a\"], [0.8888888888888888, \"#fdca26\"], [1.0, \"#f0f921\"]], \"type\": \"histogram2d\"}], \"histogram2dcontour\": [{\"colorbar\": {\"outlinewidth\": 0, \"ticks\": \"\"}, \"colorscale\": [[0.0, \"#0d0887\"], [0.1111111111111111, \"#46039f\"], [0.2222222222222222, \"#7201a8\"], [0.3333333333333333, \"#9c179e\"], [0.4444444444444444, \"#bd3786\"], [0.5555555555555556, \"#d8576b\"], [0.6666666666666666, \"#ed7953\"], [0.7777777777777778, \"#fb9f3a\"], [0.8888888888888888, \"#fdca26\"], [1.0, \"#f0f921\"]], \"type\": \"histogram2dcontour\"}], \"mesh3d\": [{\"colorbar\": {\"outlinewidth\": 0, \"ticks\": \"\"}, \"type\": \"mesh3d\"}], \"parcoords\": [{\"line\": {\"colorbar\": {\"outlinewidth\": 0, \"ticks\": \"\"}}, \"type\": \"parcoords\"}], \"pie\": [{\"automargin\": true, \"type\": \"pie\"}], \"scatter\": [{\"marker\": {\"colorbar\": {\"outlinewidth\": 0, \"ticks\": \"\"}}, \"type\": \"scatter\"}], \"scatter3d\": [{\"line\": {\"colorbar\": {\"outlinewidth\": 0, \"ticks\": \"\"}}, \"marker\": {\"colorbar\": {\"outlinewidth\": 0, \"ticks\": \"\"}}, \"type\": \"scatter3d\"}], \"scattercarpet\": [{\"marker\": {\"colorbar\": {\"outlinewidth\": 0, \"ticks\": \"\"}}, \"type\": \"scattercarpet\"}], \"scattergeo\": [{\"marker\": {\"colorbar\": {\"outlinewidth\": 0, \"ticks\": \"\"}}, \"type\": \"scattergeo\"}], \"scattergl\": [{\"marker\": {\"colorbar\": {\"outlinewidth\": 0, \"ticks\": \"\"}}, \"type\": \"scattergl\"}], \"scattermapbox\": [{\"marker\": {\"colorbar\": {\"outlinewidth\": 0, \"ticks\": \"\"}}, \"type\": \"scattermapbox\"}], \"scatterpolar\": [{\"marker\": {\"colorbar\": {\"outlinewidth\": 0, \"ticks\": \"\"}}, \"type\": \"scatterpolar\"}], \"scatterpolargl\": [{\"marker\": {\"colorbar\": {\"outlinewidth\": 0, \"ticks\": \"\"}}, \"type\": \"scatterpolargl\"}], \"scatterternary\": [{\"marker\": {\"colorbar\": {\"outlinewidth\": 0, \"ticks\": \"\"}}, \"type\": \"scatterternary\"}], \"surface\": [{\"colorbar\": {\"outlinewidth\": 0, \"ticks\": \"\"}, \"colorscale\": [[0.0, \"#0d0887\"], [0.1111111111111111, \"#46039f\"], [0.2222222222222222, \"#7201a8\"], [0.3333333333333333, \"#9c179e\"], [0.4444444444444444, \"#bd3786\"], [0.5555555555555556, \"#d8576b\"], [0.6666666666666666, \"#ed7953\"], [0.7777777777777778, \"#fb9f3a\"], [0.8888888888888888, \"#fdca26\"], [1.0, \"#f0f921\"]], \"type\": \"surface\"}], \"table\": [{\"cells\": {\"fill\": {\"color\": \"#EBF0F8\"}, \"line\": {\"color\": \"white\"}}, \"header\": {\"fill\": {\"color\": \"#C8D4E3\"}, \"line\": {\"color\": \"white\"}}, \"type\": \"table\"}]}, \"layout\": {\"annotationdefaults\": {\"arrowcolor\": \"#2a3f5f\", \"arrowhead\": 0, \"arrowwidth\": 1}, \"coloraxis\": {\"colorbar\": {\"outlinewidth\": 0, \"ticks\": \"\"}}, \"colorscale\": {\"diverging\": [[0, \"#8e0152\"], [0.1, \"#c51b7d\"], [0.2, \"#de77ae\"], [0.3, \"#f1b6da\"], [0.4, \"#fde0ef\"], [0.5, \"#f7f7f7\"], [0.6, \"#e6f5d0\"], [0.7, \"#b8e186\"], [0.8, \"#7fbc41\"], [0.9, \"#4d9221\"], [1, \"#276419\"]], \"sequential\": [[0.0, \"#0d0887\"], [0.1111111111111111, \"#46039f\"], [0.2222222222222222, \"#7201a8\"], [0.3333333333333333, \"#9c179e\"], [0.4444444444444444, \"#bd3786\"], [0.5555555555555556, \"#d8576b\"], [0.6666666666666666, \"#ed7953\"], [0.7777777777777778, \"#fb9f3a\"], [0.8888888888888888, \"#fdca26\"], [1.0, \"#f0f921\"]], \"sequentialminus\": [[0.0, \"#0d0887\"], [0.1111111111111111, \"#46039f\"], [0.2222222222222222, \"#7201a8\"], [0.3333333333333333, \"#9c179e\"], [0.4444444444444444, \"#bd3786\"], [0.5555555555555556, \"#d8576b\"], [0.6666666666666666, \"#ed7953\"], [0.7777777777777778, \"#fb9f3a\"], [0.8888888888888888, \"#fdca26\"], [1.0, \"#f0f921\"]]}, \"colorway\": [\"#636efa\", \"#EF553B\", \"#00cc96\", \"#ab63fa\", \"#FFA15A\", \"#19d3f3\", \"#FF6692\", \"#B6E880\", \"#FF97FF\", \"#FECB52\"], \"font\": {\"color\": \"#2a3f5f\"}, \"geo\": {\"bgcolor\": \"white\", \"lakecolor\": \"white\", \"landcolor\": \"#E5ECF6\", \"showlakes\": true, \"showland\": true, \"subunitcolor\": \"white\"}, \"hoverlabel\": {\"align\": \"left\"}, \"hovermode\": \"closest\", \"mapbox\": {\"style\": \"light\"}, \"paper_bgcolor\": \"white\", \"plot_bgcolor\": \"#E5ECF6\", \"polar\": {\"angularaxis\": {\"gridcolor\": \"white\", \"linecolor\": \"white\", \"ticks\": \"\"}, \"bgcolor\": \"#E5ECF6\", \"radialaxis\": {\"gridcolor\": \"white\", \"linecolor\": \"white\", \"ticks\": \"\"}}, \"scene\": {\"xaxis\": {\"backgroundcolor\": \"#E5ECF6\", \"gridcolor\": \"white\", \"gridwidth\": 2, \"linecolor\": \"white\", \"showbackground\": true, \"ticks\": \"\", \"zerolinecolor\": \"white\"}, \"yaxis\": {\"backgroundcolor\": \"#E5ECF6\", \"gridcolor\": \"white\", \"gridwidth\": 2, \"linecolor\": \"white\", \"showbackground\": true, \"ticks\": \"\", \"zerolinecolor\": \"white\"}, \"zaxis\": {\"backgroundcolor\": \"#E5ECF6\", \"gridcolor\": \"white\", \"gridwidth\": 2, \"linecolor\": \"white\", \"showbackground\": true, \"ticks\": \"\", \"zerolinecolor\": \"white\"}}, \"shapedefaults\": {\"line\": {\"color\": \"#2a3f5f\"}}, \"ternary\": {\"aaxis\": {\"gridcolor\": \"white\", \"linecolor\": \"white\", \"ticks\": \"\"}, \"baxis\": {\"gridcolor\": \"white\", \"linecolor\": \"white\", \"ticks\": \"\"}, \"bgcolor\": \"#E5ECF6\", \"caxis\": {\"gridcolor\": \"white\", \"linecolor\": \"white\", \"ticks\": \"\"}}, \"title\": {\"x\": 0.05}, \"xaxis\": {\"automargin\": true, \"gridcolor\": \"white\", \"linecolor\": \"white\", \"ticks\": \"\", \"title\": {\"standoff\": 15}, \"zerolinecolor\": \"white\", \"zerolinewidth\": 2}, \"yaxis\": {\"automargin\": true, \"gridcolor\": \"white\", \"linecolor\": \"white\", \"ticks\": \"\", \"title\": {\"standoff\": 15}, \"zerolinecolor\": \"white\", \"zerolinewidth\": 2}}}, \"title\": {\"text\": \"\\u6bcf\\u65e5 sector \\u56e0\\u5b50\\u655e\\u53e3\"}, \"xaxis\": {\"anchor\": \"y\", \"domain\": [0.0, 1.0], \"tickangle\": 30, \"tickformat\": \"%m\\u6708%d\\u65e5<br>%Y\\u5e74\"}, \"yaxis\": {\"anchor\": \"x\", \"domain\": [0.0, 1.0], \"title\": {\"text\": \"\\u56e0\\u5b50\\u655e\\u53e3\"}}},\n",
       "                        {\"responsive\": true}\n",
       "                    ).then(function(){\n",
       "                            \n",
       "var gd = document.getElementById('0ec3f40e-d16b-48db-a972-c0c3cfcec3e2');\n",
       "var x = new MutationObserver(function (mutations, observer) {{\n",
       "        var display = window.getComputedStyle(gd).display;\n",
       "        if (!display || display === 'none') {{\n",
       "            console.log([gd, 'removed!']);\n",
       "            Plotly.purge(gd);\n",
       "            observer.disconnect();\n",
       "        }}\n",
       "}});\n",
       "\n",
       "// Listen for the removal of the full notebook cells\n",
       "var notebookContainer = gd.closest('#notebook-container');\n",
       "if (notebookContainer) {{\n",
       "    x.observe(notebookContainer, {childList: true});\n",
       "}}\n",
       "\n",
       "// Listen for the clearing of the current output cell\n",
       "var outputEl = gd.closest('.output');\n",
       "if (outputEl) {{\n",
       "    x.observe(outputEl, {childList: true});\n",
       "}}\n",
       "\n",
       "                        })\n",
       "                };\n",
       "                });\n",
       "            </script>\n",
       "        </div>"
      ]
     },
     "metadata": {},
     "output_type": "display_data"
    }
   ],
   "source": [
    "pf.create_perf_attrib_tear_sheet(returns,positions,factor_returns,factor_loadings)"
   ]
  },
  {
   "cell_type": "code",
   "execution_count": 23,
   "metadata": {
    "ExecuteTime": {
     "end_time": "2020-07-19T14:48:04.775449Z",
     "start_time": "2020-07-19T14:48:04.760420Z"
    }
   },
   "outputs": [],
   "source": [
    "fig = pf.perf_attrib.plot_alpha_returns(returns)"
   ]
  },
  {
   "cell_type": "code",
   "execution_count": 24,
   "metadata": {
    "ExecuteTime": {
     "end_time": "2020-07-19T14:48:04.791449Z",
     "start_time": "2020-07-19T14:48:04.776449Z"
    }
   },
   "outputs": [
    {
     "data": {
      "application/vnd.plotly.v1+json": {
       "config": {
        "plotlyServerURL": "https://plot.ly"
       },
       "data": [
        {
         "marker": {
          "color": "green"
         },
         "name": "多因子alpha",
         "type": "histogram",
         "x": [
          0.00382043211903,
          0.0071381129465799996,
          -0.0034335536876400003,
          0.0158615768196,
          -0.00833718681109,
          -0.00641268335683,
          -0.00833140380104,
          -0.006888511373169999,
          0.00156064259486,
          -0.0172609081839,
          -0.00392286250018,
          -2.47789599837e-05,
          -0.00320912943015,
          -0.00164205614764,
          0.00452615778583,
          0.005735190593600001,
          0.00170773381986,
          0.006049372484630001,
          0.00157535429831,
          -0.014664915930200001,
          -0.00168243812199,
          -0.0046262685351,
          0.013529989086,
          0.0035458949825999996,
          0.0103386958393,
          0.00102484602196,
          0.0123056070524,
          0.0008756570385630001,
          0.0169322764768,
          0.000457582696181,
          -0.0059140824763,
          -0.00577745897715,
          -0.008139143592479999,
          -0.0005565295510980001,
          0.015448681761300001,
          -0.0155737633822,
          0.0174083256425,
          -0.0126968434837,
          -0.015115942393200002,
          -0.0098104148891,
          -0.012395871631799999,
          -0.0010147524668399999,
          -0.004593022147,
          0.0109064384281,
          -0.007475515267060001,
          0.0180569176549,
          0.00186132537709,
          -0.0110201149538,
          -0.0035381050391799997,
          0.0065076141350200005,
          0.00250741948617,
          0.006294357733500001,
          0.005051862489689999,
          0.014107078120500001,
          -0.0047875242747399994,
          -0.00784027490303,
          0.0060154764217,
          -0.00134272833102,
          0.0034660712232899996,
          -0.00119321437535,
          0.0032732523029600003,
          0.00671507359691,
          0.0062290798585000005,
          -0.013427874934200001,
          -0.008237749687130001,
          -0.009288235253650001,
          -0.00430579267574,
          0.00712924783523,
          -0.00302238757354,
          0.015073928694899999,
          -0.0033385502195900003,
          -0.0019631241699100003,
          -0.029535474608299996,
          0.0012123608083699998,
          0.000334793437237,
          -0.00367600678917,
          -0.0058396813639500006,
          0.00211431937137,
          -0.00757078741165,
          -0.0012496422132000002,
          0.0016345789149500001,
          0.0126870519985,
          0.013687893211100002,
          0.0192196731151,
          -0.025323499224400005,
          -0.0127042158583,
          -0.041287732003900006,
          -0.0022993077259000003,
          -0.00715934063583,
          -0.00199447196297,
          -0.005948763840760001,
          0.012236055424600002,
          0.06429836071179999,
          -0.020383506563900002,
          0.0032377005981199997,
          -0.0201291190637,
          0.00721617088505,
          0.0117587264313,
          -0.00625037766681,
          0.00603173549719,
          0.011260094798200001,
          -0.00893074002524,
          -0.022371017973599996,
          -0.00300827233176,
          -0.0115806431006,
          -0.0026964978486799995,
          0.0024190319073499997,
          -0.019514186941900002,
          -0.00452801610812,
          0.0101400008004,
          0.0205393684292,
          -0.00150324391224,
          -0.010789096226899999,
          0.0057493727887399995,
          0.004860916185020001,
          -0.00749640167946,
          0.0025810174016599997,
          -0.0032679392935300003,
          -0.0161265177854,
          0.00284291050964,
          0.029940035960000003,
          -0.0024995802602199996,
          -0.00251513152346,
          -0.0139825487207,
          0.0350372697626,
          -0.0428546848486,
          0.000423959156984,
          0.000661846071886,
          -0.020970898149599997,
          -0.027077593834799997,
          -0.013178944542399998,
          -0.00426085772067,
          0.0013850616233599998,
          0.0237784981705,
          -0.0157014557997,
          -0.056096935252099994,
          -0.00303056123289,
          -0.000478626764228,
          0.00717682119921,
          -0.0112911437427,
          0.030707178993900002,
          0.011016520469500002,
          -0.00991555818533,
          0.00256242182726,
          -0.0208946747065,
          0.0107534244404,
          -0.0047710502201499996,
          -0.000374564086259,
          -0.0182828496974,
          0.0143116350263,
          -0.00506448675597,
          0.0117644585163,
          0.008905606009930001,
          0.0173621028199,
          -0.0027936979561599996,
          0.010192821517200001,
          -0.013452805905899999,
          0.00194946793009,
          -0.0163238774455,
          -0.012008650731299999,
          -0.0135578875073,
          0.0128241583323,
          0.00439908907167,
          -0.0262301780845,
          -0.00577519417336,
          0.00787166258175,
          0.0117123210833,
          -0.00813675115201,
          -0.0119303679317,
          0.0193975967266,
          0.0045905939234799995,
          0.023241648581099998,
          0.00392842883303,
          0.00640458840479,
          -0.0124409774355,
          0.00362046490577,
          0.00020779211945500003,
          -0.0015792407047000002,
          -0.014382745349000001,
          0.00495600633527,
          0.026080196738400004,
          0.025813375075599998,
          0.00532852355131,
          0.00100796534817,
          -0.0114091372024,
          -0.006505170139060001,
          -0.007760368961770001,
          0.020484835251799997,
          0.0053248298017,
          -0.0022091061108800002,
          0.00127553572875,
          0.0111991051132,
          -0.000130335409631,
          0.019538036933599998,
          0.007533117323140001,
          0.00358979726072,
          -0.0165325604913,
          0.000424700138955,
          -0.000561575477922,
          0.021493935401400002,
          0.006521495708279999,
          0.0033748815295,
          0.004808949056600001,
          0.0110979614127,
          -0.012409185574799999,
          0.00942831286196,
          0.022521228924799998,
          -0.012354072620600001,
          0.004582351229550001,
          0.0011319511983599998,
          0.0117231292808,
          0.00385489773567,
          -0.0036832330467800006,
          -0.00334108276144,
          0.00731933168307,
          0.005283501631189999,
          0.0197339749764,
          0.011945368203399998,
          -0.0037696408217,
          0.00312810883797,
          -0.00494158412187,
          -0.0014457861731300003,
          0.0121607173994,
          -0.00449033627904,
          -0.010744594850299998,
          -0.00257878220519,
          0.005732536751520001,
          -0.004879944806409999,
          -0.00932704511152,
          0.0158879803478,
          -0.00039260467252099995,
          -0.00336768885482,
          0.0016989670916,
          -0.0028580269655400004,
          0.00217669343191,
          -0.005944543738619999,
          -0.0014450702569500002,
          0.030951999133099997,
          -0.0053659993442,
          -0.00446836824537,
          -0.00483013841891,
          -0.00310985309582,
          -0.007186165241510001,
          -0.00600802594254,
          -6.4188820454e-05,
          0.00391966177015,
          -0.0017550043907699998,
          -0.00979654356168,
          0.0027027986078200002,
          0.015331465171499999,
          -0.011573387319499999,
          0.00994789992089,
          0.00473091343836,
          0.00239562744279,
          0.00728194560415,
          0.00229864785886,
          -0.007029939032339999,
          -0.00645454818996,
          0.00157817983493,
          -0.0019454418428699997,
          -0.0121998852088,
          0.00404333656334,
          -0.0110551847001,
          -0.0018061154218800002,
          0.00364090441514,
          -0.0130840577212,
          -0.0217000496624,
          -0.0110049975869,
          0.00814333991759,
          0.0359206505876,
          -0.004799217386909999,
          -0.0027422890659699996,
          0.00696812354629,
          -0.006425879320949999,
          -0.0063618300165699995,
          -0.004624791681520001,
          0.0119988739615,
          0.011650132905600002,
          -0.00165641487879,
          0.00414926164649,
          -0.0018507225615,
          -0.0166591336928,
          0.000198599436877,
          0.00216881341146,
          0.0372787727732,
          -0.0370882919542,
          -0.00050454410093,
          -0.0065573388564,
          -0.021778024868400005,
          -0.015852865961799998,
          0.009402036451379998,
          -0.005893794884790001,
          0.00015039948586300001,
          -0.00186143209828,
          0.007831576778770001,
          -0.020276964729900003,
          0.005984547453430001,
          0.000447016525318,
          -0.000236701404343,
          -0.00310158013996,
          -0.0021132603304,
          0.014987413800999999,
          -0.00338470227076,
          0.00403544499985,
          0.00498776325185,
          -0.0043860669072700005,
          -0.0118659890226,
          -0.0121464963017,
          -0.00047203762575300006,
          -0.01046309563,
          0.00861863369475,
          -0.008208645621439999,
          0.008850756625370002,
          0.0330966748843,
          -0.00182444972488,
          -0.0046215502272000004,
          0.0095888626569,
          -0.0032671761722199997,
          0.00173134152638,
          0.00175711867757,
          -0.00283278806109,
          0.009431420075620001,
          0.0033345618886399995,
          -0.00746722577315,
          -0.00225056284423,
          0.0016096474146300001,
          0.018817683590799997,
          0.00110113648834,
          -0.015074214211,
          -0.00357509758272,
          0.013878370467700001,
          0.00024398672037,
          0.0038996404774099998,
          -7.71889414401e-06,
          -0.00044934146501900005,
          0.0151304806031,
          0.00309663998701,
          0.0181367407047,
          0.00595822243523,
          -0.00997956275121,
          0.0134684838123,
          0.00111396394328,
          0.013290823917900001,
          0.00745962890853,
          0.024807580003,
          -0.00837986851317,
          -0.011216870915899999,
          -0.00584045109144,
          -0.00235355099363,
          -0.0056428997148,
          -0.0030248249028099997,
          0.00192957805523,
          -0.0049011556873199994,
          -0.011279937441700002,
          -0.0148699076003,
          -0.00407157694158,
          0.023306503010900002,
          -0.0017302660686699999,
          -0.00732622842261,
          0.0148084875935,
          0.00031463210758499996,
          0.000828555218001,
          -7.276513442700001e-05,
          0.00268468539422,
          -0.000658946715964,
          0.0332784469647,
          -0.0108815112159,
          0.00521704230269,
          -0.00184522560821,
          0.0077361594766399994,
          0.00256294990637,
          -0.00562892004792,
          0.015318640011499999,
          0.0053716492959,
          -0.0028848969953000005,
          0.01337318406,
          0.0012625692574400002,
          -0.0158304774094,
          0.00950446359673,
          0.0187574388632,
          0.0028286665705400003,
          0.016863724417700003,
          -0.0028323254837800006,
          -0.00952050248957,
          0.0068404586196400005,
          -0.00373169664981,
          -0.0027191831729999998,
          -0.0219934413777,
          -0.0172705986962,
          -0.0316516441538,
          0.0226684179448,
          -0.00201962443137,
          -0.0154339783879,
          0.0039508587838400005,
          0.00700871337048,
          -0.0296155488992,
          -0.0017941995199600002,
          0.0130515429407,
          0.00967928075959,
          -0.0110971947147,
          0.0267937725532,
          0.0110314916044,
          -0.0135705821958,
          -0.0114278578471,
          -0.0035242445295399997,
          0.0286733346198,
          0.005511296477060001,
          0.013069142071599999,
          0.00578809497558,
          0.0005414275334519999,
          0.0112427842691,
          -0.012426085014799998,
          -0.0240053775404,
          0.0292388200724,
          0.00431484493607,
          0.0100319016213,
          0.00250026895186,
          -0.012192563844299998,
          0.010331251253399999,
          -0.0351510348056,
          -0.00215602629927,
          0.0196376843684,
          0.0159086300744,
          0.011520944651999999,
          -0.0117119611512,
          0.0006941380142660001,
          0.0241719812433,
          0.011637367467700001,
          0.00728769095492,
          0.008002593143100001,
          -0.0100953029911,
          -0.0188957674107,
          0.0154215356031,
          0.0035294675295599997,
          0.005402547729,
          0.00586632725981,
          0.006177287196289999,
          -0.00404511256452,
          0.00418784038646,
          0.018795533553400003,
          0.000956259901612,
          0.00757343270254,
          0.0024612035236100003,
          -0.0143251378929,
          0.00803978699368,
          0.00046492438855,
          -0.0101000914319,
          0.03505735688719999,
          0.0101269533443,
          -0.024504872396900003,
          0.009755327661950001,
          -0.0015074521858699998,
          -0.00637336858361,
          0.000562250838791,
          0.0131068344992,
          0.009642453460010001,
          0.0048313628305,
          0.0107683062744,
          -0.0231616201583,
          0.0149778285888,
          0.00694731718094,
          0.00968224717044,
          -0.027536647879300002,
          -0.0175673673449,
          -0.028927711017800003,
          -0.0038461112998,
          0.024798689261699997,
          -0.0112494482751,
          -0.002211670955,
          0.0124961834711,
          -0.0046016743696,
          0.013387363342799998,
          -0.00678520478438,
          0.012425766809700001,
          -0.016311604191299997,
          0.0164734396786,
          0.0233102830601,
          0.00459422427195,
          -0.0266958556049,
          -0.0108349863116,
          -0.0192364654999,
          -0.00649672975333,
          0.0138799512535,
          0.006474464530770001,
          0.00831056196318
         ]
        }
       ],
       "layout": {
        "legend": {
         "bgcolor": "LightSteelBlue",
         "bordercolor": "blue",
         "borderwidth": 1,
         "font": {
          "color": "black",
          "family": "SimHei",
          "size": 12
         },
         "title": {
          "font": {
           "family": "SimHei"
          }
         },
         "traceorder": "reversed",
         "x": 0,
         "y": 1
        },
        "shapes": [
         {
          "line": {
           "color": "black",
           "dash": "dash"
          },
          "name": "基线",
          "type": "line",
          "x0": 0,
          "x1": 0,
          "y0": 0,
          "y1": 1,
          "yref": "paper"
         },
         {
          "line": {
           "color": "blue"
          },
          "name": "均值 =  0.00046",
          "type": "line",
          "x0": 0.0004554579169124523,
          "x1": 0.0004554579169124523,
          "y0": 0,
          "y1": 1,
          "yref": "paper"
         }
        ],
        "template": {
         "data": {
          "bar": [
           {
            "error_x": {
             "color": "#2a3f5f"
            },
            "error_y": {
             "color": "#2a3f5f"
            },
            "marker": {
             "line": {
              "color": "#E5ECF6",
              "width": 0.5
             }
            },
            "type": "bar"
           }
          ],
          "barpolar": [
           {
            "marker": {
             "line": {
              "color": "#E5ECF6",
              "width": 0.5
             }
            },
            "type": "barpolar"
           }
          ],
          "carpet": [
           {
            "aaxis": {
             "endlinecolor": "#2a3f5f",
             "gridcolor": "white",
             "linecolor": "white",
             "minorgridcolor": "white",
             "startlinecolor": "#2a3f5f"
            },
            "baxis": {
             "endlinecolor": "#2a3f5f",
             "gridcolor": "white",
             "linecolor": "white",
             "minorgridcolor": "white",
             "startlinecolor": "#2a3f5f"
            },
            "type": "carpet"
           }
          ],
          "choropleth": [
           {
            "colorbar": {
             "outlinewidth": 0,
             "ticks": ""
            },
            "type": "choropleth"
           }
          ],
          "contour": [
           {
            "colorbar": {
             "outlinewidth": 0,
             "ticks": ""
            },
            "colorscale": [
             [
              0,
              "#0d0887"
             ],
             [
              0.1111111111111111,
              "#46039f"
             ],
             [
              0.2222222222222222,
              "#7201a8"
             ],
             [
              0.3333333333333333,
              "#9c179e"
             ],
             [
              0.4444444444444444,
              "#bd3786"
             ],
             [
              0.5555555555555556,
              "#d8576b"
             ],
             [
              0.6666666666666666,
              "#ed7953"
             ],
             [
              0.7777777777777778,
              "#fb9f3a"
             ],
             [
              0.8888888888888888,
              "#fdca26"
             ],
             [
              1,
              "#f0f921"
             ]
            ],
            "type": "contour"
           }
          ],
          "contourcarpet": [
           {
            "colorbar": {
             "outlinewidth": 0,
             "ticks": ""
            },
            "type": "contourcarpet"
           }
          ],
          "heatmap": [
           {
            "colorbar": {
             "outlinewidth": 0,
             "ticks": ""
            },
            "colorscale": [
             [
              0,
              "#0d0887"
             ],
             [
              0.1111111111111111,
              "#46039f"
             ],
             [
              0.2222222222222222,
              "#7201a8"
             ],
             [
              0.3333333333333333,
              "#9c179e"
             ],
             [
              0.4444444444444444,
              "#bd3786"
             ],
             [
              0.5555555555555556,
              "#d8576b"
             ],
             [
              0.6666666666666666,
              "#ed7953"
             ],
             [
              0.7777777777777778,
              "#fb9f3a"
             ],
             [
              0.8888888888888888,
              "#fdca26"
             ],
             [
              1,
              "#f0f921"
             ]
            ],
            "type": "heatmap"
           }
          ],
          "heatmapgl": [
           {
            "colorbar": {
             "outlinewidth": 0,
             "ticks": ""
            },
            "colorscale": [
             [
              0,
              "#0d0887"
             ],
             [
              0.1111111111111111,
              "#46039f"
             ],
             [
              0.2222222222222222,
              "#7201a8"
             ],
             [
              0.3333333333333333,
              "#9c179e"
             ],
             [
              0.4444444444444444,
              "#bd3786"
             ],
             [
              0.5555555555555556,
              "#d8576b"
             ],
             [
              0.6666666666666666,
              "#ed7953"
             ],
             [
              0.7777777777777778,
              "#fb9f3a"
             ],
             [
              0.8888888888888888,
              "#fdca26"
             ],
             [
              1,
              "#f0f921"
             ]
            ],
            "type": "heatmapgl"
           }
          ],
          "histogram": [
           {
            "marker": {
             "colorbar": {
              "outlinewidth": 0,
              "ticks": ""
             }
            },
            "type": "histogram"
           }
          ],
          "histogram2d": [
           {
            "colorbar": {
             "outlinewidth": 0,
             "ticks": ""
            },
            "colorscale": [
             [
              0,
              "#0d0887"
             ],
             [
              0.1111111111111111,
              "#46039f"
             ],
             [
              0.2222222222222222,
              "#7201a8"
             ],
             [
              0.3333333333333333,
              "#9c179e"
             ],
             [
              0.4444444444444444,
              "#bd3786"
             ],
             [
              0.5555555555555556,
              "#d8576b"
             ],
             [
              0.6666666666666666,
              "#ed7953"
             ],
             [
              0.7777777777777778,
              "#fb9f3a"
             ],
             [
              0.8888888888888888,
              "#fdca26"
             ],
             [
              1,
              "#f0f921"
             ]
            ],
            "type": "histogram2d"
           }
          ],
          "histogram2dcontour": [
           {
            "colorbar": {
             "outlinewidth": 0,
             "ticks": ""
            },
            "colorscale": [
             [
              0,
              "#0d0887"
             ],
             [
              0.1111111111111111,
              "#46039f"
             ],
             [
              0.2222222222222222,
              "#7201a8"
             ],
             [
              0.3333333333333333,
              "#9c179e"
             ],
             [
              0.4444444444444444,
              "#bd3786"
             ],
             [
              0.5555555555555556,
              "#d8576b"
             ],
             [
              0.6666666666666666,
              "#ed7953"
             ],
             [
              0.7777777777777778,
              "#fb9f3a"
             ],
             [
              0.8888888888888888,
              "#fdca26"
             ],
             [
              1,
              "#f0f921"
             ]
            ],
            "type": "histogram2dcontour"
           }
          ],
          "mesh3d": [
           {
            "colorbar": {
             "outlinewidth": 0,
             "ticks": ""
            },
            "type": "mesh3d"
           }
          ],
          "parcoords": [
           {
            "line": {
             "colorbar": {
              "outlinewidth": 0,
              "ticks": ""
             }
            },
            "type": "parcoords"
           }
          ],
          "pie": [
           {
            "automargin": true,
            "type": "pie"
           }
          ],
          "scatter": [
           {
            "marker": {
             "colorbar": {
              "outlinewidth": 0,
              "ticks": ""
             }
            },
            "type": "scatter"
           }
          ],
          "scatter3d": [
           {
            "line": {
             "colorbar": {
              "outlinewidth": 0,
              "ticks": ""
             }
            },
            "marker": {
             "colorbar": {
              "outlinewidth": 0,
              "ticks": ""
             }
            },
            "type": "scatter3d"
           }
          ],
          "scattercarpet": [
           {
            "marker": {
             "colorbar": {
              "outlinewidth": 0,
              "ticks": ""
             }
            },
            "type": "scattercarpet"
           }
          ],
          "scattergeo": [
           {
            "marker": {
             "colorbar": {
              "outlinewidth": 0,
              "ticks": ""
             }
            },
            "type": "scattergeo"
           }
          ],
          "scattergl": [
           {
            "marker": {
             "colorbar": {
              "outlinewidth": 0,
              "ticks": ""
             }
            },
            "type": "scattergl"
           }
          ],
          "scattermapbox": [
           {
            "marker": {
             "colorbar": {
              "outlinewidth": 0,
              "ticks": ""
             }
            },
            "type": "scattermapbox"
           }
          ],
          "scatterpolar": [
           {
            "marker": {
             "colorbar": {
              "outlinewidth": 0,
              "ticks": ""
             }
            },
            "type": "scatterpolar"
           }
          ],
          "scatterpolargl": [
           {
            "marker": {
             "colorbar": {
              "outlinewidth": 0,
              "ticks": ""
             }
            },
            "type": "scatterpolargl"
           }
          ],
          "scatterternary": [
           {
            "marker": {
             "colorbar": {
              "outlinewidth": 0,
              "ticks": ""
             }
            },
            "type": "scatterternary"
           }
          ],
          "surface": [
           {
            "colorbar": {
             "outlinewidth": 0,
             "ticks": ""
            },
            "colorscale": [
             [
              0,
              "#0d0887"
             ],
             [
              0.1111111111111111,
              "#46039f"
             ],
             [
              0.2222222222222222,
              "#7201a8"
             ],
             [
              0.3333333333333333,
              "#9c179e"
             ],
             [
              0.4444444444444444,
              "#bd3786"
             ],
             [
              0.5555555555555556,
              "#d8576b"
             ],
             [
              0.6666666666666666,
              "#ed7953"
             ],
             [
              0.7777777777777778,
              "#fb9f3a"
             ],
             [
              0.8888888888888888,
              "#fdca26"
             ],
             [
              1,
              "#f0f921"
             ]
            ],
            "type": "surface"
           }
          ],
          "table": [
           {
            "cells": {
             "fill": {
              "color": "#EBF0F8"
             },
             "line": {
              "color": "white"
             }
            },
            "header": {
             "fill": {
              "color": "#C8D4E3"
             },
             "line": {
              "color": "white"
             }
            },
            "type": "table"
           }
          ]
         },
         "layout": {
          "annotationdefaults": {
           "arrowcolor": "#2a3f5f",
           "arrowhead": 0,
           "arrowwidth": 1
          },
          "coloraxis": {
           "colorbar": {
            "outlinewidth": 0,
            "ticks": ""
           }
          },
          "colorscale": {
           "diverging": [
            [
             0,
             "#8e0152"
            ],
            [
             0.1,
             "#c51b7d"
            ],
            [
             0.2,
             "#de77ae"
            ],
            [
             0.3,
             "#f1b6da"
            ],
            [
             0.4,
             "#fde0ef"
            ],
            [
             0.5,
             "#f7f7f7"
            ],
            [
             0.6,
             "#e6f5d0"
            ],
            [
             0.7,
             "#b8e186"
            ],
            [
             0.8,
             "#7fbc41"
            ],
            [
             0.9,
             "#4d9221"
            ],
            [
             1,
             "#276419"
            ]
           ],
           "sequential": [
            [
             0,
             "#0d0887"
            ],
            [
             0.1111111111111111,
             "#46039f"
            ],
            [
             0.2222222222222222,
             "#7201a8"
            ],
            [
             0.3333333333333333,
             "#9c179e"
            ],
            [
             0.4444444444444444,
             "#bd3786"
            ],
            [
             0.5555555555555556,
             "#d8576b"
            ],
            [
             0.6666666666666666,
             "#ed7953"
            ],
            [
             0.7777777777777778,
             "#fb9f3a"
            ],
            [
             0.8888888888888888,
             "#fdca26"
            ],
            [
             1,
             "#f0f921"
            ]
           ],
           "sequentialminus": [
            [
             0,
             "#0d0887"
            ],
            [
             0.1111111111111111,
             "#46039f"
            ],
            [
             0.2222222222222222,
             "#7201a8"
            ],
            [
             0.3333333333333333,
             "#9c179e"
            ],
            [
             0.4444444444444444,
             "#bd3786"
            ],
            [
             0.5555555555555556,
             "#d8576b"
            ],
            [
             0.6666666666666666,
             "#ed7953"
            ],
            [
             0.7777777777777778,
             "#fb9f3a"
            ],
            [
             0.8888888888888888,
             "#fdca26"
            ],
            [
             1,
             "#f0f921"
            ]
           ]
          },
          "colorway": [
           "#636efa",
           "#EF553B",
           "#00cc96",
           "#ab63fa",
           "#FFA15A",
           "#19d3f3",
           "#FF6692",
           "#B6E880",
           "#FF97FF",
           "#FECB52"
          ],
          "font": {
           "color": "#2a3f5f"
          },
          "geo": {
           "bgcolor": "white",
           "lakecolor": "white",
           "landcolor": "#E5ECF6",
           "showlakes": true,
           "showland": true,
           "subunitcolor": "white"
          },
          "hoverlabel": {
           "align": "left"
          },
          "hovermode": "closest",
          "mapbox": {
           "style": "light"
          },
          "paper_bgcolor": "white",
          "plot_bgcolor": "#E5ECF6",
          "polar": {
           "angularaxis": {
            "gridcolor": "white",
            "linecolor": "white",
            "ticks": ""
           },
           "bgcolor": "#E5ECF6",
           "radialaxis": {
            "gridcolor": "white",
            "linecolor": "white",
            "ticks": ""
           }
          },
          "scene": {
           "xaxis": {
            "backgroundcolor": "#E5ECF6",
            "gridcolor": "white",
            "gridwidth": 2,
            "linecolor": "white",
            "showbackground": true,
            "ticks": "",
            "zerolinecolor": "white"
           },
           "yaxis": {
            "backgroundcolor": "#E5ECF6",
            "gridcolor": "white",
            "gridwidth": 2,
            "linecolor": "white",
            "showbackground": true,
            "ticks": "",
            "zerolinecolor": "white"
           },
           "zaxis": {
            "backgroundcolor": "#E5ECF6",
            "gridcolor": "white",
            "gridwidth": 2,
            "linecolor": "white",
            "showbackground": true,
            "ticks": "",
            "zerolinecolor": "white"
           }
          },
          "shapedefaults": {
           "line": {
            "color": "#2a3f5f"
           }
          },
          "ternary": {
           "aaxis": {
            "gridcolor": "white",
            "linecolor": "white",
            "ticks": ""
           },
           "baxis": {
            "gridcolor": "white",
            "linecolor": "white",
            "ticks": ""
           },
           "bgcolor": "#E5ECF6",
           "caxis": {
            "gridcolor": "white",
            "linecolor": "white",
            "ticks": ""
           }
          },
          "title": {
           "x": 0.05
          },
          "xaxis": {
           "automargin": true,
           "gridcolor": "white",
           "linecolor": "white",
           "ticks": "",
           "title": {
            "standoff": 15
           },
           "zerolinecolor": "white",
           "zerolinewidth": 2
          },
          "yaxis": {
           "automargin": true,
           "gridcolor": "white",
           "linecolor": "white",
           "ticks": "",
           "title": {
            "standoff": 15
           },
           "zerolinecolor": "white",
           "zerolinewidth": 2
          }
         }
        },
        "title": {
         "text": "阿尔法直方图"
        }
       }
      },
      "text/html": [
       "<div>\n",
       "        \n",
       "        \n",
       "            <div id=\"4b0e4513-aba6-4d87-b5da-7afce40d0275\" class=\"plotly-graph-div\" style=\"height:525px; width:100%;\"></div>\n",
       "            <script type=\"text/javascript\">\n",
       "                require([\"plotly\"], function(Plotly) {\n",
       "                    window.PLOTLYENV=window.PLOTLYENV || {};\n",
       "                    \n",
       "                if (document.getElementById(\"4b0e4513-aba6-4d87-b5da-7afce40d0275\")) {\n",
       "                    Plotly.newPlot(\n",
       "                        '4b0e4513-aba6-4d87-b5da-7afce40d0275',\n",
       "                        [{\"marker\": {\"color\": \"green\"}, \"name\": \"\\u591a\\u56e0\\u5b50alpha\", \"type\": \"histogram\", \"x\": [0.00382043211903, 0.0071381129465799996, -0.0034335536876400003, 0.0158615768196, -0.00833718681109, -0.00641268335683, -0.00833140380104, -0.006888511373169999, 0.00156064259486, -0.0172609081839, -0.00392286250018, -2.47789599837e-05, -0.00320912943015, -0.00164205614764, 0.00452615778583, 0.005735190593600001, 0.00170773381986, 0.006049372484630001, 0.00157535429831, -0.014664915930200001, -0.00168243812199, -0.0046262685351, 0.013529989086, 0.0035458949825999996, 0.0103386958393, 0.00102484602196, 0.0123056070524, 0.0008756570385630001, 0.0169322764768, 0.000457582696181, -0.0059140824763, -0.00577745897715, -0.008139143592479999, -0.0005565295510980001, 0.015448681761300001, -0.0155737633822, 0.0174083256425, -0.0126968434837, -0.015115942393200002, -0.0098104148891, -0.012395871631799999, -0.0010147524668399999, -0.004593022147, 0.0109064384281, -0.007475515267060001, 0.0180569176549, 0.00186132537709, -0.0110201149538, -0.0035381050391799997, 0.0065076141350200005, 0.00250741948617, 0.006294357733500001, 0.005051862489689999, 0.014107078120500001, -0.0047875242747399994, -0.00784027490303, 0.0060154764217, -0.00134272833102, 0.0034660712232899996, -0.00119321437535, 0.0032732523029600003, 0.00671507359691, 0.0062290798585000005, -0.013427874934200001, -0.008237749687130001, -0.009288235253650001, -0.00430579267574, 0.00712924783523, -0.00302238757354, 0.015073928694899999, -0.0033385502195900003, -0.0019631241699100003, -0.029535474608299996, 0.0012123608083699998, 0.000334793437237, -0.00367600678917, -0.0058396813639500006, 0.00211431937137, -0.00757078741165, -0.0012496422132000002, 0.0016345789149500001, 0.0126870519985, 0.013687893211100002, 0.0192196731151, -0.025323499224400005, -0.0127042158583, -0.041287732003900006, -0.0022993077259000003, -0.00715934063583, -0.00199447196297, -0.005948763840760001, 0.012236055424600002, 0.06429836071179999, -0.020383506563900002, 0.0032377005981199997, -0.0201291190637, 0.00721617088505, 0.0117587264313, -0.00625037766681, 0.00603173549719, 0.011260094798200001, -0.00893074002524, -0.022371017973599996, -0.00300827233176, -0.0115806431006, -0.0026964978486799995, 0.0024190319073499997, -0.019514186941900002, -0.00452801610812, 0.0101400008004, 0.0205393684292, -0.00150324391224, -0.010789096226899999, 0.0057493727887399995, 0.004860916185020001, -0.00749640167946, 0.0025810174016599997, -0.0032679392935300003, -0.0161265177854, 0.00284291050964, 0.029940035960000003, -0.0024995802602199996, -0.00251513152346, -0.0139825487207, 0.0350372697626, -0.0428546848486, 0.000423959156984, 0.000661846071886, -0.020970898149599997, -0.027077593834799997, -0.013178944542399998, -0.00426085772067, 0.0013850616233599998, 0.0237784981705, -0.0157014557997, -0.056096935252099994, -0.00303056123289, -0.000478626764228, 0.00717682119921, -0.0112911437427, 0.030707178993900002, 0.011016520469500002, -0.00991555818533, 0.00256242182726, -0.0208946747065, 0.0107534244404, -0.0047710502201499996, -0.000374564086259, -0.0182828496974, 0.0143116350263, -0.00506448675597, 0.0117644585163, 0.008905606009930001, 0.0173621028199, -0.0027936979561599996, 0.010192821517200001, -0.013452805905899999, 0.00194946793009, -0.0163238774455, -0.012008650731299999, -0.0135578875073, 0.0128241583323, 0.00439908907167, -0.0262301780845, -0.00577519417336, 0.00787166258175, 0.0117123210833, -0.00813675115201, -0.0119303679317, 0.0193975967266, 0.0045905939234799995, 0.023241648581099998, 0.00392842883303, 0.00640458840479, -0.0124409774355, 0.00362046490577, 0.00020779211945500003, -0.0015792407047000002, -0.014382745349000001, 0.00495600633527, 0.026080196738400004, 0.025813375075599998, 0.00532852355131, 0.00100796534817, -0.0114091372024, -0.006505170139060001, -0.007760368961770001, 0.020484835251799997, 0.0053248298017, -0.0022091061108800002, 0.00127553572875, 0.0111991051132, -0.000130335409631, 0.019538036933599998, 0.007533117323140001, 0.00358979726072, -0.0165325604913, 0.000424700138955, -0.000561575477922, 0.021493935401400002, 0.006521495708279999, 0.0033748815295, 0.004808949056600001, 0.0110979614127, -0.012409185574799999, 0.00942831286196, 0.022521228924799998, -0.012354072620600001, 0.004582351229550001, 0.0011319511983599998, 0.0117231292808, 0.00385489773567, -0.0036832330467800006, -0.00334108276144, 0.00731933168307, 0.005283501631189999, 0.0197339749764, 0.011945368203399998, -0.0037696408217, 0.00312810883797, -0.00494158412187, -0.0014457861731300003, 0.0121607173994, -0.00449033627904, -0.010744594850299998, -0.00257878220519, 0.005732536751520001, -0.004879944806409999, -0.00932704511152, 0.0158879803478, -0.00039260467252099995, -0.00336768885482, 0.0016989670916, -0.0028580269655400004, 0.00217669343191, -0.005944543738619999, -0.0014450702569500002, 0.030951999133099997, -0.0053659993442, -0.00446836824537, -0.00483013841891, -0.00310985309582, -0.007186165241510001, -0.00600802594254, -6.4188820454e-05, 0.00391966177015, -0.0017550043907699998, -0.00979654356168, 0.0027027986078200002, 0.015331465171499999, -0.011573387319499999, 0.00994789992089, 0.00473091343836, 0.00239562744279, 0.00728194560415, 0.00229864785886, -0.007029939032339999, -0.00645454818996, 0.00157817983493, -0.0019454418428699997, -0.0121998852088, 0.00404333656334, -0.0110551847001, -0.0018061154218800002, 0.00364090441514, -0.0130840577212, -0.0217000496624, -0.0110049975869, 0.00814333991759, 0.0359206505876, -0.004799217386909999, -0.0027422890659699996, 0.00696812354629, -0.006425879320949999, -0.0063618300165699995, -0.004624791681520001, 0.0119988739615, 0.011650132905600002, -0.00165641487879, 0.00414926164649, -0.0018507225615, -0.0166591336928, 0.000198599436877, 0.00216881341146, 0.0372787727732, -0.0370882919542, -0.00050454410093, -0.0065573388564, -0.021778024868400005, -0.015852865961799998, 0.009402036451379998, -0.005893794884790001, 0.00015039948586300001, -0.00186143209828, 0.007831576778770001, -0.020276964729900003, 0.005984547453430001, 0.000447016525318, -0.000236701404343, -0.00310158013996, -0.0021132603304, 0.014987413800999999, -0.00338470227076, 0.00403544499985, 0.00498776325185, -0.0043860669072700005, -0.0118659890226, -0.0121464963017, -0.00047203762575300006, -0.01046309563, 0.00861863369475, -0.008208645621439999, 0.008850756625370002, 0.0330966748843, -0.00182444972488, -0.0046215502272000004, 0.0095888626569, -0.0032671761722199997, 0.00173134152638, 0.00175711867757, -0.00283278806109, 0.009431420075620001, 0.0033345618886399995, -0.00746722577315, -0.00225056284423, 0.0016096474146300001, 0.018817683590799997, 0.00110113648834, -0.015074214211, -0.00357509758272, 0.013878370467700001, 0.00024398672037, 0.0038996404774099998, -7.71889414401e-06, -0.00044934146501900005, 0.0151304806031, 0.00309663998701, 0.0181367407047, 0.00595822243523, -0.00997956275121, 0.0134684838123, 0.00111396394328, 0.013290823917900001, 0.00745962890853, 0.024807580003, -0.00837986851317, -0.011216870915899999, -0.00584045109144, -0.00235355099363, -0.0056428997148, -0.0030248249028099997, 0.00192957805523, -0.0049011556873199994, -0.011279937441700002, -0.0148699076003, -0.00407157694158, 0.023306503010900002, -0.0017302660686699999, -0.00732622842261, 0.0148084875935, 0.00031463210758499996, 0.000828555218001, -7.276513442700001e-05, 0.00268468539422, -0.000658946715964, 0.0332784469647, -0.0108815112159, 0.00521704230269, -0.00184522560821, 0.0077361594766399994, 0.00256294990637, -0.00562892004792, 0.015318640011499999, 0.0053716492959, -0.0028848969953000005, 0.01337318406, 0.0012625692574400002, -0.0158304774094, 0.00950446359673, 0.0187574388632, 0.0028286665705400003, 0.016863724417700003, -0.0028323254837800006, -0.00952050248957, 0.0068404586196400005, -0.00373169664981, -0.0027191831729999998, -0.0219934413777, -0.0172705986962, -0.0316516441538, 0.0226684179448, -0.00201962443137, -0.0154339783879, 0.0039508587838400005, 0.00700871337048, -0.0296155488992, -0.0017941995199600002, 0.0130515429407, 0.00967928075959, -0.0110971947147, 0.0267937725532, 0.0110314916044, -0.0135705821958, -0.0114278578471, -0.0035242445295399997, 0.0286733346198, 0.005511296477060001, 0.013069142071599999, 0.00578809497558, 0.0005414275334519999, 0.0112427842691, -0.012426085014799998, -0.0240053775404, 0.0292388200724, 0.00431484493607, 0.0100319016213, 0.00250026895186, -0.012192563844299998, 0.010331251253399999, -0.0351510348056, -0.00215602629927, 0.0196376843684, 0.0159086300744, 0.011520944651999999, -0.0117119611512, 0.0006941380142660001, 0.0241719812433, 0.011637367467700001, 0.00728769095492, 0.008002593143100001, -0.0100953029911, -0.0188957674107, 0.0154215356031, 0.0035294675295599997, 0.005402547729, 0.00586632725981, 0.006177287196289999, -0.00404511256452, 0.00418784038646, 0.018795533553400003, 0.000956259901612, 0.00757343270254, 0.0024612035236100003, -0.0143251378929, 0.00803978699368, 0.00046492438855, -0.0101000914319, 0.03505735688719999, 0.0101269533443, -0.024504872396900003, 0.009755327661950001, -0.0015074521858699998, -0.00637336858361, 0.000562250838791, 0.0131068344992, 0.009642453460010001, 0.0048313628305, 0.0107683062744, -0.0231616201583, 0.0149778285888, 0.00694731718094, 0.00968224717044, -0.027536647879300002, -0.0175673673449, -0.028927711017800003, -0.0038461112998, 0.024798689261699997, -0.0112494482751, -0.002211670955, 0.0124961834711, -0.0046016743696, 0.013387363342799998, -0.00678520478438, 0.012425766809700001, -0.016311604191299997, 0.0164734396786, 0.0233102830601, 0.00459422427195, -0.0266958556049, -0.0108349863116, -0.0192364654999, -0.00649672975333, 0.0138799512535, 0.006474464530770001, 0.00831056196318]}],\n",
       "                        {\"legend\": {\"bgcolor\": \"LightSteelBlue\", \"bordercolor\": \"blue\", \"borderwidth\": 1, \"font\": {\"color\": \"black\", \"family\": \"SimHei\", \"size\": 12}, \"title\": {\"font\": {\"family\": \"SimHei\"}}, \"traceorder\": \"reversed\", \"x\": 0, \"y\": 1}, \"shapes\": [{\"line\": {\"color\": \"black\", \"dash\": \"dash\"}, \"name\": \"\\u57fa\\u7ebf\", \"type\": \"line\", \"x0\": 0, \"x1\": 0, \"y0\": 0, \"y1\": 1, \"yref\": \"paper\"}, {\"line\": {\"color\": \"blue\"}, \"name\": \"\\u5747\\u503c =  0.00046\", \"type\": \"line\", \"x0\": 0.0004554579169124523, \"x1\": 0.0004554579169124523, \"y0\": 0, \"y1\": 1, \"yref\": \"paper\"}], \"template\": {\"data\": {\"bar\": [{\"error_x\": {\"color\": \"#2a3f5f\"}, \"error_y\": {\"color\": \"#2a3f5f\"}, \"marker\": {\"line\": {\"color\": \"#E5ECF6\", \"width\": 0.5}}, \"type\": \"bar\"}], \"barpolar\": [{\"marker\": {\"line\": {\"color\": \"#E5ECF6\", \"width\": 0.5}}, \"type\": \"barpolar\"}], \"carpet\": [{\"aaxis\": {\"endlinecolor\": \"#2a3f5f\", \"gridcolor\": \"white\", \"linecolor\": \"white\", \"minorgridcolor\": \"white\", \"startlinecolor\": \"#2a3f5f\"}, \"baxis\": {\"endlinecolor\": \"#2a3f5f\", \"gridcolor\": \"white\", \"linecolor\": \"white\", \"minorgridcolor\": \"white\", \"startlinecolor\": \"#2a3f5f\"}, \"type\": \"carpet\"}], \"choropleth\": [{\"colorbar\": {\"outlinewidth\": 0, \"ticks\": \"\"}, \"type\": \"choropleth\"}], \"contour\": [{\"colorbar\": {\"outlinewidth\": 0, \"ticks\": \"\"}, \"colorscale\": [[0.0, \"#0d0887\"], [0.1111111111111111, \"#46039f\"], [0.2222222222222222, \"#7201a8\"], [0.3333333333333333, \"#9c179e\"], [0.4444444444444444, \"#bd3786\"], [0.5555555555555556, \"#d8576b\"], [0.6666666666666666, \"#ed7953\"], [0.7777777777777778, \"#fb9f3a\"], [0.8888888888888888, \"#fdca26\"], [1.0, \"#f0f921\"]], \"type\": \"contour\"}], \"contourcarpet\": [{\"colorbar\": {\"outlinewidth\": 0, \"ticks\": \"\"}, \"type\": \"contourcarpet\"}], \"heatmap\": [{\"colorbar\": {\"outlinewidth\": 0, \"ticks\": \"\"}, \"colorscale\": [[0.0, \"#0d0887\"], [0.1111111111111111, \"#46039f\"], [0.2222222222222222, \"#7201a8\"], [0.3333333333333333, \"#9c179e\"], [0.4444444444444444, \"#bd3786\"], [0.5555555555555556, \"#d8576b\"], [0.6666666666666666, \"#ed7953\"], [0.7777777777777778, \"#fb9f3a\"], [0.8888888888888888, \"#fdca26\"], [1.0, \"#f0f921\"]], \"type\": \"heatmap\"}], \"heatmapgl\": [{\"colorbar\": {\"outlinewidth\": 0, \"ticks\": \"\"}, \"colorscale\": [[0.0, \"#0d0887\"], [0.1111111111111111, \"#46039f\"], [0.2222222222222222, \"#7201a8\"], [0.3333333333333333, \"#9c179e\"], [0.4444444444444444, \"#bd3786\"], [0.5555555555555556, \"#d8576b\"], [0.6666666666666666, \"#ed7953\"], [0.7777777777777778, \"#fb9f3a\"], [0.8888888888888888, \"#fdca26\"], [1.0, \"#f0f921\"]], \"type\": \"heatmapgl\"}], \"histogram\": [{\"marker\": {\"colorbar\": {\"outlinewidth\": 0, \"ticks\": \"\"}}, \"type\": \"histogram\"}], \"histogram2d\": [{\"colorbar\": {\"outlinewidth\": 0, \"ticks\": \"\"}, \"colorscale\": [[0.0, \"#0d0887\"], [0.1111111111111111, \"#46039f\"], [0.2222222222222222, \"#7201a8\"], [0.3333333333333333, \"#9c179e\"], [0.4444444444444444, \"#bd3786\"], [0.5555555555555556, \"#d8576b\"], [0.6666666666666666, \"#ed7953\"], [0.7777777777777778, \"#fb9f3a\"], [0.8888888888888888, \"#fdca26\"], [1.0, \"#f0f921\"]], \"type\": \"histogram2d\"}], \"histogram2dcontour\": [{\"colorbar\": {\"outlinewidth\": 0, \"ticks\": \"\"}, \"colorscale\": [[0.0, \"#0d0887\"], [0.1111111111111111, \"#46039f\"], [0.2222222222222222, \"#7201a8\"], [0.3333333333333333, \"#9c179e\"], [0.4444444444444444, \"#bd3786\"], [0.5555555555555556, \"#d8576b\"], [0.6666666666666666, \"#ed7953\"], [0.7777777777777778, \"#fb9f3a\"], [0.8888888888888888, \"#fdca26\"], [1.0, \"#f0f921\"]], \"type\": \"histogram2dcontour\"}], \"mesh3d\": [{\"colorbar\": {\"outlinewidth\": 0, \"ticks\": \"\"}, \"type\": \"mesh3d\"}], \"parcoords\": [{\"line\": {\"colorbar\": {\"outlinewidth\": 0, \"ticks\": \"\"}}, \"type\": \"parcoords\"}], \"pie\": [{\"automargin\": true, \"type\": \"pie\"}], \"scatter\": [{\"marker\": {\"colorbar\": {\"outlinewidth\": 0, \"ticks\": \"\"}}, \"type\": \"scatter\"}], \"scatter3d\": [{\"line\": {\"colorbar\": {\"outlinewidth\": 0, \"ticks\": \"\"}}, \"marker\": {\"colorbar\": {\"outlinewidth\": 0, \"ticks\": \"\"}}, \"type\": \"scatter3d\"}], \"scattercarpet\": [{\"marker\": {\"colorbar\": {\"outlinewidth\": 0, \"ticks\": \"\"}}, \"type\": \"scattercarpet\"}], \"scattergeo\": [{\"marker\": {\"colorbar\": {\"outlinewidth\": 0, \"ticks\": \"\"}}, \"type\": \"scattergeo\"}], \"scattergl\": [{\"marker\": {\"colorbar\": {\"outlinewidth\": 0, \"ticks\": \"\"}}, \"type\": \"scattergl\"}], \"scattermapbox\": [{\"marker\": {\"colorbar\": {\"outlinewidth\": 0, \"ticks\": \"\"}}, \"type\": \"scattermapbox\"}], \"scatterpolar\": [{\"marker\": {\"colorbar\": {\"outlinewidth\": 0, \"ticks\": \"\"}}, \"type\": \"scatterpolar\"}], \"scatterpolargl\": [{\"marker\": {\"colorbar\": {\"outlinewidth\": 0, \"ticks\": \"\"}}, \"type\": \"scatterpolargl\"}], \"scatterternary\": [{\"marker\": {\"colorbar\": {\"outlinewidth\": 0, \"ticks\": \"\"}}, \"type\": \"scatterternary\"}], \"surface\": [{\"colorbar\": {\"outlinewidth\": 0, \"ticks\": \"\"}, \"colorscale\": [[0.0, \"#0d0887\"], [0.1111111111111111, \"#46039f\"], [0.2222222222222222, \"#7201a8\"], [0.3333333333333333, \"#9c179e\"], [0.4444444444444444, \"#bd3786\"], [0.5555555555555556, \"#d8576b\"], [0.6666666666666666, \"#ed7953\"], [0.7777777777777778, \"#fb9f3a\"], [0.8888888888888888, \"#fdca26\"], [1.0, \"#f0f921\"]], \"type\": \"surface\"}], \"table\": [{\"cells\": {\"fill\": {\"color\": \"#EBF0F8\"}, \"line\": {\"color\": \"white\"}}, \"header\": {\"fill\": {\"color\": \"#C8D4E3\"}, \"line\": {\"color\": \"white\"}}, \"type\": \"table\"}]}, \"layout\": {\"annotationdefaults\": {\"arrowcolor\": \"#2a3f5f\", \"arrowhead\": 0, \"arrowwidth\": 1}, \"coloraxis\": {\"colorbar\": {\"outlinewidth\": 0, \"ticks\": \"\"}}, \"colorscale\": {\"diverging\": [[0, \"#8e0152\"], [0.1, \"#c51b7d\"], [0.2, \"#de77ae\"], [0.3, \"#f1b6da\"], [0.4, \"#fde0ef\"], [0.5, \"#f7f7f7\"], [0.6, \"#e6f5d0\"], [0.7, \"#b8e186\"], [0.8, \"#7fbc41\"], [0.9, \"#4d9221\"], [1, \"#276419\"]], \"sequential\": [[0.0, \"#0d0887\"], [0.1111111111111111, \"#46039f\"], [0.2222222222222222, \"#7201a8\"], [0.3333333333333333, \"#9c179e\"], [0.4444444444444444, \"#bd3786\"], [0.5555555555555556, \"#d8576b\"], [0.6666666666666666, \"#ed7953\"], [0.7777777777777778, \"#fb9f3a\"], [0.8888888888888888, \"#fdca26\"], [1.0, \"#f0f921\"]], \"sequentialminus\": [[0.0, \"#0d0887\"], [0.1111111111111111, \"#46039f\"], [0.2222222222222222, \"#7201a8\"], [0.3333333333333333, \"#9c179e\"], [0.4444444444444444, \"#bd3786\"], [0.5555555555555556, \"#d8576b\"], [0.6666666666666666, \"#ed7953\"], [0.7777777777777778, \"#fb9f3a\"], [0.8888888888888888, \"#fdca26\"], [1.0, \"#f0f921\"]]}, \"colorway\": [\"#636efa\", \"#EF553B\", \"#00cc96\", \"#ab63fa\", \"#FFA15A\", \"#19d3f3\", \"#FF6692\", \"#B6E880\", \"#FF97FF\", \"#FECB52\"], \"font\": {\"color\": \"#2a3f5f\"}, \"geo\": {\"bgcolor\": \"white\", \"lakecolor\": \"white\", \"landcolor\": \"#E5ECF6\", \"showlakes\": true, \"showland\": true, \"subunitcolor\": \"white\"}, \"hoverlabel\": {\"align\": \"left\"}, \"hovermode\": \"closest\", \"mapbox\": {\"style\": \"light\"}, \"paper_bgcolor\": \"white\", \"plot_bgcolor\": \"#E5ECF6\", \"polar\": {\"angularaxis\": {\"gridcolor\": \"white\", \"linecolor\": \"white\", \"ticks\": \"\"}, \"bgcolor\": \"#E5ECF6\", \"radialaxis\": {\"gridcolor\": \"white\", \"linecolor\": \"white\", \"ticks\": \"\"}}, \"scene\": {\"xaxis\": {\"backgroundcolor\": \"#E5ECF6\", \"gridcolor\": \"white\", \"gridwidth\": 2, \"linecolor\": \"white\", \"showbackground\": true, \"ticks\": \"\", \"zerolinecolor\": \"white\"}, \"yaxis\": {\"backgroundcolor\": \"#E5ECF6\", \"gridcolor\": \"white\", \"gridwidth\": 2, \"linecolor\": \"white\", \"showbackground\": true, \"ticks\": \"\", \"zerolinecolor\": \"white\"}, \"zaxis\": {\"backgroundcolor\": \"#E5ECF6\", \"gridcolor\": \"white\", \"gridwidth\": 2, \"linecolor\": \"white\", \"showbackground\": true, \"ticks\": \"\", \"zerolinecolor\": \"white\"}}, \"shapedefaults\": {\"line\": {\"color\": \"#2a3f5f\"}}, \"ternary\": {\"aaxis\": {\"gridcolor\": \"white\", \"linecolor\": \"white\", \"ticks\": \"\"}, \"baxis\": {\"gridcolor\": \"white\", \"linecolor\": \"white\", \"ticks\": \"\"}, \"bgcolor\": \"#E5ECF6\", \"caxis\": {\"gridcolor\": \"white\", \"linecolor\": \"white\", \"ticks\": \"\"}}, \"title\": {\"x\": 0.05}, \"xaxis\": {\"automargin\": true, \"gridcolor\": \"white\", \"linecolor\": \"white\", \"ticks\": \"\", \"title\": {\"standoff\": 15}, \"zerolinecolor\": \"white\", \"zerolinewidth\": 2}, \"yaxis\": {\"automargin\": true, \"gridcolor\": \"white\", \"linecolor\": \"white\", \"ticks\": \"\", \"title\": {\"standoff\": 15}, \"zerolinecolor\": \"white\", \"zerolinewidth\": 2}}}, \"title\": {\"text\": \"\\u963f\\u5c14\\u6cd5\\u76f4\\u65b9\\u56fe\"}},\n",
       "                        {\"responsive\": true}\n",
       "                    ).then(function(){\n",
       "                            \n",
       "var gd = document.getElementById('4b0e4513-aba6-4d87-b5da-7afce40d0275');\n",
       "var x = new MutationObserver(function (mutations, observer) {{\n",
       "        var display = window.getComputedStyle(gd).display;\n",
       "        if (!display || display === 'none') {{\n",
       "            console.log([gd, 'removed!']);\n",
       "            Plotly.purge(gd);\n",
       "            observer.disconnect();\n",
       "        }}\n",
       "}});\n",
       "\n",
       "// Listen for the removal of the full notebook cells\n",
       "var notebookContainer = gd.closest('#notebook-container');\n",
       "if (notebookContainer) {{\n",
       "    x.observe(notebookContainer, {childList: true});\n",
       "}}\n",
       "\n",
       "// Listen for the clearing of the current output cell\n",
       "var outputEl = gd.closest('.output');\n",
       "if (outputEl) {{\n",
       "    x.observe(outputEl, {childList: true});\n",
       "}}\n",
       "\n",
       "                        })\n",
       "                };\n",
       "                });\n",
       "            </script>\n",
       "        </div>"
      ]
     },
     "metadata": {},
     "output_type": "display_data"
    }
   ],
   "source": [
    "fig.show()"
   ]
  }
 ],
 "metadata": {
  "kernelspec": {
   "display_name": "Python 3.7.7 64-bit ('zipline': conda)",
   "language": "python",
   "name": "python37764bitziplinecondafc6f11bd3b9c4249a9fc63b5c8ae4fcf"
  },
  "language_info": {
   "codemirror_mode": {
    "name": "ipython",
    "version": 3
   },
   "file_extension": ".py",
   "mimetype": "text/x-python",
   "name": "python",
   "nbconvert_exporter": "python",
   "pygments_lexer": "ipython3",
   "version": "3.7.7"
  },
  "toc": {
   "base_numbering": 1,
   "nav_menu": {},
   "number_sections": true,
   "sideBar": true,
   "skip_h1_title": false,
   "title_cell": "Table of Contents",
   "title_sidebar": "Contents",
   "toc_cell": false,
   "toc_position": {},
   "toc_section_display": true,
   "toc_window_display": true
  },
  "varInspector": {
   "cols": {
    "lenName": 16,
    "lenType": 16,
    "lenVar": 40
   },
   "kernels_config": {
    "python": {
     "delete_cmd_postfix": "",
     "delete_cmd_prefix": "del ",
     "library": "var_list.py",
     "varRefreshCmd": "print(var_dic_list())"
    },
    "r": {
     "delete_cmd_postfix": ") ",
     "delete_cmd_prefix": "rm(",
     "library": "var_list.r",
     "varRefreshCmd": "cat(var_dic_list()) "
    }
   },
   "types_to_exclude": [
    "module",
    "function",
    "builtin_function_or_method",
    "instance",
    "_Feature"
   ],
   "window_display": false
  }
 },
 "nbformat": 4,
 "nbformat_minor": 2
}
