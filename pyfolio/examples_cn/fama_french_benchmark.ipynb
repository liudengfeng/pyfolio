{
 "cells": [
  {
   "cell_type": "markdown",
   "metadata": {},
   "source": [
    "# Fama French Benchmark Example\n",
    "In this notebook, we use pyfolio to analyze the returns of a single stock using the canonical Fama-French factors as the benchmark.\n",
    "\n",
    "We plot the rolling betas to the Fama-French factors, and run the Bayesian tear sheet for an out-of-sample period of two months."
   ]
  },
  {
   "cell_type": "code",
   "execution_count": 8,
   "metadata": {
    "scrolled": true
   },
   "outputs": [
    {
     "output_type": "execute_result",
     "data": {
      "text/plain": "['c:\\\\Users\\\\liude\\\\repos\\\\pyfolio\\\\pyfolio\\\\examples',\n 'C:\\\\Users\\\\liude\\\\AppData\\\\Local\\\\Programs\\\\Microsoft VS Code',\n 'c:\\\\Users\\\\liude\\\\.vscode\\\\extensions\\\\ms-python.python-2020.6.91350\\\\pythonFiles',\n 'c:\\\\Users\\\\liude\\\\.vscode\\\\extensions\\\\ms-python.python-2020.6.91350\\\\pythonFiles\\\\lib\\\\python',\n 'C:\\\\Users\\\\liude\\\\anaconda3\\\\envs\\\\zipline\\\\python37.zip',\n 'C:\\\\Users\\\\liude\\\\anaconda3\\\\envs\\\\zipline\\\\DLLs',\n 'C:\\\\Users\\\\liude\\\\anaconda3\\\\envs\\\\zipline\\\\lib',\n 'C:\\\\Users\\\\liude\\\\anaconda3\\\\envs\\\\zipline',\n '',\n 'C:\\\\Users\\\\liude\\\\anaconda3\\\\envs\\\\zipline\\\\lib\\\\site-packages',\n 'c:\\\\users\\\\liude\\\\repos\\\\cnswd',\n 'c:\\\\users\\\\liude\\\\repos\\\\alphalens',\n 'c:\\\\users\\\\liude\\\\repos\\\\zipline',\n 'c:\\\\users\\\\liude\\\\repos\\\\pyfolio',\n 'C:\\\\Users\\\\liude\\\\anaconda3\\\\envs\\\\zipline\\\\lib\\\\site-packages\\\\win32',\n 'C:\\\\Users\\\\liude\\\\anaconda3\\\\envs\\\\zipline\\\\lib\\\\site-packages\\\\win32\\\\lib',\n 'C:\\\\Users\\\\liude\\\\anaconda3\\\\envs\\\\zipline\\\\lib\\\\site-packages\\\\Pythonwin',\n 'C:\\\\Users\\\\liude\\\\anaconda3\\\\envs\\\\zipline\\\\lib\\\\site-packages\\\\IPython\\\\extensions',\n 'C:\\\\Users\\\\liude\\\\.ipython',\n '/Users/george/Desktop/pyfolio/',\n '/Users/george/Desktop/pyfolio/']"
     },
     "metadata": {},
     "execution_count": 8
    }
   ],
   "source": [
    "import sys\n",
    "sys.path.append('/Users/george/Desktop/pyfolio/')\n",
    "sys.path"
   ]
  },
  {
   "cell_type": "code",
   "execution_count": 9,
   "metadata": {},
   "outputs": [],
   "source": [
    "import pyfolio as pf\n",
    "import matplotlib.pyplot as plt\n",
    "%matplotlib inline\n",
    "\n",
    "# silence warnings\n",
    "import warnings\n",
    "warnings.filterwarnings('ignore')"
   ]
  },
  {
   "cell_type": "code",
   "execution_count": 10,
   "metadata": {},
   "outputs": [],
   "source": [
    "# Get the single stock returns\n",
    "stock_rets = pf.utils.get_symbol_rets('000333')"
   ]
  },
  {
   "cell_type": "code",
   "execution_count": 11,
   "metadata": {},
   "outputs": [
    {
     "output_type": "error",
     "ename": "AttributeError",
     "evalue": "module 'pyfolio.plotting' has no attribute 'plot_rolling_fama_french'",
     "traceback": [
      "\u001b[1;31m---------------------------------------------------------------------------\u001b[0m",
      "\u001b[1;31mAttributeError\u001b[0m                            Traceback (most recent call last)",
      "\u001b[1;32m<ipython-input-11-e5ddcafd814a>\u001b[0m in \u001b[0;36m<module>\u001b[1;34m\u001b[0m\n\u001b[0;32m      2\u001b[0m \u001b[1;31m# No need to actually compute the rolling betas; pyfolio does that for us!\u001b[0m\u001b[1;33m\u001b[0m\u001b[1;33m\u001b[0m\u001b[1;33m\u001b[0m\u001b[0m\n\u001b[0;32m      3\u001b[0m \u001b[0mfig\u001b[0m\u001b[1;33m,\u001b[0m \u001b[0max\u001b[0m \u001b[1;33m=\u001b[0m \u001b[0mplt\u001b[0m\u001b[1;33m.\u001b[0m\u001b[0msubplots\u001b[0m\u001b[1;33m(\u001b[0m\u001b[0mfigsize\u001b[0m\u001b[1;33m=\u001b[0m\u001b[1;33m[\u001b[0m\u001b[1;36m14\u001b[0m\u001b[1;33m,\u001b[0m \u001b[1;36m6\u001b[0m\u001b[1;33m]\u001b[0m\u001b[1;33m)\u001b[0m\u001b[1;33m\u001b[0m\u001b[1;33m\u001b[0m\u001b[0m\n\u001b[1;32m----> 4\u001b[1;33m \u001b[0mpf\u001b[0m\u001b[1;33m.\u001b[0m\u001b[0mplotting\u001b[0m\u001b[1;33m.\u001b[0m\u001b[0mplot_rolling_fama_french\u001b[0m\u001b[1;33m(\u001b[0m\u001b[0mstock_rets\u001b[0m\u001b[1;33m,\u001b[0m \u001b[0max\u001b[0m\u001b[1;33m=\u001b[0m\u001b[0max\u001b[0m\u001b[1;33m)\u001b[0m\u001b[1;33m\u001b[0m\u001b[1;33m\u001b[0m\u001b[0m\n\u001b[0m",
      "\u001b[1;31mAttributeError\u001b[0m: module 'pyfolio.plotting' has no attribute 'plot_rolling_fama_french'"
     ]
    }
   ],
   "source": [
    "# With just the stock returns, we can plot the rolling betas to the Fama-French factors.\n",
    "# No need to actually compute the rolling betas; pyfolio does that for us!\n",
    "fig, ax = plt.subplots(figsize=[14, 6])\n",
    "pf.plotting.plot_rolling_fama_french(stock_rets, ax=ax)"
   ]
  },
  {
   "cell_type": "code",
   "execution_count": 12,
   "metadata": {
    "collapsed": true
   },
   "outputs": [
    {
     "output_type": "error",
     "ename": "AttributeError",
     "evalue": "module 'pyfolio.timeseries' has no attribute 'rolling_fama_french'",
     "traceback": [
      "\u001b[1;31m---------------------------------------------------------------------------\u001b[0m",
      "\u001b[1;31mAttributeError\u001b[0m                            Traceback (most recent call last)",
      "\u001b[1;32m<ipython-input-12-c97fcbcda78a>\u001b[0m in \u001b[0;36m<module>\u001b[1;34m\u001b[0m\n\u001b[0;32m      1\u001b[0m \u001b[1;31m# However, for the bayesian tear sheet, we will actually need the rolling betas,\u001b[0m\u001b[1;33m\u001b[0m\u001b[1;33m\u001b[0m\u001b[1;33m\u001b[0m\u001b[0m\n\u001b[0;32m      2\u001b[0m \u001b[1;31m# so use pyfolio to get them\u001b[0m\u001b[1;33m\u001b[0m\u001b[1;33m\u001b[0m\u001b[1;33m\u001b[0m\u001b[0m\n\u001b[1;32m----> 3\u001b[1;33m \u001b[0mrolling_beta\u001b[0m \u001b[1;33m=\u001b[0m \u001b[0mpf\u001b[0m\u001b[1;33m.\u001b[0m\u001b[0mtimeseries\u001b[0m\u001b[1;33m.\u001b[0m\u001b[0mrolling_fama_french\u001b[0m\u001b[1;33m(\u001b[0m\u001b[0mstock_rets\u001b[0m\u001b[1;33m)\u001b[0m\u001b[1;33m\u001b[0m\u001b[1;33m\u001b[0m\u001b[0m\n\u001b[0m\u001b[0;32m      4\u001b[0m \u001b[1;33m\u001b[0m\u001b[0m\n\u001b[0;32m      5\u001b[0m \u001b[1;31m# pf.timeseries.rolling_beta defaults to a 6-month trailing window.\u001b[0m\u001b[1;33m\u001b[0m\u001b[1;33m\u001b[0m\u001b[1;33m\u001b[0m\u001b[0m\n",
      "\u001b[1;31mAttributeError\u001b[0m: module 'pyfolio.timeseries' has no attribute 'rolling_fama_french'"
     ]
    }
   ],
   "source": [
    "# However, for the bayesian tear sheet, we will actually need the rolling betas,\n",
    "# so use pyfolio to get them\n",
    "rolling_beta = pf.timeseries.rolling_fama_french(stock_rets)\n",
    "\n",
    "# pf.timeseries.rolling_beta defaults to a 6-month trailing window.\n",
    "# Thus, the first 6 months' data will be NaNs, which we must drop\n",
    "rolling_beta.dropna(inplace=True)"
   ]
  },
  {
   "cell_type": "code",
   "execution_count": 13,
   "metadata": {},
   "outputs": [
    {
     "output_type": "error",
     "ename": "NameError",
     "evalue": "name 'rolling_beta' is not defined",
     "traceback": [
      "\u001b[1;31m---------------------------------------------------------------------------\u001b[0m",
      "\u001b[1;31mNameError\u001b[0m                                 Traceback (most recent call last)",
      "\u001b[1;32m<ipython-input-13-045e3242862b>\u001b[0m in \u001b[0;36m<module>\u001b[1;34m\u001b[0m\n\u001b[1;32m----> 1\u001b[1;33m \u001b[0mrolling_beta\u001b[0m\u001b[1;33m.\u001b[0m\u001b[0mhead\u001b[0m\u001b[1;33m(\u001b[0m\u001b[1;33m)\u001b[0m\u001b[1;33m\u001b[0m\u001b[1;33m\u001b[0m\u001b[0m\n\u001b[0m",
      "\u001b[1;31mNameError\u001b[0m: name 'rolling_beta' is not defined"
     ]
    }
   ],
   "source": [
    "rolling_beta.head()"
   ]
  },
  {
   "cell_type": "code",
   "execution_count": 14,
   "metadata": {
    "scrolled": false
   },
   "outputs": [
    {
     "output_type": "error",
     "ename": "AttributeError",
     "evalue": "module 'pyfolio.tears' has no attribute 'create_bayesian_tear_sheet'",
     "traceback": [
      "\u001b[1;31m---------------------------------------------------------------------------\u001b[0m",
      "\u001b[1;31mAttributeError\u001b[0m                            Traceback (most recent call last)",
      "\u001b[1;32m<ipython-input-14-ce4d92a5c49e>\u001b[0m in \u001b[0;36m<module>\u001b[1;34m\u001b[0m\n\u001b[0;32m      5\u001b[0m \u001b[1;31m# The bayesian tear sheet's back end makes heavy use of pymc3, so there will be\u001b[0m\u001b[1;33m\u001b[0m\u001b[1;33m\u001b[0m\u001b[1;33m\u001b[0m\u001b[0m\n\u001b[0;32m      6\u001b[0m \u001b[1;31m# a lot of graphical output before the actual tear sheet\u001b[0m\u001b[1;33m\u001b[0m\u001b[1;33m\u001b[0m\u001b[1;33m\u001b[0m\u001b[0m\n\u001b[1;32m----> 7\u001b[1;33m \u001b[0mpf\u001b[0m\u001b[1;33m.\u001b[0m\u001b[0mtears\u001b[0m\u001b[1;33m.\u001b[0m\u001b[0mcreate_bayesian_tear_sheet\u001b[0m\u001b[1;33m(\u001b[0m\u001b[0mstock_rets\u001b[0m\u001b[1;33m,\u001b[0m \u001b[0mlive_start_date\u001b[0m\u001b[1;33m=\u001b[0m\u001b[0mout_of_sample\u001b[0m\u001b[1;33m,\u001b[0m \u001b[0mbenchmark_rets\u001b[0m\u001b[1;33m=\u001b[0m\u001b[0mrolling_beta\u001b[0m\u001b[1;33m)\u001b[0m\u001b[1;33m\u001b[0m\u001b[1;33m\u001b[0m\u001b[0m\n\u001b[0m",
      "\u001b[1;31mAttributeError\u001b[0m: module 'pyfolio.tears' has no attribute 'create_bayesian_tear_sheet'"
     ]
    }
   ],
   "source": [
    "# Suppose the last 2 months were our out-of-sample period\n",
    "out_of_sample = stock_rets.index[-60]\n",
    "\n",
    "# Use pyfolio to run the bayesian tear sheet.\n",
    "# The bayesian tear sheet's back end makes heavy use of pymc3, so there will be\n",
    "# a lot of graphical output before the actual tear sheet\n",
    "pf.tears.create_bayesian_tear_sheet(stock_rets, live_start_date=out_of_sample, benchmark_rets=rolling_beta)"
   ]
  },
  {
   "cell_type": "code",
   "execution_count": null,
   "metadata": {
    "collapsed": true
   },
   "outputs": [],
   "source": []
  }
 ],
 "metadata": {
  "kernelspec": {
   "display_name": "Python 3.7.7 64-bit ('zipline': conda)",
   "language": "python",
   "name": "python37764bitziplinecondafc6f11bd3b9c4249a9fc63b5c8ae4fcf"
  },
  "language_info": {
   "codemirror_mode": {
    "name": "ipython",
    "version": 3
   },
   "file_extension": ".py",
   "mimetype": "text/x-python",
   "name": "python",
   "nbconvert_exporter": "python",
   "pygments_lexer": "ipython3",
   "version": "3.7.7-final"
  }
 },
 "nbformat": 4,
 "nbformat_minor": 1
}